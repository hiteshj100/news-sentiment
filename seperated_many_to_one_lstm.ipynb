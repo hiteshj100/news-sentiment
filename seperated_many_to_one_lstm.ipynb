{
  "nbformat": 4,
  "nbformat_minor": 0,
  "metadata": {
    "colab": {
      "provenance": [],
      "machine_shape": "hm"
    },
    "kernelspec": {
      "name": "python3",
      "display_name": "Python 3"
    },
    "language_info": {
      "name": "python"
    }
  },
  "cells": [
    {
      "cell_type": "code",
      "execution_count": 1,
      "metadata": {
        "colab": {
          "base_uri": "https://localhost:8080/"
        },
        "id": "wfu0YZ1VVJ2Q",
        "outputId": "e89b8182-5d4d-4e70-f7fc-a415edd190ba"
      },
      "outputs": [
        {
          "output_type": "stream",
          "name": "stdout",
          "text": [
            "Mounted at /content/drive\n"
          ]
        }
      ],
      "source": [
        "from google.colab import drive\n",
        "drive.mount('/content/drive')"
      ]
    },
    {
      "cell_type": "code",
      "source": [
        "import pandas as pd\n",
        "\n",
        "# Specify the file path in Google Drive\n",
        "file_path = '/content/drive/MyDrive/Diss/roberta xlnet/combined_results.csv'\n",
        "\n",
        "# Read the CSV file into a Data\n",
        "df = pd.read_csv(file_path)\n"
      ],
      "metadata": {
        "id": "BKLkT-RkVOF7"
      },
      "execution_count": 2,
      "outputs": []
    },
    {
      "cell_type": "code",
      "source": [
        "# referenced and modified - https://www.kaggle.com/code/amirrezaeian/time-series-data-analysis-using-lstm-tutorial"
      ],
      "metadata": {
        "id": "rIXYuYIk6pSN"
      },
      "execution_count": null,
      "outputs": []
    },
    {
      "cell_type": "code",
      "source": [
        "!pip install tensorflow\n",
        "!pip install numpy\n",
        "!pip install pandas\n",
        "!pip install nltk"
      ],
      "metadata": {
        "colab": {
          "base_uri": "https://localhost:8080/"
        },
        "id": "ZQSLAl7nVUVy",
        "outputId": "3ed68916-6d68-4f75-af4d-76a499c55e67"
      },
      "execution_count": 3,
      "outputs": [
        {
          "output_type": "stream",
          "name": "stdout",
          "text": [
            "Requirement already satisfied: tensorflow in /usr/local/lib/python3.10/dist-packages (2.14.0)\n",
            "Requirement already satisfied: absl-py>=1.0.0 in /usr/local/lib/python3.10/dist-packages (from tensorflow) (1.4.0)\n",
            "Requirement already satisfied: astunparse>=1.6.0 in /usr/local/lib/python3.10/dist-packages (from tensorflow) (1.6.3)\n",
            "Requirement already satisfied: flatbuffers>=23.5.26 in /usr/local/lib/python3.10/dist-packages (from tensorflow) (23.5.26)\n",
            "Requirement already satisfied: gast!=0.5.0,!=0.5.1,!=0.5.2,>=0.2.1 in /usr/local/lib/python3.10/dist-packages (from tensorflow) (0.5.4)\n",
            "Requirement already satisfied: google-pasta>=0.1.1 in /usr/local/lib/python3.10/dist-packages (from tensorflow) (0.2.0)\n",
            "Requirement already satisfied: h5py>=2.9.0 in /usr/local/lib/python3.10/dist-packages (from tensorflow) (3.9.0)\n",
            "Requirement already satisfied: libclang>=13.0.0 in /usr/local/lib/python3.10/dist-packages (from tensorflow) (16.0.6)\n",
            "Requirement already satisfied: ml-dtypes==0.2.0 in /usr/local/lib/python3.10/dist-packages (from tensorflow) (0.2.0)\n",
            "Requirement already satisfied: numpy>=1.23.5 in /usr/local/lib/python3.10/dist-packages (from tensorflow) (1.23.5)\n",
            "Requirement already satisfied: opt-einsum>=2.3.2 in /usr/local/lib/python3.10/dist-packages (from tensorflow) (3.3.0)\n",
            "Requirement already satisfied: packaging in /usr/local/lib/python3.10/dist-packages (from tensorflow) (23.2)\n",
            "Requirement already satisfied: protobuf!=4.21.0,!=4.21.1,!=4.21.2,!=4.21.3,!=4.21.4,!=4.21.5,<5.0.0dev,>=3.20.3 in /usr/local/lib/python3.10/dist-packages (from tensorflow) (3.20.3)\n",
            "Requirement already satisfied: setuptools in /usr/local/lib/python3.10/dist-packages (from tensorflow) (67.7.2)\n",
            "Requirement already satisfied: six>=1.12.0 in /usr/local/lib/python3.10/dist-packages (from tensorflow) (1.16.0)\n",
            "Requirement already satisfied: termcolor>=1.1.0 in /usr/local/lib/python3.10/dist-packages (from tensorflow) (2.3.0)\n",
            "Requirement already satisfied: typing-extensions>=3.6.6 in /usr/local/lib/python3.10/dist-packages (from tensorflow) (4.5.0)\n",
            "Requirement already satisfied: wrapt<1.15,>=1.11.0 in /usr/local/lib/python3.10/dist-packages (from tensorflow) (1.14.1)\n",
            "Requirement already satisfied: tensorflow-io-gcs-filesystem>=0.23.1 in /usr/local/lib/python3.10/dist-packages (from tensorflow) (0.34.0)\n",
            "Requirement already satisfied: grpcio<2.0,>=1.24.3 in /usr/local/lib/python3.10/dist-packages (from tensorflow) (1.59.2)\n",
            "Requirement already satisfied: tensorboard<2.15,>=2.14 in /usr/local/lib/python3.10/dist-packages (from tensorflow) (2.14.1)\n",
            "Requirement already satisfied: tensorflow-estimator<2.15,>=2.14.0 in /usr/local/lib/python3.10/dist-packages (from tensorflow) (2.14.0)\n",
            "Requirement already satisfied: keras<2.15,>=2.14.0 in /usr/local/lib/python3.10/dist-packages (from tensorflow) (2.14.0)\n",
            "Requirement already satisfied: wheel<1.0,>=0.23.0 in /usr/local/lib/python3.10/dist-packages (from astunparse>=1.6.0->tensorflow) (0.41.3)\n",
            "Requirement already satisfied: google-auth<3,>=1.6.3 in /usr/local/lib/python3.10/dist-packages (from tensorboard<2.15,>=2.14->tensorflow) (2.17.3)\n",
            "Requirement already satisfied: google-auth-oauthlib<1.1,>=0.5 in /usr/local/lib/python3.10/dist-packages (from tensorboard<2.15,>=2.14->tensorflow) (1.0.0)\n",
            "Requirement already satisfied: markdown>=2.6.8 in /usr/local/lib/python3.10/dist-packages (from tensorboard<2.15,>=2.14->tensorflow) (3.5.1)\n",
            "Requirement already satisfied: requests<3,>=2.21.0 in /usr/local/lib/python3.10/dist-packages (from tensorboard<2.15,>=2.14->tensorflow) (2.31.0)\n",
            "Requirement already satisfied: tensorboard-data-server<0.8.0,>=0.7.0 in /usr/local/lib/python3.10/dist-packages (from tensorboard<2.15,>=2.14->tensorflow) (0.7.2)\n",
            "Requirement already satisfied: werkzeug>=1.0.1 in /usr/local/lib/python3.10/dist-packages (from tensorboard<2.15,>=2.14->tensorflow) (3.0.1)\n",
            "Requirement already satisfied: cachetools<6.0,>=2.0.0 in /usr/local/lib/python3.10/dist-packages (from google-auth<3,>=1.6.3->tensorboard<2.15,>=2.14->tensorflow) (5.3.2)\n",
            "Requirement already satisfied: pyasn1-modules>=0.2.1 in /usr/local/lib/python3.10/dist-packages (from google-auth<3,>=1.6.3->tensorboard<2.15,>=2.14->tensorflow) (0.3.0)\n",
            "Requirement already satisfied: rsa<5,>=3.1.4 in /usr/local/lib/python3.10/dist-packages (from google-auth<3,>=1.6.3->tensorboard<2.15,>=2.14->tensorflow) (4.9)\n",
            "Requirement already satisfied: requests-oauthlib>=0.7.0 in /usr/local/lib/python3.10/dist-packages (from google-auth-oauthlib<1.1,>=0.5->tensorboard<2.15,>=2.14->tensorflow) (1.3.1)\n",
            "Requirement already satisfied: charset-normalizer<4,>=2 in /usr/local/lib/python3.10/dist-packages (from requests<3,>=2.21.0->tensorboard<2.15,>=2.14->tensorflow) (3.3.2)\n",
            "Requirement already satisfied: idna<4,>=2.5 in /usr/local/lib/python3.10/dist-packages (from requests<3,>=2.21.0->tensorboard<2.15,>=2.14->tensorflow) (3.4)\n",
            "Requirement already satisfied: urllib3<3,>=1.21.1 in /usr/local/lib/python3.10/dist-packages (from requests<3,>=2.21.0->tensorboard<2.15,>=2.14->tensorflow) (2.0.7)\n",
            "Requirement already satisfied: certifi>=2017.4.17 in /usr/local/lib/python3.10/dist-packages (from requests<3,>=2.21.0->tensorboard<2.15,>=2.14->tensorflow) (2023.7.22)\n",
            "Requirement already satisfied: MarkupSafe>=2.1.1 in /usr/local/lib/python3.10/dist-packages (from werkzeug>=1.0.1->tensorboard<2.15,>=2.14->tensorflow) (2.1.3)\n",
            "Requirement already satisfied: pyasn1<0.6.0,>=0.4.6 in /usr/local/lib/python3.10/dist-packages (from pyasn1-modules>=0.2.1->google-auth<3,>=1.6.3->tensorboard<2.15,>=2.14->tensorflow) (0.5.0)\n",
            "Requirement already satisfied: oauthlib>=3.0.0 in /usr/local/lib/python3.10/dist-packages (from requests-oauthlib>=0.7.0->google-auth-oauthlib<1.1,>=0.5->tensorboard<2.15,>=2.14->tensorflow) (3.2.2)\n",
            "Requirement already satisfied: numpy in /usr/local/lib/python3.10/dist-packages (1.23.5)\n",
            "Requirement already satisfied: pandas in /usr/local/lib/python3.10/dist-packages (1.5.3)\n",
            "Requirement already satisfied: python-dateutil>=2.8.1 in /usr/local/lib/python3.10/dist-packages (from pandas) (2.8.2)\n",
            "Requirement already satisfied: pytz>=2020.1 in /usr/local/lib/python3.10/dist-packages (from pandas) (2023.3.post1)\n",
            "Requirement already satisfied: numpy>=1.21.0 in /usr/local/lib/python3.10/dist-packages (from pandas) (1.23.5)\n",
            "Requirement already satisfied: six>=1.5 in /usr/local/lib/python3.10/dist-packages (from python-dateutil>=2.8.1->pandas) (1.16.0)\n",
            "Requirement already satisfied: nltk in /usr/local/lib/python3.10/dist-packages (3.8.1)\n",
            "Requirement already satisfied: click in /usr/local/lib/python3.10/dist-packages (from nltk) (8.1.7)\n",
            "Requirement already satisfied: joblib in /usr/local/lib/python3.10/dist-packages (from nltk) (1.3.2)\n",
            "Requirement already satisfied: regex>=2021.8.3 in /usr/local/lib/python3.10/dist-packages (from nltk) (2023.6.3)\n",
            "Requirement already satisfied: tqdm in /usr/local/lib/python3.10/dist-packages (from nltk) (4.66.1)\n"
          ]
        }
      ]
    },
    {
      "cell_type": "code",
      "source": [
        "# import relevant packages\n",
        "import os\n",
        "from collections import Counter\n",
        "\n",
        "import tensorflow as tf\n",
        "from keras.layers import Dense, Activation\n",
        "from keras.layers import SimpleRNN, LSTM, GRU\n",
        "from keras.models import Sequential\n",
        "from keras.utils import to_categorical, pad_sequences\n",
        "from keras.layers import Embedding\n",
        "\n",
        "import matplotlib.pyplot as plt\n",
        "import matplotlib.ticker as mtick\n",
        "import pandas as pd\n",
        "import numpy as np\n",
        "import nltk\n",
        "import re\n",
        "\n",
        "from sklearn.model_selection import train_test_split\n",
        "from nltk.corpus import stopwords"
      ],
      "metadata": {
        "id": "QtnobVIbVdlx"
      },
      "execution_count": 3,
      "outputs": []
    },
    {
      "cell_type": "code",
      "source": [
        "pd.set_option('display.max_colwidth', None)\n",
        "tf.keras.backend.set_image_data_format(\"channels_last\")\n",
        "nltk.download('stopwords')"
      ],
      "metadata": {
        "colab": {
          "base_uri": "https://localhost:8080/"
        },
        "id": "dt-_sZwiVayM",
        "outputId": "c56fdb64-005c-49ff-aa2e-5e4e9c1bf663"
      },
      "execution_count": 4,
      "outputs": [
        {
          "output_type": "stream",
          "name": "stderr",
          "text": [
            "[nltk_data] Downloading package stopwords to /root/nltk_data...\n",
            "[nltk_data]   Unzipping corpora/stopwords.zip.\n"
          ]
        },
        {
          "output_type": "execute_result",
          "data": {
            "text/plain": [
              "True"
            ]
          },
          "metadata": {},
          "execution_count": 4
        }
      ]
    },
    {
      "cell_type": "code",
      "source": [
        "# Loading English stop words\n",
        "stop = nltk.corpus.stopwords.words('english')"
      ],
      "metadata": {
        "id": "d_dxLCC8VlcA"
      },
      "execution_count": 6,
      "outputs": []
    },
    {
      "cell_type": "code",
      "source": [
        "def pre_process_text_data(text: str) -> str:\n",
        "    # normalize and remove special characters\n",
        "    text = text.lower()\n",
        "    text = re.sub('[^0-9a-zA-Z]+',' ',text)\n",
        "    # remove stop words\n",
        "    words = text.split()\n",
        "    words = [w for w in words if (w not in stop)]\n",
        "    words = ' '.join(words)\n",
        "    return words"
      ],
      "metadata": {
        "id": "IL0pmwe0Vq-d"
      },
      "execution_count": 7,
      "outputs": []
    },
    {
      "cell_type": "code",
      "source": [
        "df['Summary'] = df['Summary'].apply(pre_process_text_data)\n"
      ],
      "metadata": {
        "id": "W5zOf_7MVt3a"
      },
      "execution_count": 8,
      "outputs": []
    },
    {
      "cell_type": "code",
      "source": [
        "from sklearn.preprocessing import LabelEncoder\n",
        "\n",
        "# Example emotion labels\n",
        "emotion_labels = ['anger', 'disgust', 'fear', 'joy', 'neutral', 'sadness', 'surprise']\n",
        "\n",
        "# Create a LabelEncoder\n",
        "label_encoder = LabelEncoder()\n",
        "\n",
        "# Fit and transform the emotion labels\n",
        "encoded_labels = label_encoder.fit_transform(emotion_labels)\n",
        "\n",
        "# Print the mapping between original labels and encoded labels\n",
        "label_mapping = dict(zip(emotion_labels, encoded_labels))\n",
        "print(label_mapping)\n"
      ],
      "metadata": {
        "colab": {
          "base_uri": "https://localhost:8080/"
        },
        "id": "kOTz41z4bePZ",
        "outputId": "5f1d0bac-c308-4fa4-b8c9-9e7e862fc846"
      },
      "execution_count": 9,
      "outputs": [
        {
          "output_type": "stream",
          "name": "stdout",
          "text": [
            "{'anger': 0, 'disgust': 1, 'fear': 2, 'joy': 3, 'neutral': 4, 'sadness': 5, 'surprise': 6}\n"
          ]
        }
      ]
    },
    {
      "cell_type": "code",
      "source": [
        "from sklearn.preprocessing import LabelEncoder\n",
        "\n",
        "# Assuming 'df' is your DataFrame and 'Summary_Emotion' is the column with string labels\n",
        "label_encoder = LabelEncoder()\n",
        "\n",
        "# Fit and transform the 'Summary_Emotion' column and replace it\n",
        "df['encoded_emotion'] = label_encoder.fit_transform(df['Summary_Emotion'])\n"
      ],
      "metadata": {
        "id": "fog4ZL1NbwEA"
      },
      "execution_count": 10,
      "outputs": []
    },
    {
      "cell_type": "code",
      "source": [
        "df.head(1)"
      ],
      "metadata": {
        "colab": {
          "base_uri": "https://localhost:8080/",
          "height": 1000
        },
        "id": "MbMZUE1gcD4t",
        "outputId": "7edb11e0-b897-47ad-d3b0-2e0653066324"
      },
      "execution_count": 11,
      "outputs": [
        {
          "output_type": "execute_result",
          "data": {
            "text/plain": [
              "           Publication Date Source  \\\n",
              "0  2023-10-07T03:11:36+0000  Yahoo   \n",
              "\n",
              "                                                                    URL  \\\n",
              "0  https://news.yahoo.com/gov-renews-public-health-order-030100117.html   \n",
              "\n",
              "                                                                                Title  \\\n",
              "0  Gov. renews public health order, tacks on gun buy-backs, substance abuse treatment   \n",
              "\n",
              "                                                                                                                                                                                                                                                                                                                                                                                                                                                                                                                                                                                                                                                                                                                                                                                                                                                                                                                                                                                                                                                                                                                                                                                                                                                                                                  Summary  \\\n",
              "0  oct 6 gov michelle lujan grisham friday renewed public health order aimed combating gun violence added new provisions state organize gun buy backs albuquerque espa ola las cruces provide treatment seeking help battling addictions order also includes several initial measures including testing wastewater schools drugs like fentanyl monthly inspections licensed gun dealers violations allowing police book juveniles jail without social services permission sending new mexico state police officers help local authorities fight crime albuquerque bernalillo county deputies officers arrested hundreds people following order unclear effect gun violence initiatives testing school wastewater stand friday new items added order including gun buy backs state health care system would ensure request help substance abuse receive permanent adequate treatment placement within 24 hours request renewal comes month governor declared gun violence public health emergency following high profile shooting death 11 year old boy initially enforced short lived ban publicly carrying firearms bernalillo county lujan grisham amended portion order ban carrying guns public parks playgrounds across bernalillo county something city albuquerque already sought challenged court   \n",
              "\n",
              "                                                                                                                                                                                                                                                                                                                  Categories  \\\n",
              "0  Non-Standard Content\\nExtreme Graphic/Explicit Violence\\nHealth & Fitness\\nSubstance Abuse\\npolitics\\ninterior policy\\npersonal weapon control\\nHealth and Wellness\\nHealth Sciences\\nPublic Health\\nLife and Society\\nSocial Issues\\nViolence\\nMedical Disorders and Diseases\\nSubstance Abuse\\nAddiction and Drug Abuse   \n",
              "\n",
              "  Industries            Organisations  People                Locations  \\\n",
              "0        NaN  Albuquerque, New Mexico     NaN  Albuquerque, New Mexico   \n",
              "\n",
              "           Other Entities           News topic Title_Emotion  \\\n",
              "0  Michelle Lujan Grisham  Albuquerque gun ban       neutral   \n",
              "\n",
              "   Title_Emotion_Score Summary_Emotion  Summary_Emotion_Score  encoded_emotion  \n",
              "0             0.728747         neutral               0.410288                4  "
            ],
            "text/html": [
              "\n",
              "  <div id=\"df-e0c6683b-2637-4abc-b2b2-ac953268f7b6\" class=\"colab-df-container\">\n",
              "    <div>\n",
              "<style scoped>\n",
              "    .dataframe tbody tr th:only-of-type {\n",
              "        vertical-align: middle;\n",
              "    }\n",
              "\n",
              "    .dataframe tbody tr th {\n",
              "        vertical-align: top;\n",
              "    }\n",
              "\n",
              "    .dataframe thead th {\n",
              "        text-align: right;\n",
              "    }\n",
              "</style>\n",
              "<table border=\"1\" class=\"dataframe\">\n",
              "  <thead>\n",
              "    <tr style=\"text-align: right;\">\n",
              "      <th></th>\n",
              "      <th>Publication Date</th>\n",
              "      <th>Source</th>\n",
              "      <th>URL</th>\n",
              "      <th>Title</th>\n",
              "      <th>Summary</th>\n",
              "      <th>Categories</th>\n",
              "      <th>Industries</th>\n",
              "      <th>Organisations</th>\n",
              "      <th>People</th>\n",
              "      <th>Locations</th>\n",
              "      <th>Other Entities</th>\n",
              "      <th>News topic</th>\n",
              "      <th>Title_Emotion</th>\n",
              "      <th>Title_Emotion_Score</th>\n",
              "      <th>Summary_Emotion</th>\n",
              "      <th>Summary_Emotion_Score</th>\n",
              "      <th>encoded_emotion</th>\n",
              "    </tr>\n",
              "  </thead>\n",
              "  <tbody>\n",
              "    <tr>\n",
              "      <th>0</th>\n",
              "      <td>2023-10-07T03:11:36+0000</td>\n",
              "      <td>Yahoo</td>\n",
              "      <td>https://news.yahoo.com/gov-renews-public-health-order-030100117.html</td>\n",
              "      <td>Gov. renews public health order, tacks on gun buy-backs, substance abuse treatment</td>\n",
              "      <td>oct 6 gov michelle lujan grisham friday renewed public health order aimed combating gun violence added new provisions state organize gun buy backs albuquerque espa ola las cruces provide treatment seeking help battling addictions order also includes several initial measures including testing wastewater schools drugs like fentanyl monthly inspections licensed gun dealers violations allowing police book juveniles jail without social services permission sending new mexico state police officers help local authorities fight crime albuquerque bernalillo county deputies officers arrested hundreds people following order unclear effect gun violence initiatives testing school wastewater stand friday new items added order including gun buy backs state health care system would ensure request help substance abuse receive permanent adequate treatment placement within 24 hours request renewal comes month governor declared gun violence public health emergency following high profile shooting death 11 year old boy initially enforced short lived ban publicly carrying firearms bernalillo county lujan grisham amended portion order ban carrying guns public parks playgrounds across bernalillo county something city albuquerque already sought challenged court</td>\n",
              "      <td>Non-Standard Content\\nExtreme Graphic/Explicit Violence\\nHealth &amp; Fitness\\nSubstance Abuse\\npolitics\\ninterior policy\\npersonal weapon control\\nHealth and Wellness\\nHealth Sciences\\nPublic Health\\nLife and Society\\nSocial Issues\\nViolence\\nMedical Disorders and Diseases\\nSubstance Abuse\\nAddiction and Drug Abuse</td>\n",
              "      <td>NaN</td>\n",
              "      <td>Albuquerque, New Mexico</td>\n",
              "      <td>NaN</td>\n",
              "      <td>Albuquerque, New Mexico</td>\n",
              "      <td>Michelle Lujan Grisham</td>\n",
              "      <td>Albuquerque gun ban</td>\n",
              "      <td>neutral</td>\n",
              "      <td>0.728747</td>\n",
              "      <td>neutral</td>\n",
              "      <td>0.410288</td>\n",
              "      <td>4</td>\n",
              "    </tr>\n",
              "  </tbody>\n",
              "</table>\n",
              "</div>\n",
              "    <div class=\"colab-df-buttons\">\n",
              "\n",
              "  <div class=\"colab-df-container\">\n",
              "    <button class=\"colab-df-convert\" onclick=\"convertToInteractive('df-e0c6683b-2637-4abc-b2b2-ac953268f7b6')\"\n",
              "            title=\"Convert this dataframe to an interactive table.\"\n",
              "            style=\"display:none;\">\n",
              "\n",
              "  <svg xmlns=\"http://www.w3.org/2000/svg\" height=\"24px\" viewBox=\"0 -960 960 960\">\n",
              "    <path d=\"M120-120v-720h720v720H120Zm60-500h600v-160H180v160Zm220 220h160v-160H400v160Zm0 220h160v-160H400v160ZM180-400h160v-160H180v160Zm440 0h160v-160H620v160ZM180-180h160v-160H180v160Zm440 0h160v-160H620v160Z\"/>\n",
              "  </svg>\n",
              "    </button>\n",
              "\n",
              "  <style>\n",
              "    .colab-df-container {\n",
              "      display:flex;\n",
              "      gap: 12px;\n",
              "    }\n",
              "\n",
              "    .colab-df-convert {\n",
              "      background-color: #E8F0FE;\n",
              "      border: none;\n",
              "      border-radius: 50%;\n",
              "      cursor: pointer;\n",
              "      display: none;\n",
              "      fill: #1967D2;\n",
              "      height: 32px;\n",
              "      padding: 0 0 0 0;\n",
              "      width: 32px;\n",
              "    }\n",
              "\n",
              "    .colab-df-convert:hover {\n",
              "      background-color: #E2EBFA;\n",
              "      box-shadow: 0px 1px 2px rgba(60, 64, 67, 0.3), 0px 1px 3px 1px rgba(60, 64, 67, 0.15);\n",
              "      fill: #174EA6;\n",
              "    }\n",
              "\n",
              "    .colab-df-buttons div {\n",
              "      margin-bottom: 4px;\n",
              "    }\n",
              "\n",
              "    [theme=dark] .colab-df-convert {\n",
              "      background-color: #3B4455;\n",
              "      fill: #D2E3FC;\n",
              "    }\n",
              "\n",
              "    [theme=dark] .colab-df-convert:hover {\n",
              "      background-color: #434B5C;\n",
              "      box-shadow: 0px 1px 3px 1px rgba(0, 0, 0, 0.15);\n",
              "      filter: drop-shadow(0px 1px 2px rgba(0, 0, 0, 0.3));\n",
              "      fill: #FFFFFF;\n",
              "    }\n",
              "  </style>\n",
              "\n",
              "    <script>\n",
              "      const buttonEl =\n",
              "        document.querySelector('#df-e0c6683b-2637-4abc-b2b2-ac953268f7b6 button.colab-df-convert');\n",
              "      buttonEl.style.display =\n",
              "        google.colab.kernel.accessAllowed ? 'block' : 'none';\n",
              "\n",
              "      async function convertToInteractive(key) {\n",
              "        const element = document.querySelector('#df-e0c6683b-2637-4abc-b2b2-ac953268f7b6');\n",
              "        const dataTable =\n",
              "          await google.colab.kernel.invokeFunction('convertToInteractive',\n",
              "                                                    [key], {});\n",
              "        if (!dataTable) return;\n",
              "\n",
              "        const docLinkHtml = 'Like what you see? Visit the ' +\n",
              "          '<a target=\"_blank\" href=https://colab.research.google.com/notebooks/data_table.ipynb>data table notebook</a>'\n",
              "          + ' to learn more about interactive tables.';\n",
              "        element.innerHTML = '';\n",
              "        dataTable['output_type'] = 'display_data';\n",
              "        await google.colab.output.renderOutput(dataTable, element);\n",
              "        const docLink = document.createElement('div');\n",
              "        docLink.innerHTML = docLinkHtml;\n",
              "        element.appendChild(docLink);\n",
              "      }\n",
              "    </script>\n",
              "  </div>\n",
              "\n",
              "    </div>\n",
              "  </div>\n"
            ]
          },
          "metadata": {},
          "execution_count": 11
        }
      ]
    },
    {
      "cell_type": "code",
      "source": [
        "counts = Counter()\n",
        "for i, review in enumerate(df['Summary']):\n",
        "    counts.update(review.split())"
      ],
      "metadata": {
        "id": "J-APtXdXV2JK"
      },
      "execution_count": 12,
      "outputs": []
    },
    {
      "cell_type": "code",
      "source": [
        "words = sorted(counts, key=counts.get, reverse=True)\n",
        "words[0:10]"
      ],
      "metadata": {
        "colab": {
          "base_uri": "https://localhost:8080/"
        },
        "id": "doUEsUaKV7VV",
        "outputId": "8000c5b5-c4f2-4b56-9ca4-50d24b105dec"
      },
      "execution_count": 13,
      "outputs": [
        {
          "output_type": "execute_result",
          "data": {
            "text/plain": [
              "['said',\n",
              " 'trump',\n",
              " 'de',\n",
              " 'new',\n",
              " 'president',\n",
              " 'news',\n",
              " '2023',\n",
              " 'former',\n",
              " 'police',\n",
              " 'year']"
            ]
          },
          "metadata": {},
          "execution_count": 13
        }
      ]
    },
    {
      "cell_type": "code",
      "source": [
        "word_to_int = {word: i for i, word in enumerate(words, start=1)}\n",
        "int_to_word = {i: word for i, word in enumerate(words, start=1)}"
      ],
      "metadata": {
        "id": "mQmeE_tAV-Ho"
      },
      "execution_count": 14,
      "outputs": []
    },
    {
      "cell_type": "code",
      "source": [
        "def text_to_int(text:str, word_to_int: dict):\n",
        "    return [word_to_int[word] for word in review.split()]\n",
        "\n",
        "\n",
        "def int_to_text(int_arr, int_to_word: dict):\n",
        "    return ' '.join([int_to_word[index] for index in int_arr if index != 0])"
      ],
      "metadata": {
        "id": "qQSE7uZgWEqX"
      },
      "execution_count": 15,
      "outputs": []
    },
    {
      "cell_type": "code",
      "source": [
        "mapped_news = []\n",
        "for news in df['Summary']:\n",
        "    mapped_news.append(text_to_int(news, word_to_int))"
      ],
      "metadata": {
        "id": "FC-kdXTzWJSe"
      },
      "execution_count": 16,
      "outputs": []
    },
    {
      "cell_type": "code",
      "source": [
        "print(f'Original news: {df.loc[0][\"Summary\"]}')\n",
        "print(f'Mapped news: {mapped_news[0]}')"
      ],
      "metadata": {
        "colab": {
          "base_uri": "https://localhost:8080/"
        },
        "id": "PrLq8LNUWS5N",
        "outputId": "814f121c-503e-4a26-b343-ddfaf0e2192a"
      },
      "execution_count": 17,
      "outputs": [
        {
          "output_type": "stream",
          "name": "stdout",
          "text": [
            "Original news: oct 6 gov michelle lujan grisham friday renewed public health order aimed combating gun violence added new provisions state organize gun buy backs albuquerque espa ola las cruces provide treatment seeking help battling addictions order also includes several initial measures including testing wastewater schools drugs like fentanyl monthly inspections licensed gun dealers violations allowing police book juveniles jail without social services permission sending new mexico state police officers help local authorities fight crime albuquerque bernalillo county deputies officers arrested hundreds people following order unclear effect gun violence initiatives testing school wastewater stand friday new items added order including gun buy backs state health care system would ensure request help substance abuse receive permanent adequate treatment placement within 24 hours request renewal comes month governor declared gun violence public health emergency following high profile shooting death 11 year old boy initially enforced short lived ban publicly carrying firearms bernalillo county lujan grisham amended portion order ban carrying guns public parks playgrounds across bernalillo county something city albuquerque already sought challenged court\n",
            "Mapped news: [16379, 517, 13754, 669, 30206, 22967, 4103, 24, 3829, 9, 11372, 37440, 121, 1092, 1990, 553, 1010, 8757, 18, 34663, 91, 16, 1751, 402, 5836, 909, 4956, 9221, 653, 3402, 1446, 3684, 91, 1201, 11372, 975, 1, 3050, 1591, 30311, 23002, 13370, 706, 37439, 30311, 37440, 11372, 9620, 46022, 6, 591, 88, 3684, 1, 40139, 5553, 853, 13055, 52589, 5803, 13520, 46030, 10589, 520, 23002, 46068, 5875, 669, 3050, 1009, 9, 690, 721, 91, 205, 531, 9047, 684, 1781, 447, 207, 1781, 517, 669, 1009]\n"
          ]
        }
      ]
    },
    {
      "cell_type": "code",
      "source": [
        "length_sent = []\n",
        "for i in range(len(mapped_news)):\n",
        "    length_sent.append(len(mapped_news[i]))"
      ],
      "metadata": {
        "id": "Mlzz-9qjWeZb"
      },
      "execution_count": 18,
      "outputs": []
    },
    {
      "cell_type": "code",
      "source": [
        "sequence_length = max(length_sent)\n",
        "X = pad_sequences(maxlen = sequence_length,\n",
        "                  sequences = mapped_news,\n",
        "                  padding = \"post\",\n",
        "                  value = 0)"
      ],
      "metadata": {
        "id": "ofobwj0fX-1A"
      },
      "execution_count": 19,
      "outputs": []
    },
    {
      "cell_type": "code",
      "source": [
        "X[0]"
      ],
      "metadata": {
        "colab": {
          "base_uri": "https://localhost:8080/"
        },
        "id": "5xA5WQ3WYFGO",
        "outputId": "468f65ba-98c4-4eee-95a5-73d505d4e601"
      },
      "execution_count": 20,
      "outputs": [
        {
          "output_type": "execute_result",
          "data": {
            "text/plain": [
              "array([16379,   517, 13754,   669, 30206, 22967,  4103,    24,  3829,\n",
              "           9, 11372, 37440,   121,  1092,  1990,   553,  1010,  8757,\n",
              "          18, 34663,    91,    16,  1751,   402,  5836,   909,  4956,\n",
              "        9221,   653,  3402,  1446,  3684,    91,  1201, 11372,   975,\n",
              "           1,  3050,  1591, 30311, 23002, 13370,   706, 37439, 30311,\n",
              "       37440, 11372,  9620, 46022,     6,   591,    88,  3684,     1,\n",
              "       40139,  5553,   853, 13055, 52589,  5803, 13520, 46030, 10589,\n",
              "         520, 23002, 46068,  5875,   669,  3050,  1009,     9,   690,\n",
              "         721,    91,   205,   531,  9047,   684,  1781,   447,   207,\n",
              "        1781,   517,   669,  1009], dtype=int32)"
            ]
          },
          "metadata": {},
          "execution_count": 20
        }
      ]
    },
    {
      "cell_type": "code",
      "source": [
        "y = df['encoded_emotion'].values"
      ],
      "metadata": {
        "id": "KLe3rHBzYHyZ"
      },
      "execution_count": 21,
      "outputs": []
    },
    {
      "cell_type": "code",
      "source": [
        "# Assuming 'df' is your DataFrame\n",
        "grouped_by_topic = df.groupby('News topic')\n",
        "topic_dfs = {topic: group for topic, group in grouped_by_topic}\n"
      ],
      "metadata": {
        "id": "lJCfkHHhoBF-"
      },
      "execution_count": 22,
      "outputs": []
    },
    {
      "cell_type": "code",
      "source": [
        "embedding_vector_length = 100\n",
        "max_news_length = 85  # Update to your intended maximum sequence length\n"
      ],
      "metadata": {
        "id": "xuQfv4DroCgs"
      },
      "execution_count": 23,
      "outputs": []
    },
    {
      "cell_type": "code",
      "source": [
        "from keras.models import Sequential\n",
        "from keras.layers import Embedding, LSTM, Dense\n",
        "from keras.utils import to_categorical\n",
        "from keras.preprocessing.text import Tokenizer\n",
        "from keras.preprocessing.sequence import pad_sequences\n",
        "from sklearn.model_selection import train_test_split\n",
        "from sklearn.preprocessing import LabelEncoder\n",
        "import pandas as pd\n",
        "\n",
        "# Assuming 'df' is your DataFrame with 'Summary', 'News_Topic', and 'Sentiment' columns\n",
        "# Extract the 'summary', 'news_topic', and 'sentiment' columns\n",
        "summaries = df['Summary'].astype(str)\n",
        "news_topics = df['News topic']\n",
        "sentiments = df['Summary_Emotion']\n",
        "\n",
        "# Create a tokenizer\n",
        "tokenizer = Tokenizer()\n",
        "tokenizer.fit_on_texts(summaries)\n",
        "\n",
        "# Get the vocabulary size\n",
        "vocab_size = len(tokenizer.word_index) + 1  # Add 1 for the reserved 0 index\n",
        "\n",
        "# Directory to save the models\n",
        "save_directory = '/content/drive/MyDrive/Diss/many to one lstm/separated h5/'\n",
        "\n",
        "# Iterate over each unique news topic\n",
        "for topic in df['News topic'].unique():\n",
        "    # Filter the DataFrame for the current topic\n",
        "    topic_df = df[df['News topic'] == topic]\n",
        "\n",
        "    # Extract 'summary' and 'sentiment' columns for the current topic\n",
        "    topic_summaries = topic_df['Summary'].astype(str)\n",
        "    topic_sentiments = topic_df['Summary_Emotion']\n",
        "\n",
        "    # Tokenize the text\n",
        "    sequences = tokenizer.texts_to_sequences(topic_summaries)\n",
        "    padded_sequences = pad_sequences(sequences, maxlen=max_news_length)\n",
        "\n",
        "    # Get the number of unique emotions for the current topic\n",
        "    num_classes = len(topic_sentiments.unique())\n",
        "\n",
        "    # Encode labels\n",
        "    label_encoder = LabelEncoder()\n",
        "    encoded_labels = label_encoder.fit_transform(topic_sentiments)\n",
        "    y_one_hot = to_categorical(encoded_labels, num_classes=num_classes)\n",
        "\n",
        "    # Split data into train and test sets\n",
        "    X_train, X_test, y_train, y_test = train_test_split(\n",
        "        padded_sequences, y_one_hot, test_size=0.1, random_state=42\n",
        "    )\n",
        "\n",
        "    # Build and compile the LSTM model for the current topic\n",
        "    model = Sequential()\n",
        "    model.add(Embedding(input_dim=vocab_size, output_dim=embedding_vector_length, input_length=max_news_length))\n",
        "    model.add(LSTM(40, return_sequences=True))\n",
        "    model.add(LSTM(40, return_sequences=False))\n",
        "    model.add(Dense(num_classes, activation='softmax'))  # Adjust to the correct number of classes\n",
        "    model.compile(loss='categorical_crossentropy', optimizer='adam', metrics=['accuracy'])\n",
        "\n",
        "    # Train the model\n",
        "    history = model.fit(X_train, y_train, validation_data=(X_test, y_test), epochs=16, batch_size=32)\n",
        "\n",
        "    # Save or store the trained model for the current topic\n",
        "    model.save(f\"{save_directory}lstm_model_{topic}.h5\")\n"
      ],
      "metadata": {
        "colab": {
          "base_uri": "https://localhost:8080/"
        },
        "id": "vRcJ5jIkentn",
        "outputId": "d17b06c1-104c-4513-85e3-f4cca3aaba64"
      },
      "execution_count": 23,
      "outputs": [
        {
          "metadata": {
            "tags": null
          },
          "name": "stdout",
          "output_type": "stream",
          "text": [
            "Epoch 1/16\n",
            "15/15 [==============================] - 8s 236ms/step - loss: 1.8732 - accuracy: 0.3400 - val_loss: 1.5532 - val_accuracy: 0.4200\n",
            "Epoch 2/16\n",
            "15/15 [==============================] - 3s 170ms/step - loss: 1.4218 - accuracy: 0.3578 - val_loss: 1.2159 - val_accuracy: 0.3000\n",
            "Epoch 3/16\n",
            "15/15 [==============================] - 3s 187ms/step - loss: 1.3147 - accuracy: 0.4067 - val_loss: 1.1769 - val_accuracy: 0.3400\n",
            "Epoch 4/16\n",
            "15/15 [==============================] - 3s 175ms/step - loss: 1.1567 - accuracy: 0.5067 - val_loss: 1.0811 - val_accuracy: 0.5600\n",
            "Epoch 5/16\n",
            "15/15 [==============================] - 3s 181ms/step - loss: 0.9661 - accuracy: 0.6067 - val_loss: 1.1144 - val_accuracy: 0.5400\n",
            "Epoch 6/16\n",
            "15/15 [==============================] - 3s 170ms/step - loss: 0.8393 - accuracy: 0.6356 - val_loss: 1.1256 - val_accuracy: 0.5600\n",
            "Epoch 7/16\n",
            "15/15 [==============================] - 3s 176ms/step - loss: 0.7515 - accuracy: 0.6533 - val_loss: 1.1098 - val_accuracy: 0.5400\n",
            "Epoch 8/16\n",
            "15/15 [==============================] - 3s 173ms/step - loss: 0.7064 - accuracy: 0.6622 - val_loss: 1.0570 - val_accuracy: 0.5400\n",
            "Epoch 9/16\n",
            "15/15 [==============================] - 3s 179ms/step - loss: 0.6388 - accuracy: 0.7044 - val_loss: 1.0961 - val_accuracy: 0.4200\n",
            "Epoch 10/16\n",
            "15/15 [==============================] - 3s 192ms/step - loss: 0.6494 - accuracy: 0.7578 - val_loss: 1.1002 - val_accuracy: 0.4800\n",
            "Epoch 11/16\n",
            "15/15 [==============================] - 3s 199ms/step - loss: 0.5080 - accuracy: 0.8489 - val_loss: 1.3037 - val_accuracy: 0.5200\n",
            "Epoch 12/16\n",
            "15/15 [==============================] - 3s 173ms/step - loss: 0.5688 - accuracy: 0.7733 - val_loss: 1.1459 - val_accuracy: 0.4800\n",
            "Epoch 13/16\n",
            "15/15 [==============================] - 3s 182ms/step - loss: 0.4548 - accuracy: 0.8889 - val_loss: 1.3368 - val_accuracy: 0.5200\n",
            "Epoch 14/16\n",
            "15/15 [==============================] - 3s 174ms/step - loss: 0.4756 - accuracy: 0.8333 - val_loss: 1.2727 - val_accuracy: 0.5000\n",
            "Epoch 15/16\n",
            "15/15 [==============================] - 3s 189ms/step - loss: 0.4137 - accuracy: 0.8756 - val_loss: 1.3058 - val_accuracy: 0.5000\n",
            "Epoch 16/16\n",
            "15/15 [==============================] - 3s 183ms/step - loss: 0.3383 - accuracy: 0.8978 - val_loss: 1.3789 - val_accuracy: 0.5400\n"
          ]
        },
        {
          "metadata": {
            "tags": null
          },
          "name": "stderr",
          "output_type": "stream",
          "text": [
            "/usr/local/lib/python3.10/dist-packages/keras/src/engine/training.py:3079: UserWarning: You are saving your model as an HDF5 file via `model.save()`. This file format is considered legacy. We recommend using instead the native Keras format, e.g. `model.save('my_model.keras')`.\n",
            "  saving_api.save_model(\n"
          ]
        },
        {
          "metadata": {
            "tags": null
          },
          "name": "stdout",
          "output_type": "stream",
          "text": [
            "Epoch 1/16\n",
            "29/29 [==============================] - 10s 213ms/step - loss: 1.5941 - accuracy: 0.5078 - val_loss: 1.2063 - val_accuracy: 0.5300\n",
            "Epoch 2/16\n",
            "29/29 [==============================] - 5s 183ms/step - loss: 1.1322 - accuracy: 0.5433 - val_loss: 1.0873 - val_accuracy: 0.5300\n",
            "Epoch 3/16\n",
            "29/29 [==============================] - 5s 177ms/step - loss: 0.9225 - accuracy: 0.6556 - val_loss: 1.1414 - val_accuracy: 0.4800\n",
            "Epoch 4/16\n",
            "29/29 [==============================] - 5s 177ms/step - loss: 0.6149 - accuracy: 0.8011 - val_loss: 1.3288 - val_accuracy: 0.5400\n",
            "Epoch 5/16\n",
            "29/29 [==============================] - 5s 184ms/step - loss: 0.5119 - accuracy: 0.8311 - val_loss: 1.3611 - val_accuracy: 0.5700\n",
            "Epoch 6/16\n",
            "29/29 [==============================] - 5s 179ms/step - loss: 0.3618 - accuracy: 0.8889 - val_loss: 1.6031 - val_accuracy: 0.4400\n",
            "Epoch 7/16\n",
            "29/29 [==============================] - 5s 183ms/step - loss: 0.2681 - accuracy: 0.9211 - val_loss: 1.7236 - val_accuracy: 0.5200\n",
            "Epoch 8/16\n",
            "29/29 [==============================] - 5s 187ms/step - loss: 0.2262 - accuracy: 0.9211 - val_loss: 1.5877 - val_accuracy: 0.5300\n",
            "Epoch 9/16\n",
            "29/29 [==============================] - 5s 180ms/step - loss: 0.2098 - accuracy: 0.9289 - val_loss: 1.9187 - val_accuracy: 0.4600\n",
            "Epoch 10/16\n",
            "29/29 [==============================] - 5s 180ms/step - loss: 0.2782 - accuracy: 0.9111 - val_loss: 1.6905 - val_accuracy: 0.5200\n",
            "Epoch 11/16\n",
            "29/29 [==============================] - 5s 178ms/step - loss: 0.1925 - accuracy: 0.9422 - val_loss: 1.9993 - val_accuracy: 0.4900\n",
            "Epoch 12/16\n",
            "29/29 [==============================] - 5s 177ms/step - loss: 0.1788 - accuracy: 0.9444 - val_loss: 1.8198 - val_accuracy: 0.4800\n",
            "Epoch 13/16\n",
            "29/29 [==============================] - 5s 185ms/step - loss: 0.1813 - accuracy: 0.9456 - val_loss: 2.0287 - val_accuracy: 0.4700\n",
            "Epoch 14/16\n",
            "29/29 [==============================] - 5s 180ms/step - loss: 0.1423 - accuracy: 0.9700 - val_loss: 1.7864 - val_accuracy: 0.5100\n",
            "Epoch 15/16\n",
            "29/29 [==============================] - 5s 183ms/step - loss: 0.1141 - accuracy: 0.9733 - val_loss: 1.9035 - val_accuracy: 0.4900\n",
            "Epoch 16/16\n",
            "29/29 [==============================] - 6s 202ms/step - loss: 0.1042 - accuracy: 0.9756 - val_loss: 2.0255 - val_accuracy: 0.5300\n"
          ]
        },
        {
          "metadata": {
            "tags": null
          },
          "name": "stderr",
          "output_type": "stream",
          "text": [
            "/usr/local/lib/python3.10/dist-packages/keras/src/engine/training.py:3079: UserWarning: You are saving your model as an HDF5 file via `model.save()`. This file format is considered legacy. We recommend using instead the native Keras format, e.g. `model.save('my_model.keras')`.\n",
            "  saving_api.save_model(\n"
          ]
        },
        {
          "metadata": {
            "tags": null
          },
          "name": "stdout",
          "output_type": "stream",
          "text": [
            "Epoch 1/16\n",
            "2/2 [==============================] - 5s 1s/step - loss: 1.7904 - accuracy: 0.1667 - val_loss: 1.7817 - val_accuracy: 0.5000\n",
            "Epoch 2/16\n",
            "2/2 [==============================] - 0s 222ms/step - loss: 1.7712 - accuracy: 0.4630 - val_loss: 1.7688 - val_accuracy: 0.5000\n",
            "Epoch 3/16\n",
            "2/2 [==============================] - 0s 223ms/step - loss: 1.7483 - accuracy: 0.4444 - val_loss: 1.7521 - val_accuracy: 0.3333\n",
            "Epoch 4/16\n",
            "2/2 [==============================] - 0s 231ms/step - loss: 1.7184 - accuracy: 0.4259 - val_loss: 1.7283 - val_accuracy: 0.3333\n",
            "Epoch 5/16\n",
            "2/2 [==============================] - 0s 213ms/step - loss: 1.6767 - accuracy: 0.4074 - val_loss: 1.6914 - val_accuracy: 0.3333\n",
            "Epoch 6/16\n",
            "2/2 [==============================] - 0s 248ms/step - loss: 1.6042 - accuracy: 0.4074 - val_loss: 1.6357 - val_accuracy: 0.3333\n",
            "Epoch 7/16\n",
            "2/2 [==============================] - 0s 240ms/step - loss: 1.5161 - accuracy: 0.3889 - val_loss: 1.5548 - val_accuracy: 0.3333\n",
            "Epoch 8/16\n",
            "2/2 [==============================] - 0s 233ms/step - loss: 1.4121 - accuracy: 0.3889 - val_loss: 1.4896 - val_accuracy: 0.3333\n",
            "Epoch 9/16\n",
            "2/2 [==============================] - 0s 231ms/step - loss: 1.3306 - accuracy: 0.3889 - val_loss: 1.4620 - val_accuracy: 0.3333\n",
            "Epoch 10/16\n",
            "2/2 [==============================] - 0s 205ms/step - loss: 1.2460 - accuracy: 0.4259 - val_loss: 1.4040 - val_accuracy: 0.3333\n",
            "Epoch 11/16\n",
            "2/2 [==============================] - 0s 215ms/step - loss: 1.1138 - accuracy: 0.5741 - val_loss: 1.3486 - val_accuracy: 0.6667\n",
            "Epoch 12/16\n",
            "2/2 [==============================] - 0s 223ms/step - loss: 0.9920 - accuracy: 0.7222 - val_loss: 1.3426 - val_accuracy: 0.5000\n",
            "Epoch 13/16\n",
            "2/2 [==============================] - 0s 235ms/step - loss: 0.8924 - accuracy: 0.7593 - val_loss: 1.5562 - val_accuracy: 0.5000\n",
            "Epoch 14/16\n",
            "2/2 [==============================] - 0s 230ms/step - loss: 0.8514 - accuracy: 0.7778 - val_loss: 1.4116 - val_accuracy: 0.5000\n",
            "Epoch 15/16\n",
            "2/2 [==============================] - 0s 219ms/step - loss: 0.8042 - accuracy: 0.7037 - val_loss: 1.2518 - val_accuracy: 0.3333\n",
            "Epoch 16/16\n",
            "2/2 [==============================] - 0s 203ms/step - loss: 0.7498 - accuracy: 0.7593 - val_loss: 1.3948 - val_accuracy: 0.5000\n"
          ]
        },
        {
          "metadata": {
            "tags": null
          },
          "name": "stderr",
          "output_type": "stream",
          "text": [
            "/usr/local/lib/python3.10/dist-packages/keras/src/engine/training.py:3079: UserWarning: You are saving your model as an HDF5 file via `model.save()`. This file format is considered legacy. We recommend using instead the native Keras format, e.g. `model.save('my_model.keras')`.\n",
            "  saving_api.save_model(\n"
          ]
        },
        {
          "metadata": {
            "tags": null
          },
          "name": "stdout",
          "output_type": "stream",
          "text": [
            "Epoch 1/16\n",
            "4/4 [==============================] - 6s 485ms/step - loss: 1.7731 - accuracy: 0.4959 - val_loss: 1.7233 - val_accuracy: 0.7143\n",
            "Epoch 2/16\n",
            "4/4 [==============================] - 1s 198ms/step - loss: 1.6878 - accuracy: 0.6098 - val_loss: 1.5754 - val_accuracy: 0.7143\n",
            "Epoch 3/16\n",
            "4/4 [==============================] - 1s 192ms/step - loss: 1.5138 - accuracy: 0.6098 - val_loss: 1.2214 - val_accuracy: 0.7143\n",
            "Epoch 4/16\n",
            "4/4 [==============================] - 1s 189ms/step - loss: 1.2629 - accuracy: 0.6098 - val_loss: 1.0350 - val_accuracy: 0.7143\n",
            "Epoch 5/16\n",
            "4/4 [==============================] - 1s 199ms/step - loss: 1.2280 - accuracy: 0.6098 - val_loss: 0.9786 - val_accuracy: 0.7143\n",
            "Epoch 6/16\n",
            "4/4 [==============================] - 1s 199ms/step - loss: 1.1148 - accuracy: 0.6098 - val_loss: 0.9702 - val_accuracy: 0.7143\n",
            "Epoch 7/16\n",
            "4/4 [==============================] - 1s 193ms/step - loss: 1.0635 - accuracy: 0.6098 - val_loss: 0.9452 - val_accuracy: 0.7143\n",
            "Epoch 8/16\n",
            "4/4 [==============================] - 1s 186ms/step - loss: 0.9928 - accuracy: 0.6098 - val_loss: 0.8535 - val_accuracy: 0.7143\n",
            "Epoch 9/16\n",
            "4/4 [==============================] - 1s 192ms/step - loss: 0.8984 - accuracy: 0.6098 - val_loss: 0.8234 - val_accuracy: 0.7143\n",
            "Epoch 10/16\n",
            "4/4 [==============================] - 1s 192ms/step - loss: 0.8425 - accuracy: 0.6585 - val_loss: 0.8213 - val_accuracy: 0.7143\n",
            "Epoch 11/16\n",
            "4/4 [==============================] - 1s 181ms/step - loss: 0.7899 - accuracy: 0.6911 - val_loss: 0.8535 - val_accuracy: 0.7857\n",
            "Epoch 12/16\n",
            "4/4 [==============================] - 1s 182ms/step - loss: 0.7568 - accuracy: 0.6911 - val_loss: 0.8812 - val_accuracy: 0.7857\n",
            "Epoch 13/16\n",
            "4/4 [==============================] - 1s 182ms/step - loss: 0.7254 - accuracy: 0.7236 - val_loss: 0.9909 - val_accuracy: 0.7143\n",
            "Epoch 14/16\n",
            "4/4 [==============================] - 1s 180ms/step - loss: 0.6821 - accuracy: 0.7480 - val_loss: 1.0212 - val_accuracy: 0.7857\n",
            "Epoch 15/16\n",
            "4/4 [==============================] - 1s 187ms/step - loss: 0.6517 - accuracy: 0.7724 - val_loss: 1.0036 - val_accuracy: 0.7857\n",
            "Epoch 16/16\n",
            "4/4 [==============================] - 1s 183ms/step - loss: 0.6150 - accuracy: 0.8130 - val_loss: 1.0560 - val_accuracy: 0.7857\n"
          ]
        },
        {
          "metadata": {
            "tags": null
          },
          "name": "stderr",
          "output_type": "stream",
          "text": [
            "/usr/local/lib/python3.10/dist-packages/keras/src/engine/training.py:3079: UserWarning: You are saving your model as an HDF5 file via `model.save()`. This file format is considered legacy. We recommend using instead the native Keras format, e.g. `model.save('my_model.keras')`.\n",
            "  saving_api.save_model(\n"
          ]
        },
        {
          "metadata": {
            "tags": null
          },
          "name": "stdout",
          "output_type": "stream",
          "text": [
            "Epoch 1/16\n",
            "21/21 [==============================] - 8s 216ms/step - loss: 1.6973 - accuracy: 0.5100 - val_loss: 1.5037 - val_accuracy: 0.4444\n",
            "Epoch 2/16\n",
            "21/21 [==============================] - 4s 176ms/step - loss: 1.1582 - accuracy: 0.6043 - val_loss: 1.2471 - val_accuracy: 0.5000\n",
            "Epoch 3/16\n",
            "21/21 [==============================] - 4s 177ms/step - loss: 0.9580 - accuracy: 0.6321 - val_loss: 1.2038 - val_accuracy: 0.5139\n",
            "Epoch 4/16\n",
            "21/21 [==============================] - 4s 178ms/step - loss: 0.7933 - accuracy: 0.6801 - val_loss: 1.1228 - val_accuracy: 0.6250\n",
            "Epoch 5/16\n",
            "21/21 [==============================] - 4s 171ms/step - loss: 0.6041 - accuracy: 0.7944 - val_loss: 1.1320 - val_accuracy: 0.6528\n",
            "Epoch 6/16\n",
            "21/21 [==============================] - 4s 172ms/step - loss: 0.4508 - accuracy: 0.8887 - val_loss: 1.2719 - val_accuracy: 0.5833\n",
            "Epoch 7/16\n",
            "21/21 [==============================] - 4s 180ms/step - loss: 0.3615 - accuracy: 0.9042 - val_loss: 1.3239 - val_accuracy: 0.6111\n",
            "Epoch 8/16\n",
            "21/21 [==============================] - 4s 174ms/step - loss: 0.2654 - accuracy: 0.9304 - val_loss: 1.2106 - val_accuracy: 0.7222\n",
            "Epoch 9/16\n",
            "21/21 [==============================] - 4s 174ms/step - loss: 0.2338 - accuracy: 0.9397 - val_loss: 1.5069 - val_accuracy: 0.5972\n",
            "Epoch 10/16\n",
            "21/21 [==============================] - 4s 189ms/step - loss: 0.2293 - accuracy: 0.9320 - val_loss: 1.3315 - val_accuracy: 0.6389\n",
            "Epoch 11/16\n",
            "21/21 [==============================] - 4s 185ms/step - loss: 0.2235 - accuracy: 0.9428 - val_loss: 1.4724 - val_accuracy: 0.6111\n",
            "Epoch 12/16\n",
            "21/21 [==============================] - 4s 179ms/step - loss: 0.1942 - accuracy: 0.9428 - val_loss: 1.4642 - val_accuracy: 0.5972\n",
            "Epoch 13/16\n",
            "21/21 [==============================] - 4s 180ms/step - loss: 0.1643 - accuracy: 0.9536 - val_loss: 1.4216 - val_accuracy: 0.6806\n",
            "Epoch 14/16\n",
            "21/21 [==============================] - 4s 189ms/step - loss: 0.1549 - accuracy: 0.9598 - val_loss: 1.4167 - val_accuracy: 0.6528\n",
            "Epoch 15/16\n",
            "21/21 [==============================] - 4s 176ms/step - loss: 0.1332 - accuracy: 0.9675 - val_loss: 1.4159 - val_accuracy: 0.6389\n",
            "Epoch 16/16\n",
            "21/21 [==============================] - 4s 172ms/step - loss: 0.1105 - accuracy: 0.9706 - val_loss: 1.4923 - val_accuracy: 0.6389\n"
          ]
        },
        {
          "metadata": {
            "tags": null
          },
          "name": "stderr",
          "output_type": "stream",
          "text": [
            "/usr/local/lib/python3.10/dist-packages/keras/src/engine/training.py:3079: UserWarning: You are saving your model as an HDF5 file via `model.save()`. This file format is considered legacy. We recommend using instead the native Keras format, e.g. `model.save('my_model.keras')`.\n",
            "  saving_api.save_model(\n"
          ]
        },
        {
          "metadata": {
            "tags": null
          },
          "name": "stdout",
          "output_type": "stream",
          "text": [
            "Epoch 1/16\n",
            "29/29 [==============================] - 10s 207ms/step - loss: 1.7319 - accuracy: 0.3567 - val_loss: 1.5063 - val_accuracy: 0.4800\n",
            "Epoch 2/16\n",
            "29/29 [==============================] - 5s 173ms/step - loss: 1.4610 - accuracy: 0.3878 - val_loss: 1.4149 - val_accuracy: 0.5400\n",
            "Epoch 3/16\n",
            "29/29 [==============================] - 5s 182ms/step - loss: 1.2505 - accuracy: 0.4822 - val_loss: 1.3237 - val_accuracy: 0.5100\n",
            "Epoch 4/16\n",
            "29/29 [==============================] - 5s 184ms/step - loss: 1.0362 - accuracy: 0.6244 - val_loss: 1.3348 - val_accuracy: 0.4600\n",
            "Epoch 5/16\n",
            "29/29 [==============================] - 5s 179ms/step - loss: 0.7474 - accuracy: 0.7267 - val_loss: 1.2221 - val_accuracy: 0.5700\n",
            "Epoch 6/16\n",
            "29/29 [==============================] - 5s 186ms/step - loss: 0.5883 - accuracy: 0.8089 - val_loss: 1.3147 - val_accuracy: 0.5900\n",
            "Epoch 7/16\n",
            "29/29 [==============================] - 5s 173ms/step - loss: 0.4693 - accuracy: 0.8389 - val_loss: 1.6076 - val_accuracy: 0.4800\n",
            "Epoch 8/16\n",
            "29/29 [==============================] - 5s 179ms/step - loss: 0.4193 - accuracy: 0.8667 - val_loss: 1.5506 - val_accuracy: 0.5200\n",
            "Epoch 9/16\n",
            "29/29 [==============================] - 5s 181ms/step - loss: 0.3788 - accuracy: 0.8856 - val_loss: 1.6167 - val_accuracy: 0.5000\n",
            "Epoch 10/16\n",
            "29/29 [==============================] - 5s 177ms/step - loss: 0.3110 - accuracy: 0.9211 - val_loss: 1.6103 - val_accuracy: 0.5900\n",
            "Epoch 11/16\n",
            "29/29 [==============================] - 5s 183ms/step - loss: 0.2703 - accuracy: 0.9256 - val_loss: 1.5652 - val_accuracy: 0.6000\n",
            "Epoch 12/16\n",
            "29/29 [==============================] - 5s 180ms/step - loss: 0.3287 - accuracy: 0.9056 - val_loss: 1.6104 - val_accuracy: 0.6200\n",
            "Epoch 13/16\n",
            "29/29 [==============================] - 5s 177ms/step - loss: 0.2611 - accuracy: 0.9256 - val_loss: 1.6236 - val_accuracy: 0.5900\n",
            "Epoch 14/16\n",
            "29/29 [==============================] - 6s 197ms/step - loss: 0.2106 - accuracy: 0.9411 - val_loss: 1.7253 - val_accuracy: 0.6000\n",
            "Epoch 15/16\n",
            "29/29 [==============================] - 5s 175ms/step - loss: 0.2067 - accuracy: 0.9456 - val_loss: 1.6574 - val_accuracy: 0.6100\n",
            "Epoch 16/16\n",
            "29/29 [==============================] - 5s 178ms/step - loss: 0.1796 - accuracy: 0.9544 - val_loss: 2.0765 - val_accuracy: 0.5300\n"
          ]
        },
        {
          "metadata": {
            "tags": null
          },
          "name": "stderr",
          "output_type": "stream",
          "text": [
            "/usr/local/lib/python3.10/dist-packages/keras/src/engine/training.py:3079: UserWarning: You are saving your model as an HDF5 file via `model.save()`. This file format is considered legacy. We recommend using instead the native Keras format, e.g. `model.save('my_model.keras')`.\n",
            "  saving_api.save_model(\n"
          ]
        },
        {
          "metadata": {
            "tags": null
          },
          "name": "stdout",
          "output_type": "stream",
          "text": [
            "Epoch 1/16\n",
            "11/11 [==============================] - 8s 263ms/step - loss: 1.7546 - accuracy: 0.3171 - val_loss: 1.6898 - val_accuracy: 0.1892\n",
            "Epoch 2/16\n",
            "11/11 [==============================] - 2s 173ms/step - loss: 1.5082 - accuracy: 0.3201 - val_loss: 1.5285 - val_accuracy: 0.1892\n",
            "Epoch 3/16\n",
            "11/11 [==============================] - 2s 195ms/step - loss: 1.3591 - accuracy: 0.3384 - val_loss: 1.5005 - val_accuracy: 0.2432\n",
            "Epoch 4/16\n",
            "11/11 [==============================] - 2s 185ms/step - loss: 1.3292 - accuracy: 0.3079 - val_loss: 1.5071 - val_accuracy: 0.2162\n",
            "Epoch 5/16\n",
            "11/11 [==============================] - 2s 182ms/step - loss: 1.2365 - accuracy: 0.4665 - val_loss: 1.5003 - val_accuracy: 0.2703\n",
            "Epoch 6/16\n",
            "11/11 [==============================] - 2s 176ms/step - loss: 1.0791 - accuracy: 0.5945 - val_loss: 1.5040 - val_accuracy: 0.3784\n",
            "Epoch 7/16\n",
            "11/11 [==============================] - 2s 193ms/step - loss: 0.8887 - accuracy: 0.7195 - val_loss: 1.4156 - val_accuracy: 0.4595\n",
            "Epoch 8/16\n",
            "11/11 [==============================] - 2s 181ms/step - loss: 0.6333 - accuracy: 0.8140 - val_loss: 1.4132 - val_accuracy: 0.5135\n",
            "Epoch 9/16\n",
            "11/11 [==============================] - 2s 184ms/step - loss: 0.4732 - accuracy: 0.8445 - val_loss: 1.4211 - val_accuracy: 0.5946\n",
            "Epoch 10/16\n",
            "11/11 [==============================] - 2s 206ms/step - loss: 0.4140 - accuracy: 0.8811 - val_loss: 1.6856 - val_accuracy: 0.4865\n",
            "Epoch 11/16\n",
            "11/11 [==============================] - 2s 201ms/step - loss: 0.3044 - accuracy: 0.9207 - val_loss: 1.8215 - val_accuracy: 0.5676\n",
            "Epoch 12/16\n",
            "11/11 [==============================] - 2s 189ms/step - loss: 0.2935 - accuracy: 0.9146 - val_loss: 1.8236 - val_accuracy: 0.5405\n",
            "Epoch 13/16\n",
            "11/11 [==============================] - 2s 179ms/step - loss: 0.2738 - accuracy: 0.9207 - val_loss: 1.9608 - val_accuracy: 0.5405\n",
            "Epoch 14/16\n",
            "11/11 [==============================] - 2s 183ms/step - loss: 0.2706 - accuracy: 0.9116 - val_loss: 1.8265 - val_accuracy: 0.5946\n",
            "Epoch 15/16\n",
            "11/11 [==============================] - 2s 185ms/step - loss: 0.2753 - accuracy: 0.9207 - val_loss: 1.8832 - val_accuracy: 0.4865\n",
            "Epoch 16/16\n",
            "11/11 [==============================] - 2s 185ms/step - loss: 0.2282 - accuracy: 0.9268 - val_loss: 1.9148 - val_accuracy: 0.5405\n"
          ]
        },
        {
          "metadata": {
            "tags": null
          },
          "name": "stderr",
          "output_type": "stream",
          "text": [
            "/usr/local/lib/python3.10/dist-packages/keras/src/engine/training.py:3079: UserWarning: You are saving your model as an HDF5 file via `model.save()`. This file format is considered legacy. We recommend using instead the native Keras format, e.g. `model.save('my_model.keras')`.\n",
            "  saving_api.save_model(\n"
          ]
        },
        {
          "metadata": {
            "tags": null
          },
          "name": "stdout",
          "output_type": "stream",
          "text": [
            "Epoch 1/16\n",
            "2/2 [==============================] - 5s 1s/step - loss: 1.6081 - accuracy: 0.3043 - val_loss: 1.5818 - val_accuracy: 0.8333\n",
            "Epoch 2/16\n",
            "2/2 [==============================] - 0s 216ms/step - loss: 1.5835 - accuracy: 0.4783 - val_loss: 1.5488 - val_accuracy: 0.8333\n",
            "Epoch 3/16\n",
            "2/2 [==============================] - 0s 201ms/step - loss: 1.5540 - accuracy: 0.4565 - val_loss: 1.4983 - val_accuracy: 0.8333\n",
            "Epoch 4/16\n",
            "2/2 [==============================] - 0s 248ms/step - loss: 1.5081 - accuracy: 0.4565 - val_loss: 1.4185 - val_accuracy: 0.8333\n",
            "Epoch 5/16\n",
            "2/2 [==============================] - 0s 236ms/step - loss: 1.4386 - accuracy: 0.4565 - val_loss: 1.2853 - val_accuracy: 0.8333\n",
            "Epoch 6/16\n",
            "2/2 [==============================] - 0s 221ms/step - loss: 1.3349 - accuracy: 0.4565 - val_loss: 1.0782 - val_accuracy: 0.8333\n",
            "Epoch 7/16\n",
            "2/2 [==============================] - 0s 222ms/step - loss: 1.2137 - accuracy: 0.4565 - val_loss: 0.8754 - val_accuracy: 0.8333\n",
            "Epoch 8/16\n",
            "2/2 [==============================] - 0s 221ms/step - loss: 1.1739 - accuracy: 0.4565 - val_loss: 0.7812 - val_accuracy: 0.8333\n",
            "Epoch 9/16\n",
            "2/2 [==============================] - 0s 215ms/step - loss: 1.1372 - accuracy: 0.5435 - val_loss: 0.7890 - val_accuracy: 0.8333\n",
            "Epoch 10/16\n",
            "2/2 [==============================] - 0s 205ms/step - loss: 1.0507 - accuracy: 0.6304 - val_loss: 0.8806 - val_accuracy: 0.8333\n",
            "Epoch 11/16\n",
            "2/2 [==============================] - 0s 227ms/step - loss: 0.9669 - accuracy: 0.6739 - val_loss: 0.9789 - val_accuracy: 0.8333\n",
            "Epoch 12/16\n",
            "2/2 [==============================] - 0s 228ms/step - loss: 0.9144 - accuracy: 0.7609 - val_loss: 1.0419 - val_accuracy: 0.5000\n",
            "Epoch 13/16\n",
            "2/2 [==============================] - 0s 214ms/step - loss: 0.8791 - accuracy: 0.8478 - val_loss: 1.0686 - val_accuracy: 0.5000\n",
            "Epoch 14/16\n",
            "2/2 [==============================] - 0s 210ms/step - loss: 0.8379 - accuracy: 0.8478 - val_loss: 1.0758 - val_accuracy: 0.5000\n",
            "Epoch 15/16\n",
            "2/2 [==============================] - 0s 215ms/step - loss: 0.7905 - accuracy: 0.8478 - val_loss: 1.0846 - val_accuracy: 0.5000\n",
            "Epoch 16/16\n",
            "2/2 [==============================] - 0s 220ms/step - loss: 0.7468 - accuracy: 0.8478 - val_loss: 1.0932 - val_accuracy: 0.5000\n"
          ]
        },
        {
          "metadata": {
            "tags": null
          },
          "name": "stderr",
          "output_type": "stream",
          "text": [
            "/usr/local/lib/python3.10/dist-packages/keras/src/engine/training.py:3079: UserWarning: You are saving your model as an HDF5 file via `model.save()`. This file format is considered legacy. We recommend using instead the native Keras format, e.g. `model.save('my_model.keras')`.\n",
            "  saving_api.save_model(\n"
          ]
        },
        {
          "metadata": {
            "tags": null
          },
          "name": "stdout",
          "output_type": "stream",
          "text": [
            "Epoch 1/16\n",
            "29/29 [==============================] - 10s 202ms/step - loss: 1.5978 - accuracy: 0.4844 - val_loss: 1.2810 - val_accuracy: 0.5700\n",
            "Epoch 2/16\n",
            "29/29 [==============================] - 5s 182ms/step - loss: 1.2603 - accuracy: 0.5156 - val_loss: 1.2036 - val_accuracy: 0.5700\n",
            "Epoch 3/16\n",
            "29/29 [==============================] - 5s 175ms/step - loss: 1.0283 - accuracy: 0.5867 - val_loss: 1.1388 - val_accuracy: 0.5800\n",
            "Epoch 4/16\n",
            "29/29 [==============================] - 5s 172ms/step - loss: 0.7470 - accuracy: 0.7500 - val_loss: 1.0233 - val_accuracy: 0.6500\n",
            "Epoch 5/16\n",
            "29/29 [==============================] - 5s 181ms/step - loss: 0.5656 - accuracy: 0.8089 - val_loss: 1.2022 - val_accuracy: 0.6000\n",
            "Epoch 6/16\n",
            "29/29 [==============================] - 5s 175ms/step - loss: 0.3933 - accuracy: 0.8811 - val_loss: 1.3040 - val_accuracy: 0.5900\n",
            "Epoch 7/16\n",
            "29/29 [==============================] - 5s 176ms/step - loss: 0.3192 - accuracy: 0.9022 - val_loss: 1.5649 - val_accuracy: 0.6300\n",
            "Epoch 8/16\n",
            "29/29 [==============================] - 5s 179ms/step - loss: 0.2540 - accuracy: 0.9156 - val_loss: 1.4738 - val_accuracy: 0.5900\n",
            "Epoch 9/16\n",
            "29/29 [==============================] - 5s 187ms/step - loss: 0.2046 - accuracy: 0.9300 - val_loss: 1.6101 - val_accuracy: 0.5300\n",
            "Epoch 10/16\n",
            "29/29 [==============================] - 5s 189ms/step - loss: 0.1892 - accuracy: 0.9344 - val_loss: 1.7563 - val_accuracy: 0.4900\n",
            "Epoch 11/16\n",
            "29/29 [==============================] - 5s 183ms/step - loss: 0.2443 - accuracy: 0.9156 - val_loss: 1.6506 - val_accuracy: 0.5900\n",
            "Epoch 12/16\n",
            "29/29 [==============================] - 5s 183ms/step - loss: 0.1745 - accuracy: 0.9433 - val_loss: 1.5830 - val_accuracy: 0.5600\n",
            "Epoch 13/16\n",
            "29/29 [==============================] - 5s 180ms/step - loss: 0.1580 - accuracy: 0.9444 - val_loss: 1.8036 - val_accuracy: 0.5800\n",
            "Epoch 14/16\n",
            "29/29 [==============================] - 5s 172ms/step - loss: 0.1314 - accuracy: 0.9489 - val_loss: 1.7799 - val_accuracy: 0.6300\n",
            "Epoch 15/16\n",
            "29/29 [==============================] - 5s 178ms/step - loss: 0.1196 - accuracy: 0.9544 - val_loss: 1.8369 - val_accuracy: 0.6000\n",
            "Epoch 16/16\n",
            "29/29 [==============================] - 5s 174ms/step - loss: 0.1226 - accuracy: 0.9600 - val_loss: 1.7934 - val_accuracy: 0.6300\n"
          ]
        },
        {
          "metadata": {
            "tags": null
          },
          "name": "stderr",
          "output_type": "stream",
          "text": [
            "/usr/local/lib/python3.10/dist-packages/keras/src/engine/training.py:3079: UserWarning: You are saving your model as an HDF5 file via `model.save()`. This file format is considered legacy. We recommend using instead the native Keras format, e.g. `model.save('my_model.keras')`.\n",
            "  saving_api.save_model(\n"
          ]
        },
        {
          "metadata": {
            "tags": null
          },
          "name": "stdout",
          "output_type": "stream",
          "text": [
            "Epoch 1/16\n",
            "23/23 [==============================] - 9s 221ms/step - loss: 1.4953 - accuracy: 0.5554 - val_loss: 1.2688 - val_accuracy: 0.4625\n",
            "Epoch 2/16\n",
            "23/23 [==============================] - 4s 186ms/step - loss: 1.0284 - accuracy: 0.5849 - val_loss: 1.2154 - val_accuracy: 0.4625\n",
            "Epoch 3/16\n",
            "23/23 [==============================] - 4s 184ms/step - loss: 0.8749 - accuracy: 0.6353 - val_loss: 1.0746 - val_accuracy: 0.5500\n",
            "Epoch 4/16\n",
            "23/23 [==============================] - 4s 179ms/step - loss: 0.6635 - accuracy: 0.7518 - val_loss: 1.4096 - val_accuracy: 0.5250\n",
            "Epoch 5/16\n",
            "23/23 [==============================] - 4s 183ms/step - loss: 0.5107 - accuracy: 0.8093 - val_loss: 1.2356 - val_accuracy: 0.5625\n",
            "Epoch 6/16\n",
            "23/23 [==============================] - 4s 186ms/step - loss: 0.3946 - accuracy: 0.8457 - val_loss: 1.2526 - val_accuracy: 0.5375\n",
            "Epoch 7/16\n",
            "23/23 [==============================] - 4s 184ms/step - loss: 0.3344 - accuracy: 0.9088 - val_loss: 1.5786 - val_accuracy: 0.5750\n",
            "Epoch 8/16\n",
            "23/23 [==============================] - 4s 181ms/step - loss: 0.2549 - accuracy: 0.9201 - val_loss: 1.4134 - val_accuracy: 0.5375\n",
            "Epoch 9/16\n",
            "23/23 [==============================] - 4s 194ms/step - loss: 0.2116 - accuracy: 0.9313 - val_loss: 1.6774 - val_accuracy: 0.5375\n",
            "Epoch 10/16\n",
            "23/23 [==============================] - 4s 183ms/step - loss: 0.1751 - accuracy: 0.9551 - val_loss: 1.7523 - val_accuracy: 0.5500\n",
            "Epoch 11/16\n",
            "23/23 [==============================] - 4s 184ms/step - loss: 0.1768 - accuracy: 0.9481 - val_loss: 1.6969 - val_accuracy: 0.5625\n",
            "Epoch 12/16\n",
            "23/23 [==============================] - 4s 190ms/step - loss: 0.1523 - accuracy: 0.9537 - val_loss: 1.5132 - val_accuracy: 0.6125\n",
            "Epoch 13/16\n",
            "23/23 [==============================] - 4s 179ms/step - loss: 0.1151 - accuracy: 0.9677 - val_loss: 1.6092 - val_accuracy: 0.5625\n",
            "Epoch 14/16\n",
            "23/23 [==============================] - 4s 179ms/step - loss: 0.1042 - accuracy: 0.9691 - val_loss: 1.6725 - val_accuracy: 0.6000\n",
            "Epoch 15/16\n",
            "23/23 [==============================] - 4s 182ms/step - loss: 0.1035 - accuracy: 0.9635 - val_loss: 1.6911 - val_accuracy: 0.6250\n",
            "Epoch 16/16\n",
            "23/23 [==============================] - 4s 182ms/step - loss: 0.1126 - accuracy: 0.9607 - val_loss: 1.8657 - val_accuracy: 0.5250\n"
          ]
        },
        {
          "metadata": {
            "tags": null
          },
          "name": "stderr",
          "output_type": "stream",
          "text": [
            "/usr/local/lib/python3.10/dist-packages/keras/src/engine/training.py:3079: UserWarning: You are saving your model as an HDF5 file via `model.save()`. This file format is considered legacy. We recommend using instead the native Keras format, e.g. `model.save('my_model.keras')`.\n",
            "  saving_api.save_model(\n"
          ]
        },
        {
          "metadata": {
            "tags": null
          },
          "name": "stdout",
          "output_type": "stream",
          "text": [
            "Epoch 1/16\n",
            "3/3 [==============================] - 5s 609ms/step - loss: 1.7860 - accuracy: 0.2135 - val_loss: 1.7661 - val_accuracy: 0.6000\n",
            "Epoch 2/16\n",
            "3/3 [==============================] - 1s 183ms/step - loss: 1.7534 - accuracy: 0.5169 - val_loss: 1.7245 - val_accuracy: 0.6000\n",
            "Epoch 3/16\n",
            "3/3 [==============================] - 1s 193ms/step - loss: 1.7027 - accuracy: 0.4270 - val_loss: 1.6564 - val_accuracy: 0.5000\n",
            "Epoch 4/16\n",
            "3/3 [==============================] - 1s 200ms/step - loss: 1.6248 - accuracy: 0.4157 - val_loss: 1.5328 - val_accuracy: 0.5000\n",
            "Epoch 5/16\n",
            "3/3 [==============================] - 1s 194ms/step - loss: 1.4825 - accuracy: 0.4157 - val_loss: 1.3214 - val_accuracy: 0.5000\n",
            "Epoch 6/16\n",
            "3/3 [==============================] - 1s 208ms/step - loss: 1.3271 - accuracy: 0.4157 - val_loss: 1.1604 - val_accuracy: 0.5000\n",
            "Epoch 7/16\n",
            "3/3 [==============================] - 1s 196ms/step - loss: 1.2643 - accuracy: 0.4157 - val_loss: 1.1134 - val_accuracy: 0.5000\n",
            "Epoch 8/16\n",
            "3/3 [==============================] - 1s 200ms/step - loss: 1.1808 - accuracy: 0.5618 - val_loss: 1.0442 - val_accuracy: 0.7000\n",
            "Epoch 9/16\n",
            "3/3 [==============================] - 1s 193ms/step - loss: 1.0640 - accuracy: 0.6966 - val_loss: 0.9724 - val_accuracy: 0.7000\n",
            "Epoch 10/16\n",
            "3/3 [==============================] - 1s 213ms/step - loss: 0.9063 - accuracy: 0.7640 - val_loss: 0.8691 - val_accuracy: 0.8000\n",
            "Epoch 11/16\n",
            "3/3 [==============================] - 1s 198ms/step - loss: 0.7596 - accuracy: 0.7865 - val_loss: 0.7998 - val_accuracy: 0.8000\n",
            "Epoch 12/16\n",
            "3/3 [==============================] - 1s 177ms/step - loss: 0.6406 - accuracy: 0.8090 - val_loss: 0.8821 - val_accuracy: 0.5000\n",
            "Epoch 13/16\n",
            "3/3 [==============================] - 1s 191ms/step - loss: 0.5770 - accuracy: 0.7978 - val_loss: 1.0288 - val_accuracy: 0.5000\n",
            "Epoch 14/16\n",
            "3/3 [==============================] - 1s 189ms/step - loss: 0.5070 - accuracy: 0.8315 - val_loss: 1.2313 - val_accuracy: 0.6000\n",
            "Epoch 15/16\n",
            "3/3 [==============================] - 1s 191ms/step - loss: 0.4141 - accuracy: 0.9101 - val_loss: 1.1949 - val_accuracy: 0.6000\n",
            "Epoch 16/16\n",
            "3/3 [==============================] - 1s 188ms/step - loss: 0.3538 - accuracy: 0.9326 - val_loss: 0.9571 - val_accuracy: 0.6000\n"
          ]
        },
        {
          "metadata": {
            "tags": null
          },
          "name": "stderr",
          "output_type": "stream",
          "text": [
            "/usr/local/lib/python3.10/dist-packages/keras/src/engine/training.py:3079: UserWarning: You are saving your model as an HDF5 file via `model.save()`. This file format is considered legacy. We recommend using instead the native Keras format, e.g. `model.save('my_model.keras')`.\n",
            "  saving_api.save_model(\n"
          ]
        },
        {
          "metadata": {
            "tags": null
          },
          "name": "stdout",
          "output_type": "stream",
          "text": [
            "Epoch 1/16\n",
            "29/29 [==============================] - 11s 218ms/step - loss: 1.7253 - accuracy: 0.4233 - val_loss: 1.5401 - val_accuracy: 0.4400\n",
            "Epoch 2/16\n",
            "29/29 [==============================] - 5s 175ms/step - loss: 1.4747 - accuracy: 0.4311 - val_loss: 1.4895 - val_accuracy: 0.4700\n",
            "Epoch 3/16\n",
            "29/29 [==============================] - 5s 184ms/step - loss: 1.2011 - accuracy: 0.5500 - val_loss: 1.5500 - val_accuracy: 0.4800\n",
            "Epoch 4/16\n",
            "29/29 [==============================] - 5s 179ms/step - loss: 0.8703 - accuracy: 0.6556 - val_loss: 1.6962 - val_accuracy: 0.3500\n",
            "Epoch 5/16\n",
            "29/29 [==============================] - 5s 187ms/step - loss: 0.5485 - accuracy: 0.8656 - val_loss: 1.8097 - val_accuracy: 0.3700\n",
            "Epoch 6/16\n",
            "29/29 [==============================] - 5s 184ms/step - loss: 0.3002 - accuracy: 0.9244 - val_loss: 2.3212 - val_accuracy: 0.3400\n",
            "Epoch 7/16\n",
            "29/29 [==============================] - 5s 180ms/step - loss: 0.2150 - accuracy: 0.9400 - val_loss: 2.3331 - val_accuracy: 0.3800\n",
            "Epoch 8/16\n",
            "29/29 [==============================] - 5s 181ms/step - loss: 0.1501 - accuracy: 0.9511 - val_loss: 2.3549 - val_accuracy: 0.4700\n",
            "Epoch 9/16\n",
            "29/29 [==============================] - 5s 181ms/step - loss: 0.1386 - accuracy: 0.9678 - val_loss: 2.4828 - val_accuracy: 0.3600\n",
            "Epoch 10/16\n",
            "29/29 [==============================] - 5s 178ms/step - loss: 0.1380 - accuracy: 0.9722 - val_loss: 2.6015 - val_accuracy: 0.3500\n",
            "Epoch 11/16\n",
            "29/29 [==============================] - 5s 185ms/step - loss: 0.1099 - accuracy: 0.9744 - val_loss: 2.8523 - val_accuracy: 0.3600\n",
            "Epoch 12/16\n",
            "29/29 [==============================] - 5s 176ms/step - loss: 0.0875 - accuracy: 0.9800 - val_loss: 2.6427 - val_accuracy: 0.4200\n",
            "Epoch 13/16\n",
            "29/29 [==============================] - 5s 181ms/step - loss: 0.0671 - accuracy: 0.9811 - val_loss: 2.7570 - val_accuracy: 0.4400\n",
            "Epoch 14/16\n",
            "29/29 [==============================] - 5s 186ms/step - loss: 0.0684 - accuracy: 0.9822 - val_loss: 2.9285 - val_accuracy: 0.3900\n",
            "Epoch 15/16\n",
            "29/29 [==============================] - 5s 186ms/step - loss: 0.0627 - accuracy: 0.9833 - val_loss: 2.9875 - val_accuracy: 0.3900\n",
            "Epoch 16/16\n",
            "29/29 [==============================] - 6s 192ms/step - loss: 0.0542 - accuracy: 0.9844 - val_loss: 3.0551 - val_accuracy: 0.3600\n"
          ]
        },
        {
          "metadata": {
            "tags": null
          },
          "name": "stderr",
          "output_type": "stream",
          "text": [
            "/usr/local/lib/python3.10/dist-packages/keras/src/engine/training.py:3079: UserWarning: You are saving your model as an HDF5 file via `model.save()`. This file format is considered legacy. We recommend using instead the native Keras format, e.g. `model.save('my_model.keras')`.\n",
            "  saving_api.save_model(\n"
          ]
        },
        {
          "metadata": {
            "tags": null
          },
          "name": "stdout",
          "output_type": "stream",
          "text": [
            "Epoch 1/16\n",
            "18/18 [==============================] - 8s 226ms/step - loss: 1.8645 - accuracy: 0.3002 - val_loss: 1.6353 - val_accuracy: 0.3175\n",
            "Epoch 2/16\n",
            "18/18 [==============================] - 4s 198ms/step - loss: 1.5657 - accuracy: 0.3535 - val_loss: 1.5416 - val_accuracy: 0.5238\n",
            "Epoch 3/16\n",
            "18/18 [==============================] - 3s 182ms/step - loss: 1.3305 - accuracy: 0.5364 - val_loss: 1.2249 - val_accuracy: 0.5556\n",
            "Epoch 4/16\n",
            "18/18 [==============================] - 3s 178ms/step - loss: 0.9112 - accuracy: 0.6607 - val_loss: 1.3016 - val_accuracy: 0.5397\n",
            "Epoch 5/16\n",
            "18/18 [==============================] - 3s 178ms/step - loss: 0.6601 - accuracy: 0.7922 - val_loss: 1.3944 - val_accuracy: 0.5873\n",
            "Epoch 6/16\n",
            "18/18 [==============================] - 3s 184ms/step - loss: 0.4674 - accuracy: 0.8792 - val_loss: 1.7511 - val_accuracy: 0.4603\n",
            "Epoch 7/16\n",
            "18/18 [==============================] - 3s 181ms/step - loss: 0.4410 - accuracy: 0.8810 - val_loss: 1.5702 - val_accuracy: 0.4921\n",
            "Epoch 8/16\n",
            "18/18 [==============================] - 3s 183ms/step - loss: 0.3413 - accuracy: 0.9218 - val_loss: 1.7399 - val_accuracy: 0.5556\n",
            "Epoch 9/16\n",
            "18/18 [==============================] - 3s 183ms/step - loss: 0.2745 - accuracy: 0.9361 - val_loss: 1.7598 - val_accuracy: 0.5397\n",
            "Epoch 10/16\n",
            "18/18 [==============================] - 4s 196ms/step - loss: 0.2331 - accuracy: 0.9378 - val_loss: 1.8284 - val_accuracy: 0.5397\n",
            "Epoch 11/16\n",
            "18/18 [==============================] - 3s 179ms/step - loss: 0.1945 - accuracy: 0.9485 - val_loss: 2.0250 - val_accuracy: 0.5238\n",
            "Epoch 12/16\n",
            "18/18 [==============================] - 3s 173ms/step - loss: 0.1798 - accuracy: 0.9538 - val_loss: 1.9672 - val_accuracy: 0.5397\n",
            "Epoch 13/16\n",
            "18/18 [==============================] - 3s 172ms/step - loss: 0.1542 - accuracy: 0.9698 - val_loss: 2.0313 - val_accuracy: 0.5397\n",
            "Epoch 14/16\n",
            "18/18 [==============================] - 3s 185ms/step - loss: 0.1421 - accuracy: 0.9627 - val_loss: 2.0871 - val_accuracy: 0.5238\n",
            "Epoch 15/16\n",
            "18/18 [==============================] - 3s 175ms/step - loss: 0.1296 - accuracy: 0.9716 - val_loss: 2.1497 - val_accuracy: 0.5238\n",
            "Epoch 16/16\n",
            "18/18 [==============================] - 3s 178ms/step - loss: 0.1186 - accuracy: 0.9698 - val_loss: 1.9698 - val_accuracy: 0.5397\n"
          ]
        },
        {
          "metadata": {
            "tags": null
          },
          "name": "stderr",
          "output_type": "stream",
          "text": [
            "/usr/local/lib/python3.10/dist-packages/keras/src/engine/training.py:3079: UserWarning: You are saving your model as an HDF5 file via `model.save()`. This file format is considered legacy. We recommend using instead the native Keras format, e.g. `model.save('my_model.keras')`.\n",
            "  saving_api.save_model(\n"
          ]
        },
        {
          "metadata": {
            "tags": null
          },
          "name": "stdout",
          "output_type": "stream",
          "text": [
            "Epoch 1/16\n",
            "29/29 [==============================] - 10s 214ms/step - loss: 1.6424 - accuracy: 0.5778 - val_loss: 1.2782 - val_accuracy: 0.6200\n",
            "Epoch 2/16\n",
            "29/29 [==============================] - 5s 175ms/step - loss: 1.1780 - accuracy: 0.6000 - val_loss: 1.1685 - val_accuracy: 0.6200\n",
            "Epoch 3/16\n",
            "29/29 [==============================] - 5s 187ms/step - loss: 0.8622 - accuracy: 0.6878 - val_loss: 1.2466 - val_accuracy: 0.6100\n",
            "Epoch 4/16\n",
            "29/29 [==============================] - 5s 183ms/step - loss: 0.6970 - accuracy: 0.7567 - val_loss: 1.3318 - val_accuracy: 0.5500\n",
            "Epoch 5/16\n",
            "29/29 [==============================] - 5s 175ms/step - loss: 0.5364 - accuracy: 0.7744 - val_loss: 1.4522 - val_accuracy: 0.4900\n",
            "Epoch 6/16\n",
            "29/29 [==============================] - 6s 190ms/step - loss: 0.3666 - accuracy: 0.8611 - val_loss: 1.5344 - val_accuracy: 0.5800\n",
            "Epoch 7/16\n",
            "29/29 [==============================] - 5s 171ms/step - loss: 0.2911 - accuracy: 0.8911 - val_loss: 1.7690 - val_accuracy: 0.4400\n",
            "Epoch 8/16\n",
            "29/29 [==============================] - 5s 177ms/step - loss: 0.2565 - accuracy: 0.9133 - val_loss: 1.8277 - val_accuracy: 0.5600\n",
            "Epoch 9/16\n",
            "29/29 [==============================] - 5s 179ms/step - loss: 0.2065 - accuracy: 0.9489 - val_loss: 2.0226 - val_accuracy: 0.4000\n",
            "Epoch 10/16\n",
            "29/29 [==============================] - 5s 177ms/step - loss: 0.1539 - accuracy: 0.9722 - val_loss: 1.9949 - val_accuracy: 0.5400\n",
            "Epoch 11/16\n",
            "29/29 [==============================] - 5s 177ms/step - loss: 0.1143 - accuracy: 0.9756 - val_loss: 2.1813 - val_accuracy: 0.5400\n",
            "Epoch 12/16\n",
            "29/29 [==============================] - 5s 179ms/step - loss: 0.0857 - accuracy: 0.9811 - val_loss: 2.0677 - val_accuracy: 0.4500\n",
            "Epoch 13/16\n",
            "29/29 [==============================] - 5s 172ms/step - loss: 0.0863 - accuracy: 0.9767 - val_loss: 2.0442 - val_accuracy: 0.5400\n",
            "Epoch 14/16\n",
            "29/29 [==============================] - 5s 180ms/step - loss: 0.0589 - accuracy: 0.9889 - val_loss: 1.9571 - val_accuracy: 0.5600\n",
            "Epoch 15/16\n",
            "29/29 [==============================] - 5s 176ms/step - loss: 0.0426 - accuracy: 0.9911 - val_loss: 2.2131 - val_accuracy: 0.4700\n",
            "Epoch 16/16\n",
            "29/29 [==============================] - 5s 173ms/step - loss: 0.0355 - accuracy: 0.9933 - val_loss: 1.9973 - val_accuracy: 0.5800\n"
          ]
        },
        {
          "metadata": {
            "tags": null
          },
          "name": "stderr",
          "output_type": "stream",
          "text": [
            "/usr/local/lib/python3.10/dist-packages/keras/src/engine/training.py:3079: UserWarning: You are saving your model as an HDF5 file via `model.save()`. This file format is considered legacy. We recommend using instead the native Keras format, e.g. `model.save('my_model.keras')`.\n",
            "  saving_api.save_model(\n"
          ]
        },
        {
          "metadata": {
            "tags": null
          },
          "name": "stdout",
          "output_type": "stream",
          "text": [
            "Epoch 1/16\n",
            "29/29 [==============================] - 12s 237ms/step - loss: 1.7541 - accuracy: 0.3589 - val_loss: 1.5133 - val_accuracy: 0.4000\n",
            "Epoch 2/16\n",
            "29/29 [==============================] - 5s 184ms/step - loss: 1.5223 - accuracy: 0.3533 - val_loss: 1.4725 - val_accuracy: 0.4200\n",
            "Epoch 3/16\n",
            "29/29 [==============================] - 6s 199ms/step - loss: 1.2053 - accuracy: 0.5200 - val_loss: 1.4219 - val_accuracy: 0.4900\n",
            "Epoch 4/16\n",
            "29/29 [==============================] - 5s 182ms/step - loss: 0.7201 - accuracy: 0.7378 - val_loss: 1.6243 - val_accuracy: 0.4600\n",
            "Epoch 5/16\n",
            "29/29 [==============================] - 5s 174ms/step - loss: 0.4326 - accuracy: 0.8822 - val_loss: 2.1466 - val_accuracy: 0.4200\n",
            "Epoch 6/16\n",
            "29/29 [==============================] - 5s 174ms/step - loss: 0.3083 - accuracy: 0.9233 - val_loss: 2.1243 - val_accuracy: 0.4600\n",
            "Epoch 7/16\n",
            "29/29 [==============================] - 5s 184ms/step - loss: 0.2099 - accuracy: 0.9444 - val_loss: 2.2056 - val_accuracy: 0.4800\n",
            "Epoch 8/16\n",
            "29/29 [==============================] - 5s 174ms/step - loss: 0.2024 - accuracy: 0.9444 - val_loss: 2.1891 - val_accuracy: 0.4500\n",
            "Epoch 9/16\n",
            "29/29 [==============================] - 5s 186ms/step - loss: 0.1593 - accuracy: 0.9578 - val_loss: 2.3127 - val_accuracy: 0.4200\n",
            "Epoch 10/16\n",
            "29/29 [==============================] - 5s 183ms/step - loss: 0.1381 - accuracy: 0.9600 - val_loss: 2.4719 - val_accuracy: 0.4700\n",
            "Epoch 11/16\n",
            "29/29 [==============================] - 5s 184ms/step - loss: 0.1453 - accuracy: 0.9633 - val_loss: 2.3460 - val_accuracy: 0.4100\n",
            "Epoch 12/16\n",
            "29/29 [==============================] - 6s 192ms/step - loss: 0.1396 - accuracy: 0.9622 - val_loss: 2.4106 - val_accuracy: 0.4500\n",
            "Epoch 13/16\n",
            "29/29 [==============================] - 5s 177ms/step - loss: 0.1315 - accuracy: 0.9678 - val_loss: 2.5381 - val_accuracy: 0.4600\n",
            "Epoch 14/16\n",
            "29/29 [==============================] - 5s 181ms/step - loss: 0.1157 - accuracy: 0.9689 - val_loss: 2.5345 - val_accuracy: 0.4300\n",
            "Epoch 15/16\n",
            "29/29 [==============================] - 5s 182ms/step - loss: 0.1081 - accuracy: 0.9789 - val_loss: 2.7156 - val_accuracy: 0.4200\n",
            "Epoch 16/16\n",
            "29/29 [==============================] - 5s 180ms/step - loss: 0.0805 - accuracy: 0.9856 - val_loss: 2.6581 - val_accuracy: 0.4400\n"
          ]
        },
        {
          "metadata": {
            "tags": null
          },
          "name": "stderr",
          "output_type": "stream",
          "text": [
            "/usr/local/lib/python3.10/dist-packages/keras/src/engine/training.py:3079: UserWarning: You are saving your model as an HDF5 file via `model.save()`. This file format is considered legacy. We recommend using instead the native Keras format, e.g. `model.save('my_model.keras')`.\n",
            "  saving_api.save_model(\n"
          ]
        },
        {
          "metadata": {
            "tags": null
          },
          "name": "stdout",
          "output_type": "stream",
          "text": [
            "Epoch 1/16\n",
            "29/29 [==============================] - 11s 218ms/step - loss: 1.6950 - accuracy: 0.3144 - val_loss: 1.4969 - val_accuracy: 0.3800\n",
            "Epoch 2/16\n",
            "29/29 [==============================] - 5s 188ms/step - loss: 1.4385 - accuracy: 0.3511 - val_loss: 1.4910 - val_accuracy: 0.2700\n",
            "Epoch 3/16\n",
            "29/29 [==============================] - 5s 174ms/step - loss: 1.3777 - accuracy: 0.3622 - val_loss: 1.4199 - val_accuracy: 0.2900\n",
            "Epoch 4/16\n",
            "29/29 [==============================] - 5s 173ms/step - loss: 1.1637 - accuracy: 0.5333 - val_loss: 1.3982 - val_accuracy: 0.4400\n",
            "Epoch 5/16\n",
            "29/29 [==============================] - 5s 181ms/step - loss: 0.8692 - accuracy: 0.7022 - val_loss: 1.3808 - val_accuracy: 0.4400\n",
            "Epoch 6/16\n",
            "29/29 [==============================] - 5s 178ms/step - loss: 0.6640 - accuracy: 0.7789 - val_loss: 1.4196 - val_accuracy: 0.4900\n",
            "Epoch 7/16\n",
            "29/29 [==============================] - 5s 179ms/step - loss: 0.5093 - accuracy: 0.8422 - val_loss: 1.4937 - val_accuracy: 0.4900\n",
            "Epoch 8/16\n",
            "29/29 [==============================] - 5s 175ms/step - loss: 0.3509 - accuracy: 0.8922 - val_loss: 1.6828 - val_accuracy: 0.4000\n",
            "Epoch 9/16\n",
            "29/29 [==============================] - 5s 173ms/step - loss: 0.2648 - accuracy: 0.9156 - val_loss: 1.9094 - val_accuracy: 0.4400\n",
            "Epoch 10/16\n",
            "29/29 [==============================] - 5s 180ms/step - loss: 0.2471 - accuracy: 0.9244 - val_loss: 1.9302 - val_accuracy: 0.4000\n",
            "Epoch 11/16\n",
            "29/29 [==============================] - 5s 177ms/step - loss: 0.1789 - accuracy: 0.9556 - val_loss: 1.8272 - val_accuracy: 0.4800\n",
            "Epoch 12/16\n",
            "29/29 [==============================] - 5s 173ms/step - loss: 0.1321 - accuracy: 0.9644 - val_loss: 1.9531 - val_accuracy: 0.4500\n",
            "Epoch 13/16\n",
            "29/29 [==============================] - 5s 188ms/step - loss: 0.1277 - accuracy: 0.9622 - val_loss: 1.9331 - val_accuracy: 0.4600\n",
            "Epoch 14/16\n",
            "29/29 [==============================] - 6s 193ms/step - loss: 0.1054 - accuracy: 0.9711 - val_loss: 1.8602 - val_accuracy: 0.5100\n",
            "Epoch 15/16\n",
            "29/29 [==============================] - 5s 184ms/step - loss: 0.0940 - accuracy: 0.9722 - val_loss: 2.1299 - val_accuracy: 0.4400\n",
            "Epoch 16/16\n",
            "29/29 [==============================] - 5s 182ms/step - loss: 0.0822 - accuracy: 0.9844 - val_loss: 2.0626 - val_accuracy: 0.4700\n"
          ]
        },
        {
          "metadata": {
            "tags": null
          },
          "name": "stderr",
          "output_type": "stream",
          "text": [
            "/usr/local/lib/python3.10/dist-packages/keras/src/engine/training.py:3079: UserWarning: You are saving your model as an HDF5 file via `model.save()`. This file format is considered legacy. We recommend using instead the native Keras format, e.g. `model.save('my_model.keras')`.\n",
            "  saving_api.save_model(\n"
          ]
        },
        {
          "metadata": {
            "tags": null
          },
          "name": "stdout",
          "output_type": "stream",
          "text": [
            "Epoch 1/16\n",
            "1/1 [==============================] - 5s 5s/step - loss: 1.3850 - accuracy: 0.3333 - val_loss: 1.3965 - val_accuracy: 0.0000e+00\n",
            "Epoch 2/16\n",
            "1/1 [==============================] - 0s 238ms/step - loss: 1.3743 - accuracy: 0.5556 - val_loss: 1.4070 - val_accuracy: 0.0000e+00\n",
            "Epoch 3/16\n",
            "1/1 [==============================] - 0s 217ms/step - loss: 1.3629 - accuracy: 0.4444 - val_loss: 1.4187 - val_accuracy: 0.0000e+00\n",
            "Epoch 4/16\n",
            "1/1 [==============================] - 0s 212ms/step - loss: 1.3500 - accuracy: 0.4444 - val_loss: 1.4322 - val_accuracy: 0.0000e+00\n",
            "Epoch 5/16\n",
            "1/1 [==============================] - 0s 217ms/step - loss: 1.3349 - accuracy: 0.4444 - val_loss: 1.4478 - val_accuracy: 0.0000e+00\n",
            "Epoch 6/16\n",
            "1/1 [==============================] - 0s 226ms/step - loss: 1.3169 - accuracy: 0.4444 - val_loss: 1.4663 - val_accuracy: 0.0000e+00\n",
            "Epoch 7/16\n",
            "1/1 [==============================] - 0s 226ms/step - loss: 1.2951 - accuracy: 0.4444 - val_loss: 1.4886 - val_accuracy: 0.0000e+00\n",
            "Epoch 8/16\n",
            "1/1 [==============================] - 0s 221ms/step - loss: 1.2684 - accuracy: 0.4444 - val_loss: 1.5161 - val_accuracy: 0.0000e+00\n",
            "Epoch 9/16\n",
            "1/1 [==============================] - 0s 208ms/step - loss: 1.2353 - accuracy: 0.4444 - val_loss: 1.5508 - val_accuracy: 0.0000e+00\n",
            "Epoch 10/16\n",
            "1/1 [==============================] - 0s 206ms/step - loss: 1.1942 - accuracy: 0.4444 - val_loss: 1.5963 - val_accuracy: 0.0000e+00\n",
            "Epoch 11/16\n",
            "1/1 [==============================] - 0s 205ms/step - loss: 1.1432 - accuracy: 0.5556 - val_loss: 1.6584 - val_accuracy: 0.0000e+00\n",
            "Epoch 12/16\n",
            "1/1 [==============================] - 0s 222ms/step - loss: 1.0808 - accuracy: 0.6667 - val_loss: 1.7479 - val_accuracy: 0.0000e+00\n",
            "Epoch 13/16\n",
            "1/1 [==============================] - 0s 208ms/step - loss: 1.0079 - accuracy: 0.6667 - val_loss: 1.8835 - val_accuracy: 0.0000e+00\n",
            "Epoch 14/16\n",
            "1/1 [==============================] - 0s 216ms/step - loss: 0.9301 - accuracy: 0.6667 - val_loss: 2.0938 - val_accuracy: 0.0000e+00\n",
            "Epoch 15/16\n",
            "1/1 [==============================] - 0s 216ms/step - loss: 0.8578 - accuracy: 0.6667 - val_loss: 2.3997 - val_accuracy: 0.0000e+00\n",
            "Epoch 16/16\n",
            "1/1 [==============================] - 0s 202ms/step - loss: 0.7977 - accuracy: 0.7778 - val_loss: 2.7840 - val_accuracy: 0.0000e+00\n"
          ]
        },
        {
          "metadata": {
            "tags": null
          },
          "name": "stderr",
          "output_type": "stream",
          "text": [
            "/usr/local/lib/python3.10/dist-packages/keras/src/engine/training.py:3079: UserWarning: You are saving your model as an HDF5 file via `model.save()`. This file format is considered legacy. We recommend using instead the native Keras format, e.g. `model.save('my_model.keras')`.\n",
            "  saving_api.save_model(\n"
          ]
        },
        {
          "metadata": {
            "tags": null
          },
          "name": "stdout",
          "output_type": "stream",
          "text": [
            "Epoch 1/16\n"
          ]
        },
        {
          "metadata": {
            "tags": null
          },
          "name": "stderr",
          "output_type": "stream",
          "text": [
            "/usr/local/lib/python3.10/dist-packages/tensorflow/python/util/dispatch.py:1260: SyntaxWarning: In loss categorical_crossentropy, expected y_pred.shape to be (batch_size, num_classes) with num_classes > 1. Received: y_pred.shape=(None, 1). Consider using 'binary_crossentropy' if you only have 2 classes.\n",
            "  return dispatch_target(*args, **kwargs)\n"
          ]
        },
        {
          "metadata": {
            "tags": null
          },
          "name": "stdout",
          "output_type": "stream",
          "text": [
            "1/1 [==============================] - 5s 5s/step - loss: 0.0000e+00 - accuracy: 1.0000 - val_loss: 0.0000e+00 - val_accuracy: 1.0000\n",
            "Epoch 2/16\n",
            "1/1 [==============================] - 0s 240ms/step - loss: 0.0000e+00 - accuracy: 1.0000 - val_loss: 0.0000e+00 - val_accuracy: 1.0000\n",
            "Epoch 3/16\n",
            "1/1 [==============================] - 0s 216ms/step - loss: 0.0000e+00 - accuracy: 1.0000 - val_loss: 0.0000e+00 - val_accuracy: 1.0000\n",
            "Epoch 4/16\n",
            "1/1 [==============================] - 0s 209ms/step - loss: 0.0000e+00 - accuracy: 1.0000 - val_loss: 0.0000e+00 - val_accuracy: 1.0000\n",
            "Epoch 5/16\n",
            "1/1 [==============================] - 0s 205ms/step - loss: 0.0000e+00 - accuracy: 1.0000 - val_loss: 0.0000e+00 - val_accuracy: 1.0000\n",
            "Epoch 6/16\n",
            "1/1 [==============================] - 0s 207ms/step - loss: 0.0000e+00 - accuracy: 1.0000 - val_loss: 0.0000e+00 - val_accuracy: 1.0000\n",
            "Epoch 7/16\n",
            "1/1 [==============================] - 0s 207ms/step - loss: 0.0000e+00 - accuracy: 1.0000 - val_loss: 0.0000e+00 - val_accuracy: 1.0000\n",
            "Epoch 8/16\n",
            "1/1 [==============================] - 0s 197ms/step - loss: 0.0000e+00 - accuracy: 1.0000 - val_loss: 0.0000e+00 - val_accuracy: 1.0000\n",
            "Epoch 9/16\n",
            "1/1 [==============================] - 0s 201ms/step - loss: 0.0000e+00 - accuracy: 1.0000 - val_loss: 0.0000e+00 - val_accuracy: 1.0000\n",
            "Epoch 10/16\n",
            "1/1 [==============================] - 0s 194ms/step - loss: 0.0000e+00 - accuracy: 1.0000 - val_loss: 0.0000e+00 - val_accuracy: 1.0000\n",
            "Epoch 11/16\n",
            "1/1 [==============================] - 0s 199ms/step - loss: 0.0000e+00 - accuracy: 1.0000 - val_loss: 0.0000e+00 - val_accuracy: 1.0000\n",
            "Epoch 12/16\n",
            "1/1 [==============================] - 0s 207ms/step - loss: 0.0000e+00 - accuracy: 1.0000 - val_loss: 0.0000e+00 - val_accuracy: 1.0000\n",
            "Epoch 13/16\n",
            "1/1 [==============================] - 0s 217ms/step - loss: 0.0000e+00 - accuracy: 1.0000 - val_loss: 0.0000e+00 - val_accuracy: 1.0000\n",
            "Epoch 14/16\n",
            "1/1 [==============================] - 0s 226ms/step - loss: 0.0000e+00 - accuracy: 1.0000 - val_loss: 0.0000e+00 - val_accuracy: 1.0000\n",
            "Epoch 15/16\n",
            "1/1 [==============================] - 0s 212ms/step - loss: 0.0000e+00 - accuracy: 1.0000 - val_loss: 0.0000e+00 - val_accuracy: 1.0000\n",
            "Epoch 16/16\n",
            "1/1 [==============================] - 0s 207ms/step - loss: 0.0000e+00 - accuracy: 1.0000 - val_loss: 0.0000e+00 - val_accuracy: 1.0000\n"
          ]
        },
        {
          "metadata": {
            "tags": null
          },
          "name": "stderr",
          "output_type": "stream",
          "text": [
            "/usr/local/lib/python3.10/dist-packages/keras/src/engine/training.py:3079: UserWarning: You are saving your model as an HDF5 file via `model.save()`. This file format is considered legacy. We recommend using instead the native Keras format, e.g. `model.save('my_model.keras')`.\n",
            "  saving_api.save_model(\n"
          ]
        },
        {
          "metadata": {
            "tags": null
          },
          "name": "stdout",
          "output_type": "stream",
          "text": [
            "Epoch 1/16\n",
            "15/15 [==============================] - 7s 235ms/step - loss: 1.8332 - accuracy: 0.4947 - val_loss: 1.5060 - val_accuracy: 0.5283\n",
            "Epoch 2/16\n",
            "15/15 [==============================] - 3s 180ms/step - loss: 1.4392 - accuracy: 0.5180 - val_loss: 1.3848 - val_accuracy: 0.5283\n",
            "Epoch 3/16\n",
            "15/15 [==============================] - 3s 181ms/step - loss: 1.3615 - accuracy: 0.5180 - val_loss: 1.3477 - val_accuracy: 0.5283\n",
            "Epoch 4/16\n",
            "15/15 [==============================] - 3s 188ms/step - loss: 1.2385 - accuracy: 0.5518 - val_loss: 1.2808 - val_accuracy: 0.5660\n",
            "Epoch 5/16\n",
            "15/15 [==============================] - 3s 178ms/step - loss: 1.0508 - accuracy: 0.6258 - val_loss: 1.3186 - val_accuracy: 0.6038\n",
            "Epoch 6/16\n",
            "15/15 [==============================] - 3s 180ms/step - loss: 0.8596 - accuracy: 0.6892 - val_loss: 1.3817 - val_accuracy: 0.4528\n",
            "Epoch 7/16\n",
            "15/15 [==============================] - 3s 175ms/step - loss: 0.7418 - accuracy: 0.7696 - val_loss: 1.3833 - val_accuracy: 0.5283\n",
            "Epoch 8/16\n",
            "15/15 [==============================] - 3s 183ms/step - loss: 0.6296 - accuracy: 0.7970 - val_loss: 1.4999 - val_accuracy: 0.4528\n",
            "Epoch 9/16\n",
            "15/15 [==============================] - 3s 189ms/step - loss: 0.5537 - accuracy: 0.8288 - val_loss: 1.4472 - val_accuracy: 0.5660\n",
            "Epoch 10/16\n",
            "15/15 [==============================] - 3s 184ms/step - loss: 0.4469 - accuracy: 0.8541 - val_loss: 1.4819 - val_accuracy: 0.6226\n",
            "Epoch 11/16\n",
            "15/15 [==============================] - 3s 173ms/step - loss: 0.3862 - accuracy: 0.8753 - val_loss: 1.5974 - val_accuracy: 0.4528\n",
            "Epoch 12/16\n",
            "15/15 [==============================] - 3s 178ms/step - loss: 0.3541 - accuracy: 0.8901 - val_loss: 1.8239 - val_accuracy: 0.3962\n",
            "Epoch 13/16\n",
            "15/15 [==============================] - 3s 180ms/step - loss: 0.3992 - accuracy: 0.8647 - val_loss: 1.8993 - val_accuracy: 0.3396\n",
            "Epoch 14/16\n",
            "15/15 [==============================] - 3s 182ms/step - loss: 0.3533 - accuracy: 0.8837 - val_loss: 1.8965 - val_accuracy: 0.4717\n",
            "Epoch 15/16\n",
            "15/15 [==============================] - 3s 174ms/step - loss: 0.2894 - accuracy: 0.9218 - val_loss: 1.9252 - val_accuracy: 0.4151\n",
            "Epoch 16/16\n",
            "15/15 [==============================] - 3s 178ms/step - loss: 0.2473 - accuracy: 0.9366 - val_loss: 1.8507 - val_accuracy: 0.5283\n"
          ]
        },
        {
          "metadata": {
            "tags": null
          },
          "name": "stderr",
          "output_type": "stream",
          "text": [
            "/usr/local/lib/python3.10/dist-packages/keras/src/engine/training.py:3079: UserWarning: You are saving your model as an HDF5 file via `model.save()`. This file format is considered legacy. We recommend using instead the native Keras format, e.g. `model.save('my_model.keras')`.\n",
            "  saving_api.save_model(\n"
          ]
        },
        {
          "metadata": {
            "tags": null
          },
          "name": "stdout",
          "output_type": "stream",
          "text": [
            "Epoch 1/16\n",
            "29/29 [==============================] - 11s 212ms/step - loss: 1.7028 - accuracy: 0.3233 - val_loss: 1.2888 - val_accuracy: 0.3900\n",
            "Epoch 2/16\n",
            "29/29 [==============================] - 5s 177ms/step - loss: 1.4219 - accuracy: 0.3889 - val_loss: 1.2618 - val_accuracy: 0.4600\n",
            "Epoch 3/16\n",
            "29/29 [==============================] - 6s 193ms/step - loss: 1.1814 - accuracy: 0.5544 - val_loss: 1.1789 - val_accuracy: 0.5800\n",
            "Epoch 4/16\n",
            "29/29 [==============================] - 5s 173ms/step - loss: 0.8683 - accuracy: 0.6633 - val_loss: 1.2551 - val_accuracy: 0.5300\n",
            "Epoch 5/16\n",
            "29/29 [==============================] - 5s 176ms/step - loss: 0.6281 - accuracy: 0.7811 - val_loss: 1.4080 - val_accuracy: 0.5200\n",
            "Epoch 6/16\n",
            "29/29 [==============================] - 5s 177ms/step - loss: 0.4578 - accuracy: 0.8478 - val_loss: 1.5392 - val_accuracy: 0.4600\n",
            "Epoch 7/16\n",
            "29/29 [==============================] - 5s 173ms/step - loss: 0.3943 - accuracy: 0.8833 - val_loss: 1.4738 - val_accuracy: 0.5000\n",
            "Epoch 8/16\n",
            "29/29 [==============================] - 5s 176ms/step - loss: 0.3436 - accuracy: 0.8822 - val_loss: 1.6794 - val_accuracy: 0.4800\n",
            "Epoch 9/16\n",
            "29/29 [==============================] - 5s 177ms/step - loss: 0.2998 - accuracy: 0.9133 - val_loss: 1.7203 - val_accuracy: 0.5000\n",
            "Epoch 10/16\n",
            "29/29 [==============================] - 5s 181ms/step - loss: 0.2536 - accuracy: 0.9256 - val_loss: 1.5584 - val_accuracy: 0.5400\n",
            "Epoch 11/16\n",
            "29/29 [==============================] - 6s 192ms/step - loss: 0.2150 - accuracy: 0.9344 - val_loss: 1.9588 - val_accuracy: 0.4700\n",
            "Epoch 12/16\n",
            "29/29 [==============================] - 5s 176ms/step - loss: 0.1923 - accuracy: 0.9400 - val_loss: 1.8257 - val_accuracy: 0.5300\n",
            "Epoch 13/16\n",
            "29/29 [==============================] - 5s 179ms/step - loss: 0.1951 - accuracy: 0.9300 - val_loss: 1.8215 - val_accuracy: 0.5400\n",
            "Epoch 14/16\n",
            "29/29 [==============================] - 5s 174ms/step - loss: 0.2058 - accuracy: 0.9300 - val_loss: 1.6482 - val_accuracy: 0.5100\n",
            "Epoch 15/16\n",
            "29/29 [==============================] - 5s 174ms/step - loss: 0.1725 - accuracy: 0.9411 - val_loss: 1.8146 - val_accuracy: 0.5500\n",
            "Epoch 16/16\n",
            "29/29 [==============================] - 5s 179ms/step - loss: 0.1629 - accuracy: 0.9489 - val_loss: 1.7635 - val_accuracy: 0.5700\n"
          ]
        },
        {
          "metadata": {
            "tags": null
          },
          "name": "stderr",
          "output_type": "stream",
          "text": [
            "/usr/local/lib/python3.10/dist-packages/keras/src/engine/training.py:3079: UserWarning: You are saving your model as an HDF5 file via `model.save()`. This file format is considered legacy. We recommend using instead the native Keras format, e.g. `model.save('my_model.keras')`.\n",
            "  saving_api.save_model(\n"
          ]
        },
        {
          "metadata": {
            "tags": null
          },
          "name": "stdout",
          "output_type": "stream",
          "text": [
            "Epoch 1/16\n",
            "11/11 [==============================] - 7s 262ms/step - loss: 1.9025 - accuracy: 0.3218 - val_loss: 1.8165 - val_accuracy: 0.2821\n",
            "Epoch 2/16\n",
            "11/11 [==============================] - 2s 177ms/step - loss: 1.5796 - accuracy: 0.3592 - val_loss: 1.6377 - val_accuracy: 0.2821\n",
            "Epoch 3/16\n",
            "11/11 [==============================] - 2s 196ms/step - loss: 1.3676 - accuracy: 0.5144 - val_loss: 1.5993 - val_accuracy: 0.4615\n",
            "Epoch 4/16\n",
            "11/11 [==============================] - 2s 188ms/step - loss: 1.0972 - accuracy: 0.6178 - val_loss: 1.6839 - val_accuracy: 0.3846\n",
            "Epoch 5/16\n",
            "11/11 [==============================] - 2s 178ms/step - loss: 0.8616 - accuracy: 0.6868 - val_loss: 1.8872 - val_accuracy: 0.3846\n",
            "Epoch 6/16\n",
            "11/11 [==============================] - 2s 171ms/step - loss: 0.7384 - accuracy: 0.7126 - val_loss: 1.9501 - val_accuracy: 0.4103\n",
            "Epoch 7/16\n",
            "11/11 [==============================] - 2s 175ms/step - loss: 0.6020 - accuracy: 0.8161 - val_loss: 2.1245 - val_accuracy: 0.4359\n",
            "Epoch 8/16\n",
            "11/11 [==============================] - 2s 173ms/step - loss: 0.5272 - accuracy: 0.8103 - val_loss: 2.3139 - val_accuracy: 0.4615\n",
            "Epoch 9/16\n",
            "11/11 [==============================] - 2s 175ms/step - loss: 0.4519 - accuracy: 0.8247 - val_loss: 2.3077 - val_accuracy: 0.4615\n",
            "Epoch 10/16\n",
            "11/11 [==============================] - 2s 186ms/step - loss: 0.4012 - accuracy: 0.8707 - val_loss: 2.5574 - val_accuracy: 0.3077\n",
            "Epoch 11/16\n",
            "11/11 [==============================] - 2s 197ms/step - loss: 0.3544 - accuracy: 0.9138 - val_loss: 2.3678 - val_accuracy: 0.3846\n",
            "Epoch 12/16\n",
            "11/11 [==============================] - 2s 187ms/step - loss: 0.3270 - accuracy: 0.9368 - val_loss: 2.4924 - val_accuracy: 0.4103\n",
            "Epoch 13/16\n",
            "11/11 [==============================] - 2s 185ms/step - loss: 0.2812 - accuracy: 0.9282 - val_loss: 2.7053 - val_accuracy: 0.4103\n",
            "Epoch 14/16\n",
            "11/11 [==============================] - 2s 185ms/step - loss: 0.2335 - accuracy: 0.9425 - val_loss: 2.6747 - val_accuracy: 0.3333\n",
            "Epoch 15/16\n",
            "11/11 [==============================] - 2s 182ms/step - loss: 0.2099 - accuracy: 0.9425 - val_loss: 2.6029 - val_accuracy: 0.4103\n",
            "Epoch 16/16\n",
            "11/11 [==============================] - 2s 182ms/step - loss: 0.1849 - accuracy: 0.9569 - val_loss: 2.6520 - val_accuracy: 0.3846\n"
          ]
        },
        {
          "metadata": {
            "tags": null
          },
          "name": "stderr",
          "output_type": "stream",
          "text": [
            "/usr/local/lib/python3.10/dist-packages/keras/src/engine/training.py:3079: UserWarning: You are saving your model as an HDF5 file via `model.save()`. This file format is considered legacy. We recommend using instead the native Keras format, e.g. `model.save('my_model.keras')`.\n",
            "  saving_api.save_model(\n"
          ]
        },
        {
          "metadata": {
            "tags": null
          },
          "name": "stdout",
          "output_type": "stream",
          "text": [
            "Epoch 1/16\n",
            "1/1 [==============================] - 5s 5s/step - loss: 1.6110 - accuracy: 0.0556 - val_loss: 1.6057 - val_accuracy: 0.0000e+00\n",
            "Epoch 2/16\n",
            "1/1 [==============================] - 0s 233ms/step - loss: 1.5994 - accuracy: 0.7222 - val_loss: 1.5964 - val_accuracy: 0.0000e+00\n",
            "Epoch 3/16\n",
            "1/1 [==============================] - 0s 244ms/step - loss: 1.5877 - accuracy: 0.7222 - val_loss: 1.5860 - val_accuracy: 0.0000e+00\n",
            "Epoch 4/16\n",
            "1/1 [==============================] - 0s 220ms/step - loss: 1.5749 - accuracy: 0.6667 - val_loss: 1.5739 - val_accuracy: 0.5000\n",
            "Epoch 5/16\n",
            "1/1 [==============================] - 0s 222ms/step - loss: 1.5603 - accuracy: 0.5556 - val_loss: 1.5595 - val_accuracy: 0.5000\n",
            "Epoch 6/16\n",
            "1/1 [==============================] - 0s 221ms/step - loss: 1.5432 - accuracy: 0.5556 - val_loss: 1.5420 - val_accuracy: 0.5000\n",
            "Epoch 7/16\n",
            "1/1 [==============================] - 0s 212ms/step - loss: 1.5228 - accuracy: 0.5556 - val_loss: 1.5207 - val_accuracy: 0.5000\n",
            "Epoch 8/16\n",
            "1/1 [==============================] - 0s 208ms/step - loss: 1.4984 - accuracy: 0.5556 - val_loss: 1.4944 - val_accuracy: 0.5000\n",
            "Epoch 9/16\n",
            "1/1 [==============================] - 0s 218ms/step - loss: 1.4689 - accuracy: 0.5556 - val_loss: 1.4617 - val_accuracy: 0.5000\n",
            "Epoch 10/16\n",
            "1/1 [==============================] - 0s 220ms/step - loss: 1.4328 - accuracy: 0.5000 - val_loss: 1.4210 - val_accuracy: 0.5000\n",
            "Epoch 11/16\n",
            "1/1 [==============================] - 0s 234ms/step - loss: 1.3886 - accuracy: 0.5000 - val_loss: 1.3705 - val_accuracy: 0.5000\n",
            "Epoch 12/16\n",
            "1/1 [==============================] - 0s 242ms/step - loss: 1.3345 - accuracy: 0.5000 - val_loss: 1.3091 - val_accuracy: 0.5000\n",
            "Epoch 13/16\n",
            "1/1 [==============================] - 0s 253ms/step - loss: 1.2695 - accuracy: 0.5000 - val_loss: 1.2372 - val_accuracy: 0.5000\n",
            "Epoch 14/16\n",
            "1/1 [==============================] - 0s 227ms/step - loss: 1.1945 - accuracy: 0.5000 - val_loss: 1.1589 - val_accuracy: 0.5000\n",
            "Epoch 15/16\n",
            "1/1 [==============================] - 0s 220ms/step - loss: 1.1145 - accuracy: 0.5556 - val_loss: 1.0814 - val_accuracy: 0.5000\n",
            "Epoch 16/16\n",
            "1/1 [==============================] - 0s 217ms/step - loss: 1.0400 - accuracy: 0.5556 - val_loss: 1.0152 - val_accuracy: 0.5000\n"
          ]
        },
        {
          "metadata": {
            "tags": null
          },
          "name": "stderr",
          "output_type": "stream",
          "text": [
            "/usr/local/lib/python3.10/dist-packages/keras/src/engine/training.py:3079: UserWarning: You are saving your model as an HDF5 file via `model.save()`. This file format is considered legacy. We recommend using instead the native Keras format, e.g. `model.save('my_model.keras')`.\n",
            "  saving_api.save_model(\n"
          ]
        },
        {
          "metadata": {
            "tags": null
          },
          "name": "stdout",
          "output_type": "stream",
          "text": [
            "Epoch 1/16\n",
            "29/29 [==============================] - 12s 219ms/step - loss: 1.7345 - accuracy: 0.3444 - val_loss: 1.4938 - val_accuracy: 0.3800\n",
            "Epoch 2/16\n",
            "29/29 [==============================] - 5s 175ms/step - loss: 1.4219 - accuracy: 0.4644 - val_loss: 1.3590 - val_accuracy: 0.4900\n",
            "Epoch 3/16\n",
            "29/29 [==============================] - 5s 177ms/step - loss: 1.1592 - accuracy: 0.5444 - val_loss: 1.3477 - val_accuracy: 0.4600\n",
            "Epoch 4/16\n",
            "29/29 [==============================] - 5s 176ms/step - loss: 0.9205 - accuracy: 0.6622 - val_loss: 1.4188 - val_accuracy: 0.4800\n",
            "Epoch 5/16\n",
            "29/29 [==============================] - 5s 181ms/step - loss: 0.7747 - accuracy: 0.7167 - val_loss: 1.5671 - val_accuracy: 0.5000\n",
            "Epoch 6/16\n",
            "29/29 [==============================] - 5s 180ms/step - loss: 0.6373 - accuracy: 0.7756 - val_loss: 1.6474 - val_accuracy: 0.5200\n",
            "Epoch 7/16\n",
            "29/29 [==============================] - 5s 182ms/step - loss: 0.5236 - accuracy: 0.8311 - val_loss: 1.7637 - val_accuracy: 0.4400\n",
            "Epoch 8/16\n",
            "29/29 [==============================] - 5s 185ms/step - loss: 0.4260 - accuracy: 0.8789 - val_loss: 1.9623 - val_accuracy: 0.5100\n",
            "Epoch 9/16\n",
            "29/29 [==============================] - 5s 188ms/step - loss: 0.2995 - accuracy: 0.9089 - val_loss: 1.9413 - val_accuracy: 0.5000\n",
            "Epoch 10/16\n",
            "29/29 [==============================] - 5s 178ms/step - loss: 0.2369 - accuracy: 0.9256 - val_loss: 1.9601 - val_accuracy: 0.5300\n",
            "Epoch 11/16\n",
            "29/29 [==============================] - 5s 179ms/step - loss: 0.1886 - accuracy: 0.9433 - val_loss: 2.1771 - val_accuracy: 0.4900\n",
            "Epoch 12/16\n",
            "29/29 [==============================] - 5s 175ms/step - loss: 0.1459 - accuracy: 0.9556 - val_loss: 2.2755 - val_accuracy: 0.4300\n",
            "Epoch 13/16\n",
            "29/29 [==============================] - 5s 184ms/step - loss: 0.1261 - accuracy: 0.9611 - val_loss: 2.3995 - val_accuracy: 0.4500\n",
            "Epoch 14/16\n",
            "29/29 [==============================] - 5s 178ms/step - loss: 0.1052 - accuracy: 0.9756 - val_loss: 2.3811 - val_accuracy: 0.4800\n",
            "Epoch 15/16\n",
            "29/29 [==============================] - 5s 176ms/step - loss: 0.0856 - accuracy: 0.9711 - val_loss: 2.5040 - val_accuracy: 0.5000\n",
            "Epoch 16/16\n",
            "29/29 [==============================] - 5s 183ms/step - loss: 0.0730 - accuracy: 0.9744 - val_loss: 2.4781 - val_accuracy: 0.4600\n"
          ]
        },
        {
          "metadata": {
            "tags": null
          },
          "name": "stderr",
          "output_type": "stream",
          "text": [
            "/usr/local/lib/python3.10/dist-packages/keras/src/engine/training.py:3079: UserWarning: You are saving your model as an HDF5 file via `model.save()`. This file format is considered legacy. We recommend using instead the native Keras format, e.g. `model.save('my_model.keras')`.\n",
            "  saving_api.save_model(\n"
          ]
        },
        {
          "metadata": {
            "tags": null
          },
          "name": "stdout",
          "output_type": "stream",
          "text": [
            "Epoch 1/16\n",
            "1/1 [==============================] - 5s 5s/step - loss: 1.6104 - accuracy: 0.2083 - val_loss: 1.6048 - val_accuracy: 0.3333\n",
            "Epoch 2/16\n",
            "1/1 [==============================] - 0s 235ms/step - loss: 1.6005 - accuracy: 0.6250 - val_loss: 1.5972 - val_accuracy: 0.6667\n",
            "Epoch 3/16\n",
            "1/1 [==============================] - 0s 220ms/step - loss: 1.5902 - accuracy: 0.5833 - val_loss: 1.5886 - val_accuracy: 0.6667\n",
            "Epoch 4/16\n",
            "1/1 [==============================] - 0s 223ms/step - loss: 1.5788 - accuracy: 0.5833 - val_loss: 1.5787 - val_accuracy: 0.6667\n",
            "Epoch 5/16\n",
            "1/1 [==============================] - 0s 210ms/step - loss: 1.5658 - accuracy: 0.5833 - val_loss: 1.5669 - val_accuracy: 0.6667\n",
            "Epoch 6/16\n",
            "1/1 [==============================] - 0s 208ms/step - loss: 1.5506 - accuracy: 0.5833 - val_loss: 1.5529 - val_accuracy: 0.6667\n",
            "Epoch 7/16\n",
            "1/1 [==============================] - 0s 210ms/step - loss: 1.5327 - accuracy: 0.5000 - val_loss: 1.5359 - val_accuracy: 0.6667\n",
            "Epoch 8/16\n",
            "1/1 [==============================] - 0s 209ms/step - loss: 1.5113 - accuracy: 0.4583 - val_loss: 1.5152 - val_accuracy: 0.6667\n",
            "Epoch 9/16\n",
            "1/1 [==============================] - 0s 215ms/step - loss: 1.4856 - accuracy: 0.4583 - val_loss: 1.4897 - val_accuracy: 0.6667\n",
            "Epoch 10/16\n",
            "1/1 [==============================] - 0s 207ms/step - loss: 1.4546 - accuracy: 0.4583 - val_loss: 1.4580 - val_accuracy: 0.6667\n",
            "Epoch 11/16\n",
            "1/1 [==============================] - 0s 218ms/step - loss: 1.4168 - accuracy: 0.4583 - val_loss: 1.4179 - val_accuracy: 0.6667\n",
            "Epoch 12/16\n",
            "1/1 [==============================] - 0s 209ms/step - loss: 1.3706 - accuracy: 0.4583 - val_loss: 1.3672 - val_accuracy: 0.6667\n",
            "Epoch 13/16\n",
            "1/1 [==============================] - 0s 231ms/step - loss: 1.3145 - accuracy: 0.4583 - val_loss: 1.3030 - val_accuracy: 0.6667\n",
            "Epoch 14/16\n",
            "1/1 [==============================] - 0s 226ms/step - loss: 1.2480 - accuracy: 0.4583 - val_loss: 1.2235 - val_accuracy: 0.6667\n",
            "Epoch 15/16\n",
            "1/1 [==============================] - 0s 241ms/step - loss: 1.1732 - accuracy: 0.5000 - val_loss: 1.1308 - val_accuracy: 0.6667\n",
            "Epoch 16/16\n",
            "1/1 [==============================] - 0s 217ms/step - loss: 1.0980 - accuracy: 0.5000 - val_loss: 1.0356 - val_accuracy: 0.6667\n"
          ]
        },
        {
          "metadata": {
            "tags": null
          },
          "name": "stderr",
          "output_type": "stream",
          "text": [
            "/usr/local/lib/python3.10/dist-packages/keras/src/engine/training.py:3079: UserWarning: You are saving your model as an HDF5 file via `model.save()`. This file format is considered legacy. We recommend using instead the native Keras format, e.g. `model.save('my_model.keras')`.\n",
            "  saving_api.save_model(\n"
          ]
        },
        {
          "metadata": {
            "tags": null
          },
          "name": "stdout",
          "output_type": "stream",
          "text": [
            "Epoch 1/16\n",
            "15/15 [==============================] - 7s 229ms/step - loss: 1.8884 - accuracy: 0.3709 - val_loss: 1.6442 - val_accuracy: 0.4423\n",
            "Epoch 2/16\n",
            "15/15 [==============================] - 3s 174ms/step - loss: 1.5944 - accuracy: 0.4121 - val_loss: 1.5079 - val_accuracy: 0.4423\n",
            "Epoch 3/16\n",
            "15/15 [==============================] - 3s 183ms/step - loss: 1.5107 - accuracy: 0.4230 - val_loss: 1.4367 - val_accuracy: 0.4615\n",
            "Epoch 4/16\n",
            "15/15 [==============================] - 3s 182ms/step - loss: 1.3674 - accuracy: 0.5098 - val_loss: 1.3901 - val_accuracy: 0.4808\n",
            "Epoch 5/16\n",
            "15/15 [==============================] - 3s 174ms/step - loss: 1.1701 - accuracy: 0.5987 - val_loss: 1.2957 - val_accuracy: 0.5000\n",
            "Epoch 6/16\n",
            "15/15 [==============================] - 3s 172ms/step - loss: 0.9567 - accuracy: 0.6746 - val_loss: 1.3266 - val_accuracy: 0.4615\n",
            "Epoch 7/16\n",
            "15/15 [==============================] - 3s 180ms/step - loss: 0.8232 - accuracy: 0.7440 - val_loss: 1.2845 - val_accuracy: 0.4808\n",
            "Epoch 8/16\n",
            "15/15 [==============================] - 3s 177ms/step - loss: 0.6580 - accuracy: 0.8048 - val_loss: 1.2954 - val_accuracy: 0.5000\n",
            "Epoch 9/16\n",
            "15/15 [==============================] - 3s 180ms/step - loss: 0.5475 - accuracy: 0.8438 - val_loss: 1.2705 - val_accuracy: 0.5769\n",
            "Epoch 10/16\n",
            "15/15 [==============================] - 3s 172ms/step - loss: 0.4137 - accuracy: 0.8980 - val_loss: 1.2488 - val_accuracy: 0.6154\n",
            "Epoch 11/16\n",
            "15/15 [==============================] - 3s 190ms/step - loss: 0.3215 - accuracy: 0.9219 - val_loss: 1.4122 - val_accuracy: 0.5192\n",
            "Epoch 12/16\n",
            "15/15 [==============================] - 3s 180ms/step - loss: 0.2661 - accuracy: 0.9349 - val_loss: 1.5278 - val_accuracy: 0.5192\n",
            "Epoch 13/16\n",
            "15/15 [==============================] - 3s 181ms/step - loss: 0.2502 - accuracy: 0.9458 - val_loss: 1.5441 - val_accuracy: 0.5192\n",
            "Epoch 14/16\n",
            "15/15 [==============================] - 3s 183ms/step - loss: 0.1944 - accuracy: 0.9631 - val_loss: 1.6899 - val_accuracy: 0.4615\n",
            "Epoch 15/16\n",
            "15/15 [==============================] - 3s 175ms/step - loss: 0.1657 - accuracy: 0.9653 - val_loss: 1.6152 - val_accuracy: 0.5769\n",
            "Epoch 16/16\n",
            "15/15 [==============================] - 3s 188ms/step - loss: 0.2076 - accuracy: 0.9371 - val_loss: 1.7655 - val_accuracy: 0.5000\n"
          ]
        },
        {
          "metadata": {
            "tags": null
          },
          "name": "stderr",
          "output_type": "stream",
          "text": [
            "/usr/local/lib/python3.10/dist-packages/keras/src/engine/training.py:3079: UserWarning: You are saving your model as an HDF5 file via `model.save()`. This file format is considered legacy. We recommend using instead the native Keras format, e.g. `model.save('my_model.keras')`.\n",
            "  saving_api.save_model(\n"
          ]
        },
        {
          "metadata": {
            "tags": null
          },
          "name": "stdout",
          "output_type": "stream",
          "text": [
            "Epoch 1/16\n",
            "5/5 [==============================] - 7s 411ms/step - loss: 1.9330 - accuracy: 0.3259 - val_loss: 1.8918 - val_accuracy: 0.4000\n",
            "Epoch 2/16\n",
            "5/5 [==============================] - 1s 183ms/step - loss: 1.8571 - accuracy: 0.3778 - val_loss: 1.7674 - val_accuracy: 0.4000\n",
            "Epoch 3/16\n",
            "5/5 [==============================] - 1s 189ms/step - loss: 1.6782 - accuracy: 0.3704 - val_loss: 1.4969 - val_accuracy: 0.4000\n",
            "Epoch 4/16\n",
            "5/5 [==============================] - 1s 190ms/step - loss: 1.4623 - accuracy: 0.3704 - val_loss: 1.4385 - val_accuracy: 0.4000\n",
            "Epoch 5/16\n",
            "5/5 [==============================] - 1s 191ms/step - loss: 1.4715 - accuracy: 0.3704 - val_loss: 1.4471 - val_accuracy: 0.4000\n",
            "Epoch 6/16\n",
            "5/5 [==============================] - 1s 184ms/step - loss: 1.4361 - accuracy: 0.3630 - val_loss: 1.4516 - val_accuracy: 0.3333\n",
            "Epoch 7/16\n",
            "5/5 [==============================] - 1s 181ms/step - loss: 1.3930 - accuracy: 0.4296 - val_loss: 1.4624 - val_accuracy: 0.1333\n",
            "Epoch 8/16\n",
            "5/5 [==============================] - 1s 202ms/step - loss: 1.3663 - accuracy: 0.5556 - val_loss: 1.4655 - val_accuracy: 0.2667\n",
            "Epoch 9/16\n",
            "5/5 [==============================] - 1s 184ms/step - loss: 1.3170 - accuracy: 0.6000 - val_loss: 1.4535 - val_accuracy: 0.4667\n",
            "Epoch 10/16\n",
            "5/5 [==============================] - 1s 175ms/step - loss: 1.2415 - accuracy: 0.4593 - val_loss: 1.4550 - val_accuracy: 0.4000\n",
            "Epoch 11/16\n",
            "5/5 [==============================] - 1s 181ms/step - loss: 1.1828 - accuracy: 0.4444 - val_loss: 1.4630 - val_accuracy: 0.4000\n",
            "Epoch 12/16\n",
            "5/5 [==============================] - 1s 183ms/step - loss: 1.1098 - accuracy: 0.5556 - val_loss: 1.4625 - val_accuracy: 0.3333\n",
            "Epoch 13/16\n",
            "5/5 [==============================] - 1s 185ms/step - loss: 0.9959 - accuracy: 0.7259 - val_loss: 1.4506 - val_accuracy: 0.4000\n",
            "Epoch 14/16\n",
            "5/5 [==============================] - 1s 191ms/step - loss: 0.8982 - accuracy: 0.7333 - val_loss: 1.4736 - val_accuracy: 0.4000\n",
            "Epoch 15/16\n",
            "5/5 [==============================] - 1s 190ms/step - loss: 0.7467 - accuracy: 0.7778 - val_loss: 1.6267 - val_accuracy: 0.2667\n",
            "Epoch 16/16\n",
            "5/5 [==============================] - 1s 186ms/step - loss: 0.7518 - accuracy: 0.8222 - val_loss: 1.5980 - val_accuracy: 0.3333\n"
          ]
        },
        {
          "metadata": {
            "tags": null
          },
          "name": "stderr",
          "output_type": "stream",
          "text": [
            "/usr/local/lib/python3.10/dist-packages/keras/src/engine/training.py:3079: UserWarning: You are saving your model as an HDF5 file via `model.save()`. This file format is considered legacy. We recommend using instead the native Keras format, e.g. `model.save('my_model.keras')`.\n",
            "  saving_api.save_model(\n"
          ]
        },
        {
          "metadata": {
            "tags": null
          },
          "name": "stdout",
          "output_type": "stream",
          "text": [
            "Epoch 1/16\n",
            "29/29 [==============================] - 10s 211ms/step - loss: 1.6898 - accuracy: 0.4189 - val_loss: 1.5591 - val_accuracy: 0.3700\n",
            "Epoch 2/16\n",
            "29/29 [==============================] - 5s 178ms/step - loss: 1.4705 - accuracy: 0.4311 - val_loss: 1.5238 - val_accuracy: 0.3700\n",
            "Epoch 3/16\n",
            "29/29 [==============================] - 5s 175ms/step - loss: 1.3537 - accuracy: 0.4733 - val_loss: 1.4894 - val_accuracy: 0.4400\n",
            "Epoch 4/16\n",
            "29/29 [==============================] - 5s 180ms/step - loss: 1.1415 - accuracy: 0.5533 - val_loss: 1.5407 - val_accuracy: 0.3600\n",
            "Epoch 5/16\n",
            "29/29 [==============================] - 5s 172ms/step - loss: 0.9486 - accuracy: 0.6467 - val_loss: 1.5069 - val_accuracy: 0.4500\n",
            "Epoch 6/16\n",
            "29/29 [==============================] - 5s 175ms/step - loss: 0.7415 - accuracy: 0.7467 - val_loss: 1.5474 - val_accuracy: 0.4600\n",
            "Epoch 7/16\n",
            "29/29 [==============================] - 6s 190ms/step - loss: 0.6465 - accuracy: 0.7978 - val_loss: 1.5595 - val_accuracy: 0.4600\n",
            "Epoch 8/16\n",
            "29/29 [==============================] - 5s 180ms/step - loss: 0.4555 - accuracy: 0.8678 - val_loss: 1.6304 - val_accuracy: 0.4600\n",
            "Epoch 9/16\n",
            "29/29 [==============================] - 5s 183ms/step - loss: 0.3621 - accuracy: 0.9044 - val_loss: 1.6210 - val_accuracy: 0.4900\n",
            "Epoch 10/16\n",
            "29/29 [==============================] - 5s 186ms/step - loss: 0.3240 - accuracy: 0.9100 - val_loss: 1.7931 - val_accuracy: 0.4600\n",
            "Epoch 11/16\n",
            "29/29 [==============================] - 5s 173ms/step - loss: 0.2888 - accuracy: 0.9156 - val_loss: 1.8123 - val_accuracy: 0.4900\n",
            "Epoch 12/16\n",
            "29/29 [==============================] - 5s 180ms/step - loss: 0.2364 - accuracy: 0.9378 - val_loss: 1.8324 - val_accuracy: 0.4800\n",
            "Epoch 13/16\n",
            "29/29 [==============================] - 5s 176ms/step - loss: 0.2411 - accuracy: 0.9300 - val_loss: 1.8731 - val_accuracy: 0.5100\n",
            "Epoch 14/16\n",
            "29/29 [==============================] - 5s 177ms/step - loss: 0.2035 - accuracy: 0.9422 - val_loss: 1.9636 - val_accuracy: 0.4700\n",
            "Epoch 15/16\n",
            "29/29 [==============================] - 5s 179ms/step - loss: 0.1714 - accuracy: 0.9567 - val_loss: 2.0018 - val_accuracy: 0.5000\n",
            "Epoch 16/16\n",
            "29/29 [==============================] - 5s 181ms/step - loss: 0.1676 - accuracy: 0.9589 - val_loss: 1.9474 - val_accuracy: 0.5200\n"
          ]
        },
        {
          "metadata": {
            "tags": null
          },
          "name": "stderr",
          "output_type": "stream",
          "text": [
            "/usr/local/lib/python3.10/dist-packages/keras/src/engine/training.py:3079: UserWarning: You are saving your model as an HDF5 file via `model.save()`. This file format is considered legacy. We recommend using instead the native Keras format, e.g. `model.save('my_model.keras')`.\n",
            "  saving_api.save_model(\n"
          ]
        },
        {
          "metadata": {
            "tags": null
          },
          "name": "stdout",
          "output_type": "stream",
          "text": [
            "Epoch 1/16\n",
            "29/29 [==============================] - 11s 248ms/step - loss: 1.7213 - accuracy: 0.4067 - val_loss: 1.5412 - val_accuracy: 0.4000\n",
            "Epoch 2/16\n",
            "29/29 [==============================] - 5s 180ms/step - loss: 1.4286 - accuracy: 0.4167 - val_loss: 1.5616 - val_accuracy: 0.4200\n",
            "Epoch 3/16\n",
            "29/29 [==============================] - 5s 184ms/step - loss: 1.2678 - accuracy: 0.5356 - val_loss: 1.4585 - val_accuracy: 0.4000\n",
            "Epoch 4/16\n",
            "29/29 [==============================] - 5s 179ms/step - loss: 1.0058 - accuracy: 0.6356 - val_loss: 1.4498 - val_accuracy: 0.4900\n",
            "Epoch 5/16\n",
            "29/29 [==============================] - 5s 183ms/step - loss: 0.8441 - accuracy: 0.6944 - val_loss: 1.6526 - val_accuracy: 0.5100\n",
            "Epoch 6/16\n",
            "29/29 [==============================] - 5s 177ms/step - loss: 0.7038 - accuracy: 0.7544 - val_loss: 1.6386 - val_accuracy: 0.4700\n",
            "Epoch 7/16\n",
            "29/29 [==============================] - 5s 177ms/step - loss: 0.4988 - accuracy: 0.8411 - val_loss: 1.7992 - val_accuracy: 0.4300\n",
            "Epoch 8/16\n",
            "29/29 [==============================] - 5s 185ms/step - loss: 0.3949 - accuracy: 0.8833 - val_loss: 1.8167 - val_accuracy: 0.5300\n",
            "Epoch 9/16\n",
            "29/29 [==============================] - 5s 181ms/step - loss: 0.3078 - accuracy: 0.9122 - val_loss: 1.8325 - val_accuracy: 0.5000\n",
            "Epoch 10/16\n",
            "29/29 [==============================] - 5s 177ms/step - loss: 0.2424 - accuracy: 0.9367 - val_loss: 1.8777 - val_accuracy: 0.4700\n",
            "Epoch 11/16\n",
            "29/29 [==============================] - 5s 179ms/step - loss: 0.1674 - accuracy: 0.9556 - val_loss: 2.0435 - val_accuracy: 0.5100\n",
            "Epoch 12/16\n",
            "29/29 [==============================] - 5s 178ms/step - loss: 0.1688 - accuracy: 0.9567 - val_loss: 2.1271 - val_accuracy: 0.4600\n",
            "Epoch 13/16\n",
            "29/29 [==============================] - 5s 183ms/step - loss: 0.1372 - accuracy: 0.9656 - val_loss: 2.3733 - val_accuracy: 0.3900\n",
            "Epoch 14/16\n",
            "29/29 [==============================] - 5s 179ms/step - loss: 0.1224 - accuracy: 0.9711 - val_loss: 2.4047 - val_accuracy: 0.5000\n",
            "Epoch 15/16\n",
            "29/29 [==============================] - 5s 178ms/step - loss: 0.1248 - accuracy: 0.9678 - val_loss: 2.1831 - val_accuracy: 0.4800\n",
            "Epoch 16/16\n",
            "29/29 [==============================] - 6s 192ms/step - loss: 0.0911 - accuracy: 0.9800 - val_loss: 2.4651 - val_accuracy: 0.4500\n"
          ]
        },
        {
          "metadata": {
            "tags": null
          },
          "name": "stderr",
          "output_type": "stream",
          "text": [
            "/usr/local/lib/python3.10/dist-packages/keras/src/engine/training.py:3079: UserWarning: You are saving your model as an HDF5 file via `model.save()`. This file format is considered legacy. We recommend using instead the native Keras format, e.g. `model.save('my_model.keras')`.\n",
            "  saving_api.save_model(\n"
          ]
        },
        {
          "metadata": {
            "tags": null
          },
          "name": "stdout",
          "output_type": "stream",
          "text": [
            "Epoch 1/16\n",
            "29/29 [==============================] - 10s 218ms/step - loss: 1.6989 - accuracy: 0.4556 - val_loss: 1.3765 - val_accuracy: 0.5400\n",
            "Epoch 2/16\n",
            "29/29 [==============================] - 5s 175ms/step - loss: 1.3809 - accuracy: 0.4700 - val_loss: 1.3142 - val_accuracy: 0.5500\n",
            "Epoch 3/16\n",
            "29/29 [==============================] - 6s 195ms/step - loss: 1.1961 - accuracy: 0.5444 - val_loss: 1.2566 - val_accuracy: 0.5800\n",
            "Epoch 4/16\n",
            "29/29 [==============================] - 5s 176ms/step - loss: 0.9797 - accuracy: 0.6267 - val_loss: 1.3201 - val_accuracy: 0.5800\n",
            "Epoch 5/16\n",
            "29/29 [==============================] - 5s 177ms/step - loss: 0.8089 - accuracy: 0.7144 - val_loss: 1.5502 - val_accuracy: 0.4700\n",
            "Epoch 6/16\n",
            "29/29 [==============================] - 5s 180ms/step - loss: 0.6453 - accuracy: 0.7722 - val_loss: 1.4819 - val_accuracy: 0.5400\n",
            "Epoch 7/16\n",
            "29/29 [==============================] - 5s 171ms/step - loss: 0.5550 - accuracy: 0.8200 - val_loss: 1.6694 - val_accuracy: 0.4500\n",
            "Epoch 8/16\n",
            "29/29 [==============================] - 5s 173ms/step - loss: 0.4533 - accuracy: 0.8611 - val_loss: 1.5214 - val_accuracy: 0.5600\n",
            "Epoch 9/16\n",
            "29/29 [==============================] - 5s 176ms/step - loss: 0.3609 - accuracy: 0.8811 - val_loss: 1.5762 - val_accuracy: 0.5700\n",
            "Epoch 10/16\n",
            "29/29 [==============================] - 5s 174ms/step - loss: 0.3106 - accuracy: 0.9111 - val_loss: 1.6870 - val_accuracy: 0.5000\n",
            "Epoch 11/16\n",
            "29/29 [==============================] - 5s 178ms/step - loss: 0.2905 - accuracy: 0.9178 - val_loss: 1.6870 - val_accuracy: 0.5400\n",
            "Epoch 12/16\n",
            "29/29 [==============================] - 5s 182ms/step - loss: 0.2225 - accuracy: 0.9333 - val_loss: 1.6737 - val_accuracy: 0.5600\n",
            "Epoch 13/16\n",
            "29/29 [==============================] - 5s 178ms/step - loss: 0.2558 - accuracy: 0.9089 - val_loss: 1.6668 - val_accuracy: 0.5700\n",
            "Epoch 14/16\n",
            "29/29 [==============================] - 5s 186ms/step - loss: 0.1824 - accuracy: 0.9544 - val_loss: 1.8255 - val_accuracy: 0.5900\n",
            "Epoch 15/16\n",
            "29/29 [==============================] - 5s 176ms/step - loss: 0.1453 - accuracy: 0.9567 - val_loss: 1.8534 - val_accuracy: 0.5800\n",
            "Epoch 16/16\n",
            "29/29 [==============================] - 5s 174ms/step - loss: 0.1552 - accuracy: 0.9578 - val_loss: 1.8007 - val_accuracy: 0.6400\n"
          ]
        },
        {
          "metadata": {
            "tags": null
          },
          "name": "stderr",
          "output_type": "stream",
          "text": [
            "/usr/local/lib/python3.10/dist-packages/keras/src/engine/training.py:3079: UserWarning: You are saving your model as an HDF5 file via `model.save()`. This file format is considered legacy. We recommend using instead the native Keras format, e.g. `model.save('my_model.keras')`.\n",
            "  saving_api.save_model(\n"
          ]
        },
        {
          "metadata": {
            "tags": null
          },
          "name": "stdout",
          "output_type": "stream",
          "text": [
            "Epoch 1/16\n",
            "1/1 [==============================] - 5s 5s/step - loss: 1.6109 - accuracy: 0.0588 - val_loss: 1.6077 - val_accuracy: 0.0000e+00\n",
            "Epoch 2/16\n",
            "1/1 [==============================] - 0s 204ms/step - loss: 1.6026 - accuracy: 0.6471 - val_loss: 1.6108 - val_accuracy: 0.0000e+00\n",
            "Epoch 3/16\n",
            "1/1 [==============================] - 0s 212ms/step - loss: 1.5942 - accuracy: 0.7059 - val_loss: 1.6140 - val_accuracy: 0.0000e+00\n",
            "Epoch 4/16\n",
            "1/1 [==============================] - 0s 215ms/step - loss: 1.5852 - accuracy: 0.7059 - val_loss: 1.6175 - val_accuracy: 0.0000e+00\n",
            "Epoch 5/16\n",
            "1/1 [==============================] - 0s 259ms/step - loss: 1.5752 - accuracy: 0.7059 - val_loss: 1.6213 - val_accuracy: 0.0000e+00\n",
            "Epoch 6/16\n",
            "1/1 [==============================] - 0s 234ms/step - loss: 1.5638 - accuracy: 0.7059 - val_loss: 1.6256 - val_accuracy: 0.0000e+00\n",
            "Epoch 7/16\n",
            "1/1 [==============================] - 0s 231ms/step - loss: 1.5507 - accuracy: 0.7059 - val_loss: 1.6306 - val_accuracy: 0.0000e+00\n",
            "Epoch 8/16\n",
            "1/1 [==============================] - 0s 227ms/step - loss: 1.5354 - accuracy: 0.7059 - val_loss: 1.6364 - val_accuracy: 0.0000e+00\n",
            "Epoch 9/16\n",
            "1/1 [==============================] - 0s 222ms/step - loss: 1.5175 - accuracy: 0.7059 - val_loss: 1.6433 - val_accuracy: 0.0000e+00\n",
            "Epoch 10/16\n",
            "1/1 [==============================] - 0s 245ms/step - loss: 1.4964 - accuracy: 0.7059 - val_loss: 1.6517 - val_accuracy: 0.0000e+00\n",
            "Epoch 11/16\n",
            "1/1 [==============================] - 0s 229ms/step - loss: 1.4713 - accuracy: 0.7059 - val_loss: 1.6619 - val_accuracy: 0.0000e+00\n",
            "Epoch 12/16\n",
            "1/1 [==============================] - 0s 238ms/step - loss: 1.4414 - accuracy: 0.7059 - val_loss: 1.6747 - val_accuracy: 0.0000e+00\n",
            "Epoch 13/16\n",
            "1/1 [==============================] - 0s 239ms/step - loss: 1.4056 - accuracy: 0.7059 - val_loss: 1.6911 - val_accuracy: 0.0000e+00\n",
            "Epoch 14/16\n",
            "1/1 [==============================] - 0s 267ms/step - loss: 1.3624 - accuracy: 0.7059 - val_loss: 1.7126 - val_accuracy: 0.0000e+00\n",
            "Epoch 15/16\n",
            "1/1 [==============================] - 0s 240ms/step - loss: 1.3106 - accuracy: 0.7059 - val_loss: 1.7420 - val_accuracy: 0.0000e+00\n",
            "Epoch 16/16\n",
            "1/1 [==============================] - 0s 242ms/step - loss: 1.2492 - accuracy: 0.7059 - val_loss: 1.7837 - val_accuracy: 0.0000e+00\n"
          ]
        },
        {
          "metadata": {
            "tags": null
          },
          "name": "stderr",
          "output_type": "stream",
          "text": [
            "/usr/local/lib/python3.10/dist-packages/keras/src/engine/training.py:3079: UserWarning: You are saving your model as an HDF5 file via `model.save()`. This file format is considered legacy. We recommend using instead the native Keras format, e.g. `model.save('my_model.keras')`.\n",
            "  saving_api.save_model(\n"
          ]
        },
        {
          "metadata": {
            "tags": null
          },
          "name": "stdout",
          "output_type": "stream",
          "text": [
            "Epoch 1/16\n",
            "29/29 [==============================] - 12s 230ms/step - loss: 1.6978 - accuracy: 0.2944 - val_loss: 1.4716 - val_accuracy: 0.4200\n",
            "Epoch 2/16\n",
            "29/29 [==============================] - 5s 177ms/step - loss: 1.5085 - accuracy: 0.3478 - val_loss: 1.4651 - val_accuracy: 0.4400\n",
            "Epoch 3/16\n",
            "29/29 [==============================] - 5s 175ms/step - loss: 1.3913 - accuracy: 0.4344 - val_loss: 1.3428 - val_accuracy: 0.4700\n",
            "Epoch 4/16\n",
            "29/29 [==============================] - 5s 182ms/step - loss: 1.2238 - accuracy: 0.4922 - val_loss: 1.3758 - val_accuracy: 0.5000\n",
            "Epoch 5/16\n",
            "29/29 [==============================] - 5s 176ms/step - loss: 1.1296 - accuracy: 0.5122 - val_loss: 1.4007 - val_accuracy: 0.5300\n",
            "Epoch 6/16\n",
            "29/29 [==============================] - 5s 179ms/step - loss: 1.0314 - accuracy: 0.5800 - val_loss: 1.3130 - val_accuracy: 0.5000\n",
            "Epoch 7/16\n",
            "29/29 [==============================] - 5s 180ms/step - loss: 0.9459 - accuracy: 0.6344 - val_loss: 1.3209 - val_accuracy: 0.5700\n",
            "Epoch 8/16\n",
            "29/29 [==============================] - 5s 173ms/step - loss: 0.8445 - accuracy: 0.6767 - val_loss: 1.2726 - val_accuracy: 0.5600\n",
            "Epoch 9/16\n",
            "29/29 [==============================] - 5s 180ms/step - loss: 0.7638 - accuracy: 0.7367 - val_loss: 1.3672 - val_accuracy: 0.5500\n",
            "Epoch 10/16\n",
            "29/29 [==============================] - 5s 178ms/step - loss: 0.6964 - accuracy: 0.7800 - val_loss: 1.4229 - val_accuracy: 0.5500\n",
            "Epoch 11/16\n",
            "29/29 [==============================] - 5s 177ms/step - loss: 0.6074 - accuracy: 0.7911 - val_loss: 1.3397 - val_accuracy: 0.5700\n",
            "Epoch 12/16\n",
            "29/29 [==============================] - 5s 185ms/step - loss: 0.5768 - accuracy: 0.8022 - val_loss: 1.3397 - val_accuracy: 0.5900\n",
            "Epoch 13/16\n",
            "29/29 [==============================] - 6s 192ms/step - loss: 0.5179 - accuracy: 0.8356 - val_loss: 1.4083 - val_accuracy: 0.5700\n",
            "Epoch 14/16\n",
            "29/29 [==============================] - 6s 191ms/step - loss: 0.4835 - accuracy: 0.8411 - val_loss: 1.5270 - val_accuracy: 0.5100\n",
            "Epoch 15/16\n",
            "29/29 [==============================] - 5s 181ms/step - loss: 0.4673 - accuracy: 0.8367 - val_loss: 1.3994 - val_accuracy: 0.5800\n",
            "Epoch 16/16\n",
            "29/29 [==============================] - 5s 184ms/step - loss: 0.4304 - accuracy: 0.8556 - val_loss: 1.4122 - val_accuracy: 0.6000\n"
          ]
        },
        {
          "metadata": {
            "tags": null
          },
          "name": "stderr",
          "output_type": "stream",
          "text": [
            "/usr/local/lib/python3.10/dist-packages/keras/src/engine/training.py:3079: UserWarning: You are saving your model as an HDF5 file via `model.save()`. This file format is considered legacy. We recommend using instead the native Keras format, e.g. `model.save('my_model.keras')`.\n",
            "  saving_api.save_model(\n"
          ]
        },
        {
          "metadata": {
            "tags": null
          },
          "name": "stdout",
          "output_type": "stream",
          "text": [
            "Epoch 1/16\n",
            "29/29 [==============================] - 10s 202ms/step - loss: 1.6633 - accuracy: 0.4089 - val_loss: 1.5746 - val_accuracy: 0.4000\n",
            "Epoch 2/16\n",
            "29/29 [==============================] - 5s 178ms/step - loss: 1.3827 - accuracy: 0.4400 - val_loss: 1.5194 - val_accuracy: 0.4300\n",
            "Epoch 3/16\n",
            "29/29 [==============================] - 5s 175ms/step - loss: 1.1220 - accuracy: 0.5811 - val_loss: 1.4583 - val_accuracy: 0.4900\n",
            "Epoch 4/16\n",
            "29/29 [==============================] - 5s 172ms/step - loss: 0.8094 - accuracy: 0.7367 - val_loss: 1.4849 - val_accuracy: 0.4700\n",
            "Epoch 5/16\n",
            "29/29 [==============================] - 5s 183ms/step - loss: 0.5940 - accuracy: 0.8211 - val_loss: 1.7062 - val_accuracy: 0.5100\n",
            "Epoch 6/16\n",
            "29/29 [==============================] - 5s 181ms/step - loss: 0.5526 - accuracy: 0.8300 - val_loss: 1.7222 - val_accuracy: 0.4600\n",
            "Epoch 7/16\n",
            "29/29 [==============================] - 5s 180ms/step - loss: 0.4020 - accuracy: 0.8911 - val_loss: 1.8140 - val_accuracy: 0.5000\n",
            "Epoch 8/16\n",
            "29/29 [==============================] - 6s 193ms/step - loss: 0.3000 - accuracy: 0.9144 - val_loss: 1.8929 - val_accuracy: 0.5100\n",
            "Epoch 9/16\n",
            "29/29 [==============================] - 5s 181ms/step - loss: 0.2720 - accuracy: 0.9233 - val_loss: 1.9857 - val_accuracy: 0.4500\n",
            "Epoch 10/16\n",
            "29/29 [==============================] - 5s 182ms/step - loss: 0.2567 - accuracy: 0.9300 - val_loss: 2.0431 - val_accuracy: 0.4700\n",
            "Epoch 11/16\n",
            "29/29 [==============================] - 5s 178ms/step - loss: 0.2329 - accuracy: 0.9356 - val_loss: 2.0961 - val_accuracy: 0.4600\n",
            "Epoch 12/16\n",
            "29/29 [==============================] - 5s 176ms/step - loss: 0.1859 - accuracy: 0.9533 - val_loss: 2.1878 - val_accuracy: 0.4700\n",
            "Epoch 13/16\n",
            "29/29 [==============================] - 5s 186ms/step - loss: 0.1821 - accuracy: 0.9478 - val_loss: 2.1208 - val_accuracy: 0.4500\n",
            "Epoch 14/16\n",
            "29/29 [==============================] - 5s 184ms/step - loss: 0.1471 - accuracy: 0.9611 - val_loss: 2.3077 - val_accuracy: 0.4300\n",
            "Epoch 15/16\n",
            "29/29 [==============================] - 5s 183ms/step - loss: 0.1678 - accuracy: 0.9467 - val_loss: 2.2098 - val_accuracy: 0.4900\n",
            "Epoch 16/16\n",
            "29/29 [==============================] - 5s 188ms/step - loss: 0.2502 - accuracy: 0.9278 - val_loss: 2.1351 - val_accuracy: 0.4400\n"
          ]
        },
        {
          "metadata": {
            "tags": null
          },
          "name": "stderr",
          "output_type": "stream",
          "text": [
            "/usr/local/lib/python3.10/dist-packages/keras/src/engine/training.py:3079: UserWarning: You are saving your model as an HDF5 file via `model.save()`. This file format is considered legacy. We recommend using instead the native Keras format, e.g. `model.save('my_model.keras')`.\n",
            "  saving_api.save_model(\n"
          ]
        },
        {
          "metadata": {
            "tags": null
          },
          "name": "stdout",
          "output_type": "stream",
          "text": [
            "Epoch 1/16\n",
            "29/29 [==============================] - 10s 216ms/step - loss: 1.7627 - accuracy: 0.3611 - val_loss: 1.5601 - val_accuracy: 0.3700\n",
            "Epoch 2/16\n",
            "29/29 [==============================] - 5s 172ms/step - loss: 1.5658 - accuracy: 0.3778 - val_loss: 1.5305 - val_accuracy: 0.3700\n",
            "Epoch 3/16\n",
            "29/29 [==============================] - 5s 174ms/step - loss: 1.5523 - accuracy: 0.3778 - val_loss: 1.5300 - val_accuracy: 0.3700\n",
            "Epoch 4/16\n",
            "29/29 [==============================] - 5s 173ms/step - loss: 1.5279 - accuracy: 0.3778 - val_loss: 1.4931 - val_accuracy: 0.3700\n",
            "Epoch 5/16\n",
            "29/29 [==============================] - 5s 172ms/step - loss: 1.3346 - accuracy: 0.4867 - val_loss: 1.3934 - val_accuracy: 0.4700\n",
            "Epoch 6/16\n",
            "29/29 [==============================] - 5s 179ms/step - loss: 1.0200 - accuracy: 0.6344 - val_loss: 1.3351 - val_accuracy: 0.5300\n",
            "Epoch 7/16\n",
            "29/29 [==============================] - 5s 178ms/step - loss: 0.8355 - accuracy: 0.7178 - val_loss: 1.2700 - val_accuracy: 0.4900\n",
            "Epoch 8/16\n",
            "29/29 [==============================] - 5s 172ms/step - loss: 0.6777 - accuracy: 0.7856 - val_loss: 1.2810 - val_accuracy: 0.4700\n",
            "Epoch 9/16\n",
            "29/29 [==============================] - 5s 183ms/step - loss: 0.5319 - accuracy: 0.8311 - val_loss: 1.3533 - val_accuracy: 0.5300\n",
            "Epoch 10/16\n",
            "29/29 [==============================] - 5s 169ms/step - loss: 0.4525 - accuracy: 0.8711 - val_loss: 1.4005 - val_accuracy: 0.5300\n",
            "Epoch 11/16\n",
            "29/29 [==============================] - 5s 172ms/step - loss: 0.4159 - accuracy: 0.8800 - val_loss: 1.4866 - val_accuracy: 0.5100\n",
            "Epoch 12/16\n",
            "29/29 [==============================] - 5s 176ms/step - loss: 0.3265 - accuracy: 0.8989 - val_loss: 1.4998 - val_accuracy: 0.5200\n",
            "Epoch 13/16\n",
            "29/29 [==============================] - 5s 170ms/step - loss: 0.3198 - accuracy: 0.9044 - val_loss: 1.6755 - val_accuracy: 0.5000\n",
            "Epoch 14/16\n",
            "29/29 [==============================] - 5s 173ms/step - loss: 0.2614 - accuracy: 0.9200 - val_loss: 1.7302 - val_accuracy: 0.4800\n",
            "Epoch 15/16\n",
            "29/29 [==============================] - 5s 178ms/step - loss: 0.2470 - accuracy: 0.9278 - val_loss: 1.6811 - val_accuracy: 0.5100\n",
            "Epoch 16/16\n",
            "29/29 [==============================] - 5s 169ms/step - loss: 0.2018 - accuracy: 0.9433 - val_loss: 1.7581 - val_accuracy: 0.5300\n"
          ]
        },
        {
          "metadata": {
            "tags": null
          },
          "name": "stderr",
          "output_type": "stream",
          "text": [
            "/usr/local/lib/python3.10/dist-packages/keras/src/engine/training.py:3079: UserWarning: You are saving your model as an HDF5 file via `model.save()`. This file format is considered legacy. We recommend using instead the native Keras format, e.g. `model.save('my_model.keras')`.\n",
            "  saving_api.save_model(\n"
          ]
        },
        {
          "metadata": {
            "tags": null
          },
          "name": "stdout",
          "output_type": "stream",
          "text": [
            "Epoch 1/16\n",
            "4/4 [==============================] - 6s 469ms/step - loss: 1.9414 - accuracy: 0.2973 - val_loss: 1.9223 - val_accuracy: 0.3846\n",
            "Epoch 2/16\n",
            "4/4 [==============================] - 1s 180ms/step - loss: 1.9075 - accuracy: 0.3964 - val_loss: 1.8839 - val_accuracy: 0.3846\n",
            "Epoch 3/16\n",
            "4/4 [==============================] - 1s 191ms/step - loss: 1.8528 - accuracy: 0.3423 - val_loss: 1.8069 - val_accuracy: 0.3846\n",
            "Epoch 4/16\n",
            "4/4 [==============================] - 1s 203ms/step - loss: 1.7428 - accuracy: 0.3333 - val_loss: 1.6533 - val_accuracy: 0.3846\n",
            "Epoch 5/16\n",
            "4/4 [==============================] - 1s 216ms/step - loss: 1.5974 - accuracy: 0.3333 - val_loss: 1.5262 - val_accuracy: 0.4615\n",
            "Epoch 6/16\n",
            "4/4 [==============================] - 1s 180ms/step - loss: 1.5116 - accuracy: 0.3784 - val_loss: 1.4941 - val_accuracy: 0.4615\n",
            "Epoch 7/16\n",
            "4/4 [==============================] - 1s 199ms/step - loss: 1.3852 - accuracy: 0.5495 - val_loss: 1.4622 - val_accuracy: 0.3077\n",
            "Epoch 8/16\n",
            "4/4 [==============================] - 1s 181ms/step - loss: 1.2243 - accuracy: 0.5856 - val_loss: 1.3176 - val_accuracy: 0.5385\n",
            "Epoch 9/16\n",
            "4/4 [==============================] - 1s 179ms/step - loss: 1.0364 - accuracy: 0.6577 - val_loss: 1.3538 - val_accuracy: 0.3846\n",
            "Epoch 10/16\n",
            "4/4 [==============================] - 1s 182ms/step - loss: 0.9232 - accuracy: 0.6847 - val_loss: 1.4089 - val_accuracy: 0.3077\n",
            "Epoch 11/16\n",
            "4/4 [==============================] - 1s 182ms/step - loss: 0.8303 - accuracy: 0.6757 - val_loss: 1.3718 - val_accuracy: 0.3846\n",
            "Epoch 12/16\n",
            "4/4 [==============================] - 1s 192ms/step - loss: 0.7604 - accuracy: 0.6757 - val_loss: 1.5021 - val_accuracy: 0.3846\n",
            "Epoch 13/16\n",
            "4/4 [==============================] - 1s 195ms/step - loss: 0.6946 - accuracy: 0.7477 - val_loss: 1.3357 - val_accuracy: 0.3846\n",
            "Epoch 14/16\n",
            "4/4 [==============================] - 1s 192ms/step - loss: 0.6455 - accuracy: 0.7838 - val_loss: 1.3891 - val_accuracy: 0.3846\n",
            "Epoch 15/16\n",
            "4/4 [==============================] - 1s 198ms/step - loss: 0.5607 - accuracy: 0.8198 - val_loss: 1.6567 - val_accuracy: 0.4615\n",
            "Epoch 16/16\n",
            "4/4 [==============================] - 1s 192ms/step - loss: 0.5020 - accuracy: 0.8468 - val_loss: 1.6050 - val_accuracy: 0.3077\n"
          ]
        },
        {
          "metadata": {
            "tags": null
          },
          "name": "stderr",
          "output_type": "stream",
          "text": [
            "/usr/local/lib/python3.10/dist-packages/keras/src/engine/training.py:3079: UserWarning: You are saving your model as an HDF5 file via `model.save()`. This file format is considered legacy. We recommend using instead the native Keras format, e.g. `model.save('my_model.keras')`.\n",
            "  saving_api.save_model(\n"
          ]
        },
        {
          "metadata": {
            "tags": null
          },
          "name": "stdout",
          "output_type": "stream",
          "text": [
            "Epoch 1/16\n",
            "29/29 [==============================] - 11s 226ms/step - loss: 1.6841 - accuracy: 0.5067 - val_loss: 1.4660 - val_accuracy: 0.4400\n",
            "Epoch 2/16\n",
            "29/29 [==============================] - 5s 176ms/step - loss: 1.2774 - accuracy: 0.5233 - val_loss: 1.3251 - val_accuracy: 0.4700\n",
            "Epoch 3/16\n",
            "29/29 [==============================] - 5s 180ms/step - loss: 1.0425 - accuracy: 0.6533 - val_loss: 1.3037 - val_accuracy: 0.5300\n",
            "Epoch 4/16\n",
            "29/29 [==============================] - 5s 174ms/step - loss: 0.7379 - accuracy: 0.7744 - val_loss: 1.4752 - val_accuracy: 0.4800\n",
            "Epoch 5/16\n",
            "29/29 [==============================] - 5s 170ms/step - loss: 0.5402 - accuracy: 0.8344 - val_loss: 1.5091 - val_accuracy: 0.5400\n",
            "Epoch 6/16\n",
            "29/29 [==============================] - 5s 171ms/step - loss: 0.3899 - accuracy: 0.8922 - val_loss: 1.6996 - val_accuracy: 0.4700\n",
            "Epoch 7/16\n",
            "29/29 [==============================] - 5s 177ms/step - loss: 0.4000 - accuracy: 0.8800 - val_loss: 1.7022 - val_accuracy: 0.5200\n",
            "Epoch 8/16\n",
            "29/29 [==============================] - 5s 171ms/step - loss: 0.3250 - accuracy: 0.9033 - val_loss: 1.7709 - val_accuracy: 0.5400\n",
            "Epoch 9/16\n",
            "29/29 [==============================] - 5s 174ms/step - loss: 0.2585 - accuracy: 0.9233 - val_loss: 1.9128 - val_accuracy: 0.5200\n",
            "Epoch 10/16\n",
            "29/29 [==============================] - 5s 180ms/step - loss: 0.2413 - accuracy: 0.9311 - val_loss: 1.8968 - val_accuracy: 0.5100\n",
            "Epoch 11/16\n",
            "29/29 [==============================] - 5s 178ms/step - loss: 0.2400 - accuracy: 0.9411 - val_loss: 1.9464 - val_accuracy: 0.5400\n",
            "Epoch 12/16\n",
            "29/29 [==============================] - 5s 175ms/step - loss: 0.1864 - accuracy: 0.9478 - val_loss: 2.1076 - val_accuracy: 0.5000\n",
            "Epoch 13/16\n",
            "29/29 [==============================] - 5s 176ms/step - loss: 0.1767 - accuracy: 0.9533 - val_loss: 2.0321 - val_accuracy: 0.5600\n",
            "Epoch 14/16\n",
            "29/29 [==============================] - 5s 172ms/step - loss: 0.1520 - accuracy: 0.9556 - val_loss: 1.9745 - val_accuracy: 0.5000\n",
            "Epoch 15/16\n",
            "29/29 [==============================] - 5s 180ms/step - loss: 0.1381 - accuracy: 0.9633 - val_loss: 2.0791 - val_accuracy: 0.5300\n",
            "Epoch 16/16\n",
            "29/29 [==============================] - 5s 178ms/step - loss: 0.1863 - accuracy: 0.9522 - val_loss: 2.1123 - val_accuracy: 0.5400\n"
          ]
        },
        {
          "metadata": {
            "tags": null
          },
          "name": "stderr",
          "output_type": "stream",
          "text": [
            "/usr/local/lib/python3.10/dist-packages/keras/src/engine/training.py:3079: UserWarning: You are saving your model as an HDF5 file via `model.save()`. This file format is considered legacy. We recommend using instead the native Keras format, e.g. `model.save('my_model.keras')`.\n",
            "  saving_api.save_model(\n"
          ]
        },
        {
          "metadata": {
            "tags": null
          },
          "name": "stdout",
          "output_type": "stream",
          "text": [
            "Epoch 1/16\n",
            "21/21 [==============================] - 9s 217ms/step - loss: 1.7973 - accuracy: 0.3185 - val_loss: 1.5677 - val_accuracy: 0.3836\n",
            "Epoch 2/16\n",
            "21/21 [==============================] - 4s 195ms/step - loss: 1.5048 - accuracy: 0.3384 - val_loss: 1.5368 - val_accuracy: 0.3699\n",
            "Epoch 3/16\n",
            "21/21 [==============================] - 4s 175ms/step - loss: 1.4630 - accuracy: 0.3905 - val_loss: 1.5408 - val_accuracy: 0.3425\n",
            "Epoch 4/16\n",
            "21/21 [==============================] - 4s 173ms/step - loss: 1.3552 - accuracy: 0.4855 - val_loss: 1.5779 - val_accuracy: 0.3151\n",
            "Epoch 5/16\n",
            "21/21 [==============================] - 4s 174ms/step - loss: 1.1540 - accuracy: 0.5758 - val_loss: 1.6202 - val_accuracy: 0.3288\n",
            "Epoch 6/16\n",
            "21/21 [==============================] - 4s 180ms/step - loss: 0.9649 - accuracy: 0.6677 - val_loss: 1.6777 - val_accuracy: 0.3973\n",
            "Epoch 7/16\n",
            "21/21 [==============================] - 4s 172ms/step - loss: 0.7551 - accuracy: 0.7825 - val_loss: 1.9279 - val_accuracy: 0.3288\n",
            "Epoch 8/16\n",
            "21/21 [==============================] - 4s 174ms/step - loss: 0.6119 - accuracy: 0.8208 - val_loss: 1.8741 - val_accuracy: 0.3699\n",
            "Epoch 9/16\n",
            "21/21 [==============================] - 4s 172ms/step - loss: 0.5604 - accuracy: 0.8346 - val_loss: 1.9672 - val_accuracy: 0.3699\n",
            "Epoch 10/16\n",
            "21/21 [==============================] - 4s 179ms/step - loss: 0.4567 - accuracy: 0.8744 - val_loss: 2.1501 - val_accuracy: 0.3425\n",
            "Epoch 11/16\n",
            "21/21 [==============================] - 4s 175ms/step - loss: 0.3474 - accuracy: 0.9020 - val_loss: 2.2987 - val_accuracy: 0.3288\n",
            "Epoch 12/16\n",
            "21/21 [==============================] - 4s 173ms/step - loss: 0.3039 - accuracy: 0.9173 - val_loss: 2.3851 - val_accuracy: 0.3562\n",
            "Epoch 13/16\n",
            "21/21 [==============================] - 4s 178ms/step - loss: 0.2805 - accuracy: 0.9188 - val_loss: 2.4278 - val_accuracy: 0.3151\n",
            "Epoch 14/16\n",
            "21/21 [==============================] - 4s 174ms/step - loss: 0.2674 - accuracy: 0.9265 - val_loss: 2.4066 - val_accuracy: 0.3973\n",
            "Epoch 15/16\n",
            "21/21 [==============================] - 4s 173ms/step - loss: 0.2609 - accuracy: 0.9234 - val_loss: 2.2713 - val_accuracy: 0.3699\n",
            "Epoch 16/16\n",
            "21/21 [==============================] - 4s 174ms/step - loss: 0.2138 - accuracy: 0.9372 - val_loss: 2.4768 - val_accuracy: 0.3973\n"
          ]
        },
        {
          "metadata": {
            "tags": null
          },
          "name": "stderr",
          "output_type": "stream",
          "text": [
            "/usr/local/lib/python3.10/dist-packages/keras/src/engine/training.py:3079: UserWarning: You are saving your model as an HDF5 file via `model.save()`. This file format is considered legacy. We recommend using instead the native Keras format, e.g. `model.save('my_model.keras')`.\n",
            "  saving_api.save_model(\n"
          ]
        },
        {
          "metadata": {
            "tags": null
          },
          "name": "stdout",
          "output_type": "stream",
          "text": [
            "Epoch 1/16\n",
            "29/29 [==============================] - 10s 215ms/step - loss: 1.6408 - accuracy: 0.4067 - val_loss: 1.2085 - val_accuracy: 0.5300\n",
            "Epoch 2/16\n",
            "29/29 [==============================] - 5s 174ms/step - loss: 1.3692 - accuracy: 0.4233 - val_loss: 1.2139 - val_accuracy: 0.5300\n",
            "Epoch 3/16\n",
            "29/29 [==============================] - 5s 180ms/step - loss: 1.2935 - accuracy: 0.4700 - val_loss: 1.1312 - val_accuracy: 0.5100\n",
            "Epoch 4/16\n",
            "29/29 [==============================] - 5s 175ms/step - loss: 0.8853 - accuracy: 0.6989 - val_loss: 1.2603 - val_accuracy: 0.4600\n",
            "Epoch 5/16\n",
            "29/29 [==============================] - 5s 174ms/step - loss: 0.5178 - accuracy: 0.8433 - val_loss: 1.3591 - val_accuracy: 0.5100\n",
            "Epoch 6/16\n",
            "29/29 [==============================] - 5s 186ms/step - loss: 0.3778 - accuracy: 0.8900 - val_loss: 1.5773 - val_accuracy: 0.4300\n",
            "Epoch 7/16\n",
            "29/29 [==============================] - 5s 179ms/step - loss: 0.2713 - accuracy: 0.9311 - val_loss: 1.8288 - val_accuracy: 0.4900\n",
            "Epoch 8/16\n",
            "29/29 [==============================] - 5s 181ms/step - loss: 0.2223 - accuracy: 0.9378 - val_loss: 1.6347 - val_accuracy: 0.5200\n",
            "Epoch 9/16\n",
            "29/29 [==============================] - 5s 181ms/step - loss: 0.1688 - accuracy: 0.9578 - val_loss: 1.7010 - val_accuracy: 0.5500\n",
            "Epoch 10/16\n",
            "29/29 [==============================] - 5s 177ms/step - loss: 0.1306 - accuracy: 0.9722 - val_loss: 1.6485 - val_accuracy: 0.5600\n",
            "Epoch 11/16\n",
            "29/29 [==============================] - 5s 183ms/step - loss: 0.1218 - accuracy: 0.9744 - val_loss: 1.8571 - val_accuracy: 0.5100\n",
            "Epoch 12/16\n",
            "29/29 [==============================] - 5s 175ms/step - loss: 0.1297 - accuracy: 0.9656 - val_loss: 1.9095 - val_accuracy: 0.5400\n",
            "Epoch 13/16\n",
            "29/29 [==============================] - 5s 179ms/step - loss: 0.1363 - accuracy: 0.9567 - val_loss: 1.9747 - val_accuracy: 0.4500\n",
            "Epoch 14/16\n",
            "29/29 [==============================] - 5s 183ms/step - loss: 0.1245 - accuracy: 0.9633 - val_loss: 1.7954 - val_accuracy: 0.5300\n",
            "Epoch 15/16\n",
            "29/29 [==============================] - 5s 176ms/step - loss: 0.0866 - accuracy: 0.9800 - val_loss: 2.0860 - val_accuracy: 0.5600\n",
            "Epoch 16/16\n",
            "29/29 [==============================] - 5s 180ms/step - loss: 0.0754 - accuracy: 0.9778 - val_loss: 2.0035 - val_accuracy: 0.5600\n"
          ]
        },
        {
          "metadata": {
            "tags": null
          },
          "name": "stderr",
          "output_type": "stream",
          "text": [
            "/usr/local/lib/python3.10/dist-packages/keras/src/engine/training.py:3079: UserWarning: You are saving your model as an HDF5 file via `model.save()`. This file format is considered legacy. We recommend using instead the native Keras format, e.g. `model.save('my_model.keras')`.\n",
            "  saving_api.save_model(\n"
          ]
        },
        {
          "metadata": {
            "tags": null
          },
          "name": "stdout",
          "output_type": "stream",
          "text": [
            "Epoch 1/16\n",
            "29/29 [==============================] - 10s 204ms/step - loss: 1.7367 - accuracy: 0.3278 - val_loss: 1.5045 - val_accuracy: 0.3200\n",
            "Epoch 2/16\n",
            "29/29 [==============================] - 5s 174ms/step - loss: 1.4871 - accuracy: 0.3267 - val_loss: 1.4572 - val_accuracy: 0.3200\n",
            "Epoch 3/16\n",
            "29/29 [==============================] - 5s 170ms/step - loss: 1.3345 - accuracy: 0.3933 - val_loss: 1.2382 - val_accuracy: 0.5000\n",
            "Epoch 4/16\n",
            "29/29 [==============================] - 5s 175ms/step - loss: 0.9476 - accuracy: 0.6089 - val_loss: 1.2003 - val_accuracy: 0.5600\n",
            "Epoch 5/16\n",
            "29/29 [==============================] - 5s 178ms/step - loss: 0.6243 - accuracy: 0.7978 - val_loss: 1.4024 - val_accuracy: 0.5000\n",
            "Epoch 6/16\n",
            "29/29 [==============================] - 5s 172ms/step - loss: 0.4156 - accuracy: 0.8767 - val_loss: 1.5969 - val_accuracy: 0.5200\n",
            "Epoch 7/16\n",
            "29/29 [==============================] - 5s 187ms/step - loss: 0.3184 - accuracy: 0.9033 - val_loss: 1.6425 - val_accuracy: 0.5300\n",
            "Epoch 8/16\n",
            "29/29 [==============================] - 5s 179ms/step - loss: 0.3009 - accuracy: 0.9089 - val_loss: 1.6588 - val_accuracy: 0.5000\n",
            "Epoch 9/16\n",
            "29/29 [==============================] - 5s 174ms/step - loss: 0.2474 - accuracy: 0.9178 - val_loss: 1.6079 - val_accuracy: 0.5100\n",
            "Epoch 10/16\n",
            "29/29 [==============================] - 5s 184ms/step - loss: 0.2276 - accuracy: 0.9244 - val_loss: 1.7071 - val_accuracy: 0.5100\n",
            "Epoch 11/16\n",
            "29/29 [==============================] - 5s 172ms/step - loss: 0.1933 - accuracy: 0.9444 - val_loss: 1.8386 - val_accuracy: 0.5000\n",
            "Epoch 12/16\n",
            "29/29 [==============================] - 5s 172ms/step - loss: 0.1669 - accuracy: 0.9600 - val_loss: 1.8919 - val_accuracy: 0.5000\n",
            "Epoch 13/16\n",
            "29/29 [==============================] - 5s 175ms/step - loss: 0.1508 - accuracy: 0.9600 - val_loss: 1.9565 - val_accuracy: 0.5000\n",
            "Epoch 14/16\n",
            "29/29 [==============================] - 5s 174ms/step - loss: 0.1367 - accuracy: 0.9667 - val_loss: 1.9348 - val_accuracy: 0.4800\n",
            "Epoch 15/16\n",
            "29/29 [==============================] - 5s 176ms/step - loss: 0.1323 - accuracy: 0.9667 - val_loss: 1.9366 - val_accuracy: 0.5000\n",
            "Epoch 16/16\n",
            "29/29 [==============================] - 5s 172ms/step - loss: 0.1068 - accuracy: 0.9744 - val_loss: 2.2000 - val_accuracy: 0.4600\n"
          ]
        },
        {
          "metadata": {
            "tags": null
          },
          "name": "stderr",
          "output_type": "stream",
          "text": [
            "/usr/local/lib/python3.10/dist-packages/keras/src/engine/training.py:3079: UserWarning: You are saving your model as an HDF5 file via `model.save()`. This file format is considered legacy. We recommend using instead the native Keras format, e.g. `model.save('my_model.keras')`.\n",
            "  saving_api.save_model(\n"
          ]
        },
        {
          "metadata": {
            "tags": null
          },
          "name": "stdout",
          "output_type": "stream",
          "text": [
            "Epoch 1/16\n",
            "29/29 [==============================] - 11s 209ms/step - loss: 1.6922 - accuracy: 0.4756 - val_loss: 1.3743 - val_accuracy: 0.4600\n",
            "Epoch 2/16\n",
            "29/29 [==============================] - 5s 183ms/step - loss: 1.2185 - accuracy: 0.5467 - val_loss: 1.1649 - val_accuracy: 0.5800\n",
            "Epoch 3/16\n",
            "29/29 [==============================] - 5s 178ms/step - loss: 0.8533 - accuracy: 0.7133 - val_loss: 1.1327 - val_accuracy: 0.5500\n",
            "Epoch 4/16\n",
            "29/29 [==============================] - 6s 193ms/step - loss: 0.6190 - accuracy: 0.7989 - val_loss: 1.1962 - val_accuracy: 0.5500\n",
            "Epoch 5/16\n",
            "29/29 [==============================] - 5s 176ms/step - loss: 0.4493 - accuracy: 0.8656 - val_loss: 1.2484 - val_accuracy: 0.5500\n",
            "Epoch 6/16\n",
            "29/29 [==============================] - 5s 174ms/step - loss: 0.3439 - accuracy: 0.8889 - val_loss: 1.2519 - val_accuracy: 0.5500\n",
            "Epoch 7/16\n",
            "29/29 [==============================] - 5s 187ms/step - loss: 0.2768 - accuracy: 0.9222 - val_loss: 1.3020 - val_accuracy: 0.6100\n",
            "Epoch 8/16\n",
            "29/29 [==============================] - 5s 175ms/step - loss: 0.2690 - accuracy: 0.9133 - val_loss: 1.2308 - val_accuracy: 0.6300\n",
            "Epoch 9/16\n",
            "29/29 [==============================] - 5s 177ms/step - loss: 0.2504 - accuracy: 0.9278 - val_loss: 1.2724 - val_accuracy: 0.5900\n",
            "Epoch 10/16\n",
            "29/29 [==============================] - 5s 183ms/step - loss: 0.2235 - accuracy: 0.9333 - val_loss: 1.3981 - val_accuracy: 0.5700\n",
            "Epoch 11/16\n",
            "29/29 [==============================] - 5s 178ms/step - loss: 0.1711 - accuracy: 0.9544 - val_loss: 1.3327 - val_accuracy: 0.5900\n",
            "Epoch 12/16\n",
            "29/29 [==============================] - 5s 184ms/step - loss: 0.1401 - accuracy: 0.9656 - val_loss: 1.4606 - val_accuracy: 0.6200\n",
            "Epoch 13/16\n",
            "29/29 [==============================] - 5s 183ms/step - loss: 0.1190 - accuracy: 0.9711 - val_loss: 1.5123 - val_accuracy: 0.6000\n",
            "Epoch 14/16\n",
            "29/29 [==============================] - 5s 178ms/step - loss: 0.1029 - accuracy: 0.9689 - val_loss: 1.5429 - val_accuracy: 0.6000\n",
            "Epoch 15/16\n",
            "29/29 [==============================] - 5s 181ms/step - loss: 0.0846 - accuracy: 0.9767 - val_loss: 1.5698 - val_accuracy: 0.5900\n",
            "Epoch 16/16\n",
            "29/29 [==============================] - 5s 177ms/step - loss: 0.0714 - accuracy: 0.9778 - val_loss: 1.6133 - val_accuracy: 0.6400\n"
          ]
        },
        {
          "metadata": {
            "tags": null
          },
          "name": "stderr",
          "output_type": "stream",
          "text": [
            "/usr/local/lib/python3.10/dist-packages/keras/src/engine/training.py:3079: UserWarning: You are saving your model as an HDF5 file via `model.save()`. This file format is considered legacy. We recommend using instead the native Keras format, e.g. `model.save('my_model.keras')`.\n",
            "  saving_api.save_model(\n"
          ]
        },
        {
          "metadata": {
            "tags": null
          },
          "name": "stdout",
          "output_type": "stream",
          "text": [
            "Epoch 1/16\n",
            "5/5 [==============================] - 6s 430ms/step - loss: 1.9329 - accuracy: 0.4314 - val_loss: 1.9109 - val_accuracy: 0.4706\n",
            "Epoch 2/16\n",
            "5/5 [==============================] - 1s 178ms/step - loss: 1.8617 - accuracy: 0.5294 - val_loss: 1.8253 - val_accuracy: 0.4706\n",
            "Epoch 3/16\n",
            "5/5 [==============================] - 1s 185ms/step - loss: 1.6988 - accuracy: 0.5294 - val_loss: 1.6108 - val_accuracy: 0.4706\n",
            "Epoch 4/16\n",
            "5/5 [==============================] - 1s 177ms/step - loss: 1.4335 - accuracy: 0.5294 - val_loss: 1.6899 - val_accuracy: 0.4706\n",
            "Epoch 5/16\n",
            "5/5 [==============================] - 1s 197ms/step - loss: 1.3975 - accuracy: 0.5294 - val_loss: 1.6027 - val_accuracy: 0.4706\n",
            "Epoch 6/16\n",
            "5/5 [==============================] - 1s 193ms/step - loss: 1.2654 - accuracy: 0.5294 - val_loss: 1.6390 - val_accuracy: 0.4706\n",
            "Epoch 7/16\n",
            "5/5 [==============================] - 1s 173ms/step - loss: 1.0925 - accuracy: 0.5621 - val_loss: 1.9953 - val_accuracy: 0.4706\n",
            "Epoch 8/16\n",
            "5/5 [==============================] - 1s 180ms/step - loss: 0.9731 - accuracy: 0.7255 - val_loss: 2.2452 - val_accuracy: 0.4118\n",
            "Epoch 9/16\n",
            "5/5 [==============================] - 1s 176ms/step - loss: 0.9195 - accuracy: 0.8562 - val_loss: 2.2516 - val_accuracy: 0.4118\n",
            "Epoch 10/16\n",
            "5/5 [==============================] - 1s 171ms/step - loss: 0.9023 - accuracy: 0.8758 - val_loss: 2.3345 - val_accuracy: 0.4118\n",
            "Epoch 11/16\n",
            "5/5 [==============================] - 1s 176ms/step - loss: 0.8782 - accuracy: 0.8562 - val_loss: 2.3035 - val_accuracy: 0.4118\n",
            "Epoch 12/16\n",
            "5/5 [==============================] - 1s 180ms/step - loss: 0.8294 - accuracy: 0.8366 - val_loss: 2.2854 - val_accuracy: 0.3529\n",
            "Epoch 13/16\n",
            "5/5 [==============================] - 1s 191ms/step - loss: 0.7971 - accuracy: 0.7516 - val_loss: 2.3925 - val_accuracy: 0.4118\n",
            "Epoch 14/16\n",
            "5/5 [==============================] - 1s 201ms/step - loss: 0.7426 - accuracy: 0.7516 - val_loss: 2.3671 - val_accuracy: 0.4706\n",
            "Epoch 15/16\n",
            "5/5 [==============================] - 1s 194ms/step - loss: 0.7121 - accuracy: 0.7386 - val_loss: 2.3556 - val_accuracy: 0.4706\n",
            "Epoch 16/16\n",
            "5/5 [==============================] - 1s 215ms/step - loss: 0.6602 - accuracy: 0.7451 - val_loss: 2.4130 - val_accuracy: 0.4118\n"
          ]
        },
        {
          "metadata": {
            "tags": null
          },
          "name": "stderr",
          "output_type": "stream",
          "text": [
            "/usr/local/lib/python3.10/dist-packages/keras/src/engine/training.py:3079: UserWarning: You are saving your model as an HDF5 file via `model.save()`. This file format is considered legacy. We recommend using instead the native Keras format, e.g. `model.save('my_model.keras')`.\n",
            "  saving_api.save_model(\n"
          ]
        },
        {
          "metadata": {
            "tags": null
          },
          "name": "stdout",
          "output_type": "stream",
          "text": [
            "Epoch 1/16\n",
            "29/29 [==============================] - 10s 221ms/step - loss: 1.5739 - accuracy: 0.4867 - val_loss: 1.4068 - val_accuracy: 0.4700\n",
            "Epoch 2/16\n",
            "29/29 [==============================] - 5s 172ms/step - loss: 1.1652 - accuracy: 0.5500 - val_loss: 1.2468 - val_accuracy: 0.6200\n",
            "Epoch 3/16\n",
            "29/29 [==============================] - 5s 171ms/step - loss: 0.9509 - accuracy: 0.6778 - val_loss: 1.1763 - val_accuracy: 0.5800\n",
            "Epoch 4/16\n",
            "29/29 [==============================] - 5s 174ms/step - loss: 0.7408 - accuracy: 0.7511 - val_loss: 1.1695 - val_accuracy: 0.5700\n",
            "Epoch 5/16\n",
            "29/29 [==============================] - 5s 170ms/step - loss: 0.5875 - accuracy: 0.7933 - val_loss: 1.1812 - val_accuracy: 0.6100\n",
            "Epoch 6/16\n",
            "29/29 [==============================] - 5s 176ms/step - loss: 0.4865 - accuracy: 0.8333 - val_loss: 1.1313 - val_accuracy: 0.6100\n",
            "Epoch 7/16\n",
            "29/29 [==============================] - 5s 173ms/step - loss: 0.4523 - accuracy: 0.8444 - val_loss: 1.2732 - val_accuracy: 0.5700\n",
            "Epoch 8/16\n",
            "29/29 [==============================] - 5s 171ms/step - loss: 0.3912 - accuracy: 0.8667 - val_loss: 1.5084 - val_accuracy: 0.5200\n",
            "Epoch 9/16\n",
            "29/29 [==============================] - 5s 173ms/step - loss: 0.3406 - accuracy: 0.8856 - val_loss: 1.3415 - val_accuracy: 0.5900\n",
            "Epoch 10/16\n",
            "29/29 [==============================] - 5s 169ms/step - loss: 0.2915 - accuracy: 0.9200 - val_loss: 1.3857 - val_accuracy: 0.6000\n",
            "Epoch 11/16\n",
            "29/29 [==============================] - 5s 171ms/step - loss: 0.3035 - accuracy: 0.9067 - val_loss: 1.9470 - val_accuracy: 0.4500\n",
            "Epoch 12/16\n",
            "29/29 [==============================] - 5s 176ms/step - loss: 0.3131 - accuracy: 0.8989 - val_loss: 1.4689 - val_accuracy: 0.5800\n",
            "Epoch 13/16\n",
            "29/29 [==============================] - 5s 183ms/step - loss: 0.2356 - accuracy: 0.9289 - val_loss: 1.5091 - val_accuracy: 0.5800\n",
            "Epoch 14/16\n",
            "29/29 [==============================] - 5s 180ms/step - loss: 0.1829 - accuracy: 0.9556 - val_loss: 1.6926 - val_accuracy: 0.5900\n",
            "Epoch 15/16\n",
            "29/29 [==============================] - 5s 177ms/step - loss: 0.1607 - accuracy: 0.9533 - val_loss: 1.7719 - val_accuracy: 0.5700\n",
            "Epoch 16/16\n",
            "29/29 [==============================] - 5s 182ms/step - loss: 0.1509 - accuracy: 0.9533 - val_loss: 1.6893 - val_accuracy: 0.5900\n"
          ]
        },
        {
          "metadata": {
            "tags": null
          },
          "name": "stderr",
          "output_type": "stream",
          "text": [
            "/usr/local/lib/python3.10/dist-packages/keras/src/engine/training.py:3079: UserWarning: You are saving your model as an HDF5 file via `model.save()`. This file format is considered legacy. We recommend using instead the native Keras format, e.g. `model.save('my_model.keras')`.\n",
            "  saving_api.save_model(\n"
          ]
        },
        {
          "metadata": {
            "tags": null
          },
          "name": "stdout",
          "output_type": "stream",
          "text": [
            "Epoch 1/16\n",
            "29/29 [==============================] - 11s 213ms/step - loss: 1.7486 - accuracy: 0.3489 - val_loss: 1.4274 - val_accuracy: 0.4500\n",
            "Epoch 2/16\n",
            "29/29 [==============================] - 5s 177ms/step - loss: 1.4857 - accuracy: 0.3889 - val_loss: 1.3715 - val_accuracy: 0.4400\n",
            "Epoch 3/16\n",
            "29/29 [==============================] - 5s 169ms/step - loss: 1.2845 - accuracy: 0.5056 - val_loss: 1.3478 - val_accuracy: 0.4800\n",
            "Epoch 4/16\n",
            "29/29 [==============================] - 5s 172ms/step - loss: 0.9187 - accuracy: 0.7156 - val_loss: 1.3965 - val_accuracy: 0.4500\n",
            "Epoch 5/16\n",
            "29/29 [==============================] - 5s 181ms/step - loss: 0.5963 - accuracy: 0.8200 - val_loss: 1.5682 - val_accuracy: 0.5100\n",
            "Epoch 6/16\n",
            "29/29 [==============================] - 5s 176ms/step - loss: 0.4310 - accuracy: 0.8933 - val_loss: 1.8643 - val_accuracy: 0.4700\n",
            "Epoch 7/16\n",
            "29/29 [==============================] - 5s 181ms/step - loss: 0.3434 - accuracy: 0.9167 - val_loss: 1.8032 - val_accuracy: 0.4700\n",
            "Epoch 8/16\n",
            "29/29 [==============================] - 5s 179ms/step - loss: 0.2727 - accuracy: 0.9444 - val_loss: 2.0023 - val_accuracy: 0.4800\n",
            "Epoch 9/16\n",
            "29/29 [==============================] - 5s 178ms/step - loss: 0.2245 - accuracy: 0.9411 - val_loss: 1.9089 - val_accuracy: 0.5200\n",
            "Epoch 10/16\n",
            "29/29 [==============================] - 5s 184ms/step - loss: 0.1833 - accuracy: 0.9533 - val_loss: 1.9886 - val_accuracy: 0.5000\n",
            "Epoch 11/16\n",
            "29/29 [==============================] - 5s 178ms/step - loss: 0.1478 - accuracy: 0.9589 - val_loss: 2.0458 - val_accuracy: 0.4800\n",
            "Epoch 12/16\n",
            "29/29 [==============================] - 5s 174ms/step - loss: 0.1174 - accuracy: 0.9667 - val_loss: 2.0986 - val_accuracy: 0.4900\n",
            "Epoch 13/16\n",
            "29/29 [==============================] - 5s 180ms/step - loss: 0.0994 - accuracy: 0.9700 - val_loss: 2.2440 - val_accuracy: 0.4900\n",
            "Epoch 14/16\n",
            "29/29 [==============================] - 5s 175ms/step - loss: 0.1014 - accuracy: 0.9678 - val_loss: 2.2517 - val_accuracy: 0.4800\n",
            "Epoch 15/16\n",
            "29/29 [==============================] - 5s 179ms/step - loss: 0.1137 - accuracy: 0.9589 - val_loss: 2.3334 - val_accuracy: 0.4600\n",
            "Epoch 16/16\n",
            "29/29 [==============================] - 5s 176ms/step - loss: 0.1067 - accuracy: 0.9644 - val_loss: 2.4062 - val_accuracy: 0.4600\n"
          ]
        },
        {
          "metadata": {
            "tags": null
          },
          "name": "stderr",
          "output_type": "stream",
          "text": [
            "/usr/local/lib/python3.10/dist-packages/keras/src/engine/training.py:3079: UserWarning: You are saving your model as an HDF5 file via `model.save()`. This file format is considered legacy. We recommend using instead the native Keras format, e.g. `model.save('my_model.keras')`.\n",
            "  saving_api.save_model(\n"
          ]
        },
        {
          "metadata": {
            "tags": null
          },
          "name": "stdout",
          "output_type": "stream",
          "text": [
            "Epoch 1/16\n",
            "29/29 [==============================] - 10s 210ms/step - loss: 1.7268 - accuracy: 0.3367 - val_loss: 1.6235 - val_accuracy: 0.2700\n",
            "Epoch 2/16\n",
            "29/29 [==============================] - 5s 171ms/step - loss: 1.4919 - accuracy: 0.3444 - val_loss: 1.5362 - val_accuracy: 0.3400\n",
            "Epoch 3/16\n",
            "29/29 [==============================] - 5s 173ms/step - loss: 1.4113 - accuracy: 0.5011 - val_loss: 1.5144 - val_accuracy: 0.3700\n",
            "Epoch 4/16\n",
            "29/29 [==============================] - 5s 175ms/step - loss: 1.1792 - accuracy: 0.5633 - val_loss: 1.5192 - val_accuracy: 0.4000\n",
            "Epoch 5/16\n",
            "29/29 [==============================] - 5s 169ms/step - loss: 0.9030 - accuracy: 0.6889 - val_loss: 1.7457 - val_accuracy: 0.3100\n",
            "Epoch 6/16\n",
            "29/29 [==============================] - 5s 181ms/step - loss: 0.7250 - accuracy: 0.7544 - val_loss: 1.7615 - val_accuracy: 0.3400\n",
            "Epoch 7/16\n",
            "29/29 [==============================] - 5s 178ms/step - loss: 0.5670 - accuracy: 0.8067 - val_loss: 1.9695 - val_accuracy: 0.3300\n",
            "Epoch 8/16\n",
            "29/29 [==============================] - 5s 173ms/step - loss: 0.4919 - accuracy: 0.8422 - val_loss: 1.8978 - val_accuracy: 0.3600\n",
            "Epoch 9/16\n",
            "29/29 [==============================] - 5s 178ms/step - loss: 0.3784 - accuracy: 0.9011 - val_loss: 2.1302 - val_accuracy: 0.3200\n",
            "Epoch 10/16\n",
            "29/29 [==============================] - 5s 171ms/step - loss: 0.2889 - accuracy: 0.9200 - val_loss: 2.0864 - val_accuracy: 0.3900\n",
            "Epoch 11/16\n",
            "29/29 [==============================] - 5s 172ms/step - loss: 0.2670 - accuracy: 0.9211 - val_loss: 2.1782 - val_accuracy: 0.3800\n",
            "Epoch 12/16\n",
            "29/29 [==============================] - 5s 178ms/step - loss: 0.2020 - accuracy: 0.9500 - val_loss: 2.2529 - val_accuracy: 0.3800\n",
            "Epoch 13/16\n",
            "29/29 [==============================] - 5s 174ms/step - loss: 0.1816 - accuracy: 0.9467 - val_loss: 2.1633 - val_accuracy: 0.4100\n",
            "Epoch 14/16\n",
            "29/29 [==============================] - 5s 173ms/step - loss: 0.1539 - accuracy: 0.9578 - val_loss: 2.3285 - val_accuracy: 0.3700\n",
            "Epoch 15/16\n",
            "29/29 [==============================] - 5s 174ms/step - loss: 0.1434 - accuracy: 0.9600 - val_loss: 2.3272 - val_accuracy: 0.4200\n",
            "Epoch 16/16\n",
            "29/29 [==============================] - 5s 180ms/step - loss: 0.1080 - accuracy: 0.9722 - val_loss: 2.4434 - val_accuracy: 0.4100\n"
          ]
        },
        {
          "metadata": {
            "tags": null
          },
          "name": "stderr",
          "output_type": "stream",
          "text": [
            "/usr/local/lib/python3.10/dist-packages/keras/src/engine/training.py:3079: UserWarning: You are saving your model as an HDF5 file via `model.save()`. This file format is considered legacy. We recommend using instead the native Keras format, e.g. `model.save('my_model.keras')`.\n",
            "  saving_api.save_model(\n"
          ]
        },
        {
          "metadata": {
            "tags": null
          },
          "name": "stdout",
          "output_type": "stream",
          "text": [
            "Epoch 1/16\n",
            "11/11 [==============================] - 7s 265ms/step - loss: 1.7429 - accuracy: 0.4070 - val_loss: 1.6466 - val_accuracy: 0.4359\n",
            "Epoch 2/16\n",
            "11/11 [==============================] - 2s 192ms/step - loss: 1.4021 - accuracy: 0.4215 - val_loss: 1.5366 - val_accuracy: 0.2821\n",
            "Epoch 3/16\n",
            "11/11 [==============================] - 2s 206ms/step - loss: 1.3067 - accuracy: 0.3634 - val_loss: 1.4970 - val_accuracy: 0.2821\n",
            "Epoch 4/16\n",
            "11/11 [==============================] - 2s 180ms/step - loss: 1.2301 - accuracy: 0.5233 - val_loss: 1.3691 - val_accuracy: 0.4103\n",
            "Epoch 5/16\n",
            "11/11 [==============================] - 2s 184ms/step - loss: 1.0159 - accuracy: 0.6047 - val_loss: 1.4850 - val_accuracy: 0.4359\n",
            "Epoch 6/16\n",
            "11/11 [==============================] - 2s 184ms/step - loss: 0.9451 - accuracy: 0.6192 - val_loss: 1.1963 - val_accuracy: 0.4872\n",
            "Epoch 7/16\n",
            "11/11 [==============================] - 2s 179ms/step - loss: 0.7922 - accuracy: 0.7238 - val_loss: 1.1319 - val_accuracy: 0.5641\n",
            "Epoch 8/16\n",
            "11/11 [==============================] - 2s 182ms/step - loss: 0.6567 - accuracy: 0.7907 - val_loss: 1.1598 - val_accuracy: 0.5897\n",
            "Epoch 9/16\n",
            "11/11 [==============================] - 2s 189ms/step - loss: 0.5533 - accuracy: 0.8169 - val_loss: 1.1443 - val_accuracy: 0.5897\n",
            "Epoch 10/16\n",
            "11/11 [==============================] - 2s 182ms/step - loss: 0.4583 - accuracy: 0.8547 - val_loss: 1.1791 - val_accuracy: 0.5641\n",
            "Epoch 11/16\n",
            "11/11 [==============================] - 2s 176ms/step - loss: 0.3715 - accuracy: 0.8953 - val_loss: 1.3652 - val_accuracy: 0.4872\n",
            "Epoch 12/16\n",
            "11/11 [==============================] - 2s 176ms/step - loss: 0.3464 - accuracy: 0.8866 - val_loss: 1.5399 - val_accuracy: 0.5385\n",
            "Epoch 13/16\n",
            "11/11 [==============================] - 2s 184ms/step - loss: 0.3381 - accuracy: 0.8924 - val_loss: 1.5063 - val_accuracy: 0.5128\n",
            "Epoch 14/16\n",
            "11/11 [==============================] - 2s 180ms/step - loss: 0.2916 - accuracy: 0.8983 - val_loss: 1.6205 - val_accuracy: 0.4615\n",
            "Epoch 15/16\n",
            "11/11 [==============================] - 2s 181ms/step - loss: 0.2727 - accuracy: 0.9099 - val_loss: 1.6242 - val_accuracy: 0.5385\n",
            "Epoch 16/16\n",
            "11/11 [==============================] - 2s 189ms/step - loss: 0.2459 - accuracy: 0.9186 - val_loss: 1.6168 - val_accuracy: 0.5128\n"
          ]
        },
        {
          "metadata": {
            "tags": null
          },
          "name": "stderr",
          "output_type": "stream",
          "text": [
            "/usr/local/lib/python3.10/dist-packages/keras/src/engine/training.py:3079: UserWarning: You are saving your model as an HDF5 file via `model.save()`. This file format is considered legacy. We recommend using instead the native Keras format, e.g. `model.save('my_model.keras')`.\n",
            "  saving_api.save_model(\n"
          ]
        },
        {
          "metadata": {
            "tags": null
          },
          "name": "stdout",
          "output_type": "stream",
          "text": [
            "Epoch 1/16\n",
            "29/29 [==============================] - 10s 213ms/step - loss: 1.6229 - accuracy: 0.3289 - val_loss: 1.3512 - val_accuracy: 0.3100\n",
            "Epoch 2/16\n",
            "29/29 [==============================] - 5s 182ms/step - loss: 1.3614 - accuracy: 0.3011 - val_loss: 1.3646 - val_accuracy: 0.3300\n",
            "Epoch 3/16\n",
            "29/29 [==============================] - 5s 181ms/step - loss: 1.3520 - accuracy: 0.3100 - val_loss: 1.3595 - val_accuracy: 0.3300\n",
            "Epoch 4/16\n",
            "29/29 [==============================] - 5s 188ms/step - loss: 1.3232 - accuracy: 0.3767 - val_loss: 1.3577 - val_accuracy: 0.3200\n",
            "Epoch 5/16\n",
            "29/29 [==============================] - 5s 177ms/step - loss: 1.0827 - accuracy: 0.5944 - val_loss: 1.6004 - val_accuracy: 0.3800\n",
            "Epoch 6/16\n",
            "29/29 [==============================] - 5s 175ms/step - loss: 0.8031 - accuracy: 0.7222 - val_loss: 1.6705 - val_accuracy: 0.3900\n",
            "Epoch 7/16\n",
            "29/29 [==============================] - 5s 180ms/step - loss: 0.5354 - accuracy: 0.8444 - val_loss: 2.1116 - val_accuracy: 0.3500\n",
            "Epoch 8/16\n",
            "29/29 [==============================] - 5s 175ms/step - loss: 0.4013 - accuracy: 0.8822 - val_loss: 2.1665 - val_accuracy: 0.3600\n",
            "Epoch 9/16\n",
            "29/29 [==============================] - 5s 179ms/step - loss: 0.3238 - accuracy: 0.9000 - val_loss: 2.3702 - val_accuracy: 0.3900\n",
            "Epoch 10/16\n",
            "29/29 [==============================] - 5s 177ms/step - loss: 0.3104 - accuracy: 0.9067 - val_loss: 2.3985 - val_accuracy: 0.3500\n",
            "Epoch 11/16\n",
            "29/29 [==============================] - 5s 177ms/step - loss: 0.2684 - accuracy: 0.9100 - val_loss: 2.6150 - val_accuracy: 0.4200\n",
            "Epoch 12/16\n",
            "29/29 [==============================] - 5s 184ms/step - loss: 0.2281 - accuracy: 0.9311 - val_loss: 2.7382 - val_accuracy: 0.3600\n",
            "Epoch 13/16\n",
            "29/29 [==============================] - 5s 178ms/step - loss: 0.1933 - accuracy: 0.9378 - val_loss: 2.7924 - val_accuracy: 0.3800\n",
            "Epoch 14/16\n",
            "29/29 [==============================] - 5s 179ms/step - loss: 0.1548 - accuracy: 0.9567 - val_loss: 2.8310 - val_accuracy: 0.3700\n",
            "Epoch 15/16\n",
            "29/29 [==============================] - 5s 181ms/step - loss: 0.1353 - accuracy: 0.9611 - val_loss: 3.0379 - val_accuracy: 0.3500\n",
            "Epoch 16/16\n",
            "29/29 [==============================] - 5s 177ms/step - loss: 0.1187 - accuracy: 0.9633 - val_loss: 3.0479 - val_accuracy: 0.3400\n"
          ]
        },
        {
          "metadata": {
            "tags": null
          },
          "name": "stderr",
          "output_type": "stream",
          "text": [
            "/usr/local/lib/python3.10/dist-packages/keras/src/engine/training.py:3079: UserWarning: You are saving your model as an HDF5 file via `model.save()`. This file format is considered legacy. We recommend using instead the native Keras format, e.g. `model.save('my_model.keras')`.\n",
            "  saving_api.save_model(\n"
          ]
        },
        {
          "metadata": {
            "tags": null
          },
          "name": "stdout",
          "output_type": "stream",
          "text": [
            "Epoch 1/16\n",
            "29/29 [==============================] - 10s 203ms/step - loss: 1.7936 - accuracy: 0.2378 - val_loss: 1.6364 - val_accuracy: 0.3500\n",
            "Epoch 2/16\n",
            "29/29 [==============================] - 5s 178ms/step - loss: 1.5692 - accuracy: 0.3567 - val_loss: 1.6291 - val_accuracy: 0.3500\n",
            "Epoch 3/16\n",
            "29/29 [==============================] - 5s 169ms/step - loss: 1.3655 - accuracy: 0.4244 - val_loss: 1.4134 - val_accuracy: 0.4400\n",
            "Epoch 4/16\n",
            "29/29 [==============================] - 5s 176ms/step - loss: 0.8915 - accuracy: 0.6444 - val_loss: 1.7117 - val_accuracy: 0.4400\n",
            "Epoch 5/16\n",
            "29/29 [==============================] - 5s 173ms/step - loss: 0.5888 - accuracy: 0.8089 - val_loss: 1.8720 - val_accuracy: 0.4200\n",
            "Epoch 6/16\n",
            "29/29 [==============================] - 5s 177ms/step - loss: 0.4120 - accuracy: 0.8800 - val_loss: 2.0511 - val_accuracy: 0.4100\n",
            "Epoch 7/16\n",
            "29/29 [==============================] - 5s 183ms/step - loss: 0.3021 - accuracy: 0.9411 - val_loss: 1.9358 - val_accuracy: 0.4300\n",
            "Epoch 8/16\n",
            "29/29 [==============================] - 5s 175ms/step - loss: 0.2049 - accuracy: 0.9544 - val_loss: 1.8500 - val_accuracy: 0.4700\n",
            "Epoch 9/16\n",
            "29/29 [==============================] - 5s 176ms/step - loss: 0.1584 - accuracy: 0.9678 - val_loss: 2.2443 - val_accuracy: 0.4600\n",
            "Epoch 10/16\n",
            "29/29 [==============================] - 5s 181ms/step - loss: 0.1408 - accuracy: 0.9678 - val_loss: 2.4179 - val_accuracy: 0.3800\n",
            "Epoch 11/16\n",
            "29/29 [==============================] - 5s 174ms/step - loss: 0.1242 - accuracy: 0.9678 - val_loss: 2.4645 - val_accuracy: 0.3900\n",
            "Epoch 12/16\n",
            "29/29 [==============================] - 5s 178ms/step - loss: 0.0813 - accuracy: 0.9778 - val_loss: 2.3670 - val_accuracy: 0.4200\n",
            "Epoch 13/16\n",
            "29/29 [==============================] - 5s 176ms/step - loss: 0.0800 - accuracy: 0.9833 - val_loss: 2.5109 - val_accuracy: 0.4000\n",
            "Epoch 14/16\n",
            "29/29 [==============================] - 5s 174ms/step - loss: 0.0560 - accuracy: 0.9878 - val_loss: 2.4977 - val_accuracy: 0.4000\n",
            "Epoch 15/16\n",
            "29/29 [==============================] - 5s 183ms/step - loss: 0.0558 - accuracy: 0.9844 - val_loss: 2.5075 - val_accuracy: 0.3900\n",
            "Epoch 16/16\n",
            "29/29 [==============================] - 5s 177ms/step - loss: 0.0424 - accuracy: 0.9889 - val_loss: 2.7522 - val_accuracy: 0.3700\n"
          ]
        },
        {
          "metadata": {
            "tags": null
          },
          "name": "stderr",
          "output_type": "stream",
          "text": [
            "/usr/local/lib/python3.10/dist-packages/keras/src/engine/training.py:3079: UserWarning: You are saving your model as an HDF5 file via `model.save()`. This file format is considered legacy. We recommend using instead the native Keras format, e.g. `model.save('my_model.keras')`.\n",
            "  saving_api.save_model(\n"
          ]
        },
        {
          "metadata": {
            "tags": null
          },
          "name": "stdout",
          "output_type": "stream",
          "text": [
            "Epoch 1/16\n",
            "29/29 [==============================] - 11s 212ms/step - loss: 1.8269 - accuracy: 0.3589 - val_loss: 1.5863 - val_accuracy: 0.4400\n",
            "Epoch 2/16\n",
            "29/29 [==============================] - 5s 173ms/step - loss: 1.5179 - accuracy: 0.4089 - val_loss: 1.5696 - val_accuracy: 0.3400\n",
            "Epoch 3/16\n",
            "29/29 [==============================] - 5s 180ms/step - loss: 1.0319 - accuracy: 0.6211 - val_loss: 1.6716 - val_accuracy: 0.3700\n",
            "Epoch 4/16\n",
            "29/29 [==============================] - 5s 172ms/step - loss: 0.6668 - accuracy: 0.8122 - val_loss: 1.8567 - val_accuracy: 0.3500\n",
            "Epoch 5/16\n",
            "29/29 [==============================] - 5s 173ms/step - loss: 0.4611 - accuracy: 0.8833 - val_loss: 1.7572 - val_accuracy: 0.4400\n",
            "Epoch 6/16\n",
            "29/29 [==============================] - 5s 180ms/step - loss: 0.2967 - accuracy: 0.9233 - val_loss: 1.8653 - val_accuracy: 0.4300\n",
            "Epoch 7/16\n",
            "29/29 [==============================] - 5s 180ms/step - loss: 0.1958 - accuracy: 0.9544 - val_loss: 2.0606 - val_accuracy: 0.3900\n",
            "Epoch 8/16\n",
            "29/29 [==============================] - 5s 177ms/step - loss: 0.1670 - accuracy: 0.9756 - val_loss: 2.0143 - val_accuracy: 0.4500\n",
            "Epoch 9/16\n",
            "29/29 [==============================] - 5s 183ms/step - loss: 0.1291 - accuracy: 0.9700 - val_loss: 2.1658 - val_accuracy: 0.4400\n",
            "Epoch 10/16\n",
            "29/29 [==============================] - 5s 171ms/step - loss: 0.1030 - accuracy: 0.9889 - val_loss: 2.4805 - val_accuracy: 0.4200\n",
            "Epoch 11/16\n",
            "29/29 [==============================] - 5s 180ms/step - loss: 0.0841 - accuracy: 0.9878 - val_loss: 2.5383 - val_accuracy: 0.4300\n",
            "Epoch 12/16\n",
            "29/29 [==============================] - 5s 172ms/step - loss: 0.0640 - accuracy: 0.9933 - val_loss: 2.8400 - val_accuracy: 0.4000\n",
            "Epoch 13/16\n",
            "29/29 [==============================] - 5s 175ms/step - loss: 0.0678 - accuracy: 0.9889 - val_loss: 3.2458 - val_accuracy: 0.3300\n",
            "Epoch 14/16\n",
            "29/29 [==============================] - 5s 179ms/step - loss: 0.0802 - accuracy: 0.9856 - val_loss: 2.5311 - val_accuracy: 0.4400\n",
            "Epoch 15/16\n",
            "29/29 [==============================] - 5s 170ms/step - loss: 0.0864 - accuracy: 0.9844 - val_loss: 2.4432 - val_accuracy: 0.4500\n",
            "Epoch 16/16\n",
            "29/29 [==============================] - 5s 176ms/step - loss: 0.0599 - accuracy: 0.9911 - val_loss: 2.6261 - val_accuracy: 0.3900\n"
          ]
        },
        {
          "metadata": {
            "tags": null
          },
          "name": "stderr",
          "output_type": "stream",
          "text": [
            "/usr/local/lib/python3.10/dist-packages/keras/src/engine/training.py:3079: UserWarning: You are saving your model as an HDF5 file via `model.save()`. This file format is considered legacy. We recommend using instead the native Keras format, e.g. `model.save('my_model.keras')`.\n",
            "  saving_api.save_model(\n"
          ]
        },
        {
          "metadata": {
            "tags": null
          },
          "name": "stdout",
          "output_type": "stream",
          "text": [
            "Epoch 1/16\n",
            "29/29 [==============================] - 10s 209ms/step - loss: 1.8240 - accuracy: 0.2533 - val_loss: 1.6898 - val_accuracy: 0.2800\n",
            "Epoch 2/16\n",
            "29/29 [==============================] - 5s 178ms/step - loss: 1.6596 - accuracy: 0.2633 - val_loss: 1.6581 - val_accuracy: 0.4100\n",
            "Epoch 3/16\n",
            "29/29 [==============================] - 5s 170ms/step - loss: 1.5204 - accuracy: 0.4500 - val_loss: 1.5408 - val_accuracy: 0.3800\n",
            "Epoch 4/16\n",
            "29/29 [==============================] - 5s 181ms/step - loss: 1.2215 - accuracy: 0.5611 - val_loss: 1.6286 - val_accuracy: 0.4000\n",
            "Epoch 5/16\n",
            "29/29 [==============================] - 5s 180ms/step - loss: 0.8897 - accuracy: 0.7111 - val_loss: 1.7627 - val_accuracy: 0.3700\n",
            "Epoch 6/16\n",
            "29/29 [==============================] - 5s 174ms/step - loss: 0.6070 - accuracy: 0.8344 - val_loss: 1.8691 - val_accuracy: 0.3400\n",
            "Epoch 7/16\n",
            "29/29 [==============================] - 5s 190ms/step - loss: 0.3960 - accuracy: 0.8889 - val_loss: 2.0253 - val_accuracy: 0.3500\n",
            "Epoch 8/16\n",
            "29/29 [==============================] - 5s 171ms/step - loss: 0.2559 - accuracy: 0.9300 - val_loss: 2.1737 - val_accuracy: 0.4000\n",
            "Epoch 9/16\n",
            "29/29 [==============================] - 5s 177ms/step - loss: 0.2149 - accuracy: 0.9389 - val_loss: 2.2903 - val_accuracy: 0.4100\n",
            "Epoch 10/16\n",
            "29/29 [==============================] - 5s 177ms/step - loss: 0.1787 - accuracy: 0.9500 - val_loss: 2.2563 - val_accuracy: 0.3500\n",
            "Epoch 11/16\n",
            "29/29 [==============================] - 5s 172ms/step - loss: 0.1892 - accuracy: 0.9478 - val_loss: 2.3671 - val_accuracy: 0.4100\n",
            "Epoch 12/16\n",
            "29/29 [==============================] - 5s 172ms/step - loss: 0.1318 - accuracy: 0.9644 - val_loss: 2.4791 - val_accuracy: 0.3000\n",
            "Epoch 13/16\n",
            "29/29 [==============================] - 5s 184ms/step - loss: 0.1758 - accuracy: 0.9522 - val_loss: 2.7248 - val_accuracy: 0.3400\n",
            "Epoch 14/16\n",
            "29/29 [==============================] - 5s 175ms/step - loss: 0.1292 - accuracy: 0.9633 - val_loss: 2.6829 - val_accuracy: 0.3800\n",
            "Epoch 15/16\n",
            "29/29 [==============================] - 5s 186ms/step - loss: 0.1045 - accuracy: 0.9678 - val_loss: 2.8776 - val_accuracy: 0.3700\n",
            "Epoch 16/16\n",
            "29/29 [==============================] - 5s 176ms/step - loss: 0.1006 - accuracy: 0.9700 - val_loss: 2.8219 - val_accuracy: 0.3800\n"
          ]
        },
        {
          "metadata": {
            "tags": null
          },
          "name": "stderr",
          "output_type": "stream",
          "text": [
            "/usr/local/lib/python3.10/dist-packages/keras/src/engine/training.py:3079: UserWarning: You are saving your model as an HDF5 file via `model.save()`. This file format is considered legacy. We recommend using instead the native Keras format, e.g. `model.save('my_model.keras')`.\n",
            "  saving_api.save_model(\n"
          ]
        },
        {
          "metadata": {
            "tags": null
          },
          "name": "stdout",
          "output_type": "stream",
          "text": [
            "Epoch 1/16\n",
            "29/29 [==============================] - 10s 210ms/step - loss: 1.5461 - accuracy: 0.4411 - val_loss: 1.3693 - val_accuracy: 0.3500\n",
            "Epoch 2/16\n",
            "29/29 [==============================] - 5s 172ms/step - loss: 1.0408 - accuracy: 0.6078 - val_loss: 1.1986 - val_accuracy: 0.5500\n",
            "Epoch 3/16\n",
            "29/29 [==============================] - 5s 172ms/step - loss: 0.6914 - accuracy: 0.7644 - val_loss: 1.3076 - val_accuracy: 0.5700\n",
            "Epoch 4/16\n",
            "29/29 [==============================] - 5s 174ms/step - loss: 0.4701 - accuracy: 0.8522 - val_loss: 1.5650 - val_accuracy: 0.5400\n",
            "Epoch 5/16\n",
            "29/29 [==============================] - 5s 169ms/step - loss: 0.3658 - accuracy: 0.8733 - val_loss: 1.5574 - val_accuracy: 0.5700\n",
            "Epoch 6/16\n",
            "29/29 [==============================] - 5s 175ms/step - loss: 0.2896 - accuracy: 0.8856 - val_loss: 1.6799 - val_accuracy: 0.5800\n",
            "Epoch 7/16\n",
            "29/29 [==============================] - 5s 175ms/step - loss: 0.2445 - accuracy: 0.9167 - val_loss: 1.7278 - val_accuracy: 0.5400\n",
            "Epoch 8/16\n",
            "29/29 [==============================] - 5s 167ms/step - loss: 0.2156 - accuracy: 0.9244 - val_loss: 1.5966 - val_accuracy: 0.5900\n",
            "Epoch 9/16\n",
            "29/29 [==============================] - 5s 178ms/step - loss: 0.1881 - accuracy: 0.9267 - val_loss: 1.6286 - val_accuracy: 0.6000\n",
            "Epoch 10/16\n",
            "29/29 [==============================] - 5s 169ms/step - loss: 0.1600 - accuracy: 0.9378 - val_loss: 1.8144 - val_accuracy: 0.5900\n",
            "Epoch 11/16\n",
            "29/29 [==============================] - 5s 167ms/step - loss: 0.1694 - accuracy: 0.9444 - val_loss: 1.8354 - val_accuracy: 0.6300\n",
            "Epoch 12/16\n",
            "29/29 [==============================] - 5s 173ms/step - loss: 0.1463 - accuracy: 0.9533 - val_loss: 1.7921 - val_accuracy: 0.6000\n",
            "Epoch 13/16\n",
            "29/29 [==============================] - 5s 170ms/step - loss: 0.1322 - accuracy: 0.9600 - val_loss: 1.7881 - val_accuracy: 0.6300\n",
            "Epoch 14/16\n",
            "29/29 [==============================] - 5s 173ms/step - loss: 0.1134 - accuracy: 0.9667 - val_loss: 1.7842 - val_accuracy: 0.6100\n",
            "Epoch 15/16\n",
            "29/29 [==============================] - 5s 174ms/step - loss: 0.0976 - accuracy: 0.9700 - val_loss: 1.7998 - val_accuracy: 0.6000\n",
            "Epoch 16/16\n",
            "29/29 [==============================] - 5s 171ms/step - loss: 0.0935 - accuracy: 0.9833 - val_loss: 1.6413 - val_accuracy: 0.6200\n"
          ]
        },
        {
          "metadata": {
            "tags": null
          },
          "name": "stderr",
          "output_type": "stream",
          "text": [
            "/usr/local/lib/python3.10/dist-packages/keras/src/engine/training.py:3079: UserWarning: You are saving your model as an HDF5 file via `model.save()`. This file format is considered legacy. We recommend using instead the native Keras format, e.g. `model.save('my_model.keras')`.\n",
            "  saving_api.save_model(\n"
          ]
        },
        {
          "metadata": {
            "tags": null
          },
          "name": "stdout",
          "output_type": "stream",
          "text": [
            "Epoch 1/16\n",
            "29/29 [==============================] - 11s 213ms/step - loss: 1.7205 - accuracy: 0.3556 - val_loss: 1.4187 - val_accuracy: 0.3900\n",
            "Epoch 2/16\n",
            "29/29 [==============================] - 5s 177ms/step - loss: 1.4176 - accuracy: 0.3678 - val_loss: 1.2818 - val_accuracy: 0.4000\n",
            "Epoch 3/16\n",
            "29/29 [==============================] - 5s 175ms/step - loss: 1.1998 - accuracy: 0.5289 - val_loss: 1.3177 - val_accuracy: 0.4200\n",
            "Epoch 4/16\n",
            "29/29 [==============================] - 5s 174ms/step - loss: 0.8865 - accuracy: 0.6833 - val_loss: 1.5545 - val_accuracy: 0.4700\n",
            "Epoch 5/16\n",
            "29/29 [==============================] - 5s 176ms/step - loss: 0.6217 - accuracy: 0.7756 - val_loss: 1.6732 - val_accuracy: 0.4300\n",
            "Epoch 6/16\n",
            "29/29 [==============================] - 5s 172ms/step - loss: 0.4155 - accuracy: 0.8644 - val_loss: 2.0266 - val_accuracy: 0.4600\n",
            "Epoch 7/16\n",
            "29/29 [==============================] - 5s 174ms/step - loss: 0.3246 - accuracy: 0.9078 - val_loss: 2.1445 - val_accuracy: 0.4800\n",
            "Epoch 8/16\n",
            "29/29 [==============================] - 5s 177ms/step - loss: 0.2848 - accuracy: 0.9389 - val_loss: 2.1076 - val_accuracy: 0.4900\n",
            "Epoch 9/16\n",
            "29/29 [==============================] - 5s 172ms/step - loss: 0.2500 - accuracy: 0.9389 - val_loss: 2.4339 - val_accuracy: 0.4500\n",
            "Epoch 10/16\n",
            "29/29 [==============================] - 5s 178ms/step - loss: 0.1968 - accuracy: 0.9511 - val_loss: 2.1042 - val_accuracy: 0.4800\n",
            "Epoch 11/16\n",
            "29/29 [==============================] - 5s 178ms/step - loss: 0.1570 - accuracy: 0.9589 - val_loss: 2.6959 - val_accuracy: 0.4200\n",
            "Epoch 12/16\n",
            "29/29 [==============================] - 5s 179ms/step - loss: 0.1432 - accuracy: 0.9656 - val_loss: 2.4240 - val_accuracy: 0.4600\n",
            "Epoch 13/16\n",
            "29/29 [==============================] - 5s 183ms/step - loss: 0.1291 - accuracy: 0.9678 - val_loss: 2.5342 - val_accuracy: 0.4500\n",
            "Epoch 14/16\n",
            "29/29 [==============================] - 5s 177ms/step - loss: 0.1077 - accuracy: 0.9767 - val_loss: 2.4790 - val_accuracy: 0.4800\n",
            "Epoch 15/16\n",
            "29/29 [==============================] - 5s 178ms/step - loss: 0.0858 - accuracy: 0.9811 - val_loss: 2.4766 - val_accuracy: 0.4900\n",
            "Epoch 16/16\n",
            "29/29 [==============================] - 5s 178ms/step - loss: 0.0746 - accuracy: 0.9822 - val_loss: 2.5184 - val_accuracy: 0.4800\n"
          ]
        },
        {
          "metadata": {
            "tags": null
          },
          "name": "stderr",
          "output_type": "stream",
          "text": [
            "/usr/local/lib/python3.10/dist-packages/keras/src/engine/training.py:3079: UserWarning: You are saving your model as an HDF5 file via `model.save()`. This file format is considered legacy. We recommend using instead the native Keras format, e.g. `model.save('my_model.keras')`.\n",
            "  saving_api.save_model(\n"
          ]
        },
        {
          "metadata": {
            "tags": null
          },
          "name": "stdout",
          "output_type": "stream",
          "text": [
            "Epoch 1/16\n",
            "5/5 [==============================] - 6s 405ms/step - loss: 1.9374 - accuracy: 0.2810 - val_loss: 1.9230 - val_accuracy: 0.2941\n",
            "Epoch 2/16\n",
            "5/5 [==============================] - 1s 176ms/step - loss: 1.8920 - accuracy: 0.3464 - val_loss: 1.8818 - val_accuracy: 0.2941\n",
            "Epoch 3/16\n",
            "5/5 [==============================] - 1s 177ms/step - loss: 1.7872 - accuracy: 0.4118 - val_loss: 1.7758 - val_accuracy: 0.2941\n",
            "Epoch 4/16\n",
            "5/5 [==============================] - 1s 186ms/step - loss: 1.5397 - accuracy: 0.4706 - val_loss: 1.5758 - val_accuracy: 0.4118\n",
            "Epoch 5/16\n",
            "5/5 [==============================] - 1s 188ms/step - loss: 1.3222 - accuracy: 0.5163 - val_loss: 1.4214 - val_accuracy: 0.4706\n",
            "Epoch 6/16\n",
            "5/5 [==============================] - 1s 209ms/step - loss: 1.1911 - accuracy: 0.5163 - val_loss: 1.3551 - val_accuracy: 0.4706\n",
            "Epoch 7/16\n",
            "5/5 [==============================] - 1s 180ms/step - loss: 1.0727 - accuracy: 0.5425 - val_loss: 1.2310 - val_accuracy: 0.5294\n",
            "Epoch 8/16\n",
            "5/5 [==============================] - 1s 175ms/step - loss: 0.9542 - accuracy: 0.6340 - val_loss: 1.1728 - val_accuracy: 0.5882\n",
            "Epoch 9/16\n",
            "5/5 [==============================] - 1s 178ms/step - loss: 0.8414 - accuracy: 0.6863 - val_loss: 1.1054 - val_accuracy: 0.6471\n",
            "Epoch 10/16\n",
            "5/5 [==============================] - 1s 178ms/step - loss: 0.7558 - accuracy: 0.7255 - val_loss: 1.0394 - val_accuracy: 0.6471\n",
            "Epoch 11/16\n",
            "5/5 [==============================] - 1s 172ms/step - loss: 0.6870 - accuracy: 0.7386 - val_loss: 1.0112 - val_accuracy: 0.6471\n",
            "Epoch 12/16\n",
            "5/5 [==============================] - 1s 177ms/step - loss: 0.6142 - accuracy: 0.7582 - val_loss: 1.0112 - val_accuracy: 0.5882\n",
            "Epoch 13/16\n",
            "5/5 [==============================] - 1s 185ms/step - loss: 0.5617 - accuracy: 0.8366 - val_loss: 1.0631 - val_accuracy: 0.6471\n",
            "Epoch 14/16\n",
            "5/5 [==============================] - 1s 176ms/step - loss: 0.5058 - accuracy: 0.8954 - val_loss: 1.1769 - val_accuracy: 0.6471\n",
            "Epoch 15/16\n",
            "5/5 [==============================] - 1s 173ms/step - loss: 0.4391 - accuracy: 0.9150 - val_loss: 1.2042 - val_accuracy: 0.5882\n",
            "Epoch 16/16\n",
            "5/5 [==============================] - 1s 177ms/step - loss: 0.3668 - accuracy: 0.9412 - val_loss: 1.1362 - val_accuracy: 0.5294\n"
          ]
        },
        {
          "metadata": {
            "tags": null
          },
          "name": "stderr",
          "output_type": "stream",
          "text": [
            "/usr/local/lib/python3.10/dist-packages/keras/src/engine/training.py:3079: UserWarning: You are saving your model as an HDF5 file via `model.save()`. This file format is considered legacy. We recommend using instead the native Keras format, e.g. `model.save('my_model.keras')`.\n",
            "  saving_api.save_model(\n"
          ]
        },
        {
          "metadata": {
            "tags": null
          },
          "name": "stdout",
          "output_type": "stream",
          "text": [
            "Epoch 1/16\n",
            "29/29 [==============================] - 10s 210ms/step - loss: 1.6926 - accuracy: 0.3256 - val_loss: 1.4648 - val_accuracy: 0.1900\n",
            "Epoch 2/16\n",
            "29/29 [==============================] - 5s 179ms/step - loss: 1.4495 - accuracy: 0.3200 - val_loss: 1.3862 - val_accuracy: 0.4200\n",
            "Epoch 3/16\n",
            "29/29 [==============================] - 5s 175ms/step - loss: 1.3804 - accuracy: 0.3944 - val_loss: 1.4011 - val_accuracy: 0.3000\n",
            "Epoch 4/16\n",
            "29/29 [==============================] - 5s 171ms/step - loss: 1.1106 - accuracy: 0.5933 - val_loss: 1.3933 - val_accuracy: 0.4500\n",
            "Epoch 5/16\n",
            "29/29 [==============================] - 5s 180ms/step - loss: 0.6797 - accuracy: 0.7944 - val_loss: 1.5014 - val_accuracy: 0.4000\n",
            "Epoch 6/16\n",
            "29/29 [==============================] - 5s 170ms/step - loss: 0.4064 - accuracy: 0.8956 - val_loss: 1.9676 - val_accuracy: 0.3700\n",
            "Epoch 7/16\n",
            "29/29 [==============================] - 5s 167ms/step - loss: 0.2667 - accuracy: 0.9278 - val_loss: 2.0909 - val_accuracy: 0.4100\n",
            "Epoch 8/16\n",
            "29/29 [==============================] - 5s 176ms/step - loss: 0.2113 - accuracy: 0.9456 - val_loss: 2.2194 - val_accuracy: 0.3800\n",
            "Epoch 9/16\n",
            "29/29 [==============================] - 5s 171ms/step - loss: 0.1765 - accuracy: 0.9500 - val_loss: 2.2289 - val_accuracy: 0.3700\n",
            "Epoch 10/16\n",
            "29/29 [==============================] - 5s 177ms/step - loss: 0.1498 - accuracy: 0.9556 - val_loss: 2.3403 - val_accuracy: 0.4600\n",
            "Epoch 11/16\n",
            "29/29 [==============================] - 5s 175ms/step - loss: 0.1054 - accuracy: 0.9700 - val_loss: 2.4781 - val_accuracy: 0.4300\n",
            "Epoch 12/16\n",
            "29/29 [==============================] - 5s 169ms/step - loss: 0.0740 - accuracy: 0.9767 - val_loss: 2.7249 - val_accuracy: 0.4200\n",
            "Epoch 13/16\n",
            "29/29 [==============================] - 5s 171ms/step - loss: 0.0630 - accuracy: 0.9811 - val_loss: 2.7033 - val_accuracy: 0.4100\n",
            "Epoch 14/16\n",
            "29/29 [==============================] - 5s 170ms/step - loss: 0.0546 - accuracy: 0.9856 - val_loss: 2.8842 - val_accuracy: 0.4400\n",
            "Epoch 15/16\n",
            "29/29 [==============================] - 5s 169ms/step - loss: 0.0519 - accuracy: 0.9833 - val_loss: 2.7613 - val_accuracy: 0.4400\n",
            "Epoch 16/16\n",
            "29/29 [==============================] - 5s 178ms/step - loss: 0.0395 - accuracy: 0.9900 - val_loss: 2.9609 - val_accuracy: 0.4400\n"
          ]
        },
        {
          "metadata": {
            "tags": null
          },
          "name": "stderr",
          "output_type": "stream",
          "text": [
            "/usr/local/lib/python3.10/dist-packages/keras/src/engine/training.py:3079: UserWarning: You are saving your model as an HDF5 file via `model.save()`. This file format is considered legacy. We recommend using instead the native Keras format, e.g. `model.save('my_model.keras')`.\n",
            "  saving_api.save_model(\n"
          ]
        },
        {
          "metadata": {
            "tags": null
          },
          "name": "stdout",
          "output_type": "stream",
          "text": [
            "Epoch 1/16\n",
            "29/29 [==============================] - 10s 222ms/step - loss: 1.7313 - accuracy: 0.3322 - val_loss: 1.4753 - val_accuracy: 0.3900\n",
            "Epoch 2/16\n",
            "29/29 [==============================] - 5s 177ms/step - loss: 1.4895 - accuracy: 0.3800 - val_loss: 1.4181 - val_accuracy: 0.4500\n",
            "Epoch 3/16\n",
            "29/29 [==============================] - 5s 178ms/step - loss: 1.2348 - accuracy: 0.5411 - val_loss: 1.4021 - val_accuracy: 0.5100\n",
            "Epoch 4/16\n",
            "29/29 [==============================] - 5s 183ms/step - loss: 0.8363 - accuracy: 0.7111 - val_loss: 1.4827 - val_accuracy: 0.5100\n",
            "Epoch 5/16\n",
            "29/29 [==============================] - 5s 173ms/step - loss: 0.6366 - accuracy: 0.7600 - val_loss: 1.5472 - val_accuracy: 0.4600\n",
            "Epoch 6/16\n",
            "29/29 [==============================] - 5s 174ms/step - loss: 0.4461 - accuracy: 0.8578 - val_loss: 1.7054 - val_accuracy: 0.4300\n",
            "Epoch 7/16\n",
            "29/29 [==============================] - 5s 178ms/step - loss: 0.3005 - accuracy: 0.9222 - val_loss: 1.9353 - val_accuracy: 0.4000\n",
            "Epoch 8/16\n",
            "29/29 [==============================] - 5s 172ms/step - loss: 0.2372 - accuracy: 0.9333 - val_loss: 2.0056 - val_accuracy: 0.4100\n",
            "Epoch 9/16\n",
            "29/29 [==============================] - 5s 179ms/step - loss: 0.1945 - accuracy: 0.9400 - val_loss: 2.1441 - val_accuracy: 0.4300\n",
            "Epoch 10/16\n",
            "29/29 [==============================] - 5s 175ms/step - loss: 0.1587 - accuracy: 0.9467 - val_loss: 2.3325 - val_accuracy: 0.4000\n",
            "Epoch 11/16\n",
            "29/29 [==============================] - 5s 172ms/step - loss: 0.1363 - accuracy: 0.9667 - val_loss: 2.2840 - val_accuracy: 0.4000\n",
            "Epoch 12/16\n",
            "29/29 [==============================] - 5s 183ms/step - loss: 0.1302 - accuracy: 0.9667 - val_loss: 2.3650 - val_accuracy: 0.4200\n",
            "Epoch 13/16\n",
            "29/29 [==============================] - 5s 175ms/step - loss: 0.1102 - accuracy: 0.9744 - val_loss: 2.2785 - val_accuracy: 0.4200\n",
            "Epoch 14/16\n",
            "29/29 [==============================] - 5s 178ms/step - loss: 0.0995 - accuracy: 0.9756 - val_loss: 2.4257 - val_accuracy: 0.3600\n",
            "Epoch 15/16\n",
            "29/29 [==============================] - 5s 186ms/step - loss: 0.0826 - accuracy: 0.9778 - val_loss: 2.3461 - val_accuracy: 0.4400\n",
            "Epoch 16/16\n",
            "29/29 [==============================] - 5s 176ms/step - loss: 0.0682 - accuracy: 0.9778 - val_loss: 2.4500 - val_accuracy: 0.4200\n"
          ]
        },
        {
          "metadata": {
            "tags": null
          },
          "name": "stderr",
          "output_type": "stream",
          "text": [
            "/usr/local/lib/python3.10/dist-packages/keras/src/engine/training.py:3079: UserWarning: You are saving your model as an HDF5 file via `model.save()`. This file format is considered legacy. We recommend using instead the native Keras format, e.g. `model.save('my_model.keras')`.\n",
            "  saving_api.save_model(\n"
          ]
        },
        {
          "metadata": {
            "tags": null
          },
          "name": "stdout",
          "output_type": "stream",
          "text": [
            "Epoch 1/16\n",
            "2/2 [==============================] - 5s 1s/step - loss: 1.3804 - accuracy: 0.5532 - val_loss: 1.3456 - val_accuracy: 1.0000\n",
            "Epoch 2/16\n",
            "2/2 [==============================] - 0s 221ms/step - loss: 1.3443 - accuracy: 0.7872 - val_loss: 1.2933 - val_accuracy: 1.0000\n",
            "Epoch 3/16\n",
            "2/2 [==============================] - 0s 214ms/step - loss: 1.2937 - accuracy: 0.7872 - val_loss: 1.2155 - val_accuracy: 1.0000\n",
            "Epoch 4/16\n",
            "2/2 [==============================] - 0s 196ms/step - loss: 1.2196 - accuracy: 0.7872 - val_loss: 1.0933 - val_accuracy: 1.0000\n",
            "Epoch 5/16\n",
            "2/2 [==============================] - 0s 210ms/step - loss: 1.0996 - accuracy: 0.7872 - val_loss: 0.8922 - val_accuracy: 1.0000\n",
            "Epoch 6/16\n",
            "2/2 [==============================] - 0s 203ms/step - loss: 0.9101 - accuracy: 0.7872 - val_loss: 0.5815 - val_accuracy: 1.0000\n",
            "Epoch 7/16\n",
            "2/2 [==============================] - 0s 196ms/step - loss: 0.6697 - accuracy: 0.7872 - val_loss: 0.2586 - val_accuracy: 1.0000\n",
            "Epoch 8/16\n",
            "2/2 [==============================] - 0s 204ms/step - loss: 0.5136 - accuracy: 0.7872 - val_loss: 0.0981 - val_accuracy: 1.0000\n",
            "Epoch 9/16\n",
            "2/2 [==============================] - 0s 202ms/step - loss: 0.5108 - accuracy: 0.7872 - val_loss: 0.0579 - val_accuracy: 1.0000\n",
            "Epoch 10/16\n",
            "2/2 [==============================] - 0s 214ms/step - loss: 0.4640 - accuracy: 0.7872 - val_loss: 0.0533 - val_accuracy: 1.0000\n",
            "Epoch 11/16\n",
            "2/2 [==============================] - 0s 204ms/step - loss: 0.3721 - accuracy: 0.8298 - val_loss: 0.0603 - val_accuracy: 1.0000\n",
            "Epoch 12/16\n",
            "2/2 [==============================] - 0s 220ms/step - loss: 0.3112 - accuracy: 0.9149 - val_loss: 0.0683 - val_accuracy: 1.0000\n",
            "Epoch 13/16\n",
            "2/2 [==============================] - 0s 227ms/step - loss: 0.2939 - accuracy: 0.8936 - val_loss: 0.0712 - val_accuracy: 1.0000\n",
            "Epoch 14/16\n",
            "2/2 [==============================] - 0s 226ms/step - loss: 0.2854 - accuracy: 0.8511 - val_loss: 0.0683 - val_accuracy: 1.0000\n",
            "Epoch 15/16\n",
            "2/2 [==============================] - 0s 222ms/step - loss: 0.2774 - accuracy: 0.8511 - val_loss: 0.0615 - val_accuracy: 1.0000\n",
            "Epoch 16/16\n",
            "2/2 [==============================] - 0s 205ms/step - loss: 0.2652 - accuracy: 0.8298 - val_loss: 0.0544 - val_accuracy: 1.0000\n"
          ]
        },
        {
          "metadata": {
            "tags": null
          },
          "name": "stderr",
          "output_type": "stream",
          "text": [
            "/usr/local/lib/python3.10/dist-packages/keras/src/engine/training.py:3079: UserWarning: You are saving your model as an HDF5 file via `model.save()`. This file format is considered legacy. We recommend using instead the native Keras format, e.g. `model.save('my_model.keras')`.\n",
            "  saving_api.save_model(\n"
          ]
        },
        {
          "metadata": {
            "tags": null
          },
          "name": "stdout",
          "output_type": "stream",
          "text": [
            "Epoch 1/16\n",
            "29/29 [==============================] - 11s 210ms/step - loss: 1.7876 - accuracy: 0.2822 - val_loss: 1.5339 - val_accuracy: 0.2900\n",
            "Epoch 2/16\n",
            "29/29 [==============================] - 5s 171ms/step - loss: 1.5532 - accuracy: 0.3389 - val_loss: 1.5193 - val_accuracy: 0.3000\n",
            "Epoch 3/16\n",
            "29/29 [==============================] - 5s 178ms/step - loss: 1.3615 - accuracy: 0.4800 - val_loss: 1.4554 - val_accuracy: 0.3700\n",
            "Epoch 4/16\n",
            "29/29 [==============================] - 5s 177ms/step - loss: 0.8421 - accuracy: 0.7078 - val_loss: 1.6115 - val_accuracy: 0.3700\n",
            "Epoch 5/16\n",
            "29/29 [==============================] - 5s 179ms/step - loss: 0.5329 - accuracy: 0.8456 - val_loss: 1.6695 - val_accuracy: 0.3300\n",
            "Epoch 6/16\n",
            "29/29 [==============================] - 5s 184ms/step - loss: 0.3687 - accuracy: 0.8922 - val_loss: 1.8447 - val_accuracy: 0.3700\n",
            "Epoch 7/16\n",
            "29/29 [==============================] - 5s 178ms/step - loss: 0.2625 - accuracy: 0.9389 - val_loss: 2.0315 - val_accuracy: 0.3600\n",
            "Epoch 8/16\n",
            "29/29 [==============================] - 5s 185ms/step - loss: 0.2076 - accuracy: 0.9433 - val_loss: 2.3236 - val_accuracy: 0.3300\n",
            "Epoch 9/16\n",
            "29/29 [==============================] - 5s 176ms/step - loss: 0.1696 - accuracy: 0.9567 - val_loss: 2.4339 - val_accuracy: 0.3600\n",
            "Epoch 10/16\n",
            "29/29 [==============================] - 5s 177ms/step - loss: 0.1288 - accuracy: 0.9633 - val_loss: 2.5589 - val_accuracy: 0.3300\n",
            "Epoch 11/16\n",
            "29/29 [==============================] - 5s 179ms/step - loss: 0.1258 - accuracy: 0.9711 - val_loss: 2.5146 - val_accuracy: 0.3300\n",
            "Epoch 12/16\n",
            "29/29 [==============================] - 5s 175ms/step - loss: 0.1060 - accuracy: 0.9800 - val_loss: 2.7318 - val_accuracy: 0.3200\n",
            "Epoch 13/16\n",
            "29/29 [==============================] - 5s 178ms/step - loss: 0.1004 - accuracy: 0.9789 - val_loss: 2.6832 - val_accuracy: 0.3200\n",
            "Epoch 14/16\n",
            "29/29 [==============================] - 5s 178ms/step - loss: 0.0845 - accuracy: 0.9822 - val_loss: 2.8732 - val_accuracy: 0.3200\n",
            "Epoch 15/16\n",
            "29/29 [==============================] - 5s 178ms/step - loss: 0.0800 - accuracy: 0.9800 - val_loss: 3.0374 - val_accuracy: 0.2900\n",
            "Epoch 16/16\n",
            "29/29 [==============================] - 5s 179ms/step - loss: 0.0838 - accuracy: 0.9822 - val_loss: 2.8084 - val_accuracy: 0.3400\n"
          ]
        },
        {
          "metadata": {
            "tags": null
          },
          "name": "stderr",
          "output_type": "stream",
          "text": [
            "/usr/local/lib/python3.10/dist-packages/keras/src/engine/training.py:3079: UserWarning: You are saving your model as an HDF5 file via `model.save()`. This file format is considered legacy. We recommend using instead the native Keras format, e.g. `model.save('my_model.keras')`.\n",
            "  saving_api.save_model(\n"
          ]
        },
        {
          "metadata": {
            "tags": null
          },
          "name": "stdout",
          "output_type": "stream",
          "text": [
            "Epoch 1/16\n",
            "6/6 [==============================] - 6s 368ms/step - loss: 1.9341 - accuracy: 0.2865 - val_loss: 1.9115 - val_accuracy: 0.4000\n",
            "Epoch 2/16\n",
            "6/6 [==============================] - 1s 173ms/step - loss: 1.8721 - accuracy: 0.3933 - val_loss: 1.8433 - val_accuracy: 0.1500\n",
            "Epoch 3/16\n",
            "6/6 [==============================] - 1s 177ms/step - loss: 1.6882 - accuracy: 0.3146 - val_loss: 1.7531 - val_accuracy: 0.1500\n",
            "Epoch 4/16\n",
            "6/6 [==============================] - 1s 195ms/step - loss: 1.5338 - accuracy: 0.3371 - val_loss: 1.5555 - val_accuracy: 0.4500\n",
            "Epoch 5/16\n",
            "6/6 [==============================] - 1s 201ms/step - loss: 1.3785 - accuracy: 0.4888 - val_loss: 1.4625 - val_accuracy: 0.5000\n",
            "Epoch 6/16\n",
            "6/6 [==============================] - 1s 188ms/step - loss: 1.2088 - accuracy: 0.5337 - val_loss: 1.2747 - val_accuracy: 0.6000\n",
            "Epoch 7/16\n",
            "6/6 [==============================] - 1s 184ms/step - loss: 1.0790 - accuracy: 0.5674 - val_loss: 1.2356 - val_accuracy: 0.6000\n",
            "Epoch 8/16\n",
            "6/6 [==============================] - 1s 180ms/step - loss: 1.0064 - accuracy: 0.5674 - val_loss: 1.2391 - val_accuracy: 0.6500\n",
            "Epoch 9/16\n",
            "6/6 [==============================] - 1s 184ms/step - loss: 0.8874 - accuracy: 0.6910 - val_loss: 1.2888 - val_accuracy: 0.5000\n",
            "Epoch 10/16\n",
            "6/6 [==============================] - 1s 183ms/step - loss: 0.7826 - accuracy: 0.7865 - val_loss: 1.3983 - val_accuracy: 0.4500\n",
            "Epoch 11/16\n",
            "6/6 [==============================] - 1s 192ms/step - loss: 0.6602 - accuracy: 0.8202 - val_loss: 1.3473 - val_accuracy: 0.4000\n",
            "Epoch 12/16\n",
            "6/6 [==============================] - 2s 406ms/step - loss: 0.5548 - accuracy: 0.8483 - val_loss: 1.5986 - val_accuracy: 0.4500\n",
            "Epoch 13/16\n",
            "6/6 [==============================] - 3s 438ms/step - loss: 0.4557 - accuracy: 0.8596 - val_loss: 1.5663 - val_accuracy: 0.4500\n",
            "Epoch 14/16\n",
            "6/6 [==============================] - 2s 418ms/step - loss: 0.3995 - accuracy: 0.8820 - val_loss: 1.5912 - val_accuracy: 0.5000\n",
            "Epoch 15/16\n",
            "6/6 [==============================] - 2s 410ms/step - loss: 0.3250 - accuracy: 0.9157 - val_loss: 1.7545 - val_accuracy: 0.5000\n",
            "Epoch 16/16\n",
            "6/6 [==============================] - 3s 423ms/step - loss: 0.2871 - accuracy: 0.9270 - val_loss: 1.5913 - val_accuracy: 0.4500\n"
          ]
        },
        {
          "metadata": {
            "tags": null
          },
          "name": "stderr",
          "output_type": "stream",
          "text": [
            "/usr/local/lib/python3.10/dist-packages/keras/src/engine/training.py:3079: UserWarning: You are saving your model as an HDF5 file via `model.save()`. This file format is considered legacy. We recommend using instead the native Keras format, e.g. `model.save('my_model.keras')`.\n",
            "  saving_api.save_model(\n"
          ]
        },
        {
          "metadata": {
            "tags": null
          },
          "name": "stdout",
          "output_type": "stream",
          "text": [
            "Epoch 1/16\n",
            "29/29 [==============================] - 17s 450ms/step - loss: 1.5735 - accuracy: 0.5322 - val_loss: 1.2160 - val_accuracy: 0.5600\n",
            "Epoch 2/16\n",
            "29/29 [==============================] - 12s 412ms/step - loss: 1.2728 - accuracy: 0.5578 - val_loss: 1.2026 - val_accuracy: 0.5600\n",
            "Epoch 3/16\n",
            "29/29 [==============================] - 12s 401ms/step - loss: 1.1569 - accuracy: 0.5633 - val_loss: 1.0984 - val_accuracy: 0.5700\n",
            "Epoch 4/16\n",
            "29/29 [==============================] - 12s 397ms/step - loss: 0.7939 - accuracy: 0.6900 - val_loss: 1.1718 - val_accuracy: 0.6200\n",
            "Epoch 5/16\n",
            "29/29 [==============================] - 12s 412ms/step - loss: 0.4718 - accuracy: 0.8411 - val_loss: 1.3146 - val_accuracy: 0.5500\n",
            "Epoch 6/16\n",
            "29/29 [==============================] - 12s 419ms/step - loss: 0.3421 - accuracy: 0.8789 - val_loss: 1.3413 - val_accuracy: 0.5600\n",
            "Epoch 7/16\n",
            "29/29 [==============================] - 12s 406ms/step - loss: 0.2696 - accuracy: 0.9122 - val_loss: 1.3333 - val_accuracy: 0.5400\n",
            "Epoch 8/16\n",
            "29/29 [==============================] - 6s 196ms/step - loss: 0.2294 - accuracy: 0.9222 - val_loss: 1.5343 - val_accuracy: 0.5600\n",
            "Epoch 9/16\n",
            "29/29 [==============================] - 6s 195ms/step - loss: 0.2014 - accuracy: 0.9311 - val_loss: 1.6287 - val_accuracy: 0.5400\n",
            "Epoch 10/16\n",
            "29/29 [==============================] - 6s 191ms/step - loss: 0.1730 - accuracy: 0.9389 - val_loss: 1.8399 - val_accuracy: 0.5800\n",
            "Epoch 11/16\n",
            "29/29 [==============================] - 6s 200ms/step - loss: 0.1512 - accuracy: 0.9556 - val_loss: 1.4888 - val_accuracy: 0.5500\n",
            "Epoch 12/16\n",
            "29/29 [==============================] - 6s 191ms/step - loss: 0.1432 - accuracy: 0.9522 - val_loss: 1.6557 - val_accuracy: 0.5800\n",
            "Epoch 13/16\n",
            "29/29 [==============================] - 6s 196ms/step - loss: 0.1180 - accuracy: 0.9711 - val_loss: 1.6757 - val_accuracy: 0.5800\n",
            "Epoch 14/16\n",
            "29/29 [==============================] - 6s 190ms/step - loss: 0.1041 - accuracy: 0.9711 - val_loss: 1.6344 - val_accuracy: 0.5900\n",
            "Epoch 15/16\n",
            "29/29 [==============================] - 6s 193ms/step - loss: 0.0815 - accuracy: 0.9744 - val_loss: 1.8252 - val_accuracy: 0.5700\n",
            "Epoch 16/16\n",
            "29/29 [==============================] - 6s 193ms/step - loss: 0.0798 - accuracy: 0.9778 - val_loss: 1.8262 - val_accuracy: 0.6100\n"
          ]
        },
        {
          "metadata": {
            "tags": null
          },
          "name": "stderr",
          "output_type": "stream",
          "text": [
            "/usr/local/lib/python3.10/dist-packages/keras/src/engine/training.py:3079: UserWarning: You are saving your model as an HDF5 file via `model.save()`. This file format is considered legacy. We recommend using instead the native Keras format, e.g. `model.save('my_model.keras')`.\n",
            "  saving_api.save_model(\n"
          ]
        },
        {
          "metadata": {
            "tags": null
          },
          "name": "stdout",
          "output_type": "stream",
          "text": [
            "Epoch 1/16\n",
            "7/7 [==============================] - 8s 358ms/step - loss: 1.7811 - accuracy: 0.3317 - val_loss: 1.7753 - val_accuracy: 0.3333\n",
            "Epoch 2/16\n",
            "7/7 [==============================] - 1s 206ms/step - loss: 1.7187 - accuracy: 0.4183 - val_loss: 1.7384 - val_accuracy: 0.3333\n",
            "Epoch 3/16\n",
            "7/7 [==============================] - 1s 199ms/step - loss: 1.5758 - accuracy: 0.4183 - val_loss: 1.7858 - val_accuracy: 0.3333\n",
            "Epoch 4/16\n",
            "7/7 [==============================] - 1s 188ms/step - loss: 1.4374 - accuracy: 0.4183 - val_loss: 1.6449 - val_accuracy: 0.2917\n",
            "Epoch 5/16\n",
            "7/7 [==============================] - 1s 184ms/step - loss: 1.2365 - accuracy: 0.5048 - val_loss: 1.7738 - val_accuracy: 0.3333\n",
            "Epoch 6/16\n",
            "7/7 [==============================] - 1s 184ms/step - loss: 1.0211 - accuracy: 0.6394 - val_loss: 1.7744 - val_accuracy: 0.3333\n",
            "Epoch 7/16\n",
            "7/7 [==============================] - 1s 185ms/step - loss: 0.8881 - accuracy: 0.7596 - val_loss: 1.9314 - val_accuracy: 0.4167\n",
            "Epoch 8/16\n",
            "7/7 [==============================] - 1s 182ms/step - loss: 0.7880 - accuracy: 0.7644 - val_loss: 1.9772 - val_accuracy: 0.2917\n",
            "Epoch 9/16\n",
            "7/7 [==============================] - 1s 185ms/step - loss: 0.7130 - accuracy: 0.7692 - val_loss: 2.0736 - val_accuracy: 0.2917\n",
            "Epoch 10/16\n",
            "7/7 [==============================] - 1s 191ms/step - loss: 0.6630 - accuracy: 0.7837 - val_loss: 2.1064 - val_accuracy: 0.3333\n",
            "Epoch 11/16\n",
            "7/7 [==============================] - 1s 203ms/step - loss: 0.6129 - accuracy: 0.7788 - val_loss: 2.1598 - val_accuracy: 0.3333\n",
            "Epoch 12/16\n",
            "7/7 [==============================] - 1s 211ms/step - loss: 0.5628 - accuracy: 0.7933 - val_loss: 2.2330 - val_accuracy: 0.3333\n",
            "Epoch 13/16\n",
            "7/7 [==============================] - 1s 196ms/step - loss: 0.5632 - accuracy: 0.7788 - val_loss: 2.3128 - val_accuracy: 0.3333\n",
            "Epoch 14/16\n",
            "7/7 [==============================] - 1s 187ms/step - loss: 0.5432 - accuracy: 0.7692 - val_loss: 2.2717 - val_accuracy: 0.3333\n",
            "Epoch 15/16\n",
            "7/7 [==============================] - 1s 184ms/step - loss: 0.4896 - accuracy: 0.8125 - val_loss: 2.3096 - val_accuracy: 0.2917\n",
            "Epoch 16/16\n",
            "7/7 [==============================] - 1s 190ms/step - loss: 0.4321 - accuracy: 0.8702 - val_loss: 2.4061 - val_accuracy: 0.2500\n"
          ]
        },
        {
          "metadata": {
            "tags": null
          },
          "name": "stderr",
          "output_type": "stream",
          "text": [
            "/usr/local/lib/python3.10/dist-packages/keras/src/engine/training.py:3079: UserWarning: You are saving your model as an HDF5 file via `model.save()`. This file format is considered legacy. We recommend using instead the native Keras format, e.g. `model.save('my_model.keras')`.\n",
            "  saving_api.save_model(\n"
          ]
        },
        {
          "metadata": {
            "tags": null
          },
          "name": "stdout",
          "output_type": "stream",
          "text": [
            "Epoch 1/16\n",
            "29/29 [==============================] - 10s 218ms/step - loss: 1.5919 - accuracy: 0.5367 - val_loss: 1.2206 - val_accuracy: 0.5700\n",
            "Epoch 2/16\n",
            "29/29 [==============================] - 5s 184ms/step - loss: 1.2199 - accuracy: 0.5644 - val_loss: 1.1795 - val_accuracy: 0.5800\n",
            "Epoch 3/16\n",
            "29/29 [==============================] - 5s 175ms/step - loss: 1.0142 - accuracy: 0.6033 - val_loss: 1.1983 - val_accuracy: 0.5900\n",
            "Epoch 4/16\n",
            "29/29 [==============================] - 5s 175ms/step - loss: 0.7544 - accuracy: 0.7467 - val_loss: 1.5678 - val_accuracy: 0.3500\n",
            "Epoch 5/16\n",
            "29/29 [==============================] - 5s 181ms/step - loss: 0.5762 - accuracy: 0.8011 - val_loss: 1.5013 - val_accuracy: 0.5300\n",
            "Epoch 6/16\n",
            "29/29 [==============================] - 5s 180ms/step - loss: 0.4504 - accuracy: 0.8656 - val_loss: 1.6940 - val_accuracy: 0.5600\n",
            "Epoch 7/16\n",
            "29/29 [==============================] - 5s 187ms/step - loss: 0.3405 - accuracy: 0.8944 - val_loss: 1.6927 - val_accuracy: 0.4900\n",
            "Epoch 8/16\n",
            "29/29 [==============================] - 5s 182ms/step - loss: 0.3021 - accuracy: 0.9167 - val_loss: 1.8111 - val_accuracy: 0.4300\n",
            "Epoch 9/16\n",
            "29/29 [==============================] - 5s 178ms/step - loss: 0.2348 - accuracy: 0.9344 - val_loss: 1.8108 - val_accuracy: 0.5700\n",
            "Epoch 10/16\n",
            "29/29 [==============================] - 5s 183ms/step - loss: 0.2415 - accuracy: 0.9256 - val_loss: 1.7303 - val_accuracy: 0.5100\n",
            "Epoch 11/16\n",
            "29/29 [==============================] - 5s 178ms/step - loss: 0.2118 - accuracy: 0.9333 - val_loss: 1.9151 - val_accuracy: 0.5000\n",
            "Epoch 12/16\n",
            "29/29 [==============================] - 5s 178ms/step - loss: 0.1537 - accuracy: 0.9544 - val_loss: 1.9980 - val_accuracy: 0.5200\n",
            "Epoch 13/16\n",
            "29/29 [==============================] - 5s 183ms/step - loss: 0.1361 - accuracy: 0.9656 - val_loss: 2.0278 - val_accuracy: 0.5100\n",
            "Epoch 14/16\n",
            "29/29 [==============================] - 5s 176ms/step - loss: 0.1373 - accuracy: 0.9611 - val_loss: 1.9784 - val_accuracy: 0.5300\n",
            "Epoch 15/16\n",
            "29/29 [==============================] - 5s 182ms/step - loss: 0.0998 - accuracy: 0.9756 - val_loss: 2.1408 - val_accuracy: 0.5000\n",
            "Epoch 16/16\n",
            "29/29 [==============================] - 5s 184ms/step - loss: 0.0880 - accuracy: 0.9744 - val_loss: 2.1343 - val_accuracy: 0.4700\n"
          ]
        },
        {
          "metadata": {
            "tags": null
          },
          "name": "stderr",
          "output_type": "stream",
          "text": [
            "/usr/local/lib/python3.10/dist-packages/keras/src/engine/training.py:3079: UserWarning: You are saving your model as an HDF5 file via `model.save()`. This file format is considered legacy. We recommend using instead the native Keras format, e.g. `model.save('my_model.keras')`.\n",
            "  saving_api.save_model(\n"
          ]
        },
        {
          "metadata": {
            "tags": null
          },
          "name": "stdout",
          "output_type": "stream",
          "text": [
            "Epoch 1/16\n",
            "29/29 [==============================] - 10s 208ms/step - loss: 1.7801 - accuracy: 0.3956 - val_loss: 1.5423 - val_accuracy: 0.4600\n",
            "Epoch 2/16\n",
            "29/29 [==============================] - 5s 180ms/step - loss: 1.5880 - accuracy: 0.4078 - val_loss: 1.5296 - val_accuracy: 0.4800\n",
            "Epoch 3/16\n",
            "29/29 [==============================] - 5s 174ms/step - loss: 1.2952 - accuracy: 0.4889 - val_loss: 1.5339 - val_accuracy: 0.5000\n",
            "Epoch 4/16\n",
            "29/29 [==============================] - 5s 170ms/step - loss: 0.9796 - accuracy: 0.6911 - val_loss: 1.7185 - val_accuracy: 0.3800\n",
            "Epoch 5/16\n",
            "29/29 [==============================] - 5s 187ms/step - loss: 0.7353 - accuracy: 0.7578 - val_loss: 1.9566 - val_accuracy: 0.3600\n",
            "Epoch 6/16\n",
            "29/29 [==============================] - 5s 178ms/step - loss: 0.4710 - accuracy: 0.8389 - val_loss: 2.0754 - val_accuracy: 0.4100\n",
            "Epoch 7/16\n",
            "29/29 [==============================] - 5s 179ms/step - loss: 0.2681 - accuracy: 0.9433 - val_loss: 2.1553 - val_accuracy: 0.4200\n",
            "Epoch 8/16\n",
            "29/29 [==============================] - 5s 181ms/step - loss: 0.1690 - accuracy: 0.9600 - val_loss: 2.1980 - val_accuracy: 0.3800\n",
            "Epoch 9/16\n",
            "29/29 [==============================] - 5s 174ms/step - loss: 0.1309 - accuracy: 0.9711 - val_loss: 2.3838 - val_accuracy: 0.3700\n",
            "Epoch 10/16\n",
            "29/29 [==============================] - 5s 176ms/step - loss: 0.1368 - accuracy: 0.9678 - val_loss: 2.3319 - val_accuracy: 0.3500\n",
            "Epoch 11/16\n",
            "29/29 [==============================] - 5s 175ms/step - loss: 0.1204 - accuracy: 0.9756 - val_loss: 2.2549 - val_accuracy: 0.4500\n",
            "Epoch 12/16\n",
            "29/29 [==============================] - 5s 173ms/step - loss: 0.1058 - accuracy: 0.9756 - val_loss: 2.3674 - val_accuracy: 0.4300\n",
            "Epoch 13/16\n",
            "29/29 [==============================] - 5s 187ms/step - loss: 0.0778 - accuracy: 0.9889 - val_loss: 2.6137 - val_accuracy: 0.3800\n",
            "Epoch 14/16\n",
            "29/29 [==============================] - 5s 174ms/step - loss: 0.0599 - accuracy: 0.9900 - val_loss: 2.7737 - val_accuracy: 0.3700\n",
            "Epoch 15/16\n",
            "29/29 [==============================] - 5s 175ms/step - loss: 0.0402 - accuracy: 0.9967 - val_loss: 2.7335 - val_accuracy: 0.4100\n",
            "Epoch 16/16\n",
            "29/29 [==============================] - 5s 180ms/step - loss: 0.0353 - accuracy: 0.9944 - val_loss: 2.7686 - val_accuracy: 0.4300\n"
          ]
        },
        {
          "metadata": {
            "tags": null
          },
          "name": "stderr",
          "output_type": "stream",
          "text": [
            "/usr/local/lib/python3.10/dist-packages/keras/src/engine/training.py:3079: UserWarning: You are saving your model as an HDF5 file via `model.save()`. This file format is considered legacy. We recommend using instead the native Keras format, e.g. `model.save('my_model.keras')`.\n",
            "  saving_api.save_model(\n"
          ]
        },
        {
          "metadata": {
            "tags": null
          },
          "name": "stdout",
          "output_type": "stream",
          "text": [
            "Epoch 1/16\n",
            "29/29 [==============================] - 11s 227ms/step - loss: 1.5792 - accuracy: 0.5389 - val_loss: 1.4049 - val_accuracy: 0.5200\n",
            "Epoch 2/16\n",
            "29/29 [==============================] - 5s 188ms/step - loss: 1.2627 - accuracy: 0.5522 - val_loss: 1.3586 - val_accuracy: 0.5200\n",
            "Epoch 3/16\n",
            "29/29 [==============================] - 6s 192ms/step - loss: 1.0898 - accuracy: 0.5700 - val_loss: 1.3091 - val_accuracy: 0.5100\n",
            "Epoch 4/16\n",
            "29/29 [==============================] - 5s 187ms/step - loss: 0.7883 - accuracy: 0.7300 - val_loss: 1.5131 - val_accuracy: 0.4400\n",
            "Epoch 5/16\n",
            "29/29 [==============================] - 5s 187ms/step - loss: 0.5489 - accuracy: 0.8133 - val_loss: 1.6687 - val_accuracy: 0.4500\n",
            "Epoch 6/16\n",
            "29/29 [==============================] - 5s 188ms/step - loss: 0.3468 - accuracy: 0.8856 - val_loss: 1.9142 - val_accuracy: 0.3900\n",
            "Epoch 7/16\n",
            "29/29 [==============================] - 5s 183ms/step - loss: 0.2698 - accuracy: 0.9289 - val_loss: 2.2077 - val_accuracy: 0.4800\n",
            "Epoch 8/16\n",
            "29/29 [==============================] - 5s 184ms/step - loss: 0.2731 - accuracy: 0.9067 - val_loss: 2.0204 - val_accuracy: 0.4500\n",
            "Epoch 9/16\n",
            "29/29 [==============================] - 5s 186ms/step - loss: 0.1927 - accuracy: 0.9444 - val_loss: 2.3710 - val_accuracy: 0.4200\n",
            "Epoch 10/16\n",
            "29/29 [==============================] - 5s 185ms/step - loss: 0.1615 - accuracy: 0.9544 - val_loss: 2.3792 - val_accuracy: 0.4000\n",
            "Epoch 11/16\n",
            "29/29 [==============================] - 6s 193ms/step - loss: 0.1375 - accuracy: 0.9600 - val_loss: 2.5298 - val_accuracy: 0.4200\n",
            "Epoch 12/16\n",
            "29/29 [==============================] - 6s 192ms/step - loss: 0.1156 - accuracy: 0.9622 - val_loss: 2.6784 - val_accuracy: 0.4300\n",
            "Epoch 13/16\n",
            "29/29 [==============================] - 5s 186ms/step - loss: 0.1002 - accuracy: 0.9700 - val_loss: 2.7497 - val_accuracy: 0.4200\n",
            "Epoch 14/16\n",
            "29/29 [==============================] - 5s 189ms/step - loss: 0.0953 - accuracy: 0.9733 - val_loss: 2.7856 - val_accuracy: 0.4500\n",
            "Epoch 15/16\n",
            "29/29 [==============================] - 5s 183ms/step - loss: 0.0944 - accuracy: 0.9733 - val_loss: 2.9009 - val_accuracy: 0.3600\n",
            "Epoch 16/16\n",
            "29/29 [==============================] - 6s 190ms/step - loss: 0.0778 - accuracy: 0.9822 - val_loss: 2.9334 - val_accuracy: 0.4300\n"
          ]
        },
        {
          "metadata": {
            "tags": null
          },
          "name": "stderr",
          "output_type": "stream",
          "text": [
            "/usr/local/lib/python3.10/dist-packages/keras/src/engine/training.py:3079: UserWarning: You are saving your model as an HDF5 file via `model.save()`. This file format is considered legacy. We recommend using instead the native Keras format, e.g. `model.save('my_model.keras')`.\n",
            "  saving_api.save_model(\n"
          ]
        },
        {
          "metadata": {
            "tags": null
          },
          "name": "stdout",
          "output_type": "stream",
          "text": [
            "Epoch 1/16\n",
            "11/11 [==============================] - 7s 270ms/step - loss: 1.8818 - accuracy: 0.5172 - val_loss: 1.7638 - val_accuracy: 0.4615\n",
            "Epoch 2/16\n",
            "11/11 [==============================] - 2s 186ms/step - loss: 1.4156 - accuracy: 0.5747 - val_loss: 1.3846 - val_accuracy: 0.4615\n",
            "Epoch 3/16\n",
            "11/11 [==============================] - 2s 202ms/step - loss: 1.1284 - accuracy: 0.5776 - val_loss: 1.2156 - val_accuracy: 0.4103\n",
            "Epoch 4/16\n",
            "11/11 [==============================] - 2s 179ms/step - loss: 0.9392 - accuracy: 0.6322 - val_loss: 1.1495 - val_accuracy: 0.4359\n",
            "Epoch 5/16\n",
            "11/11 [==============================] - 2s 173ms/step - loss: 0.7748 - accuracy: 0.7443 - val_loss: 1.0410 - val_accuracy: 0.5385\n",
            "Epoch 6/16\n",
            "11/11 [==============================] - 2s 180ms/step - loss: 0.6501 - accuracy: 0.7816 - val_loss: 1.1463 - val_accuracy: 0.5641\n",
            "Epoch 7/16\n",
            "11/11 [==============================] - 2s 182ms/step - loss: 0.5330 - accuracy: 0.8305 - val_loss: 1.1747 - val_accuracy: 0.5128\n",
            "Epoch 8/16\n",
            "11/11 [==============================] - 2s 175ms/step - loss: 0.4334 - accuracy: 0.8736 - val_loss: 1.3994 - val_accuracy: 0.4872\n",
            "Epoch 9/16\n",
            "11/11 [==============================] - 2s 184ms/step - loss: 0.3811 - accuracy: 0.8851 - val_loss: 1.3840 - val_accuracy: 0.4872\n",
            "Epoch 10/16\n",
            "11/11 [==============================] - 2s 187ms/step - loss: 0.3100 - accuracy: 0.8966 - val_loss: 1.3641 - val_accuracy: 0.5385\n",
            "Epoch 11/16\n",
            "11/11 [==============================] - 2s 174ms/step - loss: 0.2372 - accuracy: 0.9282 - val_loss: 1.5086 - val_accuracy: 0.5897\n",
            "Epoch 12/16\n",
            "11/11 [==============================] - 2s 173ms/step - loss: 0.1947 - accuracy: 0.9425 - val_loss: 1.5920 - val_accuracy: 0.5641\n",
            "Epoch 13/16\n",
            "11/11 [==============================] - 2s 174ms/step - loss: 0.1812 - accuracy: 0.9483 - val_loss: 1.8375 - val_accuracy: 0.5128\n",
            "Epoch 14/16\n",
            "11/11 [==============================] - 2s 172ms/step - loss: 0.1513 - accuracy: 0.9598 - val_loss: 1.7473 - val_accuracy: 0.5641\n",
            "Epoch 15/16\n",
            "11/11 [==============================] - 2s 176ms/step - loss: 0.1315 - accuracy: 0.9483 - val_loss: 2.0329 - val_accuracy: 0.5128\n",
            "Epoch 16/16\n",
            "11/11 [==============================] - 2s 183ms/step - loss: 0.1426 - accuracy: 0.9713 - val_loss: 1.6820 - val_accuracy: 0.6154\n"
          ]
        },
        {
          "metadata": {
            "tags": null
          },
          "name": "stderr",
          "output_type": "stream",
          "text": [
            "/usr/local/lib/python3.10/dist-packages/keras/src/engine/training.py:3079: UserWarning: You are saving your model as an HDF5 file via `model.save()`. This file format is considered legacy. We recommend using instead the native Keras format, e.g. `model.save('my_model.keras')`.\n",
            "  saving_api.save_model(\n"
          ]
        },
        {
          "metadata": {
            "tags": null
          },
          "name": "stdout",
          "output_type": "stream",
          "text": [
            "Epoch 1/16\n",
            "29/29 [==============================] - 11s 216ms/step - loss: 1.4430 - accuracy: 0.7033 - val_loss: 1.0547 - val_accuracy: 0.6900\n",
            "Epoch 2/16\n",
            "29/29 [==============================] - 5s 175ms/step - loss: 0.9477 - accuracy: 0.7289 - val_loss: 0.9968 - val_accuracy: 0.6900\n",
            "Epoch 3/16\n",
            "29/29 [==============================] - 5s 178ms/step - loss: 0.8345 - accuracy: 0.7333 - val_loss: 0.9221 - val_accuracy: 0.6900\n",
            "Epoch 4/16\n",
            "29/29 [==============================] - 5s 173ms/step - loss: 0.6732 - accuracy: 0.7811 - val_loss: 0.9303 - val_accuracy: 0.6800\n",
            "Epoch 5/16\n",
            "29/29 [==============================] - 5s 178ms/step - loss: 0.5284 - accuracy: 0.8211 - val_loss: 0.9972 - val_accuracy: 0.6700\n",
            "Epoch 6/16\n",
            "29/29 [==============================] - 5s 184ms/step - loss: 0.4462 - accuracy: 0.8544 - val_loss: 1.0009 - val_accuracy: 0.6500\n",
            "Epoch 7/16\n",
            "29/29 [==============================] - 5s 177ms/step - loss: 0.3503 - accuracy: 0.9011 - val_loss: 1.0680 - val_accuracy: 0.7000\n",
            "Epoch 8/16\n",
            "29/29 [==============================] - 5s 186ms/step - loss: 0.2877 - accuracy: 0.9211 - val_loss: 1.2280 - val_accuracy: 0.6900\n",
            "Epoch 9/16\n",
            "29/29 [==============================] - 5s 179ms/step - loss: 0.2535 - accuracy: 0.9311 - val_loss: 1.2153 - val_accuracy: 0.7000\n",
            "Epoch 10/16\n",
            "29/29 [==============================] - 5s 178ms/step - loss: 0.1952 - accuracy: 0.9367 - val_loss: 1.2647 - val_accuracy: 0.6600\n",
            "Epoch 11/16\n",
            "29/29 [==============================] - 5s 179ms/step - loss: 0.1754 - accuracy: 0.9533 - val_loss: 1.4082 - val_accuracy: 0.6700\n",
            "Epoch 12/16\n",
            "29/29 [==============================] - 5s 178ms/step - loss: 0.1878 - accuracy: 0.9467 - val_loss: 1.2779 - val_accuracy: 0.7100\n",
            "Epoch 13/16\n",
            "29/29 [==============================] - 8s 272ms/step - loss: 0.1784 - accuracy: 0.9544 - val_loss: 1.3320 - val_accuracy: 0.6900\n",
            "Epoch 14/16\n",
            "29/29 [==============================] - 12s 398ms/step - loss: 0.1408 - accuracy: 0.9544 - val_loss: 1.3928 - val_accuracy: 0.7200\n",
            "Epoch 15/16\n",
            "29/29 [==============================] - 14s 462ms/step - loss: 0.1175 - accuracy: 0.9678 - val_loss: 1.3778 - val_accuracy: 0.6900\n",
            "Epoch 16/16\n",
            "29/29 [==============================] - 15s 521ms/step - loss: 0.1085 - accuracy: 0.9744 - val_loss: 1.4472 - val_accuracy: 0.6400\n"
          ]
        },
        {
          "metadata": {
            "tags": null
          },
          "name": "stderr",
          "output_type": "stream",
          "text": [
            "/usr/local/lib/python3.10/dist-packages/keras/src/engine/training.py:3079: UserWarning: You are saving your model as an HDF5 file via `model.save()`. This file format is considered legacy. We recommend using instead the native Keras format, e.g. `model.save('my_model.keras')`.\n",
            "  saving_api.save_model(\n"
          ]
        },
        {
          "metadata": {
            "tags": null
          },
          "name": "stdout",
          "output_type": "stream",
          "text": [
            "Epoch 1/16\n",
            "29/29 [==============================] - 10s 213ms/step - loss: 1.4086 - accuracy: 0.4956 - val_loss: 1.2848 - val_accuracy: 0.5200\n",
            "Epoch 2/16\n",
            "29/29 [==============================] - 5s 182ms/step - loss: 1.1888 - accuracy: 0.5100 - val_loss: 1.2429 - val_accuracy: 0.5200\n",
            "Epoch 3/16\n",
            "29/29 [==============================] - 5s 175ms/step - loss: 1.0584 - accuracy: 0.5989 - val_loss: 1.1309 - val_accuracy: 0.6100\n",
            "Epoch 4/16\n",
            "29/29 [==============================] - 5s 180ms/step - loss: 0.8038 - accuracy: 0.7367 - val_loss: 1.2804 - val_accuracy: 0.5300\n",
            "Epoch 5/16\n",
            "29/29 [==============================] - 5s 184ms/step - loss: 0.5684 - accuracy: 0.8067 - val_loss: 1.2203 - val_accuracy: 0.6200\n",
            "Epoch 6/16\n",
            "29/29 [==============================] - 5s 176ms/step - loss: 0.4409 - accuracy: 0.8767 - val_loss: 1.3992 - val_accuracy: 0.5200\n",
            "Epoch 7/16\n",
            "29/29 [==============================] - 5s 181ms/step - loss: 0.3184 - accuracy: 0.8933 - val_loss: 1.4361 - val_accuracy: 0.5600\n",
            "Epoch 8/16\n",
            "29/29 [==============================] - 5s 174ms/step - loss: 0.2673 - accuracy: 0.9400 - val_loss: 1.5254 - val_accuracy: 0.6400\n",
            "Epoch 9/16\n",
            "29/29 [==============================] - 5s 174ms/step - loss: 0.2591 - accuracy: 0.9422 - val_loss: 1.4570 - val_accuracy: 0.6000\n",
            "Epoch 10/16\n",
            "29/29 [==============================] - 6s 191ms/step - loss: 0.1966 - accuracy: 0.9567 - val_loss: 1.4389 - val_accuracy: 0.6500\n",
            "Epoch 11/16\n",
            "29/29 [==============================] - 5s 182ms/step - loss: 0.1593 - accuracy: 0.9622 - val_loss: 1.7431 - val_accuracy: 0.6200\n",
            "Epoch 12/16\n",
            "29/29 [==============================] - 5s 182ms/step - loss: 0.1434 - accuracy: 0.9644 - val_loss: 1.8269 - val_accuracy: 0.5700\n",
            "Epoch 13/16\n",
            "29/29 [==============================] - 5s 184ms/step - loss: 0.1401 - accuracy: 0.9633 - val_loss: 1.5542 - val_accuracy: 0.6200\n",
            "Epoch 14/16\n",
            "29/29 [==============================] - 5s 182ms/step - loss: 0.1189 - accuracy: 0.9667 - val_loss: 1.5292 - val_accuracy: 0.6000\n",
            "Epoch 15/16\n",
            "29/29 [==============================] - 5s 187ms/step - loss: 0.0993 - accuracy: 0.9678 - val_loss: 1.5960 - val_accuracy: 0.6500\n",
            "Epoch 16/16\n",
            "29/29 [==============================] - 5s 181ms/step - loss: 0.1371 - accuracy: 0.9622 - val_loss: 1.5164 - val_accuracy: 0.6200\n"
          ]
        },
        {
          "metadata": {
            "tags": null
          },
          "name": "stderr",
          "output_type": "stream",
          "text": [
            "/usr/local/lib/python3.10/dist-packages/keras/src/engine/training.py:3079: UserWarning: You are saving your model as an HDF5 file via `model.save()`. This file format is considered legacy. We recommend using instead the native Keras format, e.g. `model.save('my_model.keras')`.\n",
            "  saving_api.save_model(\n"
          ]
        },
        {
          "output_type": "stream",
          "name": "stdout",
          "text": [
            "Epoch 1/16\n",
            "29/29 [==============================] - 10s 226ms/step - loss: 1.6636 - accuracy: 0.5356 - val_loss: 1.3566 - val_accuracy: 0.5700\n",
            "Epoch 2/16\n",
            "29/29 [==============================] - 5s 176ms/step - loss: 1.2286 - accuracy: 0.5689 - val_loss: 1.3245 - val_accuracy: 0.5800\n",
            "Epoch 3/16\n",
            "29/29 [==============================] - 5s 180ms/step - loss: 0.9452 - accuracy: 0.6667 - val_loss: 1.2693 - val_accuracy: 0.6000\n",
            "Epoch 4/16\n",
            "29/29 [==============================] - 5s 180ms/step - loss: 0.7408 - accuracy: 0.7411 - val_loss: 1.5203 - val_accuracy: 0.5700\n",
            "Epoch 5/16\n",
            "29/29 [==============================] - 5s 171ms/step - loss: 0.6121 - accuracy: 0.7800 - val_loss: 1.5044 - val_accuracy: 0.4900\n",
            "Epoch 6/16\n",
            "29/29 [==============================] - 5s 178ms/step - loss: 0.4769 - accuracy: 0.8322 - val_loss: 1.4969 - val_accuracy: 0.5200\n",
            "Epoch 7/16\n",
            "29/29 [==============================] - 5s 170ms/step - loss: 0.3529 - accuracy: 0.8956 - val_loss: 1.6033 - val_accuracy: 0.4500\n",
            "Epoch 8/16\n",
            "29/29 [==============================] - 5s 176ms/step - loss: 0.2458 - accuracy: 0.9167 - val_loss: 1.7137 - val_accuracy: 0.5200\n",
            "Epoch 9/16\n",
            "29/29 [==============================] - 5s 177ms/step - loss: 0.1906 - accuracy: 0.9367 - val_loss: 1.8103 - val_accuracy: 0.5400\n",
            "Epoch 10/16\n",
            "29/29 [==============================] - 5s 175ms/step - loss: 0.1648 - accuracy: 0.9556 - val_loss: 1.8896 - val_accuracy: 0.5700\n",
            "Epoch 11/16\n",
            "29/29 [==============================] - 5s 180ms/step - loss: 0.1161 - accuracy: 0.9733 - val_loss: 1.9338 - val_accuracy: 0.5400\n",
            "Epoch 12/16\n",
            "29/29 [==============================] - 5s 177ms/step - loss: 0.1225 - accuracy: 0.9700 - val_loss: 1.9570 - val_accuracy: 0.5200\n",
            "Epoch 13/16\n",
            "29/29 [==============================] - 5s 175ms/step - loss: 0.0999 - accuracy: 0.9778 - val_loss: 1.9355 - val_accuracy: 0.5600\n",
            "Epoch 14/16\n",
            "29/29 [==============================] - 5s 181ms/step - loss: 0.0674 - accuracy: 0.9844 - val_loss: 2.0148 - val_accuracy: 0.5600\n",
            "Epoch 15/16\n",
            "29/29 [==============================] - 5s 174ms/step - loss: 0.0549 - accuracy: 0.9878 - val_loss: 2.0279 - val_accuracy: 0.5600\n",
            "Epoch 16/16\n",
            "29/29 [==============================] - 5s 177ms/step - loss: 0.0480 - accuracy: 0.9889 - val_loss: 2.0938 - val_accuracy: 0.5900\n"
          ]
        },
        {
          "output_type": "stream",
          "name": "stderr",
          "text": [
            "/usr/local/lib/python3.10/dist-packages/keras/src/engine/training.py:3079: UserWarning: You are saving your model as an HDF5 file via `model.save()`. This file format is considered legacy. We recommend using instead the native Keras format, e.g. `model.save('my_model.keras')`.\n",
            "  saving_api.save_model(\n"
          ]
        },
        {
          "output_type": "stream",
          "name": "stdout",
          "text": [
            "Epoch 1/16\n",
            "29/29 [==============================] - 11s 219ms/step - loss: 1.5550 - accuracy: 0.5511 - val_loss: 1.0932 - val_accuracy: 0.6500\n",
            "Epoch 2/16\n",
            "29/29 [==============================] - 5s 183ms/step - loss: 1.1442 - accuracy: 0.5733 - val_loss: 1.0595 - val_accuracy: 0.6500\n",
            "Epoch 3/16\n",
            "29/29 [==============================] - 5s 182ms/step - loss: 1.0081 - accuracy: 0.6156 - val_loss: 1.0144 - val_accuracy: 0.6600\n",
            "Epoch 4/16\n",
            "29/29 [==============================] - 5s 183ms/step - loss: 0.7312 - accuracy: 0.7267 - val_loss: 1.2232 - val_accuracy: 0.5200\n",
            "Epoch 5/16\n",
            "29/29 [==============================] - 5s 178ms/step - loss: 0.5433 - accuracy: 0.8267 - val_loss: 1.2152 - val_accuracy: 0.6100\n",
            "Epoch 6/16\n",
            "29/29 [==============================] - 5s 178ms/step - loss: 0.3647 - accuracy: 0.8867 - val_loss: 1.3941 - val_accuracy: 0.6200\n",
            "Epoch 7/16\n",
            "29/29 [==============================] - 5s 186ms/step - loss: 0.2585 - accuracy: 0.9322 - val_loss: 1.5367 - val_accuracy: 0.5600\n",
            "Epoch 8/16\n",
            "29/29 [==============================] - 5s 178ms/step - loss: 0.1941 - accuracy: 0.9544 - val_loss: 1.6671 - val_accuracy: 0.5800\n",
            "Epoch 9/16\n",
            "29/29 [==============================] - 5s 181ms/step - loss: 0.1646 - accuracy: 0.9633 - val_loss: 1.7152 - val_accuracy: 0.5400\n",
            "Epoch 10/16\n",
            "29/29 [==============================] - 5s 184ms/step - loss: 0.2692 - accuracy: 0.9144 - val_loss: 1.5226 - val_accuracy: 0.6800\n",
            "Epoch 11/16\n",
            "29/29 [==============================] - 5s 182ms/step - loss: 0.1523 - accuracy: 0.9622 - val_loss: 1.6325 - val_accuracy: 0.6000\n",
            "Epoch 12/16\n",
            "29/29 [==============================] - 5s 186ms/step - loss: 0.1064 - accuracy: 0.9756 - val_loss: 1.7672 - val_accuracy: 0.5800\n",
            "Epoch 13/16\n",
            "29/29 [==============================] - 5s 182ms/step - loss: 0.0860 - accuracy: 0.9800 - val_loss: 1.8642 - val_accuracy: 0.6100\n",
            "Epoch 14/16\n",
            "29/29 [==============================] - 5s 179ms/step - loss: 0.0643 - accuracy: 0.9844 - val_loss: 1.9631 - val_accuracy: 0.5900\n",
            "Epoch 15/16\n",
            "29/29 [==============================] - 5s 183ms/step - loss: 0.0605 - accuracy: 0.9844 - val_loss: 1.8178 - val_accuracy: 0.6500\n",
            "Epoch 16/16\n",
            "29/29 [==============================] - 5s 180ms/step - loss: 0.0548 - accuracy: 0.9844 - val_loss: 2.0016 - val_accuracy: 0.6000\n"
          ]
        },
        {
          "output_type": "stream",
          "name": "stderr",
          "text": [
            "/usr/local/lib/python3.10/dist-packages/keras/src/engine/training.py:3079: UserWarning: You are saving your model as an HDF5 file via `model.save()`. This file format is considered legacy. We recommend using instead the native Keras format, e.g. `model.save('my_model.keras')`.\n",
            "  saving_api.save_model(\n"
          ]
        },
        {
          "output_type": "stream",
          "name": "stdout",
          "text": [
            "Epoch 1/16\n",
            "13/13 [==============================] - 7s 246ms/step - loss: 1.8286 - accuracy: 0.4106 - val_loss: 1.5759 - val_accuracy: 0.3696\n",
            "Epoch 2/16\n",
            "13/13 [==============================] - 2s 174ms/step - loss: 1.3823 - accuracy: 0.4155 - val_loss: 1.3237 - val_accuracy: 0.4130\n",
            "Epoch 3/16\n",
            "13/13 [==============================] - 2s 180ms/step - loss: 1.2541 - accuracy: 0.3913 - val_loss: 1.2204 - val_accuracy: 0.4130\n",
            "Epoch 4/16\n",
            "13/13 [==============================] - 2s 171ms/step - loss: 1.1206 - accuracy: 0.4638 - val_loss: 1.2257 - val_accuracy: 0.3696\n",
            "Epoch 5/16\n",
            "13/13 [==============================] - 2s 178ms/step - loss: 1.0345 - accuracy: 0.5193 - val_loss: 1.1278 - val_accuracy: 0.4130\n",
            "Epoch 6/16\n",
            "13/13 [==============================] - 2s 179ms/step - loss: 0.9358 - accuracy: 0.6208 - val_loss: 1.1260 - val_accuracy: 0.4348\n",
            "Epoch 7/16\n",
            "13/13 [==============================] - 2s 174ms/step - loss: 0.8144 - accuracy: 0.7222 - val_loss: 1.1857 - val_accuracy: 0.4565\n",
            "Epoch 8/16\n",
            "13/13 [==============================] - 2s 170ms/step - loss: 0.7215 - accuracy: 0.7222 - val_loss: 1.2693 - val_accuracy: 0.4565\n",
            "Epoch 9/16\n",
            "13/13 [==============================] - 2s 174ms/step - loss: 0.6075 - accuracy: 0.8092 - val_loss: 1.3796 - val_accuracy: 0.4783\n",
            "Epoch 10/16\n",
            "13/13 [==============================] - 2s 173ms/step - loss: 0.5036 - accuracy: 0.8527 - val_loss: 1.4114 - val_accuracy: 0.4783\n",
            "Epoch 11/16\n",
            "13/13 [==============================] - 2s 183ms/step - loss: 0.4509 - accuracy: 0.8551 - val_loss: 1.4573 - val_accuracy: 0.4565\n",
            "Epoch 12/16\n",
            "13/13 [==============================] - 2s 183ms/step - loss: 0.3797 - accuracy: 0.8937 - val_loss: 1.6043 - val_accuracy: 0.4348\n",
            "Epoch 13/16\n",
            "13/13 [==============================] - 2s 174ms/step - loss: 0.3726 - accuracy: 0.8889 - val_loss: 1.5307 - val_accuracy: 0.4565\n",
            "Epoch 14/16\n",
            "13/13 [==============================] - 2s 173ms/step - loss: 0.3350 - accuracy: 0.8816 - val_loss: 1.6538 - val_accuracy: 0.4565\n",
            "Epoch 15/16\n",
            "13/13 [==============================] - 2s 174ms/step - loss: 0.3144 - accuracy: 0.9082 - val_loss: 1.5151 - val_accuracy: 0.4565\n",
            "Epoch 16/16\n",
            "13/13 [==============================] - 2s 183ms/step - loss: 0.2693 - accuracy: 0.9227 - val_loss: 1.6629 - val_accuracy: 0.4348\n"
          ]
        },
        {
          "output_type": "stream",
          "name": "stderr",
          "text": [
            "/usr/local/lib/python3.10/dist-packages/keras/src/engine/training.py:3079: UserWarning: You are saving your model as an HDF5 file via `model.save()`. This file format is considered legacy. We recommend using instead the native Keras format, e.g. `model.save('my_model.keras')`.\n",
            "  saving_api.save_model(\n"
          ]
        },
        {
          "output_type": "stream",
          "name": "stdout",
          "text": [
            "Epoch 1/16\n",
            "25/25 [==============================] - 9s 213ms/step - loss: 1.7563 - accuracy: 0.3830 - val_loss: 1.5063 - val_accuracy: 0.3820\n",
            "Epoch 2/16\n",
            "25/25 [==============================] - 5s 185ms/step - loss: 1.4632 - accuracy: 0.4043 - val_loss: 1.4076 - val_accuracy: 0.3820\n",
            "Epoch 3/16\n",
            "25/25 [==============================] - 4s 175ms/step - loss: 1.3029 - accuracy: 0.4956 - val_loss: 1.3372 - val_accuracy: 0.4607\n",
            "Epoch 4/16\n",
            "25/25 [==============================] - 4s 169ms/step - loss: 1.0197 - accuracy: 0.6846 - val_loss: 1.4181 - val_accuracy: 0.4270\n",
            "Epoch 5/16\n",
            "25/25 [==============================] - 4s 172ms/step - loss: 0.7335 - accuracy: 0.7622 - val_loss: 1.5247 - val_accuracy: 0.4607\n",
            "Epoch 6/16\n",
            "25/25 [==============================] - 4s 176ms/step - loss: 0.5059 - accuracy: 0.8348 - val_loss: 1.6334 - val_accuracy: 0.5056\n",
            "Epoch 7/16\n",
            "25/25 [==============================] - 4s 171ms/step - loss: 0.4287 - accuracy: 0.8586 - val_loss: 1.7383 - val_accuracy: 0.5056\n",
            "Epoch 8/16\n",
            "25/25 [==============================] - 4s 172ms/step - loss: 0.3214 - accuracy: 0.9086 - val_loss: 1.9393 - val_accuracy: 0.4494\n",
            "Epoch 9/16\n",
            "25/25 [==============================] - 5s 181ms/step - loss: 0.2652 - accuracy: 0.9199 - val_loss: 2.0165 - val_accuracy: 0.4719\n",
            "Epoch 10/16\n",
            "25/25 [==============================] - 4s 175ms/step - loss: 0.2285 - accuracy: 0.9337 - val_loss: 2.1313 - val_accuracy: 0.4494\n",
            "Epoch 11/16\n",
            "25/25 [==============================] - 5s 189ms/step - loss: 0.1996 - accuracy: 0.9487 - val_loss: 2.1526 - val_accuracy: 0.5056\n",
            "Epoch 12/16\n",
            "25/25 [==============================] - 5s 193ms/step - loss: 0.1754 - accuracy: 0.9499 - val_loss: 2.2499 - val_accuracy: 0.4719\n",
            "Epoch 13/16\n",
            "25/25 [==============================] - 5s 187ms/step - loss: 0.1673 - accuracy: 0.9499 - val_loss: 2.2774 - val_accuracy: 0.4270\n",
            "Epoch 14/16\n",
            "25/25 [==============================] - 5s 186ms/step - loss: 0.1443 - accuracy: 0.9549 - val_loss: 2.2535 - val_accuracy: 0.4607\n",
            "Epoch 15/16\n",
            "25/25 [==============================] - 5s 192ms/step - loss: 0.1212 - accuracy: 0.9612 - val_loss: 2.4749 - val_accuracy: 0.4719\n",
            "Epoch 16/16\n",
            "25/25 [==============================] - 5s 185ms/step - loss: 0.0986 - accuracy: 0.9650 - val_loss: 2.4609 - val_accuracy: 0.5056\n"
          ]
        },
        {
          "output_type": "stream",
          "name": "stderr",
          "text": [
            "/usr/local/lib/python3.10/dist-packages/keras/src/engine/training.py:3079: UserWarning: You are saving your model as an HDF5 file via `model.save()`. This file format is considered legacy. We recommend using instead the native Keras format, e.g. `model.save('my_model.keras')`.\n",
            "  saving_api.save_model(\n"
          ]
        },
        {
          "output_type": "stream",
          "name": "stdout",
          "text": [
            "Epoch 1/16\n",
            "29/29 [==============================] - 10s 216ms/step - loss: 1.7915 - accuracy: 0.3278 - val_loss: 1.6349 - val_accuracy: 0.3900\n",
            "Epoch 2/16\n",
            "29/29 [==============================] - 5s 182ms/step - loss: 1.5384 - accuracy: 0.3711 - val_loss: 1.6593 - val_accuracy: 0.2800\n",
            "Epoch 3/16\n",
            "29/29 [==============================] - 5s 188ms/step - loss: 1.1895 - accuracy: 0.5089 - val_loss: 1.5854 - val_accuracy: 0.3600\n",
            "Epoch 4/16\n",
            "29/29 [==============================] - 5s 179ms/step - loss: 0.8482 - accuracy: 0.7022 - val_loss: 1.7274 - val_accuracy: 0.4500\n",
            "Epoch 5/16\n",
            "29/29 [==============================] - 5s 188ms/step - loss: 0.6092 - accuracy: 0.7622 - val_loss: 1.9006 - val_accuracy: 0.3800\n",
            "Epoch 6/16\n",
            "29/29 [==============================] - 5s 182ms/step - loss: 0.5045 - accuracy: 0.8256 - val_loss: 1.9268 - val_accuracy: 0.4000\n",
            "Epoch 7/16\n",
            "29/29 [==============================] - 5s 183ms/step - loss: 0.3994 - accuracy: 0.8833 - val_loss: 2.2065 - val_accuracy: 0.3500\n",
            "Epoch 8/16\n",
            "29/29 [==============================] - 5s 186ms/step - loss: 0.2768 - accuracy: 0.9278 - val_loss: 2.2717 - val_accuracy: 0.3600\n",
            "Epoch 9/16\n",
            "29/29 [==============================] - 5s 177ms/step - loss: 0.2059 - accuracy: 0.9433 - val_loss: 2.3301 - val_accuracy: 0.4100\n",
            "Epoch 10/16\n",
            "29/29 [==============================] - 5s 188ms/step - loss: 0.1431 - accuracy: 0.9600 - val_loss: 2.3821 - val_accuracy: 0.4200\n",
            "Epoch 11/16\n",
            "29/29 [==============================] - 5s 185ms/step - loss: 0.1105 - accuracy: 0.9811 - val_loss: 2.5459 - val_accuracy: 0.3700\n",
            "Epoch 12/16\n",
            "29/29 [==============================] - 5s 182ms/step - loss: 0.0788 - accuracy: 0.9878 - val_loss: 2.6083 - val_accuracy: 0.3900\n",
            "Epoch 13/16\n",
            "29/29 [==============================] - 5s 187ms/step - loss: 0.0719 - accuracy: 0.9867 - val_loss: 2.7759 - val_accuracy: 0.3800\n",
            "Epoch 14/16\n",
            "29/29 [==============================] - 5s 179ms/step - loss: 0.0720 - accuracy: 0.9856 - val_loss: 2.5770 - val_accuracy: 0.3800\n",
            "Epoch 15/16\n",
            "29/29 [==============================] - 5s 183ms/step - loss: 0.0590 - accuracy: 0.9867 - val_loss: 2.6721 - val_accuracy: 0.3800\n",
            "Epoch 16/16\n",
            "29/29 [==============================] - 5s 182ms/step - loss: 0.0421 - accuracy: 0.9889 - val_loss: 2.8527 - val_accuracy: 0.3900\n"
          ]
        },
        {
          "output_type": "stream",
          "name": "stderr",
          "text": [
            "/usr/local/lib/python3.10/dist-packages/keras/src/engine/training.py:3079: UserWarning: You are saving your model as an HDF5 file via `model.save()`. This file format is considered legacy. We recommend using instead the native Keras format, e.g. `model.save('my_model.keras')`.\n",
            "  saving_api.save_model(\n"
          ]
        },
        {
          "output_type": "stream",
          "name": "stdout",
          "text": [
            "Epoch 1/16\n",
            "29/29 [==============================] - 10s 208ms/step - loss: 1.6998 - accuracy: 0.4300 - val_loss: 1.4514 - val_accuracy: 0.4600\n",
            "Epoch 2/16\n",
            "29/29 [==============================] - 5s 178ms/step - loss: 1.3133 - accuracy: 0.4556 - val_loss: 1.3250 - val_accuracy: 0.4800\n",
            "Epoch 3/16\n",
            "29/29 [==============================] - 5s 180ms/step - loss: 0.9575 - accuracy: 0.6533 - val_loss: 1.5357 - val_accuracy: 0.4100\n",
            "Epoch 4/16\n",
            "29/29 [==============================] - 5s 173ms/step - loss: 0.7083 - accuracy: 0.7400 - val_loss: 1.5610 - val_accuracy: 0.5000\n",
            "Epoch 5/16\n",
            "29/29 [==============================] - 5s 176ms/step - loss: 0.5329 - accuracy: 0.8433 - val_loss: 1.7713 - val_accuracy: 0.4900\n",
            "Epoch 6/16\n",
            "29/29 [==============================] - 5s 179ms/step - loss: 0.4200 - accuracy: 0.8567 - val_loss: 1.8150 - val_accuracy: 0.4700\n",
            "Epoch 7/16\n",
            "29/29 [==============================] - 5s 179ms/step - loss: 0.3487 - accuracy: 0.8711 - val_loss: 2.0522 - val_accuracy: 0.5200\n",
            "Epoch 8/16\n",
            "29/29 [==============================] - 5s 186ms/step - loss: 0.3053 - accuracy: 0.9022 - val_loss: 2.0851 - val_accuracy: 0.4800\n",
            "Epoch 9/16\n",
            "29/29 [==============================] - 5s 179ms/step - loss: 0.2523 - accuracy: 0.9111 - val_loss: 2.0436 - val_accuracy: 0.5200\n",
            "Epoch 10/16\n",
            "29/29 [==============================] - 5s 176ms/step - loss: 0.2116 - accuracy: 0.9244 - val_loss: 2.0225 - val_accuracy: 0.5300\n",
            "Epoch 11/16\n",
            "29/29 [==============================] - 5s 183ms/step - loss: 0.1642 - accuracy: 0.9378 - val_loss: 2.2773 - val_accuracy: 0.5400\n",
            "Epoch 12/16\n",
            "29/29 [==============================] - 5s 177ms/step - loss: 0.1373 - accuracy: 0.9533 - val_loss: 2.1285 - val_accuracy: 0.5100\n",
            "Epoch 13/16\n",
            "29/29 [==============================] - 5s 180ms/step - loss: 0.1092 - accuracy: 0.9756 - val_loss: 2.2964 - val_accuracy: 0.5500\n",
            "Epoch 14/16\n",
            "29/29 [==============================] - 5s 178ms/step - loss: 0.0813 - accuracy: 0.9844 - val_loss: 2.4025 - val_accuracy: 0.5500\n",
            "Epoch 15/16\n",
            "29/29 [==============================] - 5s 180ms/step - loss: 0.0592 - accuracy: 0.9933 - val_loss: 2.5262 - val_accuracy: 0.5500\n",
            "Epoch 16/16\n",
            "29/29 [==============================] - 5s 184ms/step - loss: 0.0504 - accuracy: 0.9944 - val_loss: 2.6339 - val_accuracy: 0.5200\n"
          ]
        },
        {
          "output_type": "stream",
          "name": "stderr",
          "text": [
            "/usr/local/lib/python3.10/dist-packages/keras/src/engine/training.py:3079: UserWarning: You are saving your model as an HDF5 file via `model.save()`. This file format is considered legacy. We recommend using instead the native Keras format, e.g. `model.save('my_model.keras')`.\n",
            "  saving_api.save_model(\n"
          ]
        },
        {
          "output_type": "stream",
          "name": "stdout",
          "text": [
            "Epoch 1/16\n",
            "1/1 [==============================] - 6s 6s/step - loss: 0.6911 - accuracy: 0.5000 - val_loss: 0.7091 - val_accuracy: 0.0000e+00\n",
            "Epoch 2/16\n",
            "1/1 [==============================] - 0s 218ms/step - loss: 0.6780 - accuracy: 0.7500 - val_loss: 0.7237 - val_accuracy: 0.0000e+00\n",
            "Epoch 3/16\n",
            "1/1 [==============================] - 0s 213ms/step - loss: 0.6638 - accuracy: 0.7500 - val_loss: 0.7411 - val_accuracy: 0.0000e+00\n",
            "Epoch 4/16\n",
            "1/1 [==============================] - 0s 213ms/step - loss: 0.6474 - accuracy: 0.7500 - val_loss: 0.7620 - val_accuracy: 0.0000e+00\n",
            "Epoch 5/16\n",
            "1/1 [==============================] - 0s 205ms/step - loss: 0.6278 - accuracy: 0.7500 - val_loss: 0.7874 - val_accuracy: 0.0000e+00\n",
            "Epoch 6/16\n",
            "1/1 [==============================] - 0s 215ms/step - loss: 0.6044 - accuracy: 0.7500 - val_loss: 0.8189 - val_accuracy: 0.0000e+00\n",
            "Epoch 7/16\n",
            "1/1 [==============================] - 0s 208ms/step - loss: 0.5760 - accuracy: 0.7500 - val_loss: 0.8587 - val_accuracy: 0.0000e+00\n",
            "Epoch 8/16\n",
            "1/1 [==============================] - 0s 205ms/step - loss: 0.5416 - accuracy: 0.7500 - val_loss: 0.9100 - val_accuracy: 0.0000e+00\n",
            "Epoch 9/16\n",
            "1/1 [==============================] - 0s 208ms/step - loss: 0.5002 - accuracy: 0.7500 - val_loss: 0.9781 - val_accuracy: 0.0000e+00\n",
            "Epoch 10/16\n",
            "1/1 [==============================] - 0s 218ms/step - loss: 0.4511 - accuracy: 0.7500 - val_loss: 1.0712 - val_accuracy: 0.0000e+00\n",
            "Epoch 11/16\n",
            "1/1 [==============================] - 0s 222ms/step - loss: 0.3951 - accuracy: 0.7500 - val_loss: 1.2021 - val_accuracy: 0.0000e+00\n",
            "Epoch 12/16\n",
            "1/1 [==============================] - 0s 223ms/step - loss: 0.3359 - accuracy: 0.7500 - val_loss: 1.3891 - val_accuracy: 0.0000e+00\n",
            "Epoch 13/16\n",
            "1/1 [==============================] - 0s 212ms/step - loss: 0.2809 - accuracy: 0.7500 - val_loss: 1.6456 - val_accuracy: 0.0000e+00\n",
            "Epoch 14/16\n",
            "1/1 [==============================] - 0s 248ms/step - loss: 0.2362 - accuracy: 0.7500 - val_loss: 1.9623 - val_accuracy: 0.0000e+00\n",
            "Epoch 15/16\n",
            "1/1 [==============================] - 0s 252ms/step - loss: 0.1995 - accuracy: 0.7500 - val_loss: 2.3055 - val_accuracy: 0.0000e+00\n",
            "Epoch 16/16\n",
            "1/1 [==============================] - 0s 245ms/step - loss: 0.1634 - accuracy: 1.0000 - val_loss: 2.6391 - val_accuracy: 0.0000e+00\n"
          ]
        },
        {
          "output_type": "stream",
          "name": "stderr",
          "text": [
            "/usr/local/lib/python3.10/dist-packages/keras/src/engine/training.py:3079: UserWarning: You are saving your model as an HDF5 file via `model.save()`. This file format is considered legacy. We recommend using instead the native Keras format, e.g. `model.save('my_model.keras')`.\n",
            "  saving_api.save_model(\n"
          ]
        },
        {
          "output_type": "stream",
          "name": "stdout",
          "text": [
            "Epoch 1/16\n",
            "29/29 [==============================] - 10s 212ms/step - loss: 1.4927 - accuracy: 0.6500 - val_loss: 1.4090 - val_accuracy: 0.5400\n",
            "Epoch 2/16\n",
            "29/29 [==============================] - 5s 180ms/step - loss: 1.0953 - accuracy: 0.6711 - val_loss: 1.3227 - val_accuracy: 0.5400\n",
            "Epoch 3/16\n",
            "29/29 [==============================] - 5s 174ms/step - loss: 0.9117 - accuracy: 0.6811 - val_loss: 1.3173 - val_accuracy: 0.5300\n",
            "Epoch 4/16\n",
            "29/29 [==============================] - 5s 186ms/step - loss: 0.6994 - accuracy: 0.7578 - val_loss: 1.5014 - val_accuracy: 0.5000\n",
            "Epoch 5/16\n",
            "29/29 [==============================] - 5s 182ms/step - loss: 0.5410 - accuracy: 0.7978 - val_loss: 1.7691 - val_accuracy: 0.4900\n",
            "Epoch 6/16\n",
            "29/29 [==============================] - 5s 180ms/step - loss: 0.4373 - accuracy: 0.8222 - val_loss: 2.2193 - val_accuracy: 0.5100\n",
            "Epoch 7/16\n",
            "29/29 [==============================] - 5s 179ms/step - loss: 0.3732 - accuracy: 0.8556 - val_loss: 2.0935 - val_accuracy: 0.3900\n",
            "Epoch 8/16\n",
            "29/29 [==============================] - 5s 176ms/step - loss: 0.3048 - accuracy: 0.8956 - val_loss: 2.4783 - val_accuracy: 0.5000\n",
            "Epoch 9/16\n",
            "29/29 [==============================] - 5s 174ms/step - loss: 0.2087 - accuracy: 0.9367 - val_loss: 2.1775 - val_accuracy: 0.5100\n",
            "Epoch 10/16\n",
            "29/29 [==============================] - 5s 183ms/step - loss: 0.1617 - accuracy: 0.9500 - val_loss: 2.3157 - val_accuracy: 0.4900\n",
            "Epoch 11/16\n",
            "29/29 [==============================] - 5s 177ms/step - loss: 0.1227 - accuracy: 0.9633 - val_loss: 2.8107 - val_accuracy: 0.5100\n",
            "Epoch 12/16\n",
            "29/29 [==============================] - 5s 179ms/step - loss: 0.0970 - accuracy: 0.9700 - val_loss: 2.7269 - val_accuracy: 0.4900\n",
            "Epoch 13/16\n",
            "29/29 [==============================] - 5s 178ms/step - loss: 0.0865 - accuracy: 0.9689 - val_loss: 2.9345 - val_accuracy: 0.5100\n",
            "Epoch 14/16\n",
            "29/29 [==============================] - 5s 175ms/step - loss: 0.0763 - accuracy: 0.9811 - val_loss: 2.6181 - val_accuracy: 0.5100\n",
            "Epoch 15/16\n",
            "29/29 [==============================] - 5s 182ms/step - loss: 0.0637 - accuracy: 0.9867 - val_loss: 2.9659 - val_accuracy: 0.4900\n",
            "Epoch 16/16\n",
            "29/29 [==============================] - 5s 178ms/step - loss: 0.0563 - accuracy: 0.9900 - val_loss: 2.9692 - val_accuracy: 0.5100\n"
          ]
        },
        {
          "output_type": "stream",
          "name": "stderr",
          "text": [
            "/usr/local/lib/python3.10/dist-packages/keras/src/engine/training.py:3079: UserWarning: You are saving your model as an HDF5 file via `model.save()`. This file format is considered legacy. We recommend using instead the native Keras format, e.g. `model.save('my_model.keras')`.\n",
            "  saving_api.save_model(\n"
          ]
        },
        {
          "output_type": "stream",
          "name": "stdout",
          "text": [
            "Epoch 1/16\n",
            "29/29 [==============================] - 10s 221ms/step - loss: 1.6093 - accuracy: 0.6011 - val_loss: 1.2981 - val_accuracy: 0.6000\n",
            "Epoch 2/16\n",
            "29/29 [==============================] - 5s 177ms/step - loss: 1.2068 - accuracy: 0.6233 - val_loss: 1.1904 - val_accuracy: 0.6000\n",
            "Epoch 3/16\n",
            "29/29 [==============================] - 5s 178ms/step - loss: 0.9018 - accuracy: 0.6856 - val_loss: 1.1271 - val_accuracy: 0.6100\n",
            "Epoch 4/16\n",
            "29/29 [==============================] - 5s 175ms/step - loss: 0.6596 - accuracy: 0.7456 - val_loss: 1.0736 - val_accuracy: 0.6200\n",
            "Epoch 5/16\n",
            "29/29 [==============================] - 5s 171ms/step - loss: 0.5015 - accuracy: 0.8322 - val_loss: 1.4631 - val_accuracy: 0.3900\n",
            "Epoch 6/16\n",
            "29/29 [==============================] - 5s 180ms/step - loss: 0.3639 - accuracy: 0.8711 - val_loss: 1.4739 - val_accuracy: 0.5200\n",
            "Epoch 7/16\n",
            "29/29 [==============================] - 5s 169ms/step - loss: 0.2664 - accuracy: 0.9011 - val_loss: 1.3291 - val_accuracy: 0.5600\n",
            "Epoch 8/16\n",
            "29/29 [==============================] - 5s 171ms/step - loss: 0.2165 - accuracy: 0.9289 - val_loss: 1.5974 - val_accuracy: 0.5000\n",
            "Epoch 9/16\n",
            "29/29 [==============================] - 5s 178ms/step - loss: 0.1660 - accuracy: 0.9533 - val_loss: 1.5950 - val_accuracy: 0.5500\n",
            "Epoch 10/16\n",
            "29/29 [==============================] - 5s 179ms/step - loss: 0.1292 - accuracy: 0.9611 - val_loss: 1.7165 - val_accuracy: 0.5100\n",
            "Epoch 11/16\n",
            "29/29 [==============================] - 5s 179ms/step - loss: 0.0929 - accuracy: 0.9900 - val_loss: 1.8160 - val_accuracy: 0.5300\n",
            "Epoch 12/16\n",
            "29/29 [==============================] - 5s 180ms/step - loss: 0.0690 - accuracy: 0.9956 - val_loss: 1.8766 - val_accuracy: 0.5400\n",
            "Epoch 13/16\n",
            "29/29 [==============================] - 5s 176ms/step - loss: 0.0528 - accuracy: 0.9956 - val_loss: 1.7956 - val_accuracy: 0.5700\n",
            "Epoch 14/16\n",
            "29/29 [==============================] - 5s 180ms/step - loss: 0.0384 - accuracy: 0.9967 - val_loss: 1.8855 - val_accuracy: 0.5600\n",
            "Epoch 15/16\n",
            "29/29 [==============================] - 5s 174ms/step - loss: 0.0298 - accuracy: 0.9967 - val_loss: 2.0225 - val_accuracy: 0.5200\n",
            "Epoch 16/16\n",
            "29/29 [==============================] - 5s 175ms/step - loss: 0.0242 - accuracy: 0.9967 - val_loss: 2.0001 - val_accuracy: 0.5200\n"
          ]
        },
        {
          "output_type": "stream",
          "name": "stderr",
          "text": [
            "/usr/local/lib/python3.10/dist-packages/keras/src/engine/training.py:3079: UserWarning: You are saving your model as an HDF5 file via `model.save()`. This file format is considered legacy. We recommend using instead the native Keras format, e.g. `model.save('my_model.keras')`.\n",
            "  saving_api.save_model(\n"
          ]
        },
        {
          "output_type": "stream",
          "name": "stdout",
          "text": [
            "Epoch 1/16\n",
            "29/29 [==============================] - 11s 218ms/step - loss: 1.7333 - accuracy: 0.4122 - val_loss: 1.4851 - val_accuracy: 0.4700\n",
            "Epoch 2/16\n",
            "29/29 [==============================] - 5s 182ms/step - loss: 1.4408 - accuracy: 0.4244 - val_loss: 1.3526 - val_accuracy: 0.4700\n",
            "Epoch 3/16\n",
            "29/29 [==============================] - 5s 178ms/step - loss: 1.1970 - accuracy: 0.5611 - val_loss: 1.1460 - val_accuracy: 0.6000\n",
            "Epoch 4/16\n",
            "29/29 [==============================] - 5s 180ms/step - loss: 0.8011 - accuracy: 0.6944 - val_loss: 1.2780 - val_accuracy: 0.5600\n",
            "Epoch 5/16\n",
            "29/29 [==============================] - 5s 180ms/step - loss: 0.5918 - accuracy: 0.7878 - val_loss: 1.3031 - val_accuracy: 0.6000\n",
            "Epoch 6/16\n",
            "29/29 [==============================] - 5s 177ms/step - loss: 0.4047 - accuracy: 0.8633 - val_loss: 1.5298 - val_accuracy: 0.5700\n",
            "Epoch 7/16\n",
            "29/29 [==============================] - 5s 183ms/step - loss: 0.2632 - accuracy: 0.9033 - val_loss: 1.6215 - val_accuracy: 0.5400\n",
            "Epoch 8/16\n",
            "29/29 [==============================] - 5s 176ms/step - loss: 0.1899 - accuracy: 0.9422 - val_loss: 1.6395 - val_accuracy: 0.5800\n",
            "Epoch 9/16\n",
            "29/29 [==============================] - 5s 180ms/step - loss: 0.1470 - accuracy: 0.9578 - val_loss: 1.7533 - val_accuracy: 0.5800\n",
            "Epoch 10/16\n",
            "29/29 [==============================] - 5s 185ms/step - loss: 0.1200 - accuracy: 0.9567 - val_loss: 1.8643 - val_accuracy: 0.5500\n",
            "Epoch 11/16\n",
            "29/29 [==============================] - 5s 182ms/step - loss: 0.1098 - accuracy: 0.9611 - val_loss: 2.0513 - val_accuracy: 0.5500\n",
            "Epoch 12/16\n",
            "29/29 [==============================] - 5s 183ms/step - loss: 0.0920 - accuracy: 0.9678 - val_loss: 2.0411 - val_accuracy: 0.5600\n",
            "Epoch 13/16\n",
            "29/29 [==============================] - 5s 181ms/step - loss: 0.1070 - accuracy: 0.9633 - val_loss: 2.0084 - val_accuracy: 0.5600\n",
            "Epoch 14/16\n",
            "29/29 [==============================] - 5s 176ms/step - loss: 0.1357 - accuracy: 0.9578 - val_loss: 2.0480 - val_accuracy: 0.5400\n",
            "Epoch 15/16\n",
            "29/29 [==============================] - 5s 182ms/step - loss: 0.1326 - accuracy: 0.9744 - val_loss: 1.9548 - val_accuracy: 0.5700\n",
            "Epoch 16/16\n",
            "29/29 [==============================] - 5s 178ms/step - loss: 0.0822 - accuracy: 0.9789 - val_loss: 1.9900 - val_accuracy: 0.5500\n"
          ]
        },
        {
          "output_type": "stream",
          "name": "stderr",
          "text": [
            "/usr/local/lib/python3.10/dist-packages/keras/src/engine/training.py:3079: UserWarning: You are saving your model as an HDF5 file via `model.save()`. This file format is considered legacy. We recommend using instead the native Keras format, e.g. `model.save('my_model.keras')`.\n",
            "  saving_api.save_model(\n"
          ]
        },
        {
          "output_type": "stream",
          "name": "stdout",
          "text": [
            "Epoch 1/16\n",
            "29/29 [==============================] - 10s 204ms/step - loss: 1.7854 - accuracy: 0.3660 - val_loss: 1.5027 - val_accuracy: 0.4500\n",
            "Epoch 2/16\n",
            "29/29 [==============================] - 5s 184ms/step - loss: 1.5318 - accuracy: 0.3871 - val_loss: 1.4569 - val_accuracy: 0.4400\n",
            "Epoch 3/16\n",
            "29/29 [==============================] - 5s 172ms/step - loss: 1.2141 - accuracy: 0.5061 - val_loss: 1.6243 - val_accuracy: 0.4600\n",
            "Epoch 4/16\n",
            "29/29 [==============================] - 5s 173ms/step - loss: 0.9527 - accuracy: 0.6507 - val_loss: 1.6148 - val_accuracy: 0.5100\n",
            "Epoch 5/16\n",
            "29/29 [==============================] - 5s 182ms/step - loss: 0.6106 - accuracy: 0.8176 - val_loss: 1.9338 - val_accuracy: 0.4000\n",
            "Epoch 6/16\n",
            "29/29 [==============================] - 5s 176ms/step - loss: 0.3507 - accuracy: 0.9055 - val_loss: 1.9418 - val_accuracy: 0.5300\n",
            "Epoch 7/16\n",
            "29/29 [==============================] - 5s 182ms/step - loss: 0.3341 - accuracy: 0.9066 - val_loss: 2.0180 - val_accuracy: 0.4400\n",
            "Epoch 8/16\n",
            "29/29 [==============================] - 5s 178ms/step - loss: 0.2315 - accuracy: 0.9433 - val_loss: 2.1221 - val_accuracy: 0.4500\n",
            "Epoch 9/16\n",
            "29/29 [==============================] - 5s 175ms/step - loss: 0.1566 - accuracy: 0.9700 - val_loss: 2.1478 - val_accuracy: 0.4800\n",
            "Epoch 10/16\n",
            "29/29 [==============================] - 5s 181ms/step - loss: 0.1146 - accuracy: 0.9733 - val_loss: 2.2367 - val_accuracy: 0.4600\n",
            "Epoch 11/16\n",
            "29/29 [==============================] - 5s 178ms/step - loss: 0.1006 - accuracy: 0.9766 - val_loss: 2.2859 - val_accuracy: 0.5000\n",
            "Epoch 12/16\n",
            "29/29 [==============================] - 5s 179ms/step - loss: 0.0833 - accuracy: 0.9778 - val_loss: 2.3492 - val_accuracy: 0.4900\n",
            "Epoch 13/16\n",
            "29/29 [==============================] - 5s 183ms/step - loss: 0.0732 - accuracy: 0.9766 - val_loss: 2.5103 - val_accuracy: 0.4800\n",
            "Epoch 14/16\n",
            "29/29 [==============================] - 5s 177ms/step - loss: 0.0781 - accuracy: 0.9722 - val_loss: 2.3073 - val_accuracy: 0.5100\n",
            "Epoch 15/16\n",
            "29/29 [==============================] - 5s 187ms/step - loss: 0.0802 - accuracy: 0.9733 - val_loss: 2.2041 - val_accuracy: 0.5100\n",
            "Epoch 16/16\n",
            "29/29 [==============================] - 5s 182ms/step - loss: 0.0679 - accuracy: 0.9766 - val_loss: 2.1514 - val_accuracy: 0.5400\n"
          ]
        },
        {
          "output_type": "stream",
          "name": "stderr",
          "text": [
            "/usr/local/lib/python3.10/dist-packages/keras/src/engine/training.py:3079: UserWarning: You are saving your model as an HDF5 file via `model.save()`. This file format is considered legacy. We recommend using instead the native Keras format, e.g. `model.save('my_model.keras')`.\n",
            "  saving_api.save_model(\n"
          ]
        },
        {
          "output_type": "stream",
          "name": "stdout",
          "text": [
            "Epoch 1/16\n",
            "3/3 [==============================] - 5s 628ms/step - loss: 1.7880 - accuracy: 0.3750 - val_loss: 1.7690 - val_accuracy: 0.6667\n",
            "Epoch 2/16\n",
            "3/3 [==============================] - 1s 187ms/step - loss: 1.7565 - accuracy: 0.5972 - val_loss: 1.7412 - val_accuracy: 0.6667\n",
            "Epoch 3/16\n",
            "3/3 [==============================] - 1s 199ms/step - loss: 1.7166 - accuracy: 0.5972 - val_loss: 1.6978 - val_accuracy: 0.6667\n",
            "Epoch 4/16\n",
            "3/3 [==============================] - 1s 193ms/step - loss: 1.6459 - accuracy: 0.5972 - val_loss: 1.6256 - val_accuracy: 0.6667\n",
            "Epoch 5/16\n",
            "3/3 [==============================] - 1s 203ms/step - loss: 1.5275 - accuracy: 0.5972 - val_loss: 1.4916 - val_accuracy: 0.6667\n",
            "Epoch 6/16\n",
            "3/3 [==============================] - 1s 198ms/step - loss: 1.2974 - accuracy: 0.5972 - val_loss: 1.2759 - val_accuracy: 0.6667\n",
            "Epoch 7/16\n",
            "3/3 [==============================] - 1s 187ms/step - loss: 1.0661 - accuracy: 0.5972 - val_loss: 1.2365 - val_accuracy: 0.6667\n",
            "Epoch 8/16\n",
            "3/3 [==============================] - 1s 194ms/step - loss: 1.0229 - accuracy: 0.5972 - val_loss: 1.3042 - val_accuracy: 0.6667\n",
            "Epoch 9/16\n",
            "3/3 [==============================] - 1s 210ms/step - loss: 0.8714 - accuracy: 0.6806 - val_loss: 1.3368 - val_accuracy: 0.6667\n",
            "Epoch 10/16\n",
            "3/3 [==============================] - 1s 217ms/step - loss: 0.7674 - accuracy: 0.7500 - val_loss: 1.4598 - val_accuracy: 0.6667\n",
            "Epoch 11/16\n",
            "3/3 [==============================] - 1s 189ms/step - loss: 0.7277 - accuracy: 0.7361 - val_loss: 1.6011 - val_accuracy: 0.5556\n",
            "Epoch 12/16\n",
            "3/3 [==============================] - 1s 191ms/step - loss: 0.6901 - accuracy: 0.7500 - val_loss: 1.6902 - val_accuracy: 0.5556\n",
            "Epoch 13/16\n",
            "3/3 [==============================] - 1s 188ms/step - loss: 0.6671 - accuracy: 0.7500 - val_loss: 1.5917 - val_accuracy: 0.5556\n",
            "Epoch 14/16\n",
            "3/3 [==============================] - 1s 204ms/step - loss: 0.6393 - accuracy: 0.7500 - val_loss: 1.6674 - val_accuracy: 0.6667\n",
            "Epoch 15/16\n",
            "3/3 [==============================] - 1s 207ms/step - loss: 0.6371 - accuracy: 0.7500 - val_loss: 1.6764 - val_accuracy: 0.5556\n",
            "Epoch 16/16\n",
            "3/3 [==============================] - 1s 203ms/step - loss: 0.6057 - accuracy: 0.7639 - val_loss: 1.8206 - val_accuracy: 0.5556\n"
          ]
        },
        {
          "output_type": "stream",
          "name": "stderr",
          "text": [
            "/usr/local/lib/python3.10/dist-packages/keras/src/engine/training.py:3079: UserWarning: You are saving your model as an HDF5 file via `model.save()`. This file format is considered legacy. We recommend using instead the native Keras format, e.g. `model.save('my_model.keras')`.\n",
            "  saving_api.save_model(\n"
          ]
        },
        {
          "output_type": "stream",
          "name": "stdout",
          "text": [
            "Epoch 1/16\n",
            "29/29 [==============================] - 11s 222ms/step - loss: 1.6243 - accuracy: 0.5022 - val_loss: 1.5177 - val_accuracy: 0.4500\n",
            "Epoch 2/16\n",
            "29/29 [==============================] - 5s 185ms/step - loss: 1.2080 - accuracy: 0.5178 - val_loss: 1.5781 - val_accuracy: 0.4400\n",
            "Epoch 3/16\n",
            "29/29 [==============================] - 5s 181ms/step - loss: 0.8912 - accuracy: 0.6467 - val_loss: 1.8132 - val_accuracy: 0.3800\n",
            "Epoch 4/16\n",
            "29/29 [==============================] - 5s 189ms/step - loss: 0.6096 - accuracy: 0.7911 - val_loss: 2.1580 - val_accuracy: 0.3500\n",
            "Epoch 5/16\n",
            "29/29 [==============================] - 5s 182ms/step - loss: 0.4485 - accuracy: 0.8578 - val_loss: 2.5501 - val_accuracy: 0.3500\n",
            "Epoch 6/16\n",
            "29/29 [==============================] - 5s 186ms/step - loss: 0.3921 - accuracy: 0.8811 - val_loss: 2.5260 - val_accuracy: 0.3500\n",
            "Epoch 7/16\n",
            "29/29 [==============================] - 6s 195ms/step - loss: 0.3515 - accuracy: 0.8878 - val_loss: 2.7842 - val_accuracy: 0.3500\n",
            "Epoch 8/16\n",
            "29/29 [==============================] - 6s 191ms/step - loss: 0.2965 - accuracy: 0.9067 - val_loss: 2.7616 - val_accuracy: 0.3600\n",
            "Epoch 9/16\n",
            "29/29 [==============================] - 5s 188ms/step - loss: 0.2334 - accuracy: 0.9189 - val_loss: 2.8526 - val_accuracy: 0.3700\n",
            "Epoch 10/16\n",
            "29/29 [==============================] - 5s 177ms/step - loss: 0.2178 - accuracy: 0.9356 - val_loss: 2.9255 - val_accuracy: 0.3300\n",
            "Epoch 11/16\n",
            "29/29 [==============================] - 5s 177ms/step - loss: 0.1851 - accuracy: 0.9400 - val_loss: 2.8326 - val_accuracy: 0.3800\n",
            "Epoch 12/16\n",
            "29/29 [==============================] - 5s 185ms/step - loss: 0.1543 - accuracy: 0.9500 - val_loss: 2.9905 - val_accuracy: 0.3600\n",
            "Epoch 13/16\n",
            "29/29 [==============================] - 5s 177ms/step - loss: 0.1279 - accuracy: 0.9644 - val_loss: 3.0257 - val_accuracy: 0.3600\n",
            "Epoch 14/16\n",
            "29/29 [==============================] - 5s 181ms/step - loss: 0.1054 - accuracy: 0.9678 - val_loss: 2.9950 - val_accuracy: 0.3600\n",
            "Epoch 15/16\n",
            "29/29 [==============================] - 5s 182ms/step - loss: 0.0989 - accuracy: 0.9711 - val_loss: 2.7721 - val_accuracy: 0.4100\n",
            "Epoch 16/16\n",
            "29/29 [==============================] - 5s 179ms/step - loss: 0.0893 - accuracy: 0.9789 - val_loss: 3.0184 - val_accuracy: 0.4200\n"
          ]
        },
        {
          "output_type": "stream",
          "name": "stderr",
          "text": [
            "/usr/local/lib/python3.10/dist-packages/keras/src/engine/training.py:3079: UserWarning: You are saving your model as an HDF5 file via `model.save()`. This file format is considered legacy. We recommend using instead the native Keras format, e.g. `model.save('my_model.keras')`.\n",
            "  saving_api.save_model(\n"
          ]
        },
        {
          "output_type": "stream",
          "name": "stdout",
          "text": [
            "Epoch 1/16\n",
            "5/5 [==============================] - 6s 408ms/step - loss: 1.5869 - accuracy: 0.6458 - val_loss: 1.5435 - val_accuracy: 0.7059\n",
            "Epoch 2/16\n",
            "5/5 [==============================] - 1s 176ms/step - loss: 1.4706 - accuracy: 0.7917 - val_loss: 1.3846 - val_accuracy: 0.7059\n",
            "Epoch 3/16\n",
            "5/5 [==============================] - 1s 179ms/step - loss: 1.1283 - accuracy: 0.7917 - val_loss: 0.9349 - val_accuracy: 0.7059\n",
            "Epoch 4/16\n",
            "5/5 [==============================] - 1s 177ms/step - loss: 0.6775 - accuracy: 0.7917 - val_loss: 0.9377 - val_accuracy: 0.7059\n",
            "Epoch 5/16\n",
            "5/5 [==============================] - 1s 195ms/step - loss: 0.6079 - accuracy: 0.7917 - val_loss: 0.8253 - val_accuracy: 0.7059\n",
            "Epoch 6/16\n",
            "5/5 [==============================] - 1s 192ms/step - loss: 0.4941 - accuracy: 0.8125 - val_loss: 0.7265 - val_accuracy: 0.7647\n",
            "Epoch 7/16\n",
            "5/5 [==============================] - 1s 199ms/step - loss: 0.4248 - accuracy: 0.8403 - val_loss: 0.7169 - val_accuracy: 0.7647\n",
            "Epoch 8/16\n",
            "5/5 [==============================] - 1s 198ms/step - loss: 0.3338 - accuracy: 0.8819 - val_loss: 0.8104 - val_accuracy: 0.7647\n",
            "Epoch 9/16\n",
            "5/5 [==============================] - 1s 184ms/step - loss: 0.2460 - accuracy: 0.9306 - val_loss: 0.8520 - val_accuracy: 0.7647\n",
            "Epoch 10/16\n",
            "5/5 [==============================] - 1s 187ms/step - loss: 0.1639 - accuracy: 0.9653 - val_loss: 0.9135 - val_accuracy: 0.7647\n",
            "Epoch 11/16\n",
            "5/5 [==============================] - 1s 174ms/step - loss: 0.1137 - accuracy: 0.9861 - val_loss: 1.0761 - val_accuracy: 0.7647\n",
            "Epoch 12/16\n",
            "5/5 [==============================] - 1s 180ms/step - loss: 0.0964 - accuracy: 0.9792 - val_loss: 1.0391 - val_accuracy: 0.5294\n",
            "Epoch 13/16\n",
            "5/5 [==============================] - 1s 178ms/step - loss: 0.0838 - accuracy: 0.9861 - val_loss: 1.1353 - val_accuracy: 0.5294\n",
            "Epoch 14/16\n",
            "5/5 [==============================] - 1s 185ms/step - loss: 0.0637 - accuracy: 0.9861 - val_loss: 1.1932 - val_accuracy: 0.6471\n",
            "Epoch 15/16\n",
            "5/5 [==============================] - 1s 186ms/step - loss: 0.0540 - accuracy: 0.9861 - val_loss: 1.3107 - val_accuracy: 0.7647\n",
            "Epoch 16/16\n",
            "5/5 [==============================] - 1s 180ms/step - loss: 0.0487 - accuracy: 0.9861 - val_loss: 1.3649 - val_accuracy: 0.7647\n"
          ]
        },
        {
          "output_type": "stream",
          "name": "stderr",
          "text": [
            "/usr/local/lib/python3.10/dist-packages/keras/src/engine/training.py:3079: UserWarning: You are saving your model as an HDF5 file via `model.save()`. This file format is considered legacy. We recommend using instead the native Keras format, e.g. `model.save('my_model.keras')`.\n",
            "  saving_api.save_model(\n"
          ]
        },
        {
          "output_type": "stream",
          "name": "stdout",
          "text": [
            "Epoch 1/16\n",
            "7/7 [==============================] - 8s 372ms/step - loss: 1.7740 - accuracy: 0.4109 - val_loss: 1.7296 - val_accuracy: 0.4783\n",
            "Epoch 2/16\n",
            "7/7 [==============================] - 1s 191ms/step - loss: 1.6618 - accuracy: 0.5396 - val_loss: 1.5069 - val_accuracy: 0.4783\n",
            "Epoch 3/16\n",
            "7/7 [==============================] - 1s 194ms/step - loss: 1.3615 - accuracy: 0.5396 - val_loss: 1.3028 - val_accuracy: 0.4783\n",
            "Epoch 4/16\n",
            "7/7 [==============================] - 1s 194ms/step - loss: 1.2069 - accuracy: 0.5396 - val_loss: 1.2488 - val_accuracy: 0.4783\n",
            "Epoch 5/16\n",
            "7/7 [==============================] - 1s 181ms/step - loss: 1.1033 - accuracy: 0.5594 - val_loss: 1.2243 - val_accuracy: 0.4783\n",
            "Epoch 6/16\n",
            "7/7 [==============================] - 1s 175ms/step - loss: 0.9825 - accuracy: 0.5594 - val_loss: 1.2594 - val_accuracy: 0.5217\n",
            "Epoch 7/16\n",
            "7/7 [==============================] - 1s 183ms/step - loss: 0.7853 - accuracy: 0.6980 - val_loss: 1.5280 - val_accuracy: 0.3478\n",
            "Epoch 8/16\n",
            "7/7 [==============================] - 1s 181ms/step - loss: 0.5736 - accuracy: 0.8515 - val_loss: 1.5773 - val_accuracy: 0.3478\n",
            "Epoch 9/16\n",
            "7/7 [==============================] - 1s 208ms/step - loss: 0.4506 - accuracy: 0.8812 - val_loss: 1.4816 - val_accuracy: 0.4783\n",
            "Epoch 10/16\n",
            "7/7 [==============================] - 1s 198ms/step - loss: 0.4093 - accuracy: 0.8713 - val_loss: 1.7002 - val_accuracy: 0.4348\n",
            "Epoch 11/16\n",
            "7/7 [==============================] - 1s 181ms/step - loss: 0.3403 - accuracy: 0.8960 - val_loss: 1.9800 - val_accuracy: 0.4348\n",
            "Epoch 12/16\n",
            "7/7 [==============================] - 1s 183ms/step - loss: 0.3033 - accuracy: 0.9010 - val_loss: 2.0279 - val_accuracy: 0.4348\n",
            "Epoch 13/16\n",
            "7/7 [==============================] - 1s 182ms/step - loss: 0.2773 - accuracy: 0.9010 - val_loss: 2.1366 - val_accuracy: 0.4348\n",
            "Epoch 14/16\n",
            "7/7 [==============================] - 1s 180ms/step - loss: 0.2526 - accuracy: 0.9010 - val_loss: 2.2372 - val_accuracy: 0.4348\n",
            "Epoch 15/16\n",
            "7/7 [==============================] - 1s 183ms/step - loss: 0.2290 - accuracy: 0.9208 - val_loss: 2.1686 - val_accuracy: 0.4348\n",
            "Epoch 16/16\n",
            "7/7 [==============================] - 1s 187ms/step - loss: 0.2006 - accuracy: 0.9109 - val_loss: 2.3126 - val_accuracy: 0.4783\n"
          ]
        },
        {
          "output_type": "stream",
          "name": "stderr",
          "text": [
            "/usr/local/lib/python3.10/dist-packages/keras/src/engine/training.py:3079: UserWarning: You are saving your model as an HDF5 file via `model.save()`. This file format is considered legacy. We recommend using instead the native Keras format, e.g. `model.save('my_model.keras')`.\n",
            "  saving_api.save_model(\n"
          ]
        },
        {
          "output_type": "stream",
          "name": "stdout",
          "text": [
            "Epoch 1/16\n",
            "29/29 [==============================] - 10s 205ms/step - loss: 1.8081 - accuracy: 0.3433 - val_loss: 1.5741 - val_accuracy: 0.3900\n",
            "Epoch 2/16\n",
            "29/29 [==============================] - 5s 173ms/step - loss: 1.4972 - accuracy: 0.4089 - val_loss: 1.4706 - val_accuracy: 0.4400\n",
            "Epoch 3/16\n",
            "29/29 [==============================] - 5s 178ms/step - loss: 1.1471 - accuracy: 0.5567 - val_loss: 1.3912 - val_accuracy: 0.5300\n",
            "Epoch 4/16\n",
            "29/29 [==============================] - 5s 172ms/step - loss: 0.8369 - accuracy: 0.7356 - val_loss: 1.4391 - val_accuracy: 0.5300\n",
            "Epoch 5/16\n",
            "29/29 [==============================] - 5s 175ms/step - loss: 0.6354 - accuracy: 0.7678 - val_loss: 1.6074 - val_accuracy: 0.4600\n",
            "Epoch 6/16\n",
            "29/29 [==============================] - 5s 177ms/step - loss: 0.5094 - accuracy: 0.8100 - val_loss: 1.6000 - val_accuracy: 0.4800\n",
            "Epoch 7/16\n",
            "29/29 [==============================] - 5s 173ms/step - loss: 0.3487 - accuracy: 0.8822 - val_loss: 1.7867 - val_accuracy: 0.4600\n",
            "Epoch 8/16\n",
            "29/29 [==============================] - 5s 177ms/step - loss: 0.2525 - accuracy: 0.9233 - val_loss: 1.9590 - val_accuracy: 0.4300\n",
            "Epoch 9/16\n",
            "29/29 [==============================] - 5s 177ms/step - loss: 0.2044 - accuracy: 0.9422 - val_loss: 2.0537 - val_accuracy: 0.4000\n",
            "Epoch 10/16\n",
            "29/29 [==============================] - 5s 180ms/step - loss: 0.1770 - accuracy: 0.9500 - val_loss: 2.0828 - val_accuracy: 0.3900\n",
            "Epoch 11/16\n",
            "29/29 [==============================] - 5s 186ms/step - loss: 0.1524 - accuracy: 0.9578 - val_loss: 2.2631 - val_accuracy: 0.3900\n",
            "Epoch 12/16\n",
            "29/29 [==============================] - 5s 177ms/step - loss: 0.1172 - accuracy: 0.9667 - val_loss: 2.3554 - val_accuracy: 0.3600\n",
            "Epoch 13/16\n",
            "29/29 [==============================] - 5s 175ms/step - loss: 0.1104 - accuracy: 0.9733 - val_loss: 2.3933 - val_accuracy: 0.3900\n",
            "Epoch 14/16\n",
            "29/29 [==============================] - 5s 176ms/step - loss: 0.0969 - accuracy: 0.9711 - val_loss: 2.5324 - val_accuracy: 0.3500\n",
            "Epoch 15/16\n",
            "29/29 [==============================] - 5s 172ms/step - loss: 0.0841 - accuracy: 0.9844 - val_loss: 2.6066 - val_accuracy: 0.3500\n",
            "Epoch 16/16\n",
            "29/29 [==============================] - 5s 178ms/step - loss: 0.0821 - accuracy: 0.9778 - val_loss: 2.5367 - val_accuracy: 0.4200\n"
          ]
        },
        {
          "output_type": "stream",
          "name": "stderr",
          "text": [
            "/usr/local/lib/python3.10/dist-packages/keras/src/engine/training.py:3079: UserWarning: You are saving your model as an HDF5 file via `model.save()`. This file format is considered legacy. We recommend using instead the native Keras format, e.g. `model.save('my_model.keras')`.\n",
            "  saving_api.save_model(\n"
          ]
        },
        {
          "output_type": "stream",
          "name": "stdout",
          "text": [
            "Epoch 1/16\n",
            "29/29 [==============================] - 10s 205ms/step - loss: 1.7777 - accuracy: 0.3556 - val_loss: 1.5180 - val_accuracy: 0.4200\n",
            "Epoch 2/16\n",
            "29/29 [==============================] - 5s 183ms/step - loss: 1.5247 - accuracy: 0.3667 - val_loss: 1.5003 - val_accuracy: 0.4200\n",
            "Epoch 3/16\n",
            "29/29 [==============================] - 5s 173ms/step - loss: 1.2122 - accuracy: 0.5533 - val_loss: 1.4967 - val_accuracy: 0.4400\n",
            "Epoch 4/16\n",
            "29/29 [==============================] - 5s 174ms/step - loss: 0.8243 - accuracy: 0.7089 - val_loss: 1.5332 - val_accuracy: 0.4200\n",
            "Epoch 5/16\n",
            "29/29 [==============================] - 5s 173ms/step - loss: 0.5651 - accuracy: 0.8067 - val_loss: 1.7025 - val_accuracy: 0.3800\n",
            "Epoch 6/16\n",
            "29/29 [==============================] - 5s 171ms/step - loss: 0.4335 - accuracy: 0.8633 - val_loss: 1.7621 - val_accuracy: 0.4300\n",
            "Epoch 7/16\n",
            "29/29 [==============================] - 5s 176ms/step - loss: 0.3225 - accuracy: 0.9022 - val_loss: 1.9329 - val_accuracy: 0.4300\n",
            "Epoch 8/16\n",
            "29/29 [==============================] - 5s 173ms/step - loss: 0.2292 - accuracy: 0.9178 - val_loss: 2.0202 - val_accuracy: 0.4700\n",
            "Epoch 9/16\n",
            "29/29 [==============================] - 5s 173ms/step - loss: 0.2157 - accuracy: 0.9344 - val_loss: 2.1204 - val_accuracy: 0.4300\n",
            "Epoch 10/16\n",
            "29/29 [==============================] - 5s 177ms/step - loss: 0.1872 - accuracy: 0.9556 - val_loss: 2.3005 - val_accuracy: 0.4500\n",
            "Epoch 11/16\n",
            "29/29 [==============================] - 5s 180ms/step - loss: 0.1565 - accuracy: 0.9600 - val_loss: 2.0462 - val_accuracy: 0.5100\n",
            "Epoch 12/16\n",
            "29/29 [==============================] - 6s 196ms/step - loss: 0.1188 - accuracy: 0.9689 - val_loss: 2.2504 - val_accuracy: 0.4400\n",
            "Epoch 13/16\n",
            "29/29 [==============================] - 6s 190ms/step - loss: 0.0879 - accuracy: 0.9789 - val_loss: 2.4575 - val_accuracy: 0.4700\n",
            "Epoch 14/16\n",
            "29/29 [==============================] - 6s 191ms/step - loss: 0.0804 - accuracy: 0.9800 - val_loss: 2.4813 - val_accuracy: 0.4500\n",
            "Epoch 15/16\n",
            "29/29 [==============================] - 6s 195ms/step - loss: 0.0788 - accuracy: 0.9789 - val_loss: 2.7466 - val_accuracy: 0.4100\n",
            "Epoch 16/16\n",
            "29/29 [==============================] - 5s 188ms/step - loss: 0.0931 - accuracy: 0.9722 - val_loss: 2.3365 - val_accuracy: 0.4900\n"
          ]
        },
        {
          "output_type": "stream",
          "name": "stderr",
          "text": [
            "/usr/local/lib/python3.10/dist-packages/keras/src/engine/training.py:3079: UserWarning: You are saving your model as an HDF5 file via `model.save()`. This file format is considered legacy. We recommend using instead the native Keras format, e.g. `model.save('my_model.keras')`.\n",
            "  saving_api.save_model(\n"
          ]
        },
        {
          "output_type": "stream",
          "name": "stdout",
          "text": [
            "Epoch 1/16\n",
            "6/6 [==============================] - 7s 368ms/step - loss: 1.7827 - accuracy: 0.2751 - val_loss: 1.7750 - val_accuracy: 0.2381\n",
            "Epoch 2/16\n",
            "6/6 [==============================] - 1s 184ms/step - loss: 1.7327 - accuracy: 0.4286 - val_loss: 1.7395 - val_accuracy: 0.3333\n",
            "Epoch 3/16\n",
            "6/6 [==============================] - 1s 196ms/step - loss: 1.6288 - accuracy: 0.3545 - val_loss: 1.6780 - val_accuracy: 0.3333\n",
            "Epoch 4/16\n",
            "6/6 [==============================] - 1s 197ms/step - loss: 1.4482 - accuracy: 0.3175 - val_loss: 1.6914 - val_accuracy: 0.3333\n",
            "Epoch 5/16\n",
            "6/6 [==============================] - 1s 198ms/step - loss: 1.3240 - accuracy: 0.3439 - val_loss: 1.5520 - val_accuracy: 0.3333\n",
            "Epoch 6/16\n",
            "6/6 [==============================] - 1s 187ms/step - loss: 1.1293 - accuracy: 0.5767 - val_loss: 1.6132 - val_accuracy: 0.4286\n",
            "Epoch 7/16\n",
            "6/6 [==============================] - 1s 184ms/step - loss: 0.8689 - accuracy: 0.8624 - val_loss: 1.8627 - val_accuracy: 0.2857\n",
            "Epoch 8/16\n",
            "6/6 [==============================] - 1s 189ms/step - loss: 0.5844 - accuracy: 0.9471 - val_loss: 1.6711 - val_accuracy: 0.3333\n",
            "Epoch 9/16\n",
            "6/6 [==============================] - 1s 199ms/step - loss: 0.4412 - accuracy: 0.9365 - val_loss: 2.2475 - val_accuracy: 0.2381\n",
            "Epoch 10/16\n",
            "6/6 [==============================] - 1s 205ms/step - loss: 0.2873 - accuracy: 0.9735 - val_loss: 1.8301 - val_accuracy: 0.3333\n",
            "Epoch 11/16\n",
            "6/6 [==============================] - 1s 195ms/step - loss: 0.2044 - accuracy: 0.9788 - val_loss: 2.1691 - val_accuracy: 0.2381\n",
            "Epoch 12/16\n",
            "6/6 [==============================] - 1s 184ms/step - loss: 0.1520 - accuracy: 0.9841 - val_loss: 2.3330 - val_accuracy: 0.2857\n",
            "Epoch 13/16\n",
            "6/6 [==============================] - 1s 186ms/step - loss: 0.0957 - accuracy: 1.0000 - val_loss: 2.7033 - val_accuracy: 0.1905\n",
            "Epoch 14/16\n",
            "6/6 [==============================] - 1s 187ms/step - loss: 0.0769 - accuracy: 1.0000 - val_loss: 2.7302 - val_accuracy: 0.1905\n",
            "Epoch 15/16\n",
            "6/6 [==============================] - 1s 185ms/step - loss: 0.1479 - accuracy: 0.9683 - val_loss: 2.4439 - val_accuracy: 0.2857\n",
            "Epoch 16/16\n",
            "6/6 [==============================] - 1s 190ms/step - loss: 0.1366 - accuracy: 0.9683 - val_loss: 2.2941 - val_accuracy: 0.3333\n"
          ]
        },
        {
          "output_type": "stream",
          "name": "stderr",
          "text": [
            "/usr/local/lib/python3.10/dist-packages/keras/src/engine/training.py:3079: UserWarning: You are saving your model as an HDF5 file via `model.save()`. This file format is considered legacy. We recommend using instead the native Keras format, e.g. `model.save('my_model.keras')`.\n",
            "  saving_api.save_model(\n"
          ]
        },
        {
          "output_type": "stream",
          "name": "stdout",
          "text": [
            "Epoch 1/16\n",
            "29/29 [==============================] - 10s 225ms/step - loss: 1.7001 - accuracy: 0.4189 - val_loss: 1.3609 - val_accuracy: 0.3500\n",
            "Epoch 2/16\n",
            "29/29 [==============================] - 5s 180ms/step - loss: 1.3828 - accuracy: 0.4233 - val_loss: 1.3003 - val_accuracy: 0.5300\n",
            "Epoch 3/16\n",
            "29/29 [==============================] - 5s 183ms/step - loss: 1.0401 - accuracy: 0.5978 - val_loss: 1.5165 - val_accuracy: 0.3900\n",
            "Epoch 4/16\n",
            "29/29 [==============================] - 5s 178ms/step - loss: 0.6710 - accuracy: 0.7533 - val_loss: 1.6969 - val_accuracy: 0.4300\n",
            "Epoch 5/16\n",
            "29/29 [==============================] - 5s 178ms/step - loss: 0.4566 - accuracy: 0.8256 - val_loss: 1.9239 - val_accuracy: 0.4500\n",
            "Epoch 6/16\n",
            "29/29 [==============================] - 5s 181ms/step - loss: 0.3922 - accuracy: 0.8378 - val_loss: 2.2104 - val_accuracy: 0.4700\n",
            "Epoch 7/16\n",
            "29/29 [==============================] - 5s 175ms/step - loss: 0.3486 - accuracy: 0.8811 - val_loss: 2.0328 - val_accuracy: 0.4600\n",
            "Epoch 8/16\n",
            "29/29 [==============================] - 5s 184ms/step - loss: 0.3143 - accuracy: 0.9133 - val_loss: 2.1245 - val_accuracy: 0.4200\n",
            "Epoch 9/16\n",
            "29/29 [==============================] - 5s 180ms/step - loss: 0.2382 - accuracy: 0.9522 - val_loss: 2.4206 - val_accuracy: 0.4300\n",
            "Epoch 10/16\n",
            "29/29 [==============================] - 5s 181ms/step - loss: 0.1643 - accuracy: 0.9700 - val_loss: 2.6240 - val_accuracy: 0.4400\n",
            "Epoch 11/16\n",
            "29/29 [==============================] - 6s 193ms/step - loss: 0.1132 - accuracy: 0.9778 - val_loss: 2.7494 - val_accuracy: 0.4200\n",
            "Epoch 12/16\n",
            "29/29 [==============================] - 5s 183ms/step - loss: 0.0832 - accuracy: 0.9844 - val_loss: 2.7234 - val_accuracy: 0.4300\n",
            "Epoch 13/16\n",
            "29/29 [==============================] - 5s 186ms/step - loss: 0.0705 - accuracy: 0.9867 - val_loss: 2.8769 - val_accuracy: 0.3900\n",
            "Epoch 14/16\n",
            "29/29 [==============================] - 5s 186ms/step - loss: 0.0812 - accuracy: 0.9811 - val_loss: 2.7119 - val_accuracy: 0.4000\n",
            "Epoch 15/16\n",
            "29/29 [==============================] - 5s 179ms/step - loss: 0.0678 - accuracy: 0.9833 - val_loss: 2.7136 - val_accuracy: 0.4200\n",
            "Epoch 16/16\n",
            "29/29 [==============================] - 5s 186ms/step - loss: 0.0450 - accuracy: 0.9900 - val_loss: 2.7613 - val_accuracy: 0.4300\n"
          ]
        },
        {
          "output_type": "stream",
          "name": "stderr",
          "text": [
            "/usr/local/lib/python3.10/dist-packages/keras/src/engine/training.py:3079: UserWarning: You are saving your model as an HDF5 file via `model.save()`. This file format is considered legacy. We recommend using instead the native Keras format, e.g. `model.save('my_model.keras')`.\n",
            "  saving_api.save_model(\n"
          ]
        },
        {
          "output_type": "stream",
          "name": "stdout",
          "text": [
            "Epoch 1/16\n",
            "29/29 [==============================] - 10s 205ms/step - loss: 1.6512 - accuracy: 0.5600 - val_loss: 1.4668 - val_accuracy: 0.5000\n",
            "Epoch 2/16\n",
            "29/29 [==============================] - 5s 181ms/step - loss: 1.2785 - accuracy: 0.5756 - val_loss: 1.4507 - val_accuracy: 0.5100\n",
            "Epoch 3/16\n",
            "29/29 [==============================] - 5s 177ms/step - loss: 0.9160 - accuracy: 0.6367 - val_loss: 1.4933 - val_accuracy: 0.5300\n",
            "Epoch 4/16\n",
            "29/29 [==============================] - 5s 181ms/step - loss: 0.7558 - accuracy: 0.7178 - val_loss: 1.6342 - val_accuracy: 0.4900\n",
            "Epoch 5/16\n",
            "29/29 [==============================] - 5s 176ms/step - loss: 0.6063 - accuracy: 0.7900 - val_loss: 1.8873 - val_accuracy: 0.4600\n",
            "Epoch 6/16\n",
            "29/29 [==============================] - 5s 174ms/step - loss: 0.5023 - accuracy: 0.8033 - val_loss: 2.1706 - val_accuracy: 0.4200\n",
            "Epoch 7/16\n",
            "29/29 [==============================] - 5s 179ms/step - loss: 0.4582 - accuracy: 0.8133 - val_loss: 2.1622 - val_accuracy: 0.4000\n",
            "Epoch 8/16\n",
            "29/29 [==============================] - 5s 174ms/step - loss: 0.3847 - accuracy: 0.8544 - val_loss: 2.3277 - val_accuracy: 0.4700\n",
            "Epoch 9/16\n",
            "29/29 [==============================] - 5s 175ms/step - loss: 0.2890 - accuracy: 0.9289 - val_loss: 2.5553 - val_accuracy: 0.4700\n",
            "Epoch 10/16\n",
            "29/29 [==============================] - 5s 180ms/step - loss: 0.2445 - accuracy: 0.9267 - val_loss: 2.4336 - val_accuracy: 0.4500\n",
            "Epoch 11/16\n",
            "29/29 [==============================] - 5s 174ms/step - loss: 0.1721 - accuracy: 0.9378 - val_loss: 2.6184 - val_accuracy: 0.4400\n",
            "Epoch 12/16\n",
            "29/29 [==============================] - 5s 181ms/step - loss: 0.1461 - accuracy: 0.9544 - val_loss: 2.7267 - val_accuracy: 0.4400\n",
            "Epoch 13/16\n",
            "29/29 [==============================] - 5s 179ms/step - loss: 0.1162 - accuracy: 0.9844 - val_loss: 2.6384 - val_accuracy: 0.4400\n",
            "Epoch 14/16\n",
            "29/29 [==============================] - 5s 174ms/step - loss: 0.0837 - accuracy: 0.9889 - val_loss: 2.6271 - val_accuracy: 0.4500\n",
            "Epoch 15/16\n",
            "29/29 [==============================] - 5s 178ms/step - loss: 0.0593 - accuracy: 0.9922 - val_loss: 2.5890 - val_accuracy: 0.4500\n",
            "Epoch 16/16\n",
            "29/29 [==============================] - 5s 172ms/step - loss: 0.0793 - accuracy: 0.9867 - val_loss: 2.3074 - val_accuracy: 0.4600\n"
          ]
        },
        {
          "output_type": "stream",
          "name": "stderr",
          "text": [
            "/usr/local/lib/python3.10/dist-packages/keras/src/engine/training.py:3079: UserWarning: You are saving your model as an HDF5 file via `model.save()`. This file format is considered legacy. We recommend using instead the native Keras format, e.g. `model.save('my_model.keras')`.\n",
            "  saving_api.save_model(\n"
          ]
        },
        {
          "output_type": "stream",
          "name": "stdout",
          "text": [
            "Epoch 1/16\n",
            "8/8 [==============================] - 6s 322ms/step - loss: 1.5778 - accuracy: 0.5547 - val_loss: 1.4887 - val_accuracy: 0.6897\n",
            "Epoch 2/16\n",
            "8/8 [==============================] - 1s 183ms/step - loss: 1.3299 - accuracy: 0.6367 - val_loss: 0.9794 - val_accuracy: 0.6897\n",
            "Epoch 3/16\n",
            "8/8 [==============================] - 2s 190ms/step - loss: 1.0528 - accuracy: 0.6367 - val_loss: 0.9180 - val_accuracy: 0.6897\n",
            "Epoch 4/16\n",
            "8/8 [==============================] - 2s 191ms/step - loss: 0.9059 - accuracy: 0.6406 - val_loss: 0.9102 - val_accuracy: 0.6897\n",
            "Epoch 5/16\n",
            "8/8 [==============================] - 1s 185ms/step - loss: 0.7562 - accuracy: 0.6797 - val_loss: 0.8673 - val_accuracy: 0.7241\n",
            "Epoch 6/16\n",
            "8/8 [==============================] - 1s 181ms/step - loss: 0.6162 - accuracy: 0.7227 - val_loss: 0.9224 - val_accuracy: 0.6897\n",
            "Epoch 7/16\n",
            "8/8 [==============================] - 1s 182ms/step - loss: 0.5155 - accuracy: 0.8320 - val_loss: 1.0307 - val_accuracy: 0.6897\n",
            "Epoch 8/16\n",
            "8/8 [==============================] - 1s 189ms/step - loss: 0.4312 - accuracy: 0.9219 - val_loss: 1.1233 - val_accuracy: 0.5517\n",
            "Epoch 9/16\n",
            "8/8 [==============================] - 2s 193ms/step - loss: 0.3603 - accuracy: 0.9062 - val_loss: 1.2945 - val_accuracy: 0.5517\n",
            "Epoch 10/16\n",
            "8/8 [==============================] - 2s 189ms/step - loss: 0.3249 - accuracy: 0.9258 - val_loss: 1.2913 - val_accuracy: 0.5862\n",
            "Epoch 11/16\n",
            "8/8 [==============================] - 2s 189ms/step - loss: 0.2627 - accuracy: 0.9492 - val_loss: 1.3096 - val_accuracy: 0.5172\n",
            "Epoch 12/16\n",
            "8/8 [==============================] - 1s 186ms/step - loss: 0.2298 - accuracy: 0.9531 - val_loss: 1.3330 - val_accuracy: 0.5517\n",
            "Epoch 13/16\n",
            "8/8 [==============================] - 1s 185ms/step - loss: 0.1877 - accuracy: 0.9570 - val_loss: 1.3000 - val_accuracy: 0.5862\n",
            "Epoch 14/16\n",
            "8/8 [==============================] - 1s 183ms/step - loss: 0.1445 - accuracy: 0.9609 - val_loss: 1.4738 - val_accuracy: 0.5172\n",
            "Epoch 15/16\n",
            "8/8 [==============================] - 1s 183ms/step - loss: 0.1277 - accuracy: 0.9688 - val_loss: 1.3852 - val_accuracy: 0.5517\n",
            "Epoch 16/16\n",
            "8/8 [==============================] - 1s 181ms/step - loss: 0.1085 - accuracy: 0.9648 - val_loss: 1.3348 - val_accuracy: 0.6207\n"
          ]
        },
        {
          "output_type": "stream",
          "name": "stderr",
          "text": [
            "/usr/local/lib/python3.10/dist-packages/keras/src/engine/training.py:3079: UserWarning: You are saving your model as an HDF5 file via `model.save()`. This file format is considered legacy. We recommend using instead the native Keras format, e.g. `model.save('my_model.keras')`.\n",
            "  saving_api.save_model(\n"
          ]
        },
        {
          "output_type": "stream",
          "name": "stdout",
          "text": [
            "Epoch 1/16\n",
            "29/29 [==============================] - 10s 202ms/step - loss: 1.6139 - accuracy: 0.4989 - val_loss: 1.2366 - val_accuracy: 0.5500\n",
            "Epoch 2/16\n",
            "29/29 [==============================] - 5s 179ms/step - loss: 1.3235 - accuracy: 0.5100 - val_loss: 1.1468 - val_accuracy: 0.5500\n",
            "Epoch 3/16\n",
            "29/29 [==============================] - 5s 175ms/step - loss: 1.0802 - accuracy: 0.5511 - val_loss: 1.1101 - val_accuracy: 0.6000\n",
            "Epoch 4/16\n",
            "29/29 [==============================] - 5s 175ms/step - loss: 0.8526 - accuracy: 0.7011 - val_loss: 1.1576 - val_accuracy: 0.5400\n",
            "Epoch 5/16\n",
            "29/29 [==============================] - 5s 180ms/step - loss: 0.5738 - accuracy: 0.8200 - val_loss: 1.2566 - val_accuracy: 0.6100\n",
            "Epoch 6/16\n",
            "29/29 [==============================] - 5s 173ms/step - loss: 0.4019 - accuracy: 0.8667 - val_loss: 1.4269 - val_accuracy: 0.5600\n",
            "Epoch 7/16\n",
            "29/29 [==============================] - 5s 174ms/step - loss: 0.3162 - accuracy: 0.9133 - val_loss: 1.3608 - val_accuracy: 0.5800\n",
            "Epoch 8/16\n",
            "29/29 [==============================] - 5s 179ms/step - loss: 0.2634 - accuracy: 0.9311 - val_loss: 1.5221 - val_accuracy: 0.5500\n",
            "Epoch 9/16\n",
            "29/29 [==============================] - 5s 174ms/step - loss: 0.2309 - accuracy: 0.9344 - val_loss: 1.4946 - val_accuracy: 0.5700\n",
            "Epoch 10/16\n",
            "29/29 [==============================] - 5s 177ms/step - loss: 0.2012 - accuracy: 0.9378 - val_loss: 1.5075 - val_accuracy: 0.6000\n",
            "Epoch 11/16\n",
            "29/29 [==============================] - 5s 177ms/step - loss: 0.1953 - accuracy: 0.9322 - val_loss: 1.5157 - val_accuracy: 0.5200\n",
            "Epoch 12/16\n",
            "29/29 [==============================] - 5s 181ms/step - loss: 0.1921 - accuracy: 0.9400 - val_loss: 1.6162 - val_accuracy: 0.5300\n",
            "Epoch 13/16\n",
            "29/29 [==============================] - 5s 183ms/step - loss: 0.2190 - accuracy: 0.9333 - val_loss: 1.4066 - val_accuracy: 0.5600\n",
            "Epoch 14/16\n",
            "29/29 [==============================] - 5s 175ms/step - loss: 0.1516 - accuracy: 0.9556 - val_loss: 1.5283 - val_accuracy: 0.6000\n",
            "Epoch 15/16\n",
            "29/29 [==============================] - 5s 178ms/step - loss: 0.1067 - accuracy: 0.9733 - val_loss: 1.5720 - val_accuracy: 0.6400\n",
            "Epoch 16/16\n",
            "29/29 [==============================] - 5s 179ms/step - loss: 0.0884 - accuracy: 0.9811 - val_loss: 1.7228 - val_accuracy: 0.5700\n"
          ]
        },
        {
          "output_type": "stream",
          "name": "stderr",
          "text": [
            "/usr/local/lib/python3.10/dist-packages/keras/src/engine/training.py:3079: UserWarning: You are saving your model as an HDF5 file via `model.save()`. This file format is considered legacy. We recommend using instead the native Keras format, e.g. `model.save('my_model.keras')`.\n",
            "  saving_api.save_model(\n"
          ]
        },
        {
          "output_type": "stream",
          "name": "stdout",
          "text": [
            "Epoch 1/16\n",
            "14/14 [==============================] - 9s 256ms/step - loss: 1.8813 - accuracy: 0.3691 - val_loss: 1.7540 - val_accuracy: 0.2600\n",
            "Epoch 2/16\n",
            "14/14 [==============================] - 3s 190ms/step - loss: 1.5960 - accuracy: 0.4161 - val_loss: 1.5903 - val_accuracy: 0.2600\n",
            "Epoch 3/16\n",
            "14/14 [==============================] - 2s 177ms/step - loss: 1.4852 - accuracy: 0.4161 - val_loss: 1.6226 - val_accuracy: 0.2600\n",
            "Epoch 4/16\n",
            "14/14 [==============================] - 2s 174ms/step - loss: 1.4224 - accuracy: 0.4206 - val_loss: 1.5706 - val_accuracy: 0.3000\n",
            "Epoch 5/16\n",
            "14/14 [==============================] - 2s 173ms/step - loss: 1.3144 - accuracy: 0.4966 - val_loss: 1.5496 - val_accuracy: 0.3400\n",
            "Epoch 6/16\n",
            "14/14 [==============================] - 2s 176ms/step - loss: 1.1636 - accuracy: 0.5570 - val_loss: 1.4813 - val_accuracy: 0.5200\n",
            "Epoch 7/16\n",
            "14/14 [==============================] - 3s 188ms/step - loss: 1.0581 - accuracy: 0.5884 - val_loss: 1.4646 - val_accuracy: 0.4800\n",
            "Epoch 8/16\n",
            "14/14 [==============================] - 3s 179ms/step - loss: 0.9254 - accuracy: 0.6846 - val_loss: 1.4764 - val_accuracy: 0.5200\n",
            "Epoch 9/16\n",
            "14/14 [==============================] - 2s 176ms/step - loss: 0.7630 - accuracy: 0.7606 - val_loss: 1.6548 - val_accuracy: 0.5000\n",
            "Epoch 10/16\n",
            "14/14 [==============================] - 2s 178ms/step - loss: 0.6051 - accuracy: 0.8076 - val_loss: 1.7289 - val_accuracy: 0.4600\n",
            "Epoch 11/16\n",
            "14/14 [==============================] - 3s 180ms/step - loss: 0.4855 - accuracy: 0.8479 - val_loss: 2.0225 - val_accuracy: 0.4200\n",
            "Epoch 12/16\n",
            "14/14 [==============================] - 3s 188ms/step - loss: 0.4196 - accuracy: 0.8680 - val_loss: 1.9260 - val_accuracy: 0.4600\n",
            "Epoch 13/16\n",
            "14/14 [==============================] - 3s 185ms/step - loss: 0.3743 - accuracy: 0.8949 - val_loss: 1.9628 - val_accuracy: 0.4800\n",
            "Epoch 14/16\n",
            "14/14 [==============================] - 2s 176ms/step - loss: 0.3172 - accuracy: 0.9016 - val_loss: 2.0636 - val_accuracy: 0.4200\n",
            "Epoch 15/16\n",
            "14/14 [==============================] - 2s 174ms/step - loss: 0.2979 - accuracy: 0.9060 - val_loss: 2.3854 - val_accuracy: 0.3800\n",
            "Epoch 16/16\n",
            "14/14 [==============================] - 2s 179ms/step - loss: 0.2397 - accuracy: 0.9217 - val_loss: 2.2365 - val_accuracy: 0.4600\n"
          ]
        },
        {
          "output_type": "stream",
          "name": "stderr",
          "text": [
            "/usr/local/lib/python3.10/dist-packages/keras/src/engine/training.py:3079: UserWarning: You are saving your model as an HDF5 file via `model.save()`. This file format is considered legacy. We recommend using instead the native Keras format, e.g. `model.save('my_model.keras')`.\n",
            "  saving_api.save_model(\n"
          ]
        }
      ]
    },
    {
      "cell_type": "code",
      "source": [
        "print(model.summary())"
      ],
      "metadata": {
        "colab": {
          "base_uri": "https://localhost:8080/"
        },
        "id": "JTGeG7FnbE0j",
        "outputId": "0849ac8c-36b7-4f27-b72e-c5aa9761b7ff"
      },
      "execution_count": 24,
      "outputs": [
        {
          "output_type": "stream",
          "name": "stdout",
          "text": [
            "Model: \"sequential_86\"\n",
            "_________________________________________________________________\n",
            " Layer (type)                Output Shape              Param #   \n",
            "=================================================================\n",
            " embedding_86 (Embedding)    (None, 85, 100)           13958300  \n",
            "                                                                 \n",
            " lstm_172 (LSTM)             (None, 85, 40)            22560     \n",
            "                                                                 \n",
            " lstm_173 (LSTM)             (None, 40)                12960     \n",
            "                                                                 \n",
            " dense_86 (Dense)            (None, 7)                 287       \n",
            "                                                                 \n",
            "=================================================================\n",
            "Total params: 13994107 (53.38 MB)\n",
            "Trainable params: 13994107 (53.38 MB)\n",
            "Non-trainable params: 0 (0.00 Byte)\n",
            "_________________________________________________________________\n",
            "None\n"
          ]
        }
      ]
    },
    {
      "cell_type": "code",
      "source": [
        "import matplotlib.pyplot as plt\n",
        "\n",
        "# Assuming you have the 'history' object from the previous training\n",
        "history_dict = history.history\n",
        "loss_values = history_dict['loss']\n",
        "val_loss_values = history_dict['val_loss']\n",
        "acc_values = history_dict['accuracy']\n",
        "val_acc_values = history_dict['val_accuracy']\n",
        "epochs = range(1, len(val_loss_values) + 1)\n",
        "\n",
        "plt.figure(figsize=(12, 8))\n",
        "\n",
        "plt.subplot(2, 1, 1)\n",
        "plt.plot(epochs, loss_values, 'bo', label='Training loss')\n",
        "plt.plot(epochs, val_loss_values, 'b', label='Validation loss')\n",
        "plt.title('Training and Validation Loss')\n",
        "plt.xlabel('Epochs')\n",
        "plt.ylabel('Loss')\n",
        "plt.legend()\n",
        "plt.grid(False)\n",
        "\n",
        "plt.subplot(2, 1, 2)\n",
        "plt.plot(epochs, acc_values, 'bo', label='Training accuracy')\n",
        "plt.plot(epochs, val_acc_values, 'b', label='Validation accuracy')\n",
        "plt.title('Training and Validation Accuracy')\n",
        "plt.xlabel('Epochs')\n",
        "plt.ylabel('Accuracy')\n",
        "plt.legend()\n",
        "plt.grid(False)\n",
        "\n",
        "plt.show()\n"
      ],
      "metadata": {
        "id": "rJinvCakbHlG",
        "colab": {
          "base_uri": "https://localhost:8080/",
          "height": 718
        },
        "outputId": "dc6f1e73-4f0c-47a7-df0a-fee8681a33d0"
      },
      "execution_count": 26,
      "outputs": [
        {
          "output_type": "display_data",
          "data": {
            "text/plain": [
              "<Figure size 1200x800 with 2 Axes>"
            ],
            "image/png": "[encoded data removed]"
          },
          "metadata": {}
        }
      ]
    },
    {
      "cell_type": "code",
      "source": [
        "from keras.models import load_model\n"
      ],
      "metadata": {
        "id": "VfCa-XSZ9l6c"
      },
      "execution_count": 27,
      "outputs": []
    },
    {
      "cell_type": "code",
      "source": [
        "from keras.models import Sequential\n",
        "from keras.layers import Embedding, LSTM, Dense\n",
        "from keras.utils import to_categorical\n",
        "from keras.preprocessing.text import Tokenizer\n",
        "from keras.preprocessing.sequence import pad_sequences\n",
        "from sklearn.model_selection import train_test_split\n",
        "from sklearn.preprocessing import LabelEncoder\n",
        "import pandas as pd\n",
        "\n",
        "# Assuming 'df' is your DataFrame with 'Summary', 'News_Topic', and 'Sentiment' columns\n",
        "# Extract the 'summary', 'news_topic', and 'sentiment' columns\n",
        "summaries = df['Summary'].astype(str)\n",
        "news_topics = df['News topic']\n",
        "sentiments = df['Summary_Emotion']\n",
        "\n",
        "# Create a tokenizer\n",
        "tokenizer = Tokenizer()\n",
        "tokenizer.fit_on_texts(summaries)\n",
        "\n",
        "# Get the vocabulary size\n",
        "vocab_size = len(tokenizer.word_index) + 1  # Add 1 for the reserved 0 index"
      ],
      "metadata": {
        "id": "TBsSu2pj-IU-"
      },
      "execution_count": 29,
      "outputs": []
    },
    {
      "cell_type": "code",
      "source": [
        "# Iterate over each unique news topic\n",
        "for topic in df['News topic'].unique():\n",
        "    # Filter the DataFrame for the current topic\n",
        "    topic_df = df[df['News topic'] == topic]\n",
        "\n",
        "    # Extract 'summary' and 'sentiment' columns for the current topic\n",
        "    topic_summaries = topic_df['Summary'].astype(str)\n",
        "    topic_sentiments = topic_df['Summary_Emotion']\n",
        "\n",
        "    # Tokenize the text\n",
        "    sequences = tokenizer.texts_to_sequences(topic_summaries)\n",
        "    padded_sequences = pad_sequences(sequences, maxlen=max_news_length)\n",
        "\n",
        "    # Get the number of unique emotions for the current topic\n",
        "    num_classes = len(topic_sentiments.unique())\n",
        "\n",
        "    # Encode labels\n",
        "    label_encoder = LabelEncoder()\n",
        "    encoded_labels = label_encoder.fit_transform(topic_sentiments)\n",
        "    y_one_hot = to_categorical(encoded_labels, num_classes=num_classes)\n",
        "\n",
        "    # Split data into train and test sets\n",
        "    X_train, X_test, y_train, y_test = train_test_split(\n",
        "        padded_sequences, y_one_hot, test_size=0.1, random_state=42\n",
        "    )"
      ],
      "metadata": {
        "id": "IjVa6GwL-K14"
      },
      "execution_count": 30,
      "outputs": []
    },
    {
      "cell_type": "code",
      "source": [
        "save_directory = '/content/drive/MyDrive/Diss/many to one lstm/separated h5/'\n",
        "\n",
        "# Assuming you have loaded a trained model\n",
        "topic = \"2023 US debt ceiling crisis\"  # Replace with the specific topic you're interested in\n",
        "loaded_model = load_model(f\"{save_directory}lstm_model_2023 US debt ceiling crisis.h5\")\n",
        "\n",
        "# Evaluate on the test set\n",
        "evaluation = loaded_model.evaluate(X_test, y_test)\n",
        "print(f\"Test Accuracy for {topic}: {evaluation[1]}\")\n"
      ],
      "metadata": {
        "id": "uH6Yh6xTlSd5",
        "colab": {
          "base_uri": "https://localhost:8080/"
        },
        "outputId": "f5f1ddf9-ca6f-4d42-bf85-ee85e20d3a3d"
      },
      "execution_count": 31,
      "outputs": [
        {
          "output_type": "stream",
          "name": "stdout",
          "text": [
            "2/2 [==============================] - 1s 27ms/step - loss: 3.3151 - accuracy: 0.2400\n",
            "Test Accuracy for 2023 US debt ceiling crisis: 0.23999999463558197\n"
          ]
        }
      ]
    },
    {
      "cell_type": "code",
      "source": [
        "from sklearn.metrics import classification_report, confusion_matrix\n",
        "\n",
        "# Assuming you have loaded a trained model\n",
        "topic = \"2023 US debt ceiling crisis\"  # Replace with the specific topic you're interested in\n",
        "loaded_model = load_model(f\"{save_directory}lstm_model_2023 US debt ceiling crisis.h5\")\n",
        "\n",
        "# Assuming you have test data (X_test) and corresponding labels (y_test)\n",
        "# Replace this with your actual test set\n",
        "# Make sure your test set is preprocessed in the same way as your training data\n",
        "\n",
        "\n",
        "# Make predictions on the test set\n",
        "predictions = loaded_model.predict(X_test)\n",
        "\n",
        "# If you're working with a classification problem and want to get class labels:\n",
        "class_predictions = np.argmax(predictions, axis=1)\n",
        "\n",
        "# Print classification report\n",
        "print(\"Classification Report:\")\n",
        "print(classification_report(np.argmax(y_test, axis=1), class_predictions))\n",
        "\n",
        "# Print confusion matrix\n",
        "print(\"Confusion Matrix:\")\n",
        "conf_matrix = confusion_matrix(np.argmax(y_test, axis=1), class_predictions)\n",
        "print(conf_matrix)\n"
      ],
      "metadata": {
        "colab": {
          "base_uri": "https://localhost:8080/"
        },
        "id": "tKY2MC2Ylayh",
        "outputId": "f2ef2d52-7cc1-46f5-ebc2-4c5adc4f7700"
      },
      "execution_count": 33,
      "outputs": [
        {
          "output_type": "stream",
          "name": "stdout",
          "text": [
            "2/2 [==============================] - 1s 19ms/step\n",
            "Classification Report:\n",
            "              precision    recall  f1-score   support\n",
            "\n",
            "           0       0.33      0.15      0.21        13\n",
            "           1       0.00      0.00      0.00         3\n",
            "           2       0.38      0.47      0.42        19\n",
            "           3       0.00      0.00      0.00         1\n",
            "           4       0.05      0.12      0.07         8\n",
            "           5       0.00      0.00      0.00         6\n",
            "\n",
            "    accuracy                           0.24        50\n",
            "   macro avg       0.13      0.13      0.12        50\n",
            "weighted avg       0.24      0.24      0.23        50\n",
            "\n",
            "Confusion Matrix:\n",
            "[[ 2  0  6  0  5  0]\n",
            " [ 0  0  1  0  2  0]\n",
            " [ 0  0  9  0 10  0]\n",
            " [ 0  0  0  0  1  0]\n",
            " [ 3  0  4  0  1  0]\n",
            " [ 1  0  4  0  1  0]]\n"
          ]
        },
        {
          "output_type": "stream",
          "name": "stderr",
          "text": [
            "/usr/local/lib/python3.10/dist-packages/sklearn/metrics/_classification.py:1344: UndefinedMetricWarning: Precision and F-score are ill-defined and being set to 0.0 in labels with no predicted samples. Use `zero_division` parameter to control this behavior.\n",
            "  _warn_prf(average, modifier, msg_start, len(result))\n",
            "/usr/local/lib/python3.10/dist-packages/sklearn/metrics/_classification.py:1344: UndefinedMetricWarning: Precision and F-score are ill-defined and being set to 0.0 in labels with no predicted samples. Use `zero_division` parameter to control this behavior.\n",
            "  _warn_prf(average, modifier, msg_start, len(result))\n",
            "/usr/local/lib/python3.10/dist-packages/sklearn/metrics/_classification.py:1344: UndefinedMetricWarning: Precision and F-score are ill-defined and being set to 0.0 in labels with no predicted samples. Use `zero_division` parameter to control this behavior.\n",
            "  _warn_prf(average, modifier, msg_start, len(result))\n"
          ]
        }
      ]
    },
    {
      "cell_type": "code",
      "source": [],
      "metadata": {
        "id": "JhNk6vxZlcpz"
      },
      "execution_count": null,
      "outputs": []
    }
  ]
}