{
  "nbformat": 4,
  "nbformat_minor": 0,
  "metadata": {
    "colab": {
      "provenance": [],
      "machine_shape": "hm",
      "gpuType": "V100"
    },
    "kernelspec": {
      "name": "python3",
      "display_name": "Python 3"
    },
    "language_info": {
      "name": "python"
    },
    "accelerator": "GPU"
  },
  "cells": [
    {
      "cell_type": "code",
      "execution_count": 1,
      "metadata": {
        "colab": {
          "base_uri": "https://localhost:8080/"
        },
        "id": "wfu0YZ1VVJ2Q",
        "outputId": "435280a7-d27a-47ae-c10a-ac26df85127a"
      },
      "outputs": [
        {
          "output_type": "stream",
          "name": "stdout",
          "text": [
            "Mounted at /content/drive\n"
          ]
        }
      ],
      "source": [
        "from google.colab import drive\n",
        "drive.mount('/content/drive')"
      ]
    },
    {
      "cell_type": "code",
      "source": [
        "import pandas as pd\n",
        "\n",
        "# Specify the file path in Google Drive\n",
        "file_path = '/content/drive/MyDrive/Diss/roberta xlnet/combined_results.csv'\n",
        "\n",
        "# Read the CSV file into a Data\n",
        "df = pd.read_csv(file_path)\n"
      ],
      "metadata": {
        "id": "BKLkT-RkVOF7"
      },
      "execution_count": 2,
      "outputs": []
    },
    {
      "cell_type": "code",
      "source": [
        "#reference and modified - https://www.kaggle.com/code/amirrezaeian/time-series-data-analysis-using-lstm-tutorial"
      ],
      "metadata": {
        "id": "9RtFsj1C7Oed"
      },
      "execution_count": null,
      "outputs": []
    },
    {
      "cell_type": "code",
      "source": [
        "!pip install tensorflow\n",
        "!pip install numpy\n",
        "!pip install pandas\n",
        "!pip install nltk"
      ],
      "metadata": {
        "colab": {
          "base_uri": "https://localhost:8080/"
        },
        "id": "ZQSLAl7nVUVy",
        "outputId": "8184ce05-4598-4f71-b650-303752c9889d"
      },
      "execution_count": null,
      "outputs": [
        {
          "output_type": "stream",
          "name": "stdout",
          "text": [
            "Requirement already satisfied: tensorflow in /usr/local/lib/python3.10/dist-packages (2.14.0)\n",
            "Requirement already satisfied: absl-py>=1.0.0 in /usr/local/lib/python3.10/dist-packages (from tensorflow) (1.4.0)\n",
            "Requirement already satisfied: astunparse>=1.6.0 in /usr/local/lib/python3.10/dist-packages (from tensorflow) (1.6.3)\n",
            "Requirement already satisfied: flatbuffers>=23.5.26 in /usr/local/lib/python3.10/dist-packages (from tensorflow) (23.5.26)\n",
            "Requirement already satisfied: gast!=0.5.0,!=0.5.1,!=0.5.2,>=0.2.1 in /usr/local/lib/python3.10/dist-packages (from tensorflow) (0.5.4)\n",
            "Requirement already satisfied: google-pasta>=0.1.1 in /usr/local/lib/python3.10/dist-packages (from tensorflow) (0.2.0)\n",
            "Requirement already satisfied: h5py>=2.9.0 in /usr/local/lib/python3.10/dist-packages (from tensorflow) (3.9.0)\n",
            "Requirement already satisfied: libclang>=13.0.0 in /usr/local/lib/python3.10/dist-packages (from tensorflow) (16.0.6)\n",
            "Requirement already satisfied: ml-dtypes==0.2.0 in /usr/local/lib/python3.10/dist-packages (from tensorflow) (0.2.0)\n",
            "Requirement already satisfied: numpy>=1.23.5 in /usr/local/lib/python3.10/dist-packages (from tensorflow) (1.23.5)\n",
            "Requirement already satisfied: opt-einsum>=2.3.2 in /usr/local/lib/python3.10/dist-packages (from tensorflow) (3.3.0)\n",
            "Requirement already satisfied: packaging in /usr/local/lib/python3.10/dist-packages (from tensorflow) (23.2)\n",
            "Requirement already satisfied: protobuf!=4.21.0,!=4.21.1,!=4.21.2,!=4.21.3,!=4.21.4,!=4.21.5,<5.0.0dev,>=3.20.3 in /usr/local/lib/python3.10/dist-packages (from tensorflow) (3.20.3)\n",
            "Requirement already satisfied: setuptools in /usr/local/lib/python3.10/dist-packages (from tensorflow) (67.7.2)\n",
            "Requirement already satisfied: six>=1.12.0 in /usr/local/lib/python3.10/dist-packages (from tensorflow) (1.16.0)\n",
            "Requirement already satisfied: termcolor>=1.1.0 in /usr/local/lib/python3.10/dist-packages (from tensorflow) (2.3.0)\n",
            "Requirement already satisfied: typing-extensions>=3.6.6 in /usr/local/lib/python3.10/dist-packages (from tensorflow) (4.5.0)\n",
            "Requirement already satisfied: wrapt<1.15,>=1.11.0 in /usr/local/lib/python3.10/dist-packages (from tensorflow) (1.14.1)\n",
            "Requirement already satisfied: tensorflow-io-gcs-filesystem>=0.23.1 in /usr/local/lib/python3.10/dist-packages (from tensorflow) (0.34.0)\n",
            "Requirement already satisfied: grpcio<2.0,>=1.24.3 in /usr/local/lib/python3.10/dist-packages (from tensorflow) (1.59.2)\n",
            "Requirement already satisfied: tensorboard<2.15,>=2.14 in /usr/local/lib/python3.10/dist-packages (from tensorflow) (2.14.1)\n",
            "Requirement already satisfied: tensorflow-estimator<2.15,>=2.14.0 in /usr/local/lib/python3.10/dist-packages (from tensorflow) (2.14.0)\n",
            "Requirement already satisfied: keras<2.15,>=2.14.0 in /usr/local/lib/python3.10/dist-packages (from tensorflow) (2.14.0)\n",
            "Requirement already satisfied: wheel<1.0,>=0.23.0 in /usr/local/lib/python3.10/dist-packages (from astunparse>=1.6.0->tensorflow) (0.41.3)\n",
            "Requirement already satisfied: google-auth<3,>=1.6.3 in /usr/local/lib/python3.10/dist-packages (from tensorboard<2.15,>=2.14->tensorflow) (2.17.3)\n",
            "Requirement already satisfied: google-auth-oauthlib<1.1,>=0.5 in /usr/local/lib/python3.10/dist-packages (from tensorboard<2.15,>=2.14->tensorflow) (1.0.0)\n",
            "Requirement already satisfied: markdown>=2.6.8 in /usr/local/lib/python3.10/dist-packages (from tensorboard<2.15,>=2.14->tensorflow) (3.5.1)\n",
            "Requirement already satisfied: requests<3,>=2.21.0 in /usr/local/lib/python3.10/dist-packages (from tensorboard<2.15,>=2.14->tensorflow) (2.31.0)\n",
            "Requirement already satisfied: tensorboard-data-server<0.8.0,>=0.7.0 in /usr/local/lib/python3.10/dist-packages (from tensorboard<2.15,>=2.14->tensorflow) (0.7.2)\n",
            "Requirement already satisfied: werkzeug>=1.0.1 in /usr/local/lib/python3.10/dist-packages (from tensorboard<2.15,>=2.14->tensorflow) (3.0.1)\n",
            "Requirement already satisfied: cachetools<6.0,>=2.0.0 in /usr/local/lib/python3.10/dist-packages (from google-auth<3,>=1.6.3->tensorboard<2.15,>=2.14->tensorflow) (5.3.2)\n",
            "Requirement already satisfied: pyasn1-modules>=0.2.1 in /usr/local/lib/python3.10/dist-packages (from google-auth<3,>=1.6.3->tensorboard<2.15,>=2.14->tensorflow) (0.3.0)\n",
            "Requirement already satisfied: rsa<5,>=3.1.4 in /usr/local/lib/python3.10/dist-packages (from google-auth<3,>=1.6.3->tensorboard<2.15,>=2.14->tensorflow) (4.9)\n",
            "Requirement already satisfied: requests-oauthlib>=0.7.0 in /usr/local/lib/python3.10/dist-packages (from google-auth-oauthlib<1.1,>=0.5->tensorboard<2.15,>=2.14->tensorflow) (1.3.1)\n",
            "Requirement already satisfied: charset-normalizer<4,>=2 in /usr/local/lib/python3.10/dist-packages (from requests<3,>=2.21.0->tensorboard<2.15,>=2.14->tensorflow) (3.3.2)\n",
            "Requirement already satisfied: idna<4,>=2.5 in /usr/local/lib/python3.10/dist-packages (from requests<3,>=2.21.0->tensorboard<2.15,>=2.14->tensorflow) (3.4)\n",
            "Requirement already satisfied: urllib3<3,>=1.21.1 in /usr/local/lib/python3.10/dist-packages (from requests<3,>=2.21.0->tensorboard<2.15,>=2.14->tensorflow) (2.0.7)\n",
            "Requirement already satisfied: certifi>=2017.4.17 in /usr/local/lib/python3.10/dist-packages (from requests<3,>=2.21.0->tensorboard<2.15,>=2.14->tensorflow) (2023.7.22)\n",
            "Requirement already satisfied: MarkupSafe>=2.1.1 in /usr/local/lib/python3.10/dist-packages (from werkzeug>=1.0.1->tensorboard<2.15,>=2.14->tensorflow) (2.1.3)\n",
            "Requirement already satisfied: pyasn1<0.6.0,>=0.4.6 in /usr/local/lib/python3.10/dist-packages (from pyasn1-modules>=0.2.1->google-auth<3,>=1.6.3->tensorboard<2.15,>=2.14->tensorflow) (0.5.0)\n",
            "Requirement already satisfied: oauthlib>=3.0.0 in /usr/local/lib/python3.10/dist-packages (from requests-oauthlib>=0.7.0->google-auth-oauthlib<1.1,>=0.5->tensorboard<2.15,>=2.14->tensorflow) (3.2.2)\n",
            "Requirement already satisfied: numpy in /usr/local/lib/python3.10/dist-packages (1.23.5)\n",
            "Requirement already satisfied: pandas in /usr/local/lib/python3.10/dist-packages (1.5.3)\n",
            "Requirement already satisfied: python-dateutil>=2.8.1 in /usr/local/lib/python3.10/dist-packages (from pandas) (2.8.2)\n",
            "Requirement already satisfied: pytz>=2020.1 in /usr/local/lib/python3.10/dist-packages (from pandas) (2023.3.post1)\n",
            "Requirement already satisfied: numpy>=1.21.0 in /usr/local/lib/python3.10/dist-packages (from pandas) (1.23.5)\n",
            "Requirement already satisfied: six>=1.5 in /usr/local/lib/python3.10/dist-packages (from python-dateutil>=2.8.1->pandas) (1.16.0)\n",
            "Requirement already satisfied: nltk in /usr/local/lib/python3.10/dist-packages (3.8.1)\n",
            "Requirement already satisfied: click in /usr/local/lib/python3.10/dist-packages (from nltk) (8.1.7)\n",
            "Requirement already satisfied: joblib in /usr/local/lib/python3.10/dist-packages (from nltk) (1.3.2)\n",
            "Requirement already satisfied: regex>=2021.8.3 in /usr/local/lib/python3.10/dist-packages (from nltk) (2023.6.3)\n",
            "Requirement already satisfied: tqdm in /usr/local/lib/python3.10/dist-packages (from nltk) (4.66.1)\n"
          ]
        }
      ]
    },
    {
      "cell_type": "code",
      "source": [
        "# import relevant packages\n",
        "import os\n",
        "from collections import Counter\n",
        "\n",
        "import tensorflow as tf\n",
        "from keras.layers import Dense, Activation\n",
        "from keras.layers import SimpleRNN, LSTM, GRU\n",
        "from keras.models import Sequential\n",
        "from keras.utils import to_categorical, pad_sequences\n",
        "from keras.layers import Embedding\n",
        "\n",
        "import matplotlib.pyplot as plt\n",
        "import matplotlib.ticker as mtick\n",
        "import pandas as pd\n",
        "import numpy as np\n",
        "import nltk\n",
        "import re\n",
        "\n",
        "from sklearn.model_selection import train_test_split\n",
        "from nltk.corpus import stopwords"
      ],
      "metadata": {
        "id": "QtnobVIbVdlx"
      },
      "execution_count": 3,
      "outputs": []
    },
    {
      "cell_type": "code",
      "source": [
        "pd.set_option('display.max_colwidth', None)\n",
        "tf.keras.backend.set_image_data_format(\"channels_last\")\n",
        "nltk.download('stopwords')"
      ],
      "metadata": {
        "colab": {
          "base_uri": "https://localhost:8080/"
        },
        "id": "dt-_sZwiVayM",
        "outputId": "54fca462-3826-4413-c5f8-94ab7e581307"
      },
      "execution_count": 4,
      "outputs": [
        {
          "output_type": "stream",
          "name": "stderr",
          "text": [
            "[nltk_data] Downloading package stopwords to /root/nltk_data...\n",
            "[nltk_data]   Unzipping corpora/stopwords.zip.\n"
          ]
        },
        {
          "output_type": "execute_result",
          "data": {
            "text/plain": [
              "True"
            ]
          },
          "metadata": {},
          "execution_count": 4
        }
      ]
    },
    {
      "cell_type": "code",
      "source": [
        "# Loading English stop words\n",
        "stop = nltk.corpus.stopwords.words('english')"
      ],
      "metadata": {
        "id": "d_dxLCC8VlcA"
      },
      "execution_count": 5,
      "outputs": []
    },
    {
      "cell_type": "code",
      "source": [
        "def pre_process_text_data(text: str) -> str:\n",
        "    # normalize and remove special characters\n",
        "    text = text.lower()\n",
        "    text = re.sub('[^0-9a-zA-Z]+',' ',text)\n",
        "    # remove stop words\n",
        "    words = text.split()\n",
        "    words = [w for w in words if (w not in stop)]\n",
        "    words = ' '.join(words)\n",
        "    return words"
      ],
      "metadata": {
        "id": "IL0pmwe0Vq-d"
      },
      "execution_count": 6,
      "outputs": []
    },
    {
      "cell_type": "code",
      "source": [
        "df['Summary'] = df['Summary'].apply(pre_process_text_data)\n",
        "df.head()"
      ],
      "metadata": {
        "colab": {
          "base_uri": "https://localhost:8080/",
          "height": 1000
        },
        "id": "W5zOf_7MVt3a",
        "outputId": "ac046199-bea4-408b-b569-265e8ff2bd38"
      },
      "execution_count": 7,
      "outputs": [
        {
          "output_type": "execute_result",
          "data": {
            "text/plain": [
              "           Publication Date         Source  \\\n",
              "0  2023-10-07T03:11:36+0000          Yahoo   \n",
              "1  2023-10-07T03:42:10+0000          Yahoo   \n",
              "2  2023-09-12T13:05:13+0000   Daily Caller   \n",
              "3  2023-09-15T09:24:23+0000          Yahoo   \n",
              "4  2023-09-14T01:26:43+0000  New York Post   \n",
              "\n",
              "                                                                                                       URL  \\\n",
              "0                                     https://news.yahoo.com/gov-renews-public-health-order-030100117.html   \n",
              "1                                https://news.yahoo.com/governor-extends-gun-violence-order-033400080.html   \n",
              "2                https://dailycaller.com/2023/09/12/poppy-harlow-michelle-lujan-grisham-gun-ban-criminals/   \n",
              "3                             https://news.yahoo.com/mexico-governors-gun-suspension-defies-091700731.html   \n",
              "4  https://nypost.com/2023/09/13/new-mexico-judge-blocks-democrat-governors-attempt-to-suspend-gun-rights/   \n",
              "\n",
              "                                                                                                      Title  \\\n",
              "0                        Gov. renews public health order, tacks on gun buy-backs, substance abuse treatment   \n",
              "1                                                   Governor extends gun violence order and adds provisions   \n",
              "2  ‘You Said No’: CNN Host Confronts Grisham For Enforcing Gun Ban While Admitting Criminals Will Ignore It   \n",
              "3              New Mexico governor's gun suspension defies 2nd Amendment. And it doesn't make us any safer.   \n",
              "4                                 New Mexico judge blocks Democrat governor’s attempt to suspend gun rights   \n",
              "\n",
              "                                                                                                                                                                                                                                                                                                                                                                                                                                                                                                                                                                                                                                                                                                                                                                                                                                                                                                                                                                                                                                                                                                                                                                                                                                                                                                  Summary  \\\n",
              "0  oct 6 gov michelle lujan grisham friday renewed public health order aimed combating gun violence added new provisions state organize gun buy backs albuquerque espa ola las cruces provide treatment seeking help battling addictions order also includes several initial measures including testing wastewater schools drugs like fentanyl monthly inspections licensed gun dealers violations allowing police book juveniles jail without social services permission sending new mexico state police officers help local authorities fight crime albuquerque bernalillo county deputies officers arrested hundreds people following order unclear effect gun violence initiatives testing school wastewater stand friday new items added order including gun buy backs state health care system would ensure request help substance abuse receive permanent adequate treatment placement within 24 hours request renewal comes month governor declared gun violence public health emergency following high profile shooting death 11 year old boy initially enforced short lived ban publicly carrying firearms bernalillo county lujan grisham amended portion order ban carrying guns public parks playgrounds across bernalillo county something city albuquerque already sought challenged court   \n",
              "1                                                                                                                                                                                                                                                                                                     oct 6 days federal judge extended temporary block gov michelle lujan grisham revised public health order prohibiting firearms parks playgrounds public places children go albuquerque governor announced renewing order lujan grisham first announced gun ban restricting right carry open concealed firearms public places albuquerque surrounding area 30 days part public health order early september others said governor right include gun violence public health challenge worthy executive order patrick allen secretary state department health said news release issued governor office gun violence leading cause death among young people new mexico added letting continuing make investments drive violence communities protect children u district judge david herrera urias issued initial restraining order last month response several lawsuits challenging governor 30 day gun ban lujan grisham revised initial order week issued limiting gun ban areas draw children families   \n",
              "2                                                                                                                                                                                                                                                                                                                                                                                                                                                                                                                                                                                                                       cnn poppy harlow confronted democratic new mexico gov michelle lujan grisham tuesday imposing emergency gun ban even though admitted criminals likely listen order grisham claimed gun violence public health emergency cited string recent gun deaths reasoning grisham issued emergency order banning firearms carried albuquerque 30 days arguing public health emergency press conference announcing declaration reporter asked grisham whether believes criminals responsible shootings led ban would follow order grisham order challenged albuquerque resident foster haines suing alongside national association gun rights arguing declaration violates second amendment   \n",
              "3                                                                                                                                                                                                                                                                                                                                                                                                                                                                                                                                      11 year old shot killed outside baseball game albuquerque sept 6 recent incident string horrific gun related crimes response new mexico gov michelle lujan grisham declared gun violence public safety emergency announced would suspend concealed open carry permits 30 days albuquerque bernalillo county governor admits criminals follow gun ban shortly announcement governor admitted 30 day gun ban would stop criminals said would instead send resounding message everyone else report crime firearms new mexico gov michelle lujan grisham issues sept 8 2023 emergency public health order temporarily suspending right carry firearms public across albuquerque surrounding bernalillo county new mexico governor gun ban unconstitutional doomed fail   \n",
              "4                                                                                                                                                                                                                                                                                                                                                         federal judge wednesday temporarily blocked new mexico gov michelle lujan grisham emergency order suspending right carry firearms public albuquerque surrounding county urias allowed aspects governor public health order remain place including monthly inspections firearms dealers across state reports gunshot victims new mexico hospitals wastewater testing drugs bernalillo county sheriff john allen also opposed order calling unconstitutional today judge temporarily blocked sections public health order recognized significant problem gun violence state particularly involving deaths children lujan grisham said statement ap governor public health order sparked backlash law enforcement gun rights advocates state ap state police authority lujan grisham order enforce temporary ban assessing civil penalties fine 5 000 people found carrying firearm public albuquerque police chief harold medina said enforce ban   \n",
              "\n",
              "                                                                                                                                                                                                                                                                                                                  Categories  \\\n",
              "0  Non-Standard Content\\nExtreme Graphic/Explicit Violence\\nHealth & Fitness\\nSubstance Abuse\\npolitics\\ninterior policy\\npersonal weapon control\\nHealth and Wellness\\nHealth Sciences\\nPublic Health\\nLife and Society\\nSocial Issues\\nViolence\\nMedical Disorders and Diseases\\nSubstance Abuse\\nAddiction and Drug Abuse   \n",
              "1                                                      Law, Gov’t & Politics\\nLegal Issues\\nNon-Standard Content\\nExtreme Graphic/Explicit Violence\\npolitics\\ninterior policy\\npersonal weapon control\\nPolitics and Government\\nGovernment Agencies (U.S.)\\nDepartment of State\\nLife and Society\\nSocial Issues\\nViolence   \n",
              "2                                                                                                                                                           Non-Standard Content\\nExtreme Graphic/Explicit Violence\\npolitics\\ninterior policy\\npersonal weapon control\\nHealth and Wellness\\nHealth Sciences\\nPublic Health   \n",
              "3                                                                      Law, Gov’t & Politics\\nPolitics\\npolitics\\ninterior policy\\npersonal weapon control\\nLife and Society\\nCrime\\nSports\\nBaseball\\nTeam Sports\\nPolitics and Government\\nGun Control\\nPolitical Issues\\nPolitics\\nPublic Safety\\nSocial Issues\\nViolence   \n",
              "4                                                                                                                                                                  Law, Gov’t & Politics\\nLegal Issues\\npolitics\\ninterior policy\\npersonal weapon control\\nPolitics and Government\\nGun Control\\nPolitical Issues\\nPolitics   \n",
              "\n",
              "  Industries  \\\n",
              "0        NaN   \n",
              "1        NaN   \n",
              "2        NaN   \n",
              "3        NaN   \n",
              "4        NaN   \n",
              "\n",
              "                                                                Organisations  \\\n",
              "0                                                     Albuquerque, New Mexico   \n",
              "1                                              Albuquerque, New Mexico\\nstate   \n",
              "2  CNN\\nDemocratic Party (United States)\\nNew Mexico\\nAlbuquerque, New Mexico   \n",
              "3                                         New Mexico\\nAlbuquerque, New Mexico   \n",
              "4       Democratic Party (United States)\\nNew Mexico\\nAlbuquerque, New Mexico   \n",
              "\n",
              "   People                                                           Locations  \\\n",
              "0     NaN                                             Albuquerque, New Mexico   \n",
              "1     NaN                                             Albuquerque, New Mexico   \n",
              "2     NaN                                 New Mexico\\nAlbuquerque, New Mexico   \n",
              "3     NaN  New Mexico\\nAlbuquerque, New Mexico\\nBernalillo County, New Mexico   \n",
              "4     NaN                                 New Mexico\\nAlbuquerque, New Mexico   \n",
              "\n",
              "                                                                   Other Entities  \\\n",
              "0                                                          Michelle Lujan Grisham   \n",
              "1                                                          Michelle Lujan Grisham   \n",
              "2  Said No\\nEnforcing Gun Ban\\nJohn Grisham\\nPoppy Harlow\\nMichelle Lujan Grisham   \n",
              "3                                                          Michelle Lujan Grisham   \n",
              "4                                                          Michelle Lujan Grisham   \n",
              "\n",
              "            News topic Title_Emotion  Title_Emotion_Score Summary_Emotion  \\\n",
              "0  Albuquerque gun ban       neutral             0.728747         neutral   \n",
              "1  Albuquerque gun ban       neutral             0.774570            fear   \n",
              "2  Albuquerque gun ban         anger             0.487805           anger   \n",
              "3  Albuquerque gun ban       disgust             0.445547            fear   \n",
              "4  Albuquerque gun ban       neutral             0.531995           anger   \n",
              "\n",
              "   Summary_Emotion_Score  \n",
              "0               0.410288  \n",
              "1               0.782031  \n",
              "2               0.640298  \n",
              "3               0.909011  \n",
              "4               0.940961  "
            ],
            "text/html": [
              "\n",
              "  <div id=\"df-a4a6e9b8-296d-44be-9f01-f14f6530865d\" class=\"colab-df-container\">\n",
              "    <div>\n",
              "<style scoped>\n",
              "    .dataframe tbody tr th:only-of-type {\n",
              "        vertical-align: middle;\n",
              "    }\n",
              "\n",
              "    .dataframe tbody tr th {\n",
              "        vertical-align: top;\n",
              "    }\n",
              "\n",
              "    .dataframe thead th {\n",
              "        text-align: right;\n",
              "    }\n",
              "</style>\n",
              "<table border=\"1\" class=\"dataframe\">\n",
              "  <thead>\n",
              "    <tr style=\"text-align: right;\">\n",
              "      <th></th>\n",
              "      <th>Publication Date</th>\n",
              "      <th>Source</th>\n",
              "      <th>URL</th>\n",
              "      <th>Title</th>\n",
              "      <th>Summary</th>\n",
              "      <th>Categories</th>\n",
              "      <th>Industries</th>\n",
              "      <th>Organisations</th>\n",
              "      <th>People</th>\n",
              "      <th>Locations</th>\n",
              "      <th>Other Entities</th>\n",
              "      <th>News topic</th>\n",
              "      <th>Title_Emotion</th>\n",
              "      <th>Title_Emotion_Score</th>\n",
              "      <th>Summary_Emotion</th>\n",
              "      <th>Summary_Emotion_Score</th>\n",
              "    </tr>\n",
              "  </thead>\n",
              "  <tbody>\n",
              "    <tr>\n",
              "      <th>0</th>\n",
              "      <td>2023-10-07T03:11:36+0000</td>\n",
              "      <td>Yahoo</td>\n",
              "      <td>https://news.yahoo.com/gov-renews-public-health-order-030100117.html</td>\n",
              "      <td>Gov. renews public health order, tacks on gun buy-backs, substance abuse treatment</td>\n",
              "      <td>oct 6 gov michelle lujan grisham friday renewed public health order aimed combating gun violence added new provisions state organize gun buy backs albuquerque espa ola las cruces provide treatment seeking help battling addictions order also includes several initial measures including testing wastewater schools drugs like fentanyl monthly inspections licensed gun dealers violations allowing police book juveniles jail without social services permission sending new mexico state police officers help local authorities fight crime albuquerque bernalillo county deputies officers arrested hundreds people following order unclear effect gun violence initiatives testing school wastewater stand friday new items added order including gun buy backs state health care system would ensure request help substance abuse receive permanent adequate treatment placement within 24 hours request renewal comes month governor declared gun violence public health emergency following high profile shooting death 11 year old boy initially enforced short lived ban publicly carrying firearms bernalillo county lujan grisham amended portion order ban carrying guns public parks playgrounds across bernalillo county something city albuquerque already sought challenged court</td>\n",
              "      <td>Non-Standard Content\\nExtreme Graphic/Explicit Violence\\nHealth &amp; Fitness\\nSubstance Abuse\\npolitics\\ninterior policy\\npersonal weapon control\\nHealth and Wellness\\nHealth Sciences\\nPublic Health\\nLife and Society\\nSocial Issues\\nViolence\\nMedical Disorders and Diseases\\nSubstance Abuse\\nAddiction and Drug Abuse</td>\n",
              "      <td>NaN</td>\n",
              "      <td>Albuquerque, New Mexico</td>\n",
              "      <td>NaN</td>\n",
              "      <td>Albuquerque, New Mexico</td>\n",
              "      <td>Michelle Lujan Grisham</td>\n",
              "      <td>Albuquerque gun ban</td>\n",
              "      <td>neutral</td>\n",
              "      <td>0.728747</td>\n",
              "      <td>neutral</td>\n",
              "      <td>0.410288</td>\n",
              "    </tr>\n",
              "    <tr>\n",
              "      <th>1</th>\n",
              "      <td>2023-10-07T03:42:10+0000</td>\n",
              "      <td>Yahoo</td>\n",
              "      <td>https://news.yahoo.com/governor-extends-gun-violence-order-033400080.html</td>\n",
              "      <td>Governor extends gun violence order and adds provisions</td>\n",
              "      <td>oct 6 days federal judge extended temporary block gov michelle lujan grisham revised public health order prohibiting firearms parks playgrounds public places children go albuquerque governor announced renewing order lujan grisham first announced gun ban restricting right carry open concealed firearms public places albuquerque surrounding area 30 days part public health order early september others said governor right include gun violence public health challenge worthy executive order patrick allen secretary state department health said news release issued governor office gun violence leading cause death among young people new mexico added letting continuing make investments drive violence communities protect children u district judge david herrera urias issued initial restraining order last month response several lawsuits challenging governor 30 day gun ban lujan grisham revised initial order week issued limiting gun ban areas draw children families</td>\n",
              "      <td>Law, Gov’t &amp; Politics\\nLegal Issues\\nNon-Standard Content\\nExtreme Graphic/Explicit Violence\\npolitics\\ninterior policy\\npersonal weapon control\\nPolitics and Government\\nGovernment Agencies (U.S.)\\nDepartment of State\\nLife and Society\\nSocial Issues\\nViolence</td>\n",
              "      <td>NaN</td>\n",
              "      <td>Albuquerque, New Mexico\\nstate</td>\n",
              "      <td>NaN</td>\n",
              "      <td>Albuquerque, New Mexico</td>\n",
              "      <td>Michelle Lujan Grisham</td>\n",
              "      <td>Albuquerque gun ban</td>\n",
              "      <td>neutral</td>\n",
              "      <td>0.774570</td>\n",
              "      <td>fear</td>\n",
              "      <td>0.782031</td>\n",
              "    </tr>\n",
              "    <tr>\n",
              "      <th>2</th>\n",
              "      <td>2023-09-12T13:05:13+0000</td>\n",
              "      <td>Daily Caller</td>\n",
              "      <td>https://dailycaller.com/2023/09/12/poppy-harlow-michelle-lujan-grisham-gun-ban-criminals/</td>\n",
              "      <td>‘You Said No’: CNN Host Confronts Grisham For Enforcing Gun Ban While Admitting Criminals Will Ignore It</td>\n",
              "      <td>cnn poppy harlow confronted democratic new mexico gov michelle lujan grisham tuesday imposing emergency gun ban even though admitted criminals likely listen order grisham claimed gun violence public health emergency cited string recent gun deaths reasoning grisham issued emergency order banning firearms carried albuquerque 30 days arguing public health emergency press conference announcing declaration reporter asked grisham whether believes criminals responsible shootings led ban would follow order grisham order challenged albuquerque resident foster haines suing alongside national association gun rights arguing declaration violates second amendment</td>\n",
              "      <td>Non-Standard Content\\nExtreme Graphic/Explicit Violence\\npolitics\\ninterior policy\\npersonal weapon control\\nHealth and Wellness\\nHealth Sciences\\nPublic Health</td>\n",
              "      <td>NaN</td>\n",
              "      <td>CNN\\nDemocratic Party (United States)\\nNew Mexico\\nAlbuquerque, New Mexico</td>\n",
              "      <td>NaN</td>\n",
              "      <td>New Mexico\\nAlbuquerque, New Mexico</td>\n",
              "      <td>Said No\\nEnforcing Gun Ban\\nJohn Grisham\\nPoppy Harlow\\nMichelle Lujan Grisham</td>\n",
              "      <td>Albuquerque gun ban</td>\n",
              "      <td>anger</td>\n",
              "      <td>0.487805</td>\n",
              "      <td>anger</td>\n",
              "      <td>0.640298</td>\n",
              "    </tr>\n",
              "    <tr>\n",
              "      <th>3</th>\n",
              "      <td>2023-09-15T09:24:23+0000</td>\n",
              "      <td>Yahoo</td>\n",
              "      <td>https://news.yahoo.com/mexico-governors-gun-suspension-defies-091700731.html</td>\n",
              "      <td>New Mexico governor's gun suspension defies 2nd Amendment. And it doesn't make us any safer.</td>\n",
              "      <td>11 year old shot killed outside baseball game albuquerque sept 6 recent incident string horrific gun related crimes response new mexico gov michelle lujan grisham declared gun violence public safety emergency announced would suspend concealed open carry permits 30 days albuquerque bernalillo county governor admits criminals follow gun ban shortly announcement governor admitted 30 day gun ban would stop criminals said would instead send resounding message everyone else report crime firearms new mexico gov michelle lujan grisham issues sept 8 2023 emergency public health order temporarily suspending right carry firearms public across albuquerque surrounding bernalillo county new mexico governor gun ban unconstitutional doomed fail</td>\n",
              "      <td>Law, Gov’t &amp; Politics\\nPolitics\\npolitics\\ninterior policy\\npersonal weapon control\\nLife and Society\\nCrime\\nSports\\nBaseball\\nTeam Sports\\nPolitics and Government\\nGun Control\\nPolitical Issues\\nPolitics\\nPublic Safety\\nSocial Issues\\nViolence</td>\n",
              "      <td>NaN</td>\n",
              "      <td>New Mexico\\nAlbuquerque, New Mexico</td>\n",
              "      <td>NaN</td>\n",
              "      <td>New Mexico\\nAlbuquerque, New Mexico\\nBernalillo County, New Mexico</td>\n",
              "      <td>Michelle Lujan Grisham</td>\n",
              "      <td>Albuquerque gun ban</td>\n",
              "      <td>disgust</td>\n",
              "      <td>0.445547</td>\n",
              "      <td>fear</td>\n",
              "      <td>0.909011</td>\n",
              "    </tr>\n",
              "    <tr>\n",
              "      <th>4</th>\n",
              "      <td>2023-09-14T01:26:43+0000</td>\n",
              "      <td>New York Post</td>\n",
              "      <td>https://nypost.com/2023/09/13/new-mexico-judge-blocks-democrat-governors-attempt-to-suspend-gun-rights/</td>\n",
              "      <td>New Mexico judge blocks Democrat governor’s attempt to suspend gun rights</td>\n",
              "      <td>federal judge wednesday temporarily blocked new mexico gov michelle lujan grisham emergency order suspending right carry firearms public albuquerque surrounding county urias allowed aspects governor public health order remain place including monthly inspections firearms dealers across state reports gunshot victims new mexico hospitals wastewater testing drugs bernalillo county sheriff john allen also opposed order calling unconstitutional today judge temporarily blocked sections public health order recognized significant problem gun violence state particularly involving deaths children lujan grisham said statement ap governor public health order sparked backlash law enforcement gun rights advocates state ap state police authority lujan grisham order enforce temporary ban assessing civil penalties fine 5 000 people found carrying firearm public albuquerque police chief harold medina said enforce ban</td>\n",
              "      <td>Law, Gov’t &amp; Politics\\nLegal Issues\\npolitics\\ninterior policy\\npersonal weapon control\\nPolitics and Government\\nGun Control\\nPolitical Issues\\nPolitics</td>\n",
              "      <td>NaN</td>\n",
              "      <td>Democratic Party (United States)\\nNew Mexico\\nAlbuquerque, New Mexico</td>\n",
              "      <td>NaN</td>\n",
              "      <td>New Mexico\\nAlbuquerque, New Mexico</td>\n",
              "      <td>Michelle Lujan Grisham</td>\n",
              "      <td>Albuquerque gun ban</td>\n",
              "      <td>neutral</td>\n",
              "      <td>0.531995</td>\n",
              "      <td>anger</td>\n",
              "      <td>0.940961</td>\n",
              "    </tr>\n",
              "  </tbody>\n",
              "</table>\n",
              "</div>\n",
              "    <div class=\"colab-df-buttons\">\n",
              "\n",
              "  <div class=\"colab-df-container\">\n",
              "    <button class=\"colab-df-convert\" onclick=\"convertToInteractive('df-a4a6e9b8-296d-44be-9f01-f14f6530865d')\"\n",
              "            title=\"Convert this dataframe to an interactive table.\"\n",
              "            style=\"display:none;\">\n",
              "\n",
              "  <svg xmlns=\"http://www.w3.org/2000/svg\" height=\"24px\" viewBox=\"0 -960 960 960\">\n",
              "    <path d=\"M120-120v-720h720v720H120Zm60-500h600v-160H180v160Zm220 220h160v-160H400v160Zm0 220h160v-160H400v160ZM180-400h160v-160H180v160Zm440 0h160v-160H620v160ZM180-180h160v-160H180v160Zm440 0h160v-160H620v160Z\"/>\n",
              "  </svg>\n",
              "    </button>\n",
              "\n",
              "  <style>\n",
              "    .colab-df-container {\n",
              "      display:flex;\n",
              "      gap: 12px;\n",
              "    }\n",
              "\n",
              "    .colab-df-convert {\n",
              "      background-color: #E8F0FE;\n",
              "      border: none;\n",
              "      border-radius: 50%;\n",
              "      cursor: pointer;\n",
              "      display: none;\n",
              "      fill: #1967D2;\n",
              "      height: 32px;\n",
              "      padding: 0 0 0 0;\n",
              "      width: 32px;\n",
              "    }\n",
              "\n",
              "    .colab-df-convert:hover {\n",
              "      background-color: #E2EBFA;\n",
              "      box-shadow: 0px 1px 2px rgba(60, 64, 67, 0.3), 0px 1px 3px 1px rgba(60, 64, 67, 0.15);\n",
              "      fill: #174EA6;\n",
              "    }\n",
              "\n",
              "    .colab-df-buttons div {\n",
              "      margin-bottom: 4px;\n",
              "    }\n",
              "\n",
              "    [theme=dark] .colab-df-convert {\n",
              "      background-color: #3B4455;\n",
              "      fill: #D2E3FC;\n",
              "    }\n",
              "\n",
              "    [theme=dark] .colab-df-convert:hover {\n",
              "      background-color: #434B5C;\n",
              "      box-shadow: 0px 1px 3px 1px rgba(0, 0, 0, 0.15);\n",
              "      filter: drop-shadow(0px 1px 2px rgba(0, 0, 0, 0.3));\n",
              "      fill: #FFFFFF;\n",
              "    }\n",
              "  </style>\n",
              "\n",
              "    <script>\n",
              "      const buttonEl =\n",
              "        document.querySelector('#df-a4a6e9b8-296d-44be-9f01-f14f6530865d button.colab-df-convert');\n",
              "      buttonEl.style.display =\n",
              "        google.colab.kernel.accessAllowed ? 'block' : 'none';\n",
              "\n",
              "      async function convertToInteractive(key) {\n",
              "        const element = document.querySelector('#df-a4a6e9b8-296d-44be-9f01-f14f6530865d');\n",
              "        const dataTable =\n",
              "          await google.colab.kernel.invokeFunction('convertToInteractive',\n",
              "                                                    [key], {});\n",
              "        if (!dataTable) return;\n",
              "\n",
              "        const docLinkHtml = 'Like what you see? Visit the ' +\n",
              "          '<a target=\"_blank\" href=https://colab.research.google.com/notebooks/data_table.ipynb>data table notebook</a>'\n",
              "          + ' to learn more about interactive tables.';\n",
              "        element.innerHTML = '';\n",
              "        dataTable['output_type'] = 'display_data';\n",
              "        await google.colab.output.renderOutput(dataTable, element);\n",
              "        const docLink = document.createElement('div');\n",
              "        docLink.innerHTML = docLinkHtml;\n",
              "        element.appendChild(docLink);\n",
              "      }\n",
              "    </script>\n",
              "  </div>\n",
              "\n",
              "\n",
              "<div id=\"df-422a8f9b-12b7-42fe-a454-e6744807854c\">\n",
              "  <button class=\"colab-df-quickchart\" onclick=\"quickchart('df-422a8f9b-12b7-42fe-a454-e6744807854c')\"\n",
              "            title=\"Suggest charts\"\n",
              "            style=\"display:none;\">\n",
              "\n",
              "<svg xmlns=\"http://www.w3.org/2000/svg\" height=\"24px\"viewBox=\"0 0 24 24\"\n",
              "     width=\"24px\">\n",
              "    <g>\n",
              "        <path d=\"M19 3H5c-1.1 0-2 .9-2 2v14c0 1.1.9 2 2 2h14c1.1 0 2-.9 2-2V5c0-1.1-.9-2-2-2zM9 17H7v-7h2v7zm4 0h-2V7h2v10zm4 0h-2v-4h2v4z\"/>\n",
              "    </g>\n",
              "</svg>\n",
              "  </button>\n",
              "\n",
              "<style>\n",
              "  .colab-df-quickchart {\n",
              "      --bg-color: #E8F0FE;\n",
              "      --fill-color: #1967D2;\n",
              "      --hover-bg-color: #E2EBFA;\n",
              "      --hover-fill-color: #174EA6;\n",
              "      --disabled-fill-color: #AAA;\n",
              "      --disabled-bg-color: #DDD;\n",
              "  }\n",
              "\n",
              "  [theme=dark] .colab-df-quickchart {\n",
              "      --bg-color: #3B4455;\n",
              "      --fill-color: #D2E3FC;\n",
              "      --hover-bg-color: #434B5C;\n",
              "      --hover-fill-color: #FFFFFF;\n",
              "      --disabled-bg-color: #3B4455;\n",
              "      --disabled-fill-color: #666;\n",
              "  }\n",
              "\n",
              "  .colab-df-quickchart {\n",
              "    background-color: var(--bg-color);\n",
              "    border: none;\n",
              "    border-radius: 50%;\n",
              "    cursor: pointer;\n",
              "    display: none;\n",
              "    fill: var(--fill-color);\n",
              "    height: 32px;\n",
              "    padding: 0;\n",
              "    width: 32px;\n",
              "  }\n",
              "\n",
              "  .colab-df-quickchart:hover {\n",
              "    background-color: var(--hover-bg-color);\n",
              "    box-shadow: 0 1px 2px rgba(60, 64, 67, 0.3), 0 1px 3px 1px rgba(60, 64, 67, 0.15);\n",
              "    fill: var(--button-hover-fill-color);\n",
              "  }\n",
              "\n",
              "  .colab-df-quickchart-complete:disabled,\n",
              "  .colab-df-quickchart-complete:disabled:hover {\n",
              "    background-color: var(--disabled-bg-color);\n",
              "    fill: var(--disabled-fill-color);\n",
              "    box-shadow: none;\n",
              "  }\n",
              "\n",
              "  .colab-df-spinner {\n",
              "    border: 2px solid var(--fill-color);\n",
              "    border-color: transparent;\n",
              "    border-bottom-color: var(--fill-color);\n",
              "    animation:\n",
              "      spin 1s steps(1) infinite;\n",
              "  }\n",
              "\n",
              "  @keyframes spin {\n",
              "    0% {\n",
              "      border-color: transparent;\n",
              "      border-bottom-color: var(--fill-color);\n",
              "      border-left-color: var(--fill-color);\n",
              "    }\n",
              "    20% {\n",
              "      border-color: transparent;\n",
              "      border-left-color: var(--fill-color);\n",
              "      border-top-color: var(--fill-color);\n",
              "    }\n",
              "    30% {\n",
              "      border-color: transparent;\n",
              "      border-left-color: var(--fill-color);\n",
              "      border-top-color: var(--fill-color);\n",
              "      border-right-color: var(--fill-color);\n",
              "    }\n",
              "    40% {\n",
              "      border-color: transparent;\n",
              "      border-right-color: var(--fill-color);\n",
              "      border-top-color: var(--fill-color);\n",
              "    }\n",
              "    60% {\n",
              "      border-color: transparent;\n",
              "      border-right-color: var(--fill-color);\n",
              "    }\n",
              "    80% {\n",
              "      border-color: transparent;\n",
              "      border-right-color: var(--fill-color);\n",
              "      border-bottom-color: var(--fill-color);\n",
              "    }\n",
              "    90% {\n",
              "      border-color: transparent;\n",
              "      border-bottom-color: var(--fill-color);\n",
              "    }\n",
              "  }\n",
              "</style>\n",
              "\n",
              "  <script>\n",
              "    async function quickchart(key) {\n",
              "      const quickchartButtonEl =\n",
              "        document.querySelector('#' + key + ' button');\n",
              "      quickchartButtonEl.disabled = true;  // To prevent multiple clicks.\n",
              "      quickchartButtonEl.classList.add('colab-df-spinner');\n",
              "      try {\n",
              "        const charts = await google.colab.kernel.invokeFunction(\n",
              "            'suggestCharts', [key], {});\n",
              "      } catch (error) {\n",
              "        console.error('Error during call to suggestCharts:', error);\n",
              "      }\n",
              "      quickchartButtonEl.classList.remove('colab-df-spinner');\n",
              "      quickchartButtonEl.classList.add('colab-df-quickchart-complete');\n",
              "    }\n",
              "    (() => {\n",
              "      let quickchartButtonEl =\n",
              "        document.querySelector('#df-422a8f9b-12b7-42fe-a454-e6744807854c button');\n",
              "      quickchartButtonEl.style.display =\n",
              "        google.colab.kernel.accessAllowed ? 'block' : 'none';\n",
              "    })();\n",
              "  </script>\n",
              "</div>\n",
              "    </div>\n",
              "  </div>\n"
            ]
          },
          "metadata": {},
          "execution_count": 7
        }
      ]
    },
    {
      "cell_type": "code",
      "source": [
        "from sklearn.preprocessing import LabelEncoder\n",
        "\n",
        "# Example emotion labels\n",
        "emotion_labels = ['anger', 'disgust', 'fear', 'joy', 'neutral', 'sadness', 'surprise']\n",
        "\n",
        "# Create a LabelEncoder\n",
        "label_encoder = LabelEncoder()\n",
        "\n",
        "# Fit and transform the emotion labels\n",
        "encoded_labels = label_encoder.fit_transform(emotion_labels)\n",
        "\n",
        "# Print the mapping between original labels and encoded labels\n",
        "label_mapping = dict(zip(emotion_labels, encoded_labels))\n",
        "print(label_mapping)\n"
      ],
      "metadata": {
        "colab": {
          "base_uri": "https://localhost:8080/"
        },
        "id": "kOTz41z4bePZ",
        "outputId": "adcbda04-0944-4142-ee24-320ef5d2a74d"
      },
      "execution_count": 8,
      "outputs": [
        {
          "output_type": "stream",
          "name": "stdout",
          "text": [
            "{'anger': 0, 'disgust': 1, 'fear': 2, 'joy': 3, 'neutral': 4, 'sadness': 5, 'surprise': 6}\n"
          ]
        }
      ]
    },
    {
      "cell_type": "code",
      "source": [
        "from sklearn.preprocessing import LabelEncoder\n",
        "\n",
        "# Assuming 'df' is your DataFrame and 'Summary_Emotion' is the column with string labels\n",
        "label_encoder = LabelEncoder()\n",
        "\n",
        "# Fit and transform the 'Summary_Emotion' column and replace it\n",
        "df['encoded_emotion'] = label_encoder.fit_transform(df['Summary_Emotion'])\n"
      ],
      "metadata": {
        "id": "fog4ZL1NbwEA"
      },
      "execution_count": 9,
      "outputs": []
    },
    {
      "cell_type": "code",
      "source": [
        "df.head()"
      ],
      "metadata": {
        "colab": {
          "base_uri": "https://localhost:8080/",
          "height": 1000
        },
        "id": "MbMZUE1gcD4t",
        "outputId": "d8b5870d-8af2-454c-e25d-4cba6198d778"
      },
      "execution_count": 10,
      "outputs": [
        {
          "output_type": "execute_result",
          "data": {
            "text/plain": [
              "           Publication Date         Source  \\\n",
              "0  2023-10-07T03:11:36+0000          Yahoo   \n",
              "1  2023-10-07T03:42:10+0000          Yahoo   \n",
              "2  2023-09-12T13:05:13+0000   Daily Caller   \n",
              "3  2023-09-15T09:24:23+0000          Yahoo   \n",
              "4  2023-09-14T01:26:43+0000  New York Post   \n",
              "\n",
              "                                                                                                       URL  \\\n",
              "0                                     https://news.yahoo.com/gov-renews-public-health-order-030100117.html   \n",
              "1                                https://news.yahoo.com/governor-extends-gun-violence-order-033400080.html   \n",
              "2                https://dailycaller.com/2023/09/12/poppy-harlow-michelle-lujan-grisham-gun-ban-criminals/   \n",
              "3                             https://news.yahoo.com/mexico-governors-gun-suspension-defies-091700731.html   \n",
              "4  https://nypost.com/2023/09/13/new-mexico-judge-blocks-democrat-governors-attempt-to-suspend-gun-rights/   \n",
              "\n",
              "                                                                                                      Title  \\\n",
              "0                        Gov. renews public health order, tacks on gun buy-backs, substance abuse treatment   \n",
              "1                                                   Governor extends gun violence order and adds provisions   \n",
              "2  ‘You Said No’: CNN Host Confronts Grisham For Enforcing Gun Ban While Admitting Criminals Will Ignore It   \n",
              "3              New Mexico governor's gun suspension defies 2nd Amendment. And it doesn't make us any safer.   \n",
              "4                                 New Mexico judge blocks Democrat governor’s attempt to suspend gun rights   \n",
              "\n",
              "                                                                                                                                                                                                                                                                                                                                                                                                                                                                                                                                                                                                                                                                                                                                                                                                                                                                                                                                                                                                                                                                                                                                                                                                                                                                                                  Summary  \\\n",
              "0  oct 6 gov michelle lujan grisham friday renewed public health order aimed combating gun violence added new provisions state organize gun buy backs albuquerque espa ola las cruces provide treatment seeking help battling addictions order also includes several initial measures including testing wastewater schools drugs like fentanyl monthly inspections licensed gun dealers violations allowing police book juveniles jail without social services permission sending new mexico state police officers help local authorities fight crime albuquerque bernalillo county deputies officers arrested hundreds people following order unclear effect gun violence initiatives testing school wastewater stand friday new items added order including gun buy backs state health care system would ensure request help substance abuse receive permanent adequate treatment placement within 24 hours request renewal comes month governor declared gun violence public health emergency following high profile shooting death 11 year old boy initially enforced short lived ban publicly carrying firearms bernalillo county lujan grisham amended portion order ban carrying guns public parks playgrounds across bernalillo county something city albuquerque already sought challenged court   \n",
              "1                                                                                                                                                                                                                                                                                                     oct 6 days federal judge extended temporary block gov michelle lujan grisham revised public health order prohibiting firearms parks playgrounds public places children go albuquerque governor announced renewing order lujan grisham first announced gun ban restricting right carry open concealed firearms public places albuquerque surrounding area 30 days part public health order early september others said governor right include gun violence public health challenge worthy executive order patrick allen secretary state department health said news release issued governor office gun violence leading cause death among young people new mexico added letting continuing make investments drive violence communities protect children u district judge david herrera urias issued initial restraining order last month response several lawsuits challenging governor 30 day gun ban lujan grisham revised initial order week issued limiting gun ban areas draw children families   \n",
              "2                                                                                                                                                                                                                                                                                                                                                                                                                                                                                                                                                                                                                       cnn poppy harlow confronted democratic new mexico gov michelle lujan grisham tuesday imposing emergency gun ban even though admitted criminals likely listen order grisham claimed gun violence public health emergency cited string recent gun deaths reasoning grisham issued emergency order banning firearms carried albuquerque 30 days arguing public health emergency press conference announcing declaration reporter asked grisham whether believes criminals responsible shootings led ban would follow order grisham order challenged albuquerque resident foster haines suing alongside national association gun rights arguing declaration violates second amendment   \n",
              "3                                                                                                                                                                                                                                                                                                                                                                                                                                                                                                                                      11 year old shot killed outside baseball game albuquerque sept 6 recent incident string horrific gun related crimes response new mexico gov michelle lujan grisham declared gun violence public safety emergency announced would suspend concealed open carry permits 30 days albuquerque bernalillo county governor admits criminals follow gun ban shortly announcement governor admitted 30 day gun ban would stop criminals said would instead send resounding message everyone else report crime firearms new mexico gov michelle lujan grisham issues sept 8 2023 emergency public health order temporarily suspending right carry firearms public across albuquerque surrounding bernalillo county new mexico governor gun ban unconstitutional doomed fail   \n",
              "4                                                                                                                                                                                                                                                                                                                                                         federal judge wednesday temporarily blocked new mexico gov michelle lujan grisham emergency order suspending right carry firearms public albuquerque surrounding county urias allowed aspects governor public health order remain place including monthly inspections firearms dealers across state reports gunshot victims new mexico hospitals wastewater testing drugs bernalillo county sheriff john allen also opposed order calling unconstitutional today judge temporarily blocked sections public health order recognized significant problem gun violence state particularly involving deaths children lujan grisham said statement ap governor public health order sparked backlash law enforcement gun rights advocates state ap state police authority lujan grisham order enforce temporary ban assessing civil penalties fine 5 000 people found carrying firearm public albuquerque police chief harold medina said enforce ban   \n",
              "\n",
              "                                                                                                                                                                                                                                                                                                                  Categories  \\\n",
              "0  Non-Standard Content\\nExtreme Graphic/Explicit Violence\\nHealth & Fitness\\nSubstance Abuse\\npolitics\\ninterior policy\\npersonal weapon control\\nHealth and Wellness\\nHealth Sciences\\nPublic Health\\nLife and Society\\nSocial Issues\\nViolence\\nMedical Disorders and Diseases\\nSubstance Abuse\\nAddiction and Drug Abuse   \n",
              "1                                                      Law, Gov’t & Politics\\nLegal Issues\\nNon-Standard Content\\nExtreme Graphic/Explicit Violence\\npolitics\\ninterior policy\\npersonal weapon control\\nPolitics and Government\\nGovernment Agencies (U.S.)\\nDepartment of State\\nLife and Society\\nSocial Issues\\nViolence   \n",
              "2                                                                                                                                                           Non-Standard Content\\nExtreme Graphic/Explicit Violence\\npolitics\\ninterior policy\\npersonal weapon control\\nHealth and Wellness\\nHealth Sciences\\nPublic Health   \n",
              "3                                                                      Law, Gov’t & Politics\\nPolitics\\npolitics\\ninterior policy\\npersonal weapon control\\nLife and Society\\nCrime\\nSports\\nBaseball\\nTeam Sports\\nPolitics and Government\\nGun Control\\nPolitical Issues\\nPolitics\\nPublic Safety\\nSocial Issues\\nViolence   \n",
              "4                                                                                                                                                                  Law, Gov’t & Politics\\nLegal Issues\\npolitics\\ninterior policy\\npersonal weapon control\\nPolitics and Government\\nGun Control\\nPolitical Issues\\nPolitics   \n",
              "\n",
              "  Industries  \\\n",
              "0        NaN   \n",
              "1        NaN   \n",
              "2        NaN   \n",
              "3        NaN   \n",
              "4        NaN   \n",
              "\n",
              "                                                                Organisations  \\\n",
              "0                                                     Albuquerque, New Mexico   \n",
              "1                                              Albuquerque, New Mexico\\nstate   \n",
              "2  CNN\\nDemocratic Party (United States)\\nNew Mexico\\nAlbuquerque, New Mexico   \n",
              "3                                         New Mexico\\nAlbuquerque, New Mexico   \n",
              "4       Democratic Party (United States)\\nNew Mexico\\nAlbuquerque, New Mexico   \n",
              "\n",
              "   People                                                           Locations  \\\n",
              "0     NaN                                             Albuquerque, New Mexico   \n",
              "1     NaN                                             Albuquerque, New Mexico   \n",
              "2     NaN                                 New Mexico\\nAlbuquerque, New Mexico   \n",
              "3     NaN  New Mexico\\nAlbuquerque, New Mexico\\nBernalillo County, New Mexico   \n",
              "4     NaN                                 New Mexico\\nAlbuquerque, New Mexico   \n",
              "\n",
              "                                                                   Other Entities  \\\n",
              "0                                                          Michelle Lujan Grisham   \n",
              "1                                                          Michelle Lujan Grisham   \n",
              "2  Said No\\nEnforcing Gun Ban\\nJohn Grisham\\nPoppy Harlow\\nMichelle Lujan Grisham   \n",
              "3                                                          Michelle Lujan Grisham   \n",
              "4                                                          Michelle Lujan Grisham   \n",
              "\n",
              "            News topic Title_Emotion  Title_Emotion_Score Summary_Emotion  \\\n",
              "0  Albuquerque gun ban       neutral             0.728747         neutral   \n",
              "1  Albuquerque gun ban       neutral             0.774570            fear   \n",
              "2  Albuquerque gun ban         anger             0.487805           anger   \n",
              "3  Albuquerque gun ban       disgust             0.445547            fear   \n",
              "4  Albuquerque gun ban       neutral             0.531995           anger   \n",
              "\n",
              "   Summary_Emotion_Score  encoded_emotion  \n",
              "0               0.410288                4  \n",
              "1               0.782031                2  \n",
              "2               0.640298                0  \n",
              "3               0.909011                2  \n",
              "4               0.940961                0  "
            ],
            "text/html": [
              "\n",
              "  <div id=\"df-0a08706c-92b3-406b-981b-2adae59b706c\" class=\"colab-df-container\">\n",
              "    <div>\n",
              "<style scoped>\n",
              "    .dataframe tbody tr th:only-of-type {\n",
              "        vertical-align: middle;\n",
              "    }\n",
              "\n",
              "    .dataframe tbody tr th {\n",
              "        vertical-align: top;\n",
              "    }\n",
              "\n",
              "    .dataframe thead th {\n",
              "        text-align: right;\n",
              "    }\n",
              "</style>\n",
              "<table border=\"1\" class=\"dataframe\">\n",
              "  <thead>\n",
              "    <tr style=\"text-align: right;\">\n",
              "      <th></th>\n",
              "      <th>Publication Date</th>\n",
              "      <th>Source</th>\n",
              "      <th>URL</th>\n",
              "      <th>Title</th>\n",
              "      <th>Summary</th>\n",
              "      <th>Categories</th>\n",
              "      <th>Industries</th>\n",
              "      <th>Organisations</th>\n",
              "      <th>People</th>\n",
              "      <th>Locations</th>\n",
              "      <th>Other Entities</th>\n",
              "      <th>News topic</th>\n",
              "      <th>Title_Emotion</th>\n",
              "      <th>Title_Emotion_Score</th>\n",
              "      <th>Summary_Emotion</th>\n",
              "      <th>Summary_Emotion_Score</th>\n",
              "      <th>encoded_emotion</th>\n",
              "    </tr>\n",
              "  </thead>\n",
              "  <tbody>\n",
              "    <tr>\n",
              "      <th>0</th>\n",
              "      <td>2023-10-07T03:11:36+0000</td>\n",
              "      <td>Yahoo</td>\n",
              "      <td>https://news.yahoo.com/gov-renews-public-health-order-030100117.html</td>\n",
              "      <td>Gov. renews public health order, tacks on gun buy-backs, substance abuse treatment</td>\n",
              "      <td>oct 6 gov michelle lujan grisham friday renewed public health order aimed combating gun violence added new provisions state organize gun buy backs albuquerque espa ola las cruces provide treatment seeking help battling addictions order also includes several initial measures including testing wastewater schools drugs like fentanyl monthly inspections licensed gun dealers violations allowing police book juveniles jail without social services permission sending new mexico state police officers help local authorities fight crime albuquerque bernalillo county deputies officers arrested hundreds people following order unclear effect gun violence initiatives testing school wastewater stand friday new items added order including gun buy backs state health care system would ensure request help substance abuse receive permanent adequate treatment placement within 24 hours request renewal comes month governor declared gun violence public health emergency following high profile shooting death 11 year old boy initially enforced short lived ban publicly carrying firearms bernalillo county lujan grisham amended portion order ban carrying guns public parks playgrounds across bernalillo county something city albuquerque already sought challenged court</td>\n",
              "      <td>Non-Standard Content\\nExtreme Graphic/Explicit Violence\\nHealth &amp; Fitness\\nSubstance Abuse\\npolitics\\ninterior policy\\npersonal weapon control\\nHealth and Wellness\\nHealth Sciences\\nPublic Health\\nLife and Society\\nSocial Issues\\nViolence\\nMedical Disorders and Diseases\\nSubstance Abuse\\nAddiction and Drug Abuse</td>\n",
              "      <td>NaN</td>\n",
              "      <td>Albuquerque, New Mexico</td>\n",
              "      <td>NaN</td>\n",
              "      <td>Albuquerque, New Mexico</td>\n",
              "      <td>Michelle Lujan Grisham</td>\n",
              "      <td>Albuquerque gun ban</td>\n",
              "      <td>neutral</td>\n",
              "      <td>0.728747</td>\n",
              "      <td>neutral</td>\n",
              "      <td>0.410288</td>\n",
              "      <td>4</td>\n",
              "    </tr>\n",
              "    <tr>\n",
              "      <th>1</th>\n",
              "      <td>2023-10-07T03:42:10+0000</td>\n",
              "      <td>Yahoo</td>\n",
              "      <td>https://news.yahoo.com/governor-extends-gun-violence-order-033400080.html</td>\n",
              "      <td>Governor extends gun violence order and adds provisions</td>\n",
              "      <td>oct 6 days federal judge extended temporary block gov michelle lujan grisham revised public health order prohibiting firearms parks playgrounds public places children go albuquerque governor announced renewing order lujan grisham first announced gun ban restricting right carry open concealed firearms public places albuquerque surrounding area 30 days part public health order early september others said governor right include gun violence public health challenge worthy executive order patrick allen secretary state department health said news release issued governor office gun violence leading cause death among young people new mexico added letting continuing make investments drive violence communities protect children u district judge david herrera urias issued initial restraining order last month response several lawsuits challenging governor 30 day gun ban lujan grisham revised initial order week issued limiting gun ban areas draw children families</td>\n",
              "      <td>Law, Gov’t &amp; Politics\\nLegal Issues\\nNon-Standard Content\\nExtreme Graphic/Explicit Violence\\npolitics\\ninterior policy\\npersonal weapon control\\nPolitics and Government\\nGovernment Agencies (U.S.)\\nDepartment of State\\nLife and Society\\nSocial Issues\\nViolence</td>\n",
              "      <td>NaN</td>\n",
              "      <td>Albuquerque, New Mexico\\nstate</td>\n",
              "      <td>NaN</td>\n",
              "      <td>Albuquerque, New Mexico</td>\n",
              "      <td>Michelle Lujan Grisham</td>\n",
              "      <td>Albuquerque gun ban</td>\n",
              "      <td>neutral</td>\n",
              "      <td>0.774570</td>\n",
              "      <td>fear</td>\n",
              "      <td>0.782031</td>\n",
              "      <td>2</td>\n",
              "    </tr>\n",
              "    <tr>\n",
              "      <th>2</th>\n",
              "      <td>2023-09-12T13:05:13+0000</td>\n",
              "      <td>Daily Caller</td>\n",
              "      <td>https://dailycaller.com/2023/09/12/poppy-harlow-michelle-lujan-grisham-gun-ban-criminals/</td>\n",
              "      <td>‘You Said No’: CNN Host Confronts Grisham For Enforcing Gun Ban While Admitting Criminals Will Ignore It</td>\n",
              "      <td>cnn poppy harlow confronted democratic new mexico gov michelle lujan grisham tuesday imposing emergency gun ban even though admitted criminals likely listen order grisham claimed gun violence public health emergency cited string recent gun deaths reasoning grisham issued emergency order banning firearms carried albuquerque 30 days arguing public health emergency press conference announcing declaration reporter asked grisham whether believes criminals responsible shootings led ban would follow order grisham order challenged albuquerque resident foster haines suing alongside national association gun rights arguing declaration violates second amendment</td>\n",
              "      <td>Non-Standard Content\\nExtreme Graphic/Explicit Violence\\npolitics\\ninterior policy\\npersonal weapon control\\nHealth and Wellness\\nHealth Sciences\\nPublic Health</td>\n",
              "      <td>NaN</td>\n",
              "      <td>CNN\\nDemocratic Party (United States)\\nNew Mexico\\nAlbuquerque, New Mexico</td>\n",
              "      <td>NaN</td>\n",
              "      <td>New Mexico\\nAlbuquerque, New Mexico</td>\n",
              "      <td>Said No\\nEnforcing Gun Ban\\nJohn Grisham\\nPoppy Harlow\\nMichelle Lujan Grisham</td>\n",
              "      <td>Albuquerque gun ban</td>\n",
              "      <td>anger</td>\n",
              "      <td>0.487805</td>\n",
              "      <td>anger</td>\n",
              "      <td>0.640298</td>\n",
              "      <td>0</td>\n",
              "    </tr>\n",
              "    <tr>\n",
              "      <th>3</th>\n",
              "      <td>2023-09-15T09:24:23+0000</td>\n",
              "      <td>Yahoo</td>\n",
              "      <td>https://news.yahoo.com/mexico-governors-gun-suspension-defies-091700731.html</td>\n",
              "      <td>New Mexico governor's gun suspension defies 2nd Amendment. And it doesn't make us any safer.</td>\n",
              "      <td>11 year old shot killed outside baseball game albuquerque sept 6 recent incident string horrific gun related crimes response new mexico gov michelle lujan grisham declared gun violence public safety emergency announced would suspend concealed open carry permits 30 days albuquerque bernalillo county governor admits criminals follow gun ban shortly announcement governor admitted 30 day gun ban would stop criminals said would instead send resounding message everyone else report crime firearms new mexico gov michelle lujan grisham issues sept 8 2023 emergency public health order temporarily suspending right carry firearms public across albuquerque surrounding bernalillo county new mexico governor gun ban unconstitutional doomed fail</td>\n",
              "      <td>Law, Gov’t &amp; Politics\\nPolitics\\npolitics\\ninterior policy\\npersonal weapon control\\nLife and Society\\nCrime\\nSports\\nBaseball\\nTeam Sports\\nPolitics and Government\\nGun Control\\nPolitical Issues\\nPolitics\\nPublic Safety\\nSocial Issues\\nViolence</td>\n",
              "      <td>NaN</td>\n",
              "      <td>New Mexico\\nAlbuquerque, New Mexico</td>\n",
              "      <td>NaN</td>\n",
              "      <td>New Mexico\\nAlbuquerque, New Mexico\\nBernalillo County, New Mexico</td>\n",
              "      <td>Michelle Lujan Grisham</td>\n",
              "      <td>Albuquerque gun ban</td>\n",
              "      <td>disgust</td>\n",
              "      <td>0.445547</td>\n",
              "      <td>fear</td>\n",
              "      <td>0.909011</td>\n",
              "      <td>2</td>\n",
              "    </tr>\n",
              "    <tr>\n",
              "      <th>4</th>\n",
              "      <td>2023-09-14T01:26:43+0000</td>\n",
              "      <td>New York Post</td>\n",
              "      <td>https://nypost.com/2023/09/13/new-mexico-judge-blocks-democrat-governors-attempt-to-suspend-gun-rights/</td>\n",
              "      <td>New Mexico judge blocks Democrat governor’s attempt to suspend gun rights</td>\n",
              "      <td>federal judge wednesday temporarily blocked new mexico gov michelle lujan grisham emergency order suspending right carry firearms public albuquerque surrounding county urias allowed aspects governor public health order remain place including monthly inspections firearms dealers across state reports gunshot victims new mexico hospitals wastewater testing drugs bernalillo county sheriff john allen also opposed order calling unconstitutional today judge temporarily blocked sections public health order recognized significant problem gun violence state particularly involving deaths children lujan grisham said statement ap governor public health order sparked backlash law enforcement gun rights advocates state ap state police authority lujan grisham order enforce temporary ban assessing civil penalties fine 5 000 people found carrying firearm public albuquerque police chief harold medina said enforce ban</td>\n",
              "      <td>Law, Gov’t &amp; Politics\\nLegal Issues\\npolitics\\ninterior policy\\npersonal weapon control\\nPolitics and Government\\nGun Control\\nPolitical Issues\\nPolitics</td>\n",
              "      <td>NaN</td>\n",
              "      <td>Democratic Party (United States)\\nNew Mexico\\nAlbuquerque, New Mexico</td>\n",
              "      <td>NaN</td>\n",
              "      <td>New Mexico\\nAlbuquerque, New Mexico</td>\n",
              "      <td>Michelle Lujan Grisham</td>\n",
              "      <td>Albuquerque gun ban</td>\n",
              "      <td>neutral</td>\n",
              "      <td>0.531995</td>\n",
              "      <td>anger</td>\n",
              "      <td>0.940961</td>\n",
              "      <td>0</td>\n",
              "    </tr>\n",
              "  </tbody>\n",
              "</table>\n",
              "</div>\n",
              "    <div class=\"colab-df-buttons\">\n",
              "\n",
              "  <div class=\"colab-df-container\">\n",
              "    <button class=\"colab-df-convert\" onclick=\"convertToInteractive('df-0a08706c-92b3-406b-981b-2adae59b706c')\"\n",
              "            title=\"Convert this dataframe to an interactive table.\"\n",
              "            style=\"display:none;\">\n",
              "\n",
              "  <svg xmlns=\"http://www.w3.org/2000/svg\" height=\"24px\" viewBox=\"0 -960 960 960\">\n",
              "    <path d=\"M120-120v-720h720v720H120Zm60-500h600v-160H180v160Zm220 220h160v-160H400v160Zm0 220h160v-160H400v160ZM180-400h160v-160H180v160Zm440 0h160v-160H620v160ZM180-180h160v-160H180v160Zm440 0h160v-160H620v160Z\"/>\n",
              "  </svg>\n",
              "    </button>\n",
              "\n",
              "  <style>\n",
              "    .colab-df-container {\n",
              "      display:flex;\n",
              "      gap: 12px;\n",
              "    }\n",
              "\n",
              "    .colab-df-convert {\n",
              "      background-color: #E8F0FE;\n",
              "      border: none;\n",
              "      border-radius: 50%;\n",
              "      cursor: pointer;\n",
              "      display: none;\n",
              "      fill: #1967D2;\n",
              "      height: 32px;\n",
              "      padding: 0 0 0 0;\n",
              "      width: 32px;\n",
              "    }\n",
              "\n",
              "    .colab-df-convert:hover {\n",
              "      background-color: #E2EBFA;\n",
              "      box-shadow: 0px 1px 2px rgba(60, 64, 67, 0.3), 0px 1px 3px 1px rgba(60, 64, 67, 0.15);\n",
              "      fill: #174EA6;\n",
              "    }\n",
              "\n",
              "    .colab-df-buttons div {\n",
              "      margin-bottom: 4px;\n",
              "    }\n",
              "\n",
              "    [theme=dark] .colab-df-convert {\n",
              "      background-color: #3B4455;\n",
              "      fill: #D2E3FC;\n",
              "    }\n",
              "\n",
              "    [theme=dark] .colab-df-convert:hover {\n",
              "      background-color: #434B5C;\n",
              "      box-shadow: 0px 1px 3px 1px rgba(0, 0, 0, 0.15);\n",
              "      filter: drop-shadow(0px 1px 2px rgba(0, 0, 0, 0.3));\n",
              "      fill: #FFFFFF;\n",
              "    }\n",
              "  </style>\n",
              "\n",
              "    <script>\n",
              "      const buttonEl =\n",
              "        document.querySelector('#df-0a08706c-92b3-406b-981b-2adae59b706c button.colab-df-convert');\n",
              "      buttonEl.style.display =\n",
              "        google.colab.kernel.accessAllowed ? 'block' : 'none';\n",
              "\n",
              "      async function convertToInteractive(key) {\n",
              "        const element = document.querySelector('#df-0a08706c-92b3-406b-981b-2adae59b706c');\n",
              "        const dataTable =\n",
              "          await google.colab.kernel.invokeFunction('convertToInteractive',\n",
              "                                                    [key], {});\n",
              "        if (!dataTable) return;\n",
              "\n",
              "        const docLinkHtml = 'Like what you see? Visit the ' +\n",
              "          '<a target=\"_blank\" href=https://colab.research.google.com/notebooks/data_table.ipynb>data table notebook</a>'\n",
              "          + ' to learn more about interactive tables.';\n",
              "        element.innerHTML = '';\n",
              "        dataTable['output_type'] = 'display_data';\n",
              "        await google.colab.output.renderOutput(dataTable, element);\n",
              "        const docLink = document.createElement('div');\n",
              "        docLink.innerHTML = docLinkHtml;\n",
              "        element.appendChild(docLink);\n",
              "      }\n",
              "    </script>\n",
              "  </div>\n",
              "\n",
              "\n",
              "<div id=\"df-c0df567c-bcad-4e31-95b1-a9912f581c31\">\n",
              "  <button class=\"colab-df-quickchart\" onclick=\"quickchart('df-c0df567c-bcad-4e31-95b1-a9912f581c31')\"\n",
              "            title=\"Suggest charts\"\n",
              "            style=\"display:none;\">\n",
              "\n",
              "<svg xmlns=\"http://www.w3.org/2000/svg\" height=\"24px\"viewBox=\"0 0 24 24\"\n",
              "     width=\"24px\">\n",
              "    <g>\n",
              "        <path d=\"M19 3H5c-1.1 0-2 .9-2 2v14c0 1.1.9 2 2 2h14c1.1 0 2-.9 2-2V5c0-1.1-.9-2-2-2zM9 17H7v-7h2v7zm4 0h-2V7h2v10zm4 0h-2v-4h2v4z\"/>\n",
              "    </g>\n",
              "</svg>\n",
              "  </button>\n",
              "\n",
              "<style>\n",
              "  .colab-df-quickchart {\n",
              "      --bg-color: #E8F0FE;\n",
              "      --fill-color: #1967D2;\n",
              "      --hover-bg-color: #E2EBFA;\n",
              "      --hover-fill-color: #174EA6;\n",
              "      --disabled-fill-color: #AAA;\n",
              "      --disabled-bg-color: #DDD;\n",
              "  }\n",
              "\n",
              "  [theme=dark] .colab-df-quickchart {\n",
              "      --bg-color: #3B4455;\n",
              "      --fill-color: #D2E3FC;\n",
              "      --hover-bg-color: #434B5C;\n",
              "      --hover-fill-color: #FFFFFF;\n",
              "      --disabled-bg-color: #3B4455;\n",
              "      --disabled-fill-color: #666;\n",
              "  }\n",
              "\n",
              "  .colab-df-quickchart {\n",
              "    background-color: var(--bg-color);\n",
              "    border: none;\n",
              "    border-radius: 50%;\n",
              "    cursor: pointer;\n",
              "    display: none;\n",
              "    fill: var(--fill-color);\n",
              "    height: 32px;\n",
              "    padding: 0;\n",
              "    width: 32px;\n",
              "  }\n",
              "\n",
              "  .colab-df-quickchart:hover {\n",
              "    background-color: var(--hover-bg-color);\n",
              "    box-shadow: 0 1px 2px rgba(60, 64, 67, 0.3), 0 1px 3px 1px rgba(60, 64, 67, 0.15);\n",
              "    fill: var(--button-hover-fill-color);\n",
              "  }\n",
              "\n",
              "  .colab-df-quickchart-complete:disabled,\n",
              "  .colab-df-quickchart-complete:disabled:hover {\n",
              "    background-color: var(--disabled-bg-color);\n",
              "    fill: var(--disabled-fill-color);\n",
              "    box-shadow: none;\n",
              "  }\n",
              "\n",
              "  .colab-df-spinner {\n",
              "    border: 2px solid var(--fill-color);\n",
              "    border-color: transparent;\n",
              "    border-bottom-color: var(--fill-color);\n",
              "    animation:\n",
              "      spin 1s steps(1) infinite;\n",
              "  }\n",
              "\n",
              "  @keyframes spin {\n",
              "    0% {\n",
              "      border-color: transparent;\n",
              "      border-bottom-color: var(--fill-color);\n",
              "      border-left-color: var(--fill-color);\n",
              "    }\n",
              "    20% {\n",
              "      border-color: transparent;\n",
              "      border-left-color: var(--fill-color);\n",
              "      border-top-color: var(--fill-color);\n",
              "    }\n",
              "    30% {\n",
              "      border-color: transparent;\n",
              "      border-left-color: var(--fill-color);\n",
              "      border-top-color: var(--fill-color);\n",
              "      border-right-color: var(--fill-color);\n",
              "    }\n",
              "    40% {\n",
              "      border-color: transparent;\n",
              "      border-right-color: var(--fill-color);\n",
              "      border-top-color: var(--fill-color);\n",
              "    }\n",
              "    60% {\n",
              "      border-color: transparent;\n",
              "      border-right-color: var(--fill-color);\n",
              "    }\n",
              "    80% {\n",
              "      border-color: transparent;\n",
              "      border-right-color: var(--fill-color);\n",
              "      border-bottom-color: var(--fill-color);\n",
              "    }\n",
              "    90% {\n",
              "      border-color: transparent;\n",
              "      border-bottom-color: var(--fill-color);\n",
              "    }\n",
              "  }\n",
              "</style>\n",
              "\n",
              "  <script>\n",
              "    async function quickchart(key) {\n",
              "      const quickchartButtonEl =\n",
              "        document.querySelector('#' + key + ' button');\n",
              "      quickchartButtonEl.disabled = true;  // To prevent multiple clicks.\n",
              "      quickchartButtonEl.classList.add('colab-df-spinner');\n",
              "      try {\n",
              "        const charts = await google.colab.kernel.invokeFunction(\n",
              "            'suggestCharts', [key], {});\n",
              "      } catch (error) {\n",
              "        console.error('Error during call to suggestCharts:', error);\n",
              "      }\n",
              "      quickchartButtonEl.classList.remove('colab-df-spinner');\n",
              "      quickchartButtonEl.classList.add('colab-df-quickchart-complete');\n",
              "    }\n",
              "    (() => {\n",
              "      let quickchartButtonEl =\n",
              "        document.querySelector('#df-c0df567c-bcad-4e31-95b1-a9912f581c31 button');\n",
              "      quickchartButtonEl.style.display =\n",
              "        google.colab.kernel.accessAllowed ? 'block' : 'none';\n",
              "    })();\n",
              "  </script>\n",
              "</div>\n",
              "    </div>\n",
              "  </div>\n"
            ]
          },
          "metadata": {},
          "execution_count": 10
        }
      ]
    },
    {
      "cell_type": "code",
      "source": [
        "counts = Counter()\n",
        "for i, review in enumerate(df['Summary']):\n",
        "    counts.update(review.split())"
      ],
      "metadata": {
        "id": "J-APtXdXV2JK"
      },
      "execution_count": 11,
      "outputs": []
    },
    {
      "cell_type": "code",
      "source": [
        "words = sorted(counts, key=counts.get, reverse=True)\n",
        "words[0:10]"
      ],
      "metadata": {
        "colab": {
          "base_uri": "https://localhost:8080/"
        },
        "id": "doUEsUaKV7VV",
        "outputId": "156bf115-7bf7-481a-b225-b911ceba4962"
      },
      "execution_count": 12,
      "outputs": [
        {
          "output_type": "execute_result",
          "data": {
            "text/plain": [
              "['said',\n",
              " 'trump',\n",
              " 'de',\n",
              " 'new',\n",
              " 'president',\n",
              " 'news',\n",
              " '2023',\n",
              " 'former',\n",
              " 'police',\n",
              " 'year']"
            ]
          },
          "metadata": {},
          "execution_count": 12
        }
      ]
    },
    {
      "cell_type": "code",
      "source": [
        "word_to_int = {word: i for i, word in enumerate(words, start=1)}\n",
        "int_to_word = {i: word for i, word in enumerate(words, start=1)}"
      ],
      "metadata": {
        "id": "mQmeE_tAV-Ho"
      },
      "execution_count": 13,
      "outputs": []
    },
    {
      "cell_type": "code",
      "source": [
        "def text_to_int(text:str, word_to_int: dict):\n",
        "    return [word_to_int[word] for word in review.split()]\n",
        "\n",
        "\n",
        "def int_to_text(int_arr, int_to_word: dict):\n",
        "    return ' '.join([int_to_word[index] for index in int_arr if index != 0])"
      ],
      "metadata": {
        "id": "qQSE7uZgWEqX"
      },
      "execution_count": 14,
      "outputs": []
    },
    {
      "cell_type": "code",
      "source": [
        "mapped_news = []\n",
        "for news in df['Summary']:\n",
        "    mapped_news.append(text_to_int(news, word_to_int))"
      ],
      "metadata": {
        "id": "FC-kdXTzWJSe"
      },
      "execution_count": 15,
      "outputs": []
    },
    {
      "cell_type": "code",
      "source": [
        "print(f'Original news: {df.loc[0][\"Summary\"]}')\n",
        "print(f'Mapped news: {mapped_news[0]}')"
      ],
      "metadata": {
        "colab": {
          "base_uri": "https://localhost:8080/"
        },
        "id": "PrLq8LNUWS5N",
        "outputId": "3a0f1483-1cf6-4a81-d68b-0ffee5f6ffad"
      },
      "execution_count": 16,
      "outputs": [
        {
          "output_type": "stream",
          "name": "stdout",
          "text": [
            "Original news: oct 6 gov michelle lujan grisham friday renewed public health order aimed combating gun violence added new provisions state organize gun buy backs albuquerque espa ola las cruces provide treatment seeking help battling addictions order also includes several initial measures including testing wastewater schools drugs like fentanyl monthly inspections licensed gun dealers violations allowing police book juveniles jail without social services permission sending new mexico state police officers help local authorities fight crime albuquerque bernalillo county deputies officers arrested hundreds people following order unclear effect gun violence initiatives testing school wastewater stand friday new items added order including gun buy backs state health care system would ensure request help substance abuse receive permanent adequate treatment placement within 24 hours request renewal comes month governor declared gun violence public health emergency following high profile shooting death 11 year old boy initially enforced short lived ban publicly carrying firearms bernalillo county lujan grisham amended portion order ban carrying guns public parks playgrounds across bernalillo county something city albuquerque already sought challenged court\n",
            "Mapped news: [16379, 517, 13754, 669, 30206, 22967, 4103, 24, 3829, 9, 11372, 37440, 121, 1092, 1990, 553, 1010, 8757, 18, 34663, 91, 16, 1751, 402, 5836, 909, 4956, 9221, 653, 3402, 1446, 3684, 91, 1201, 11372, 975, 1, 3050, 1591, 30311, 23002, 13370, 706, 37439, 30311, 37440, 11372, 9620, 46022, 6, 591, 88, 3684, 1, 40139, 5553, 853, 13055, 52589, 5803, 13520, 46030, 10589, 520, 23002, 46068, 5875, 669, 3050, 1009, 9, 690, 721, 91, 205, 531, 9047, 684, 1781, 447, 207, 1781, 517, 669, 1009]\n"
          ]
        }
      ]
    },
    {
      "cell_type": "code",
      "source": [
        "length_sent = []\n",
        "for i in range(len(mapped_news)):\n",
        "    length_sent.append(len(mapped_news[i]))"
      ],
      "metadata": {
        "id": "Mlzz-9qjWeZb"
      },
      "execution_count": 17,
      "outputs": []
    },
    {
      "cell_type": "code",
      "source": [
        "sequence_length = max(length_sent)\n",
        "X = pad_sequences(maxlen = sequence_length,\n",
        "                  sequences = mapped_news,\n",
        "                  padding = \"post\",\n",
        "                  value = 0)"
      ],
      "metadata": {
        "id": "ofobwj0fX-1A"
      },
      "execution_count": 18,
      "outputs": []
    },
    {
      "cell_type": "code",
      "source": [
        "X[0]"
      ],
      "metadata": {
        "colab": {
          "base_uri": "https://localhost:8080/"
        },
        "id": "5xA5WQ3WYFGO",
        "outputId": "d25b4ade-06de-4d04-9bf9-134626d6dbe2"
      },
      "execution_count": 19,
      "outputs": [
        {
          "output_type": "execute_result",
          "data": {
            "text/plain": [
              "array([16379,   517, 13754,   669, 30206, 22967,  4103,    24,  3829,\n",
              "           9, 11372, 37440,   121,  1092,  1990,   553,  1010,  8757,\n",
              "          18, 34663,    91,    16,  1751,   402,  5836,   909,  4956,\n",
              "        9221,   653,  3402,  1446,  3684,    91,  1201, 11372,   975,\n",
              "           1,  3050,  1591, 30311, 23002, 13370,   706, 37439, 30311,\n",
              "       37440, 11372,  9620, 46022,     6,   591,    88,  3684,     1,\n",
              "       40139,  5553,   853, 13055, 52589,  5803, 13520, 46030, 10589,\n",
              "         520, 23002, 46068,  5875,   669,  3050,  1009,     9,   690,\n",
              "         721,    91,   205,   531,  9047,   684,  1781,   447,   207,\n",
              "        1781,   517,   669,  1009], dtype=int32)"
            ]
          },
          "metadata": {},
          "execution_count": 19
        }
      ]
    },
    {
      "cell_type": "code",
      "source": [
        "y = df['encoded_emotion'].values"
      ],
      "metadata": {
        "id": "KLe3rHBzYHyZ"
      },
      "execution_count": 20,
      "outputs": []
    },
    {
      "cell_type": "code",
      "source": [
        "from keras.preprocessing.text import Tokenizer\n",
        "import pandas as pd\n",
        "\n",
        "# Assuming 'df' is your DataFrame with a 'summary' column\n",
        "# Extract the 'summary' column\n",
        "summaries = df['Summary'].astype(str)\n",
        "\n",
        "# Create a tokenizer\n",
        "tokenizer = Tokenizer()\n",
        "tokenizer.fit_on_texts(summaries)\n",
        "\n",
        "# Get the vocabulary size\n",
        "vocab_size = len(tokenizer.word_index) + 1  # Add 1 for the reserved 0 index\n",
        "\n",
        "print(\"Vocabulary Size:\", vocab_size)\n"
      ],
      "metadata": {
        "colab": {
          "base_uri": "https://localhost:8080/"
        },
        "id": "vRcJ5jIkentn",
        "outputId": "ce4066c6-9d3d-4516-c44f-24cb6a085dd4"
      },
      "execution_count": 21,
      "outputs": [
        {
          "output_type": "stream",
          "name": "stdout",
          "text": [
            "Vocabulary Size: 139583\n"
          ]
        }
      ]
    },
    {
      "cell_type": "code",
      "source": [
        "embedding_vector_length = 100\n",
        "max_news_length = 85  # Update to your intended maximum sequence length\n",
        "\n",
        "model = Sequential()\n",
        "model.add(Embedding(input_dim=vocab_size, output_dim=embedding_vector_length, input_length=max_news_length))\n",
        "model.add(LSTM(40, return_sequences=True))\n",
        "model.add(LSTM(40, return_sequences=False))\n",
        "model.add(Dense(7, activation='softmax'))\n",
        "model.compile(loss='categorical_crossentropy', optimizer='adam', metrics=['accuracy'])\n"
      ],
      "metadata": {
        "id": "Hi_s_DL8YOiP"
      },
      "execution_count": 22,
      "outputs": []
    },
    {
      "cell_type": "code",
      "source": [
        "print(model.summary())"
      ],
      "metadata": {
        "colab": {
          "base_uri": "https://localhost:8080/"
        },
        "id": "JTGeG7FnbE0j",
        "outputId": "1ddce54f-8073-4175-b2a2-34034aec752b"
      },
      "execution_count": 23,
      "outputs": [
        {
          "output_type": "stream",
          "name": "stdout",
          "text": [
            "Model: \"sequential\"\n",
            "_________________________________________________________________\n",
            " Layer (type)                Output Shape              Param #   \n",
            "=================================================================\n",
            " embedding (Embedding)       (None, 85, 100)           13958300  \n",
            "                                                                 \n",
            " lstm (LSTM)                 (None, 85, 40)            22560     \n",
            "                                                                 \n",
            " lstm_1 (LSTM)               (None, 40)                12960     \n",
            "                                                                 \n",
            " dense (Dense)               (None, 7)                 287       \n",
            "                                                                 \n",
            "=================================================================\n",
            "Total params: 13994107 (53.38 MB)\n",
            "Trainable params: 13994107 (53.38 MB)\n",
            "Non-trainable params: 0 (0.00 Byte)\n",
            "_________________________________________________________________\n",
            "None\n"
          ]
        }
      ]
    },
    {
      "cell_type": "code",
      "source": [
        "X_train, X_test, y_train, y_test = train_test_split(X, y, test_size=0.20, random_state=10)\n"
      ],
      "metadata": {
        "id": "rJinvCakbHlG"
      },
      "execution_count": 24,
      "outputs": []
    },
    {
      "cell_type": "code",
      "source": [
        "y_train = to_categorical(y_train)\n",
        "y_test = to_categorical(y_test)"
      ],
      "metadata": {
        "id": "rczTDLj5bPj-"
      },
      "execution_count": 25,
      "outputs": []
    },
    {
      "cell_type": "code",
      "source": [
        "from keras.models import Sequential\n",
        "from keras.layers import Embedding, LSTM, Dense\n",
        "from keras.utils import to_categorical\n",
        "from keras.preprocessing.text import Tokenizer\n",
        "from keras.preprocessing.sequence import pad_sequences\n",
        "from sklearn.model_selection import train_test_split\n",
        "from sklearn.preprocessing import LabelEncoder\n",
        "import pandas as pd\n",
        "\n",
        "# Assuming 'df' is your DataFrame with 'Summary', 'News_Topic', and 'Sentiment' columns\n",
        "# Extract the 'summary', 'news_topic', and 'sentiment' columns\n",
        "summaries = df['Summary'].astype(str)\n",
        "news_topics = df['News topic']\n",
        "sentiments = df['Summary_Emotion']\n",
        "\n",
        "# Create a tokenizer\n",
        "tokenizer = Tokenizer()\n",
        "tokenizer.fit_on_texts(summaries)\n",
        "\n",
        "# Get the vocabulary size\n",
        "vocab_size = len(tokenizer.word_index) + 1  # Add 1 for the reserved 0 index\n",
        "\n",
        "# Tokenize the text for all summaries\n",
        "sequences = tokenizer.texts_to_sequences(summaries)\n",
        "padded_sequences = pad_sequences(sequences, maxlen=max_news_length)\n",
        "\n",
        "# Encode labels\n",
        "label_encoder = LabelEncoder()\n",
        "encoded_labels = label_encoder.fit_transform(sentiments)\n",
        "encoded_labels = to_categorical(encoded_labels)\n",
        "\n",
        "# Split data into train and test sets\n",
        "X_train, X_test, y_train, y_test = train_test_split(\n",
        "    padded_sequences, encoded_labels, test_size=0.2, random_state=42\n",
        ")\n",
        "\n",
        "# Build and compile the LSTM model for all topics\n",
        "model = Sequential()\n",
        "model.add(Embedding(input_dim=vocab_size, output_dim=embedding_vector_length, input_length=max_news_length))\n",
        "model.add(LSTM(40, return_sequences=True))\n",
        "model.add(LSTM(40, return_sequences=False))\n",
        "model.add(Dense(7, activation='softmax'))\n",
        "model.compile(loss='categorical_crossentropy', optimizer='adam', metrics=['accuracy'])\n",
        "\n",
        "# Train the model\n",
        "history = model.fit(X_train, y_train, validation_data=(X_test, y_test), epochs=16, batch_size=32)\n",
        "\n",
        "# Save directory\n",
        "save_directory = '/content/drive/MyDrive/Diss/many to one lstm/combined h5/'\n",
        "\n",
        "# Save or store the trained model for all topics\n",
        "model.save(f\"{save_directory}lstm_model_all_topics.h5\")\n"
      ],
      "metadata": {
        "colab": {
          "base_uri": "https://localhost:8080/"
        },
        "id": "E9Ue6sYGeA12",
        "outputId": "0206bb32-5fc5-4d77-88de-0a9b39fe6892"
      },
      "execution_count": null,
      "outputs": [
        {
          "output_type": "stream",
          "name": "stdout",
          "text": [
            "Epoch 1/16\n",
            "1532/1532 [==============================] - 627s 406ms/step - loss: 1.3626 - accuracy: 0.4783 - val_loss: 1.2336 - val_accuracy: 0.5490\n",
            "Epoch 2/16\n",
            "1532/1532 [==============================] - 618s 403ms/step - loss: 0.9873 - accuracy: 0.6538 - val_loss: 1.1982 - val_accuracy: 0.5742\n",
            "Epoch 3/16\n",
            "1532/1532 [==============================] - 614s 401ms/step - loss: 0.6827 - accuracy: 0.7669 - val_loss: 1.3303 - val_accuracy: 0.5678\n",
            "Epoch 4/16\n",
            "1532/1532 [==============================] - 615s 401ms/step - loss: 0.4668 - accuracy: 0.8448 - val_loss: 1.4419 - val_accuracy: 0.5747\n",
            "Epoch 5/16\n",
            "1532/1532 [==============================] - 615s 401ms/step - loss: 0.3266 - accuracy: 0.8940 - val_loss: 1.5625 - val_accuracy: 0.5728\n",
            "Epoch 6/16\n",
            "1532/1532 [==============================] - 617s 403ms/step - loss: 0.2328 - accuracy: 0.9247 - val_loss: 1.7923 - val_accuracy: 0.5731\n",
            "Epoch 7/16\n",
            "1532/1532 [==============================] - 625s 408ms/step - loss: 0.1695 - accuracy: 0.9456 - val_loss: 1.9164 - val_accuracy: 0.5678\n",
            "Epoch 8/16\n",
            "1532/1532 [==============================] - 629s 410ms/step - loss: 0.1279 - accuracy: 0.9593 - val_loss: 2.0632 - val_accuracy: 0.5666\n",
            "Epoch 9/16\n",
            "1532/1532 [==============================] - 618s 403ms/step - loss: 0.1011 - accuracy: 0.9673 - val_loss: 2.3102 - val_accuracy: 0.5610\n",
            "Epoch 10/16\n",
            "1532/1532 [==============================] - 617s 403ms/step - loss: 0.0870 - accuracy: 0.9716 - val_loss: 2.4780 - val_accuracy: 0.5736\n",
            "Epoch 11/16\n",
            "1532/1532 [==============================] - 617s 403ms/step - loss: 0.0679 - accuracy: 0.9768 - val_loss: 2.4420 - val_accuracy: 0.5669\n",
            "Epoch 12/16\n",
            "1532/1532 [==============================] - 619s 404ms/step - loss: 0.0620 - accuracy: 0.9782 - val_loss: 2.5180 - val_accuracy: 0.5554\n",
            "Epoch 13/16\n",
            "1532/1532 [==============================] - 620s 405ms/step - loss: 0.0515 - accuracy: 0.9820 - val_loss: 2.7154 - val_accuracy: 0.5642\n",
            "Epoch 14/16\n",
            "1532/1532 [==============================] - 624s 407ms/step - loss: 0.0454 - accuracy: 0.9835 - val_loss: 2.7200 - val_accuracy: 0.5707\n",
            "Epoch 15/16\n",
            "1532/1532 [==============================] - 622s 406ms/step - loss: 0.0400 - accuracy: 0.9855 - val_loss: 2.7764 - val_accuracy: 0.5651\n",
            "Epoch 16/16\n",
            "1532/1532 [==============================] - 621s 405ms/step - loss: 0.0395 - accuracy: 0.9855 - val_loss: 2.8491 - val_accuracy: 0.5679\n"
          ]
        },
        {
          "output_type": "stream",
          "name": "stderr",
          "text": [
            "/usr/local/lib/python3.10/dist-packages/keras/src/engine/training.py:3079: UserWarning: You are saving your model as an HDF5 file via `model.save()`. This file format is considered legacy. We recommend using instead the native Keras format, e.g. `model.save('my_model.keras')`.\n",
            "  saving_api.save_model(\n"
          ]
        }
      ]
    },
    {
      "cell_type": "code",
      "source": [
        "from tensorflow.keras.models import load_model\n",
        "\n",
        "# Replace 'your/full/path/to/your_model_file.h5' with the actual full path of your saved model\n",
        "model_path = '/content/drive/MyDrive/Diss/many to one lstm/combined h5/lstm_model_all_topics.h5'\n",
        "model = load_model(model_path)\n",
        "\n",
        "# Now, you can use the 'model' object to make predictions or further training\n"
      ],
      "metadata": {
        "id": "ohf9uZ5r4Gxq"
      },
      "execution_count": 26,
      "outputs": []
    },
    {
      "cell_type": "code",
      "source": [
        "%matplotlib inline\n",
        "history_dict = history.history\n",
        "loss_values = history_dict['loss']\n",
        "val_loss_values = history_dict['val_loss']\n",
        "acc_values = history_dict['accuracy']\n",
        "val_acc_values = history_dict['val_accuracy']\n",
        "epochs = range(1, len(val_loss_values) + 1)"
      ],
      "metadata": {
        "id": "c7lPSJZAdMIl"
      },
      "execution_count": null,
      "outputs": []
    },
    {
      "cell_type": "code",
      "source": [
        "plt.subplot(211)\n",
        "plt.plot(epochs, history.history['loss'], 'bo', label='Training loss')\n",
        "plt.title('Training Loss')\n",
        "plt.xlabel('Epochs')\n",
        "plt.ylabel('Loss')\n",
        "plt.legend()\n",
        "plt.grid('off')\n",
        "plt.show()"
      ],
      "metadata": {
        "colab": {
          "base_uri": "https://localhost:8080/",
          "height": 270
        },
        "id": "K3xSzuK2lOS6",
        "outputId": "4d992127-7b0c-4ff0-84b8-650d8bf73a57"
      },
      "execution_count": null,
      "outputs": [
        {
          "output_type": "display_data",
          "data": {
            "text/plain": [
              "<Figure size 640x480 with 1 Axes>"
            ],
            "image/png": "[encoded data removed]"
          },
          "metadata": {}
        }
      ]
    },
    {
      "cell_type": "code",
      "source": [
        "plt.subplot(212)\n",
        "plt.plot(epochs, history.history['accuracy'], 'bo', label='Training accuracy')\n",
        "plt.title('Training accuracy')\n",
        "plt.xlabel('Epochs')\n",
        "plt.ylabel('Accuracy')\n",
        "plt.gca().set_yticklabels(['{:.0f}%'.format(x * 100) for x in plt.gca().get_yticks()])\n",
        "plt.legend()\n",
        "plt.grid('off')\n",
        "plt.show()"
      ],
      "metadata": {
        "colab": {
          "base_uri": "https://localhost:8080/",
          "height": 305
        },
        "id": "5tpYbHIGlQis",
        "outputId": "ca7757e9-466f-48a8-d3b3-2f6f444d123d"
      },
      "execution_count": null,
      "outputs": [
        {
          "output_type": "stream",
          "name": "stderr",
          "text": [
            "<ipython-input-114-e5d6e124a9ec>:6: UserWarning: FixedFormatter should only be used together with FixedLocator\n",
            "  plt.gca().set_yticklabels(['{:.0f}%'.format(x * 100) for x in plt.gca().get_yticks()])\n"
          ]
        },
        {
          "output_type": "display_data",
          "data": {
            "text/plain": [
              "<Figure size 640x480 with 1 Axes>"
            ],
            "image/png": "[encoded data removed]"
          },
          "metadata": {}
        }
      ]
    },
    {
      "cell_type": "code",
      "source": [
        "def get_sentiment(model, text) -> str:\n",
        "    text_int_embedding = text_to_int(text, word_to_int)\n",
        "    text_int_embedding = pad_sequences(maxlen = sequence_length,\n",
        "                                       sequences = [text_int_embedding],\n",
        "                                       padding = \"post\", value = 0)\n",
        "    sentiment_index = np.argmax(model.predict(text_int_embedding))\n",
        "    return sentiment_index"
      ],
      "metadata": {
        "id": "uH6Yh6xTlSd5"
      },
      "execution_count": null,
      "outputs": []
    },
    {
      "cell_type": "code",
      "source": [
        "result = np.argmax(model.predict(X_test), axis=1)"
      ],
      "metadata": {
        "colab": {
          "base_uri": "https://localhost:8080/"
        },
        "id": "tKY2MC2Ylayh",
        "outputId": "3852016f-0366-42e9-db33-9be8fc64b20e"
      },
      "execution_count": null,
      "outputs": [
        {
          "output_type": "stream",
          "name": "stdout",
          "text": [
            "383/383 [==============================] - 10s 25ms/step\n"
          ]
        }
      ]
    },
    {
      "cell_type": "code",
      "source": [
        "from keras.models import load_model\n",
        "from sklearn.metrics import accuracy_score, classification_report"
      ],
      "metadata": {
        "id": "JhNk6vxZlcpz"
      },
      "execution_count": 27,
      "outputs": []
    },
    {
      "cell_type": "code",
      "source": [
        "predictions_val = model.predict(X_test)\n",
        "class_predictions_val = predictions_val.argmax(axis=1)\n",
        "\n",
        "# Decode one-hot encoded labels to integers\n",
        "true_labels_val = np.argmax(y_test, axis=1)\n",
        "\n",
        "# Evaluate the model on the validation set\n",
        "accuracy_val = accuracy_score(true_labels_val, class_predictions_val)\n",
        "print(f\"Accuracy on the validation set: {accuracy_val}\")\n",
        "\n",
        "# Print classification report for the validation set\n",
        "print(\"Classification Report on the validation set:\")\n",
        "print(classification_report(true_labels_val, class_predictions_val))"
      ],
      "metadata": {
        "colab": {
          "base_uri": "https://localhost:8080/"
        },
        "id": "6QdKNKX15FyA",
        "outputId": "27690a60-2f4c-41f2-dca3-e47b9abde514"
      },
      "execution_count": 29,
      "outputs": [
        {
          "output_type": "stream",
          "name": "stdout",
          "text": [
            "383/383 [==============================] - 2s 4ms/step\n",
            "Accuracy on the validation set: 0.2461438015179956\n",
            "Classification Report on the validation set:\n",
            "              precision    recall  f1-score   support\n",
            "\n",
            "           0       0.00      0.00      0.00      2574\n",
            "           1       0.00      0.00      0.00       660\n",
            "           2       0.25      1.00      0.40      3016\n",
            "           3       0.00      0.00      0.00       669\n",
            "           4       0.00      0.00      0.00      4043\n",
            "           5       0.00      0.00      0.00      1127\n",
            "           6       0.00      0.00      0.00       164\n",
            "\n",
            "    accuracy                           0.25     12253\n",
            "   macro avg       0.04      0.14      0.06     12253\n",
            "weighted avg       0.06      0.25      0.10     12253\n",
            "\n"
          ]
        },
        {
          "output_type": "stream",
          "name": "stderr",
          "text": [
            "/usr/local/lib/python3.10/dist-packages/sklearn/metrics/_classification.py:1344: UndefinedMetricWarning: Precision and F-score are ill-defined and being set to 0.0 in labels with no predicted samples. Use `zero_division` parameter to control this behavior.\n",
            "  _warn_prf(average, modifier, msg_start, len(result))\n",
            "/usr/local/lib/python3.10/dist-packages/sklearn/metrics/_classification.py:1344: UndefinedMetricWarning: Precision and F-score are ill-defined and being set to 0.0 in labels with no predicted samples. Use `zero_division` parameter to control this behavior.\n",
            "  _warn_prf(average, modifier, msg_start, len(result))\n",
            "/usr/local/lib/python3.10/dist-packages/sklearn/metrics/_classification.py:1344: UndefinedMetricWarning: Precision and F-score are ill-defined and being set to 0.0 in labels with no predicted samples. Use `zero_division` parameter to control this behavior.\n",
            "  _warn_prf(average, modifier, msg_start, len(result))\n"
          ]
        }
      ]
    },
    {
      "cell_type": "code",
      "source": [
        "from sklearn.metrics import confusion_matrix\n",
        "conf_matrix = confusion_matrix(true_labels_val, class_predictions_val)\n",
        "print(\"Confusion Matrix:\")\n",
        "print(conf_matrix)\n"
      ],
      "metadata": {
        "colab": {
          "base_uri": "https://localhost:8080/"
        },
        "id": "X-KNRb8M543O",
        "outputId": "2ca6a6b5-213f-44b7-a830-1d435b780436"
      },
      "execution_count": 30,
      "outputs": [
        {
          "output_type": "stream",
          "name": "stdout",
          "text": [
            "Confusion Matrix:\n",
            "[[   0    0 2574    0    0    0    0]\n",
            " [   0    0  660    0    0    0    0]\n",
            " [   0    0 3016    0    0    0    0]\n",
            " [   0    0  669    0    0    0    0]\n",
            " [   0    0 4043    0    0    0    0]\n",
            " [   0    0 1127    0    0    0    0]\n",
            " [   0    0  164    0    0    0    0]]\n"
          ]
        }
      ]
    },
    {
      "cell_type": "code",
      "source": [],
      "metadata": {
        "id": "WylyUOxE55Xz"
      },
      "execution_count": 35,
      "outputs": []
    },
    {
      "cell_type": "code",
      "source": [],
      "metadata": {
        "id": "SpBepIHX5-x5"
      },
      "execution_count": null,
      "outputs": []
    }
  ]
}